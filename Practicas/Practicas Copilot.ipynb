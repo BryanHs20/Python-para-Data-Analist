{
 "cells": [
  {
   "cell_type": "markdown",
   "id": "35743f59-3859-4aa6-aef8-92b076aae9e8",
   "metadata": {},
   "source": [
    "# Ejercicios"
   ]
  },
  {
   "cell_type": "markdown",
   "id": "b229f04e-dc1c-4930-850b-220668789094",
   "metadata": {},
   "source": [
    "# 🧠 Cuaderno de Ejercicios Python – Nivel Junior\n",
    "¡Practica fundamentos de Python con ejercicios guiados y desafíos extra!"
   ]
  },
  {
   "cell_type": "markdown",
   "id": "b7d9e663-4808-4e06-a766-bc5dcbb47f40",
   "metadata": {
    "jp-MarkdownHeadingCollapsed": true
   },
   "source": [
    "## 📌 1. Listas"
   ]
  },
  {
   "cell_type": "markdown",
   "id": "ef40a188-5353-4097-b204-940bb58cb10a",
   "metadata": {},
   "source": [
    "### 🧪 Ejercicio 1.1 – Agregar elementos\n",
    "Crea una lista vacía y agrega los números del 1 al 5."
   ]
  },
  {
   "cell_type": "code",
   "execution_count": 3,
   "id": "48d175e6-08e5-489b-8ab4-1ec7b97dd878",
   "metadata": {},
   "outputs": [
    {
     "name": "stdout",
     "output_type": "stream",
     "text": [
      "[1, 2, 3, 4, 5]\n"
     ]
    }
   ],
   "source": [
    "##Forma 1\n",
    "numeros = list()\n",
    "numeros.append(1)\n",
    "numeros.append(2)\n",
    "numeros.append(3)\n",
    "numeros.append(4)\n",
    "numeros.append(5)\n",
    "numeros\n",
    "\n",
    "##Forma 2\n",
    "lista = []\n",
    "for i in range(1,6):\n",
    "    lista.append(i)\n",
    "print(lista)"
   ]
  },
  {
   "cell_type": "markdown",
   "id": "44d36bf5-a638-4472-b945-38f2ac5056e4",
   "metadata": {},
   "source": [
    "### 🧪 Ejercicio 1.2 – Eliminar duplicados\n",
    "Dada la lista `nums = [1, 2, 2, 3, 4, 4, 5]`, elimina duplicados sin usar `set`."
   ]
  },
  {
   "cell_type": "code",
   "execution_count": 10,
   "id": "034abd20-d0cd-47e2-beff-8a7cd5994353",
   "metadata": {},
   "outputs": [
    {
     "name": "stdout",
     "output_type": "stream",
     "text": [
      "[1, 2, 3, 4, 5]\n"
     ]
    }
   ],
   "source": [
    "num = [1,2,2,3,4,4,5]\n",
    "sin_duplicas = []\n",
    "\n",
    "for i in num:\n",
    "    if i not in sin_duplicas:\n",
    "        sin_duplicas.append(i)\n",
    "\n",
    "print(sin_duplicas)"
   ]
  },
  {
   "cell_type": "markdown",
   "id": "f34e8001-3817-4486-b31e-1294fcdf8a5c",
   "metadata": {},
   "source": [
    "### 🧪 Ejercicio 1.3 – Suma de elementos\n",
    "Escribe una función que reciba una lista de números y devuelva la suma total."
   ]
  },
  {
   "cell_type": "code",
   "execution_count": 17,
   "id": "7d248a21-4a19-42fc-82cc-d6fab97c653e",
   "metadata": {},
   "outputs": [
    {
     "name": "stdout",
     "output_type": "stream",
     "text": [
      "15\n"
     ]
    }
   ],
   "source": [
    "def suma(lista):\n",
    "    total = 0\n",
    "    for num in lista:\n",
    "        total += num\n",
    "    return total\n",
    "\n",
    "num_lista = [1,2,3,4,5]\n",
    "\n",
    "print(suma(num_lista))"
   ]
  },
  {
   "cell_type": "markdown",
   "id": "ce06944f-cb8b-4f8f-8289-61991cb5b145",
   "metadata": {},
   "source": [
    "### 🧪 Ejercicio 1.4 – Multiplicar elementos\n",
    "Multiplica cada elemento de una lista por 2.\n"
   ]
  },
  {
   "cell_type": "code",
   "execution_count": 63,
   "id": "4895627b-7080-4541-b922-755869d641c0",
   "metadata": {},
   "outputs": [
    {
     "name": "stdout",
     "output_type": "stream",
     "text": [
      "La lista normal es [9, 1, 5, 6, 4, 78, 35, 1, 2, 4, 3, 8, 10]\n",
      "La lista con los dobles son [18, 2, 10, 12, 8, 156, 70, 2, 4, 8, 6, 16, 20]\n",
      "La lista con los dobles son [18, 2, 10, 12, 8, 156, 70, 2, 4, 8, 6, 16, 20]\n"
     ]
    }
   ],
   "source": [
    "num = [9,1,5,6,4,78,35,1,2,4,3,8,10]\n",
    "\n",
    "\"\"\"  Compresion de lista  \"\"\"\n",
    "## - Se traduce como: “para cada num en la lista numeros, multiplica num por 2 y guarda el resultado en una nueva lista llamada dobles.”\n",
    "dobles_com =[i * 2 for i in num]\n",
    "\n",
    "\"\"\"  Forma sin compresion  \"\"\"\n",
    "dobles = []\n",
    "\n",
    "for i in num:\n",
    "    mul = i * 2\n",
    "    dobles.append(mul)\n",
    "\n",
    "print(f\"La lista normal es {num}\")\n",
    "print(f\"La lista con los dobles son {dobles_com}\")\n",
    "print(f\"La lista con los dobles son {dobles}\")"
   ]
  },
  {
   "cell_type": "markdown",
   "id": "b9c248b4-fc97-4ed0-b00c-a890013b2109",
   "metadata": {},
   "source": [
    "### 🧪 Ejercicio 1.5 – Ordenar lista\n",
    "Ordena una lista de números en orden ascendente y descendente.\n"
   ]
  },
  {
   "cell_type": "code",
   "execution_count": 69,
   "id": "899112a3-f868-4730-861c-ad0ce037b8b7",
   "metadata": {},
   "outputs": [
    {
     "name": "stdout",
     "output_type": "stream",
     "text": [
      "[10, 8, 3, 4, 2, 1, 35, 78, 4, 6, 5, 1, 9]\n"
     ]
    }
   ],
   "source": [
    "num = [9,1,5,6,4,78,35,1,2,4,3,8,10]\n",
    "\n",
    "##num.sort()\n",
    "num.reverse()\n",
    "\n",
    "print(num)"
   ]
  },
  {
   "cell_type": "markdown",
   "id": "30c07164-7ca6-465b-ae85-bf6e23eab614",
   "metadata": {
    "jp-MarkdownHeadingCollapsed": true
   },
   "source": [
    "## 📚 2. Diccionarios"
   ]
  },
  {
   "cell_type": "markdown",
   "id": "de1b5498-b5cd-4aba-b2b3-325deae7bb5f",
   "metadata": {},
   "source": [
    "### 🧪 Ejercicio 2.1 – Contador de palabras\n",
    "Dado un texto, cuenta cuántas veces aparece cada palabra usando un diccionario."
   ]
  },
  {
   "cell_type": "code",
   "execution_count": 85,
   "id": "ffad1ae1-e4e9-4050-be0f-7a7778c60bb9",
   "metadata": {},
   "outputs": [
    {
     "data": {
      "text/plain": [
       "{'hola': 3,\n",
       " 'mundo': 2,\n",
       " 'como': 1,\n",
       " 'estas': 1,\n",
       " 'esta': 1,\n",
       " 'bien': 1,\n",
       " 'buen': 1,\n",
       " 'python': 1}"
      ]
     },
     "execution_count": 85,
     "metadata": {},
     "output_type": "execute_result"
    }
   ],
   "source": [
    "#archivo = open(\"traba.txt\")\n",
    "#conteo = dict()\n",
    "#for texto in archivo:\n",
    "    #palabra = texto.split()\n",
    "texto = \"hola mundo hola como estas esta bien buen mundo hola python\"\n",
    "contador = {}\n",
    "palabra = texto.split()\n",
    "\n",
    "for numero in palabra:\n",
    "    if numero not in contador:\n",
    "        contador[numero] = 1\n",
    "    else:\n",
    "        contador[numero] += 1\n",
    "\n",
    "contador\n"
   ]
  },
  {
   "cell_type": "markdown",
   "id": "cd24c9a9-8656-4496-85d9-d52961c599f8",
   "metadata": {},
   "source": [
    "### 🧪 Ejercicio 2.3 – Diccionario de estudiantes\n",
    "Crea un diccionario con nombres de estudiantes como claves y sus calificaciones como valores. Luego imprime solo los que aprobaron (>= 70)."
   ]
  },
  {
   "cell_type": "code",
   "execution_count": 72,
   "id": "ff868a42-63b9-4cd7-9c90-d65166eccb34",
   "metadata": {},
   "outputs": [
    {
     "name": "stdout",
     "output_type": "stream",
     "text": [
      "Fabian aprobo con la calificacion de 80\n",
      "Carlos aprobo con la calificacion de 75\n",
      "Entique aprobo con la calificacion de 90\n",
      "Luzmaria aprobo con la calificacion de 70\n",
      "Mike aprobo con la calificacion de 75\n"
     ]
    }
   ],
   "source": [
    "estudiantes = {}\n",
    "estudiantes [\"Alvaro\"] = 60\n",
    "estudiantes [\"Fabian\"] = 80\n",
    "estudiantes [\"Carlos\"] = 75\n",
    "estudiantes [\"Entique\"] = 90\n",
    "estudiantes [\"Manuel\"] = 10\n",
    "estudiantes [\"Lucia\"] = 10\n",
    "estudiantes [\"Maria\"] = 55\n",
    "estudiantes [\"Luzmaria\"] = 70\n",
    "estudiantes [\"Mike\"] = 75\n",
    "\n",
    "for nombre, nota in estudiantes.items():\n",
    "    if nota >= 70:\n",
    "        print(f\"{nombre} aprobo con la calificacion de {nota}\")"
   ]
  },
  {
   "cell_type": "markdown",
   "id": "03f3848c-42d0-4ebb-a1f7-0d0f6286415b",
   "metadata": {},
   "source": [
    "### 🧪 Ejercicio 2.3 – Crear un diccionario\n",
    "Crea un diccionario que almacene el nombre y la edad de tres personas."
   ]
  },
  {
   "cell_type": "code",
   "execution_count": 87,
   "id": "e3bed76b-5706-48b6-bedc-682565dec242",
   "metadata": {},
   "outputs": [
    {
     "name": "stdout",
     "output_type": "stream",
     "text": [
      "{1: {'Nombre': 'Alvaro', 'Edad': 23}, 2: {'Nombre': 'Maria', 'Edad': 15}, 3: {'Nombre': 'Marco', 'Edad': 18}}\n"
     ]
    }
   ],
   "source": [
    "persona = {\n",
    "    1:{\"Nombre\": \"Alvaro\", \"Edad\": 23},\n",
    "    2:{\"Nombre\": \"Maria\", \"Edad\": 15},\n",
    "    3:{\"Nombre\": \"Marco\", \"Edad\": 18}\n",
    "}\n",
    "\n",
    "print(persona)"
   ]
  },
  {
   "cell_type": "markdown",
   "id": "ea73ea10-056c-425b-b0a1-dd14e3b4e3a7",
   "metadata": {},
   "source": [
    "### 🧪 Ejercicio 2.4 – Acceder a valores\n",
    "Dado un diccionario, accede al valor asociado con una clave específica."
   ]
  },
  {
   "cell_type": "code",
   "execution_count": 111,
   "id": "d3206497-37e7-479a-b83f-9b357ac0defd",
   "metadata": {},
   "outputs": [
    {
     "name": "stdout",
     "output_type": "stream",
     "text": [
      "{'nombre': 'Ana', 'edad': 28, 'ciudad': 'Monterrey'}\n",
      "María\n"
     ]
    }
   ],
   "source": [
    "personas = {\n",
    "    1: {\"nombre\": \"Ana\", \"edad\": 28, \"ciudad\": \"Monterrey\"},\n",
    "    2: {\"nombre\": \"Luis\", \"edad\": 35, \"ciudad\": \"Guadalajara\"},\n",
    "    3: {\"nombre\": \"María\", \"edad\": 22, \"ciudad\": \"CDMX\"},\n",
    "    4: {\"nombre\": \"Carlos\", \"edad\": 40, \"ciudad\": \"Puebla\"},\n",
    "    5: {\"nombre\": \"Sofía\", \"edad\": 30, \"ciudad\": \"Querétaro\"}\n",
    "}\n",
    "\n",
    "print(personas.get(1))\n",
    "\"\"\"  Forma para acceder directo a un valor  \"\"\"\n",
    "print(personas[3][\"nombre\"])"
   ]
  },
  {
   "cell_type": "markdown",
   "id": "ca07a7c2-e2cd-4a8c-9049-3b054c3eb0e7",
   "metadata": {},
   "source": [
    "### 🧪 Ejercicio 2.5 – Agregar y eliminar elementos\n",
    "Agrega un nuevo par clave-valor a un diccionario y elimina otro."
   ]
  },
  {
   "cell_type": "code",
   "execution_count": 112,
   "id": "6bad26b1-cab1-4aee-93ec-5caeaf50397a",
   "metadata": {},
   "outputs": [
    {
     "name": "stdout",
     "output_type": "stream",
     "text": [
      "{1: {'nombre': 'Ana', 'edad': 28, 'ciudad': 'Monterrey'}, 2: {'nombre': 'Luis', 'edad': 35, 'ciudad': 'Guadalajara'}, 3: {'nombre': 'María', 'edad': 22, 'ciudad': 'CDMX'}, 4: {'nombre': 'Carlos', 'edad': 40, 'ciudad': 'Puebla'}, 6: {'nombre': 'Fabian', 'edad': 18, 'ciudad': 'Querétaro'}}\n"
     ]
    }
   ],
   "source": [
    "personas.update({6:{\"nombre\": \"Fabian\", \"edad\": 18, \"ciudad\": \"Querétaro\"}})\n",
    "personas.pop(5)\n",
    "\n",
    "print(personas)"
   ]
  },
  {
   "cell_type": "markdown",
   "id": "17f6c9cc-973b-4d8e-8e84-78b8c0b15164",
   "metadata": {},
   "source": [
    "### 🧪 Ejercicio 2.6 – Iterar sobre un diccionario\n",
    "Itera sobre las claves y valores de un diccionario e imprímelos."
   ]
  },
  {
   "cell_type": "code",
   "execution_count": 124,
   "id": "fb18b164-8b81-431c-877f-9f59fc6f0705",
   "metadata": {},
   "outputs": [
    {
     "name": "stdout",
     "output_type": "stream",
     "text": [
      "El Id es 1\n",
      "La informacion es: {'nombre': 'Ana', 'edad': 28, 'ciudad': 'Monterrey'}\n",
      "-------------------------------------------\n",
      "El Id es 2\n",
      "La informacion es: {'nombre': 'Luis', 'edad': 35, 'ciudad': 'Guadalajara'}\n",
      "-------------------------------------------\n",
      "El Id es 3\n",
      "La informacion es: {'nombre': 'María', 'edad': 22, 'ciudad': 'CDMX'}\n",
      "-------------------------------------------\n",
      "El Id es 4\n",
      "La informacion es: {'nombre': 'Carlos', 'edad': 40, 'ciudad': 'Puebla'}\n",
      "-------------------------------------------\n",
      "El Id es 6\n",
      "La informacion es: {'nombre': 'Fabian', 'edad': 18, 'ciudad': 'Querétaro'}\n",
      "-------------------------------------------\n"
     ]
    }
   ],
   "source": [
    "for clave,datos in personas.items():\n",
    "    print(f\"El Id es {clave}\")\n",
    "    print(f\"La informacion es: {datos}\")\n",
    "    print(\"-------------------------------------------\")"
   ]
  },
  {
   "cell_type": "markdown",
   "id": "e6cfb945-3c8c-493f-809a-312647ce4cbc",
   "metadata": {
    "jp-MarkdownHeadingCollapsed": true
   },
   "source": [
    "## 🧮 2. Tuplas"
   ]
  },
  {
   "cell_type": "markdown",
   "id": "9506b64a-2016-42c1-9e99-4414a6065639",
   "metadata": {},
   "source": [
    "### 🧪 Ejercicio 2.1 – Acceso a elementos\n",
    "Dada la tupla t = (10, 20, 30), imprime el segundo elemento."
   ]
  },
  {
   "cell_type": "code",
   "execution_count": 162,
   "id": "242156b3-2c03-4a3d-af8e-9736b1458d32",
   "metadata": {},
   "outputs": [
    {
     "name": "stdout",
     "output_type": "stream",
     "text": [
      "20\n"
     ]
    }
   ],
   "source": [
    "t = (10,20,30)\n",
    "\n",
    "print(t[1])"
   ]
  },
  {
   "cell_type": "markdown",
   "id": "65ffee54-60d1-48fd-8078-7ccc01017faf",
   "metadata": {},
   "source": [
    "### 🧪 Ejercicio 2.2 – Intercambio de variables\n",
    "Usa una tupla para intercambiar los valores de dos variables a = 5, b = 10."
   ]
  },
  {
   "cell_type": "code",
   "execution_count": 163,
   "id": "da516980-fb02-472f-8297-f9d1025cb965",
   "metadata": {},
   "outputs": [
    {
     "name": "stdout",
     "output_type": "stream",
     "text": [
      "10 5\n"
     ]
    }
   ],
   "source": [
    "a = 5\n",
    "b = 10\n",
    "\n",
    "a, b = b, a\n",
    "\n",
    "print(a,b)"
   ]
  },
  {
   "cell_type": "markdown",
   "id": "4dc9f297-f274-47b4-8ee2-7d7cdbc0c213",
   "metadata": {},
   "source": [
    "### 🧪 Ejercicio 2.3 – Crear una tupla\n",
    "Crea una tupla con los números del 1 al 5 e imprime su contenido."
   ]
  },
  {
   "cell_type": "code",
   "execution_count": 125,
   "id": "c66e4f4f-1366-47b1-b9e9-306d2a83b32d",
   "metadata": {},
   "outputs": [
    {
     "name": "stdout",
     "output_type": "stream",
     "text": [
      "(1, 2, 3, 4, 5)\n"
     ]
    }
   ],
   "source": [
    "tupla = (1,2,3,4,5)\n",
    "\n",
    "print(tupla)"
   ]
  },
  {
   "cell_type": "markdown",
   "id": "e62ce68e-4a48-472b-99aa-e0e73154be3a",
   "metadata": {},
   "source": [
    "### 🧪 Ejercicio 2.4 – Acceder a elementos\n",
    "Dada una tupla, accede al primer y último elemento."
   ]
  },
  {
   "cell_type": "code",
   "execution_count": 146,
   "id": "b5ccbc5b-f09a-46f2-9c0a-69b5f1b1d8fa",
   "metadata": {},
   "outputs": [
    {
     "name": "stdout",
     "output_type": "stream",
     "text": [
      "1, 5\n"
     ]
    }
   ],
   "source": [
    "## tupla = (1,2,3,4,5)\n",
    "\n",
    "t = f\"{tupla[0]}, {tupla[4]}\"\n",
    "print(t)"
   ]
  },
  {
   "cell_type": "markdown",
   "id": "5ed87962-08a4-4052-84fe-85c79bbf5d9a",
   "metadata": {},
   "source": [
    "### 🧪 Ejercicio 2.5 – Contar elementos\n",
    "Dada una tupla, cuenta cuántas veces aparece un elemento específico."
   ]
  },
  {
   "cell_type": "code",
   "execution_count": 154,
   "id": "7a755e0d-1374-4b6c-bcea-aee3d0a95f71",
   "metadata": {},
   "outputs": [
    {
     "name": "stdout",
     "output_type": "stream",
     "text": [
      "3\n",
      "{1: 2, 5: 1, 2: 2, 4: 3, 6: 2, 3: 1, 9: 1, 7: 1, 8: 1, 0: 1}\n"
     ]
    }
   ],
   "source": [
    "tupla = (1,1,5,2,4,6,3,9,6,4,7,8,2,4,0)\n",
    "\n",
    "print(tupla.count(4))\n",
    "\n",
    "\"\"\"  Frecuencia por numero  \"\"\"\n",
    "frecuencia = {}\n",
    "\n",
    "for elemento in tupla:\n",
    "    frecuencia[elemento] = frecuencia.get(elemento, 0) + 1\n",
    "\n",
    "print(frecuencia)"
   ]
  },
  {
   "cell_type": "markdown",
   "id": "8bddcf45-b8c2-4817-a126-2948527461bc",
   "metadata": {},
   "source": [
    "### 🧪 Ejercicio 2.6 – Convertir a lista\n",
    "Convierte una tupla en una lista, agrega un nuevo elemento y vuelve a convertirla en tupla."
   ]
  },
  {
   "cell_type": "code",
   "execution_count": 161,
   "id": "8e7ce3f0-a609-4c96-b124-dd29e29ea8ab",
   "metadata": {},
   "outputs": [
    {
     "name": "stdout",
     "output_type": "stream",
     "text": [
      "(1, 1, 5, 2, 4, 6, 3, 9, 6, 4, 7, 8, 2, 4, 0, 45, 4, 7, 48)\n"
     ]
    }
   ],
   "source": [
    "lista = list(tupla)\n",
    "\n",
    "lista.extend([45,4,7,48])\n",
    "\n",
    "lista = tuple(lista)\n",
    "\n",
    "print(lista)"
   ]
  },
  {
   "cell_type": "markdown",
   "id": "edf94c49-301e-4397-8816-ec83c478bb0c",
   "metadata": {},
   "source": [
    "### 🧪 Ejercicio 2.7 – Desempaquetar tupla\n",
    "Dada una tupla con tres elementos, desempaquétalos en tres variables."
   ]
  },
  {
   "cell_type": "code",
   "execution_count": 164,
   "id": "4ba495a9-260f-440d-af96-2c6be5dc83ab",
   "metadata": {},
   "outputs": [
    {
     "name": "stdout",
     "output_type": "stream",
     "text": [
      "Tecámac\n",
      "2025\n",
      "México\n"
     ]
    }
   ],
   "source": [
    "datos = (\"Tecámac\", 2025, \"México\")\n",
    "\n",
    "\"\"\"  Se asignan las variables a cada dato  \"\"\"\n",
    "## El numero de variables debe de coincidir con el numero de datos en la tupla\n",
    "ciudad, año, estado = datos\n",
    "\n",
    "print(ciudad)\n",
    "print(año)\n",
    "print(estado)"
   ]
  },
  {
   "cell_type": "markdown",
   "id": "ddfb294e-6bb0-4dbb-80e9-e896157f8962",
   "metadata": {
    "jp-MarkdownHeadingCollapsed": true
   },
   "source": [
    "## 🧠 4. Tablas de verdad"
   ]
  },
  {
   "cell_type": "markdown",
   "id": "2ceec256-38b4-4d64-9cce-31d3cd950a67",
   "metadata": {},
   "source": [
    "### 🧪 Ejercicio 4.1 – Evaluación lógica\n",
    "Escribe una función que reciba dos valores booleanos a y b y devuelva el resultado de a and b, a or b, not a."
   ]
  },
  {
   "cell_type": "code",
   "execution_count": 164,
   "id": "2a5c4674-6e16-48e4-b6dc-5474ce93c215",
   "metadata": {},
   "outputs": [
    {
     "name": "stdout",
     "output_type": "stream",
     "text": [
      "AND False\n",
      "OR True\n",
      "NOT A False\n"
     ]
    }
   ],
   "source": [
    "def evaluador_logico(a, b):\n",
    "    print(\"AND\", a and b)\n",
    "    print(\"OR\", a or b)\n",
    "    print(\"NOT A\", not a)\n",
    "\n",
    "evaluador_logico(True, False)"
   ]
  },
  {
   "cell_type": "markdown",
   "id": "5278f33d-6816-436b-8e87-af3c5ea8fc09",
   "metadata": {},
   "source": [
    "### 🧪 Ejercicio 4.2 – Tabla completa\n",
    "Imprime la tabla de verdad para a y b con todas las combinaciones posibles."
   ]
  },
  {
   "cell_type": "code",
   "execution_count": 165,
   "id": "4f0f0af1-2945-44e7-ae82-e1dfab4bea4e",
   "metadata": {},
   "outputs": [
    {
     "name": "stdout",
     "output_type": "stream",
     "text": [
      "A=True, B=True | AND=True, OR=True, NOT A=False\n",
      "A=True, B=False | AND=False, OR=True, NOT A=False\n",
      "A=False, B=True | AND=False, OR=True, NOT A=True\n",
      "A=False, B=False | AND=False, OR=False, NOT A=True\n"
     ]
    }
   ],
   "source": [
    "valores = [True, False]\n",
    "for a in valores:\n",
    "    for b in valores:\n",
    "        print(f\"A={a}, B={b} | AND={a and b}, OR={a or b}, NOT A={not a}\")"
   ]
  },
  {
   "cell_type": "markdown",
   "id": "c8073789-955a-4628-a792-bdfaa43ac2fe",
   "metadata": {},
   "source": [
    "### 🧪 Ejercicio 4.3 – Tabla de verdad para AND\n",
    "Genera una tabla de verdad para la operación lógica AND."
   ]
  },
  {
   "cell_type": "code",
   "execution_count": 2,
   "id": "5a156782-38bc-4904-b399-bc3ff4426e8c",
   "metadata": {},
   "outputs": [
    {
     "name": "stdout",
     "output_type": "stream",
     "text": [
      "A=True, B =True | AND =True\n",
      "A=True, B =False | AND =False\n",
      "A=False, B =True | AND =False\n",
      "A=False, B =False | AND =False\n"
     ]
    }
   ],
   "source": [
    "valores = [True, False]\n",
    "\n",
    "for a in valores:\n",
    "    for b in valores:\n",
    "        print(f\"A={a}, B ={b} | AND ={a and b}\")"
   ]
  },
  {
   "cell_type": "markdown",
   "id": "838ca592-2da7-4fa3-a8aa-5663f6354bf6",
   "metadata": {},
   "source": [
    "### 🧪 Ejercicio 4.4 – Tabla de verdad para OR\n",
    "Genera una tabla de verdad para la operación lógica OR."
   ]
  },
  {
   "cell_type": "code",
   "execution_count": 4,
   "id": "26dc5b86-b66e-4cbd-9bb4-41dd3ec9bcfc",
   "metadata": {},
   "outputs": [
    {
     "name": "stdout",
     "output_type": "stream",
     "text": [
      "A=True, B=True | OR = True\n",
      "A=True, B=False | OR = True\n",
      "A=False, B=True | OR = True\n",
      "A=False, B=False | OR = False\n"
     ]
    }
   ],
   "source": [
    "valores = [True, False]\n",
    "\n",
    "for a in valores:\n",
    "    for b in valores:\n",
    "        print(f\"A={a}, B={b} | OR = {a or b}\")"
   ]
  },
  {
   "cell_type": "markdown",
   "id": "3327ac39-dcad-496c-958e-2baefe2399a6",
   "metadata": {},
   "source": [
    "### 🧪 Ejercicio 4.5 – Tabla de verdad para NOT\n",
    "Genera una tabla de verdad para la operación lógica NOT."
   ]
  },
  {
   "cell_type": "code",
   "execution_count": 6,
   "id": "bdb58d42-f226-4358-b47a-494e4abfde25",
   "metadata": {},
   "outputs": [
    {
     "name": "stdout",
     "output_type": "stream",
     "text": [
      "A=True, B=True | NOT = False\n",
      "A=True, B=False | NOT = False\n",
      "A=False, B=True | NOT = True\n",
      "A=False, B=False | NOT = True\n"
     ]
    }
   ],
   "source": [
    "valores = [True, False]\n",
    "\n",
    "for a in valores:\n",
    "    for b in valores:\n",
    "        print(f\"A={a}, B={b} | NOT = {not a}\")"
   ]
  },
  {
   "cell_type": "markdown",
   "id": "8b309732-7018-4ba8-8355-5eab62d4ea1e",
   "metadata": {},
   "source": [
    "### 🧪 Ejercicio 4.6 – Combinación de operaciones\n",
    "Genera una tabla de verdad para la expresión \\( (A \\and B) \\or \\ not C \\)."
   ]
  },
  {
   "cell_type": "code",
   "execution_count": 16,
   "id": "d12088ea-ec18-406a-8be7-fd6a2e480666",
   "metadata": {},
   "outputs": [
    {
     "name": "stdout",
     "output_type": "stream",
     "text": [
      "A\tB\tC\t(A and B)\tNot C\tResultado\n",
      "True\tTrue\tTrue\tTrue\t\tFalse\tTrue\n",
      "True\tTrue\tFalse\tTrue\t\tTrue\tTrue\n",
      "True\tFalse\tTrue\tFalse\t\tFalse\tFalse\n",
      "True\tFalse\tFalse\tFalse\t\tTrue\tTrue\n",
      "False\tTrue\tTrue\tFalse\t\tFalse\tFalse\n",
      "False\tTrue\tFalse\tFalse\t\tTrue\tTrue\n",
      "False\tFalse\tTrue\tFalse\t\tFalse\tFalse\n",
      "False\tFalse\tFalse\tFalse\t\tTrue\tTrue\n"
     ]
    }
   ],
   "source": [
    "valores =[True, False]\n",
    "\n",
    "print(\"A\\tB\\tC\\t(A and B)\\tNot C\\tResultado\")\n",
    "for a in valores:\n",
    "    for b in valores:\n",
    "        for c in valores:\n",
    "            resultado = (a and b) or (not c)\n",
    "            print(f\"{a}\\t{b}\\t{c}\\t{a and b}\\t\\t{not c}\\t{resultado}\")"
   ]
  },
  {
   "cell_type": "markdown",
   "id": "dea0e349-ff63-413e-a9ee-ace489336f65",
   "metadata": {
    "jp-MarkdownHeadingCollapsed": true
   },
   "source": [
    "## ⁉️ 5. Condicionales "
   ]
  },
  {
   "cell_type": "markdown",
   "id": "b0cafaf4-544f-494a-90a2-ef2390fecfe8",
   "metadata": {},
   "source": [
    "### 🧪 Ejercicio 5.1 – Clasificación de edad\n",
    "Escribe una función que reciba una edad y devuelva \"niño\", \"adolescente\", \"adulto\" o \"mayor\" según el rango."
   ]
  },
  {
   "cell_type": "code",
   "execution_count": 155,
   "id": "ae3c3cc4-666d-428f-a263-7a9b46266574",
   "metadata": {},
   "outputs": [
    {
     "name": "stdin",
     "output_type": "stream",
     "text": [
      "Coloca tu edad: 5\n"
     ]
    },
    {
     "name": "stdout",
     "output_type": "stream",
     "text": [
      "Eres un niño\n"
     ]
    }
   ],
   "source": [
    "edad = int(input(\"Coloca tu edad:\"))\n",
    "\n",
    "if edad < 12:\n",
    "    print(\"Eres un niño\")\n",
    "elif edad < 18:\n",
    "    print(\"Eres un adolecente\")\n",
    "elif edad < 45:\n",
    "    print(\"Eres un adulto\")\n",
    "else:\n",
    "    print(\"Eres alguien ya mayor\")"
   ]
  },
  {
   "cell_type": "markdown",
   "id": "78747155-05ea-475a-a1ba-4c1eaf51939e",
   "metadata": {},
   "source": [
    "### 🧪 Ejercicio 5.2 – Número par o impar\n",
    "Crea una función que determine si un número es par o impar."
   ]
  },
  {
   "cell_type": "code",
   "execution_count": 104,
   "id": "ccd8274e-d24f-42a2-b6a0-a34a3847322e",
   "metadata": {},
   "outputs": [
    {
     "name": "stdin",
     "output_type": "stream",
     "text": [
      "Colcoa un numero para var si es par o impar:  17\n"
     ]
    },
    {
     "name": "stdout",
     "output_type": "stream",
     "text": [
      "Impar\n",
      "None\n"
     ]
    }
   ],
   "source": [
    "##- Número par o impar\n",
    "##Crea una función que determine si un número es par o impar.\n",
    "def par_impar(num):\n",
    "    if num % 2 == 0:\n",
    "         print(\"Par\")\n",
    "    else:\n",
    "        print(\"Impar\")\n",
    "        \n",
    "dato = int(input(\"Colcoa un numero para var si es par o impar: \"))\n",
    "print(par_impar(dato))"
   ]
  },
  {
   "cell_type": "markdown",
   "id": "6509d4cc-7fcb-4c65-89d2-ac4920bb4d50",
   "metadata": {},
   "source": [
    "### 🧪 Ejercicio 5.3 – Verificar edad\n",
    "Solicita una edad y determina si la persona es mayor de edad."
   ]
  },
  {
   "cell_type": "code",
   "execution_count": 20,
   "id": "7b4329a2-47b6-43d4-81d4-5cb465954ccc",
   "metadata": {},
   "outputs": [
    {
     "name": "stdin",
     "output_type": "stream",
     "text": [
      "Coloca tu edad para saber si eres mayor de edad: -10\n"
     ]
    },
    {
     "name": "stdout",
     "output_type": "stream",
     "text": [
      "Eres menor de edad\n"
     ]
    }
   ],
   "source": [
    "edad = int(input(\"Coloca tu edad para saber si eres mayor de edad:\"))\n",
    "\n",
    "if edad >= 18:\n",
    "    print(\"Usted es mayor de edad\")\n",
    "else:\n",
    "    print(\"Eres menor de edad\")"
   ]
  },
  {
   "cell_type": "markdown",
   "id": "3f80713c-6a7e-450d-b515-92e49d8c54ea",
   "metadata": {},
   "source": [
    "### 🧪 Ejercicio 5.4 – Número positivo, negativo o cero\n",
    "Solicita un número y clasifícalo."
   ]
  },
  {
   "cell_type": "code",
   "execution_count": 24,
   "id": "98a72cb1-70cc-411c-9f9b-912b1b4c8690",
   "metadata": {},
   "outputs": [
    {
     "name": "stdin",
     "output_type": "stream",
     "text": [
      "Introduce un numero para clasificarlo(positivo, negativo o cero): 0\n"
     ]
    },
    {
     "name": "stdout",
     "output_type": "stream",
     "text": [
      "El numero es cero\n"
     ]
    }
   ],
   "source": [
    "num = int(input(\"Introduce un numero para clasificarlo(positivo, negativo o cero):\"))\n",
    "\n",
    "if num > 0:\n",
    "    print(\"El numero es positivo\")\n",
    "elif num == 0:\n",
    "    print(\"El numero es cero\")\n",
    "else:\n",
    "    print(\"El numero es negativo\")"
   ]
  },
  {
   "cell_type": "markdown",
   "id": "8417b5b0-2d89-48a5-a6de-d6c1e505fe7f",
   "metadata": {},
   "source": [
    "### 🧪 Ejercicio 5.5 – Comparar dos números\n",
    "Solicita dos números y determina cuál es mayor, menor o si son iguales."
   ]
  },
  {
   "cell_type": "code",
   "execution_count": 32,
   "id": "972793d4-596a-4c7f-9834-c3757ae1d5bd",
   "metadata": {},
   "outputs": [
    {
     "name": "stdout",
     "output_type": "stream",
     "text": [
      "Se te solicitara colocar dos numeros\n",
      "Primero introduce un numero\n"
     ]
    },
    {
     "name": "stdin",
     "output_type": "stream",
     "text": [
      " 10\n"
     ]
    },
    {
     "name": "stdout",
     "output_type": "stream",
     "text": [
      "Introduce el segundo numero\n"
     ]
    },
    {
     "name": "stdin",
     "output_type": "stream",
     "text": [
      " 10\n"
     ]
    },
    {
     "name": "stdout",
     "output_type": "stream",
     "text": [
      "Los numeros son iguales\n"
     ]
    }
   ],
   "source": [
    "print(\"Se te solicitara colocar dos numeros\")\n",
    "print(\"Primero introduce un numero\")\n",
    "num1 = int(input())\n",
    "print(\"Introduce el segundo numero\")\n",
    "num2 = int(input())\n",
    "\n",
    "if num1 > num2:\n",
    "    print(f\"Su prirmer numero({num1}) es mayor que el segundo({num2})\")\n",
    "elif num1 < num2:\n",
    "    print(f\"Su segundo numero({num1}) es mayor que el primero({num2})\")\n",
    "else:\n",
    "    print(\"Los numeros son iguales\")"
   ]
  },
  {
   "cell_type": "markdown",
   "id": "438b0193-66d9-45cd-a50f-34c05d77cd85",
   "metadata": {},
   "source": [
    "### 🧪 Ejercicio 5.6 – Clasificar calificaciones\n",
    "Solicita una calificación y clasifícala como excelente, buena, regular o mala según el rango."
   ]
  },
  {
   "cell_type": "code",
   "execution_count": 44,
   "id": "cc36df5f-ce6b-4911-b0f0-0928dfb8874c",
   "metadata": {},
   "outputs": [
    {
     "name": "stdin",
     "output_type": "stream",
     "text": [
      "Introduzca la calificacion que opbtuvo para saber su clasficacion(excelente, buena, regular o mala) 6.4\n"
     ]
    },
    {
     "name": "stdout",
     "output_type": "stream",
     "text": [
      "Mala\n"
     ]
    }
   ],
   "source": [
    "calif = float(input(\"Introduzca la calificacion que opbtuvo para saber su clasficacion(excelente, buena, regular o mala)\"))\n",
    "\n",
    "if calif > 10:\n",
    "    print(\"La cantidad ingresada supera lo establecido *10*\")\n",
    "elif calif >= 9.5:\n",
    "    print(\"Excelente\")\n",
    "elif calif >= 8:\n",
    "    print(\"Buena\")\n",
    "elif calif >= 7:\n",
    "    print(\"Regular\")\n",
    "else:\n",
    "    print(\"Mala\")"
   ]
  },
  {
   "cell_type": "markdown",
   "id": "6f825801-e1c2-4f37-be93-7f9ed7b5b910",
   "metadata": {},
   "source": [
    "### 🧪 Ejercicio 5.6 – Verificar múltiplo\n",
    "Solicita un número y verifica si es múltiplo de otro número dado"
   ]
  },
  {
   "cell_type": "code",
   "execution_count": 49,
   "id": "4cd7f6ab-47df-4cdc-b0c4-21e04e10c272",
   "metadata": {},
   "outputs": [
    {
     "name": "stdin",
     "output_type": "stream",
     "text": [
      "Coloca un numero 25\n",
      "Introduce otro numero para saber si es multiplo del otro 5\n"
     ]
    },
    {
     "name": "stdout",
     "output_type": "stream",
     "text": [
      "El numero 5 si es multiplo de 25\n"
     ]
    }
   ],
   "source": [
    "num = int(input(\"Coloca un numero\"))\n",
    "multi = int(input(\"Introduce otro numero para saber si es multiplo del otro\"))\n",
    "\n",
    "if num % multi == 0:\n",
    "    print(f\"El numero {multi} si es multiplo de {num}\")\n",
    "else:\n",
    "    print(f\"El numero {multi} no es multiplo de {num}\")"
   ]
  },
  {
   "cell_type": "markdown",
   "id": "7fcc6fb6-7640-485a-98b0-0245db33dcb9",
   "metadata": {
    "jp-MarkdownHeadingCollapsed": true
   },
   "source": [
    "## 📌 6. Try-Except"
   ]
  },
  {
   "cell_type": "markdown",
   "id": "e4632da0-ebf8-444a-a503-21e7aedf8733",
   "metadata": {},
   "source": [
    "### 🧪 Ejercicio 6.1 – Manejo de errores\n",
    "Escribe una función que reciba dos números y devuelva su división. Usa try–except para manejar divisiones por cero."
   ]
  },
  {
   "cell_type": "code",
   "execution_count": 168,
   "id": "1950c713-e2c7-4968-8f7f-eb8ae637b1c0",
   "metadata": {},
   "outputs": [
    {
     "name": "stdout",
     "output_type": "stream",
     "text": [
      "Error: division por 0\n",
      "3.3333333333333335\n"
     ]
    }
   ],
   "source": [
    "def division(a,b):\n",
    "    try:\n",
    "        return a/b\n",
    "    except ZeroDivisionError:\n",
    "        return \"Error: division por 0\"\n",
    "\n",
    "print(division(10,0))\n",
    "print(division(10,3))"
   ]
  },
  {
   "cell_type": "markdown",
   "id": "6421b7a5-5b1b-433d-871f-49994920672e",
   "metadata": {},
   "source": [
    "### 🧪 Ejercicio 6.2 – Manejar entrada inválida\n",
    "Solicita un número al usuario y maneja el error si ingresa un valor no numérico."
   ]
  },
  {
   "cell_type": "code",
   "execution_count": 60,
   "id": "9739b881-47ec-4ff1-9faa-cfdf69ded632",
   "metadata": {},
   "outputs": [
    {
     "name": "stdin",
     "output_type": "stream",
     "text": [
      "Coloque un numero 4\n"
     ]
    },
    {
     "name": "stdout",
     "output_type": "stream",
     "text": [
      "Gracias\n"
     ]
    }
   ],
   "source": [
    "try:\n",
    "    num = int(input(\"Coloque un numero\"))\n",
    "    print(\"Gracias\")\n",
    "except ValueError:\n",
    "    print(\"El valor ingresado no es numerico\")"
   ]
  },
  {
   "cell_type": "markdown",
   "id": "34ba2cab-34e8-4136-87f7-419b90c65266",
   "metadata": {},
   "source": [
    "### 🧪 Ejercicio 6.3 – Leer archivo inexistente\n",
    "Intenta abrir un archivo que no existe y maneja el error correspondiente."
   ]
  },
  {
   "cell_type": "code",
   "execution_count": 61,
   "id": "7c4d80a5-700e-44eb-b671-4e8fbf74696a",
   "metadata": {},
   "outputs": [
    {
     "name": "stdout",
     "output_type": "stream",
     "text": [
      "El archivo no existe\n"
     ]
    }
   ],
   "source": [
    "try:\n",
    "    archivo = open(\"hola.txt\")\n",
    "except:\n",
    "    print(\"El archivo no existe\")"
   ]
  },
  {
   "cell_type": "markdown",
   "id": "86450086-1a5c-4a2a-a27a-1fbe535e655a",
   "metadata": {},
   "source": [
    "### 🧪 Ejercicio 6.4 – Manejar múltiples excepciones\n",
    "Solicita un número y maneja tanto errores de tipo como divisiones por cero."
   ]
  },
  {
   "cell_type": "code",
   "execution_count": 63,
   "id": "bb2aeed0-a314-4aee-a69e-c417d881cc13",
   "metadata": {},
   "outputs": [
    {
     "name": "stdin",
     "output_type": "stream",
     "text": [
      "Ingresa un número entero:  4\n"
     ]
    },
    {
     "name": "stdout",
     "output_type": "stream",
     "text": [
      "10 dividido entre 4 es 2.5\n"
     ]
    }
   ],
   "source": [
    "try:\n",
    "    numero = int(input(\"Ingresa un número entero: \"))\n",
    "    resultado = 10 / numero\n",
    "    print(f\"10 dividido entre {numero} es {resultado}\")\n",
    "except ValueError:\n",
    "    print(\"Error: Debes ingresar un número entero válido.\")\n",
    "except ZeroDivisionError:\n",
    "    print(\"Error: No se puede dividir entre cero.\")"
   ]
  },
  {
   "cell_type": "markdown",
   "id": "e7c3a6c9-67dd-45e5-a751-aabcc5813462",
   "metadata": {},
   "source": [
    "### 🧪 Ejercicio 6.5 – Usar finally\n",
    "Crea un bloque try-except que incluya una sección finally para imprimir un mensaje final."
   ]
  },
  {
   "cell_type": "code",
   "execution_count": 62,
   "id": "bf3bc64f-0e68-48bc-ac2e-6c4ddffa735f",
   "metadata": {},
   "outputs": [
    {
     "name": "stdout",
     "output_type": "stream",
     "text": [
      "El archivo no existe\n",
      "Intetelo de nuevo\n"
     ]
    }
   ],
   "source": [
    "try:\n",
    "    archivo = open(\"hola.txt\")\n",
    "except:\n",
    "    print(\"El archivo no existe\")\n",
    "finally:\n",
    "    print(\"Intetelo de nuevo\")"
   ]
  },
  {
   "cell_type": "markdown",
   "id": "5600ab6f-c963-4739-9935-1ea709f47f1b",
   "metadata": {
    "jp-MarkdownHeadingCollapsed": true
   },
   "source": [
    "## 🔁 7. Ciclos"
   ]
  },
  {
   "cell_type": "markdown",
   "id": "d80633ad-847e-4c11-be2b-59cae69c6950",
   "metadata": {
    "jp-MarkdownHeadingCollapsed": true
   },
   "source": [
    "### 🧪 Ejercicio 7.1 – Imprimir números pares\n",
    "Usa un ciclo for para imprimir los números pares del 1 al 20."
   ]
  },
  {
   "cell_type": "code",
   "execution_count": 181,
   "id": "2e08f129-70f8-4cc9-9d90-7a274c484bce",
   "metadata": {},
   "outputs": [
    {
     "name": "stdout",
     "output_type": "stream",
     "text": [
      "1 es Impar\n",
      "2 es Par\n",
      "3 es Impar\n",
      "4 es Par\n",
      "5 es Impar\n",
      "6 es Par\n",
      "7 es Impar\n",
      "8 es Par\n",
      "9 es Impar\n",
      "10 es Par\n",
      "11 es Impar\n",
      "12 es Par\n",
      "13 es Impar\n",
      "14 es Par\n",
      "15 es Impar\n",
      "16 es Par\n",
      "17 es Impar\n",
      "18 es Par\n",
      "19 es Impar\n",
      "20 es Par\n"
     ]
    }
   ],
   "source": [
    "for i in range(1,21):\n",
    "    if i % 2 == 0:\n",
    "        print(f\"{i} es Par\")\n",
    "    else:\n",
    "        print(f\"{i} es Impar\")"
   ]
  },
  {
   "cell_type": "markdown",
   "id": "d748c3e4-470c-4255-811d-4f14bf1ce5cb",
   "metadata": {},
   "source": [
    "### 🧪 Ejercicio 7.2 – Contador con while\n",
    "Usa un ciclo while para contar del 10 al 1."
   ]
  },
  {
   "cell_type": "code",
   "execution_count": 70,
   "id": "6ad2cef6-530a-429d-b81a-a12ebd9242d6",
   "metadata": {},
   "outputs": [
    {
     "name": "stdout",
     "output_type": "stream",
     "text": [
      "10\n",
      "9\n",
      "8\n",
      "7\n",
      "6\n",
      "5\n",
      "4\n",
      "3\n",
      "2\n",
      "1\n"
     ]
    }
   ],
   "source": [
    "i = 10\n",
    "\n",
    "while i > 0:\n",
    "    print(i)\n",
    "    i -= 1"
   ]
  },
  {
   "cell_type": "markdown",
   "id": "043e08ac-ee0d-4426-bfa7-7cdc937453e0",
   "metadata": {},
   "source": [
    "### 🧪 Ejercicio 7.3 – Contador con for\n",
    "Imprime los números del 1 al 10."
   ]
  },
  {
   "cell_type": "code",
   "execution_count": 69,
   "id": "d7994c3c-e637-446a-9385-7cbcd396b036",
   "metadata": {},
   "outputs": [
    {
     "name": "stdout",
     "output_type": "stream",
     "text": [
      "1\n",
      "2\n",
      "3\n",
      "4\n",
      "5\n",
      "6\n",
      "7\n",
      "8\n",
      "9\n",
      "10\n"
     ]
    }
   ],
   "source": [
    "for i in range(1,11):\n",
    "    print(i)\n",
    "    i += 1"
   ]
  },
  {
   "cell_type": "markdown",
   "id": "7bfff22b-60a2-439e-adbf-30ed561167ed",
   "metadata": {},
   "source": [
    "### 🧪 Ejercicio 7.4 – Suma con while\n",
    "Suma los números del 1 al 5 usando un bucle while."
   ]
  },
  {
   "cell_type": "code",
   "execution_count": 6,
   "id": "825b7aac-63b0-4b4a-806f-019274e3207a",
   "metadata": {},
   "outputs": [
    {
     "name": "stdout",
     "output_type": "stream",
     "text": [
      "La suma es 15\n"
     ]
    }
   ],
   "source": [
    "contador = 1\n",
    "suma = 0\n",
    "\n",
    "while contador <= 5:\n",
    "    suma += contador\n",
    "    contador += 1\n",
    "\n",
    "print(f\"La suma es {suma}\")"
   ]
  },
  {
   "cell_type": "markdown",
   "id": "85fe78d0-b44f-4743-99f0-984b0d3a7617",
   "metadata": {},
   "source": [
    "### 🧪 Ejercicio 7.5 – Tabla de multiplicar\n",
    "Genera la tabla de multiplicar de un número dado."
   ]
  },
  {
   "cell_type": "code",
   "execution_count": null,
   "id": "4ef2aa8c-adee-4c59-961c-0e898c5ec554",
   "metadata": {},
   "outputs": [],
   "source": []
  },
  {
   "cell_type": "markdown",
   "id": "6c5131ce-f3ec-4bee-a5c7-914a077653b1",
   "metadata": {},
   "source": [
    "### 🧪 Ejercicio 7.6 – Contar elementos\n",
    "Cuenta cuántos elementos hay en una lista usando un bucle."
   ]
  },
  {
   "cell_type": "code",
   "execution_count": null,
   "id": "672fe9b2-351b-4098-ab24-abd42fd1597d",
   "metadata": {},
   "outputs": [],
   "source": []
  },
  {
   "cell_type": "markdown",
   "id": "d85c533a-a668-493c-99e9-79c0a702d8f8",
   "metadata": {},
   "source": [
    "### 🧪 Ejercicio 7.7 – Encontrar máximo\n",
    "Encuentra el número máximo en una lista usando un bucle."
   ]
  },
  {
   "cell_type": "code",
   "execution_count": null,
   "id": "30f3a2a8-f562-422b-a33c-6c69c04cc446",
   "metadata": {},
   "outputs": [],
   "source": []
  },
  {
   "cell_type": "markdown",
   "id": "fcd15a4b-b87d-4f01-88b9-c719ef9da5e0",
   "metadata": {
    "jp-MarkdownHeadingCollapsed": true
   },
   "source": [
    "## 📌 8. Lambda"
   ]
  },
  {
   "cell_type": "markdown",
   "id": "77091a6b-0e4f-4e83-9193-5e54faeffdaf",
   "metadata": {},
   "source": [
    "### 🧪 Ejercicio 8.1 – Sumar dos números\n",
    "Crea una función lambda que sume dos números."
   ]
  },
  {
   "cell_type": "code",
   "execution_count": null,
   "id": "fad93e39-809f-4b91-866d-0867c13ca947",
   "metadata": {},
   "outputs": [],
   "source": []
  },
  {
   "cell_type": "markdown",
   "id": "15bf02a2-e455-496c-bff0-787daa83ffb1",
   "metadata": {},
   "source": [
    "### 🧪 Ejercicio 8.2 – Filtrar números pares\n",
    "Usa una función lambda para filtrar los números pares de una lista."
   ]
  },
  {
   "cell_type": "code",
   "execution_count": null,
   "id": "18e6e678-b522-49a4-a631-0bfbe0c5cc16",
   "metadata": {},
   "outputs": [],
   "source": []
  },
  {
   "cell_type": "markdown",
   "id": "0e5e952b-a463-43dc-848c-427d1d463d07",
   "metadata": {},
   "source": [
    "### 🧪 Ejercicio 8.3 – Ordenar por longitud\n",
    "Usa una función lambda para ordenar una lista de palabras por su longitud."
   ]
  },
  {
   "cell_type": "code",
   "execution_count": null,
   "id": "048791c1-535b-45ce-811a-74066a6e98cf",
   "metadata": {},
   "outputs": [],
   "source": []
  },
  {
   "cell_type": "markdown",
   "id": "bc8c8412-fdfc-48f9-b0b2-eef9e681d2e0",
   "metadata": {},
   "source": [
    "### 🧪 Ejercicio 8.4 – Elevar al cuadrado\n",
    "Crea una función lambda que eleve un número al cuadrado."
   ]
  },
  {
   "cell_type": "code",
   "execution_count": null,
   "id": "d7a9f960-a9f1-4bf6-9db4-7466e151df95",
   "metadata": {},
   "outputs": [],
   "source": []
  },
  {
   "cell_type": "markdown",
   "id": "e6302095-d7b4-4e35-94e6-d052b3b3f64c",
   "metadata": {},
   "source": [
    "### 🧪 Ejercicio 8.5 – Multiplicar elementos\n",
    "Usa una función lambda para multiplicar cada elemento de una lista por un número dado."
   ]
  },
  {
   "cell_type": "code",
   "execution_count": null,
   "id": "d5971848-6b89-43d2-b87d-ae42805c5f64",
   "metadata": {},
   "outputs": [],
   "source": []
  },
  {
   "cell_type": "markdown",
   "id": "3950bdf7-a3cc-4862-befb-524058b185c6",
   "metadata": {},
   "source": [
    "### 🧪 Ejercicio 8.6 – Doblar números\n",
    "Usa map() y una función lambda para doblar los números de una lista."
   ]
  },
  {
   "cell_type": "code",
   "execution_count": 169,
   "id": "b4e08adc-bbbc-4c79-8685-529b1ae75d17",
   "metadata": {},
   "outputs": [
    {
     "name": "stdout",
     "output_type": "stream",
     "text": [
      "[2, 4, 6, 8, 10, 12]\n"
     ]
    }
   ],
   "source": [
    "numeros = [1,2,3,4,5,6]\n",
    "doblados = list(map(lambda x: x * 2, numeros))\n",
    "\n",
    "print(doblados)"
   ]
  },
  {
   "cell_type": "markdown",
   "id": "e90aeda7-1368-4ca9-a3e6-d9b92002174f",
   "metadata": {},
   "source": [
    "### 🧪 Ejercicio 8.7 – Filtrar mayores de edad\n",
    "Usa filter() y lambda para obtener solo los mayores de edad de una lista de edades."
   ]
  },
  {
   "cell_type": "code",
   "execution_count": 170,
   "id": "b3356080-4f57-434f-bc30-6bf64026f935",
   "metadata": {},
   "outputs": [
    {
     "name": "stdout",
     "output_type": "stream",
     "text": [
      "[18, 20, 32, 19]\n"
     ]
    }
   ],
   "source": [
    "edades = [17,18,20,13,15,32,19]\n",
    "filtro = list(filter(lambda x: x>= 18, edades))\n",
    "\n",
    "print(filtro)"
   ]
  },
  {
   "cell_type": "markdown",
   "id": "a84f649c-ae41-43fa-9180-2207ec5d514e",
   "metadata": {
    "jp-MarkdownHeadingCollapsed": true
   },
   "source": [
    "## 📞 9. Recursividad"
   ]
  },
  {
   "cell_type": "markdown",
   "id": "583d6740-7bf7-4658-96da-bf6bc7352f30",
   "metadata": {},
   "source": [
    "### 🧪 Ejercicio 6.1 – Calcular factorial\n",
    "Crea una función recursiva que calcule el factorial de un número."
   ]
  },
  {
   "cell_type": "code",
   "execution_count": 178,
   "id": "cae74b3d-95b3-469a-911a-1c576aaed01a",
   "metadata": {},
   "outputs": [
    {
     "name": "stdin",
     "output_type": "stream",
     "text": [
      "Coloca un nuemero para saber su factorial: 5\n"
     ]
    },
    {
     "name": "stdout",
     "output_type": "stream",
     "text": [
      "El numero factorial de 5 es: 120\n"
     ]
    }
   ],
   "source": [
    "def factorial(numero):\n",
    "    if numero < 1:\n",
    "        return 1\n",
    "    return numero * factorial(numero - 1)\n",
    "\n",
    "dato = int(input(\"Coloca un nuemero para saber su factorial:\"))\n",
    "print(f\"El numero factorial de {dato} es:\", factorial(dato))"
   ]
  },
  {
   "cell_type": "markdown",
   "id": "20b423c2-6e09-4967-b6c2-7bda25203af8",
   "metadata": {},
   "source": [
    "### 🧪 Ejercicio 6.2 – Sumar números\n",
    "Crea una función recursiva que sume los números del 1 al \\( n \\)."
   ]
  },
  {
   "cell_type": "code",
   "execution_count": null,
   "id": "e7cb008b-4e1e-4a83-9ebd-519335c595b1",
   "metadata": {},
   "outputs": [],
   "source": []
  },
  {
   "cell_type": "markdown",
   "id": "4ca3f918-a4ff-4878-a929-1abc89871b74",
   "metadata": {},
   "source": [
    "### 🧪 Ejercicio 6.3 – Fibonacci\n",
    "Crea una función recursiva que calcule el \\( n \\)-ésimo número de Fibonacci."
   ]
  },
  {
   "cell_type": "code",
   "execution_count": null,
   "id": "087e553b-17fb-435c-be6f-72d0446dbe96",
   "metadata": {},
   "outputs": [],
   "source": []
  },
  {
   "cell_type": "markdown",
   "id": "0c9e6cfe-fd4f-40ed-8463-f00dd17f34ce",
   "metadata": {},
   "source": [
    "### 🧪 Ejercicio 6.4 – Contar dígitos\n",
    "Crea una función recursiva que cuente cuántos dígitos tiene un número."
   ]
  },
  {
   "cell_type": "code",
   "execution_count": null,
   "id": "9c13c864-408c-4183-91d4-9cdff99ae09a",
   "metadata": {},
   "outputs": [],
   "source": []
  },
  {
   "cell_type": "markdown",
   "id": "b667fc5c-ac74-4f57-a440-e9da4a2fe2cb",
   "metadata": {},
   "source": [
    "### 🧪 Ejercicio 6.5 – Potencia\n",
    "Crea una función recursiva que calcule \\( a^b \\) (\\( a \\) elevado a la \\( b \\))."
   ]
  },
  {
   "cell_type": "code",
   "execution_count": null,
   "id": "afac39e9-fa79-4690-ba67-21ba6e18fddf",
   "metadata": {},
   "outputs": [],
   "source": []
  },
  {
   "cell_type": "markdown",
   "id": "e704256b-d893-4d35-9b7c-396884485911",
   "metadata": {},
   "source": [
    "### 🧪 Ejercicio 6.6 – Contador regresivo\n",
    "Crea una función recursiva que imprima un conteo regresivo desde un número dado hasta 0."
   ]
  },
  {
   "cell_type": "code",
   "execution_count": 179,
   "id": "beccb222-f576-4a1e-b9fb-5f1d2d71a5c0",
   "metadata": {},
   "outputs": [
    {
     "name": "stdin",
     "output_type": "stream",
     "text": [
      "Introduzca un numero para hacer la cuenta regresiva: 5\n"
     ]
    },
    {
     "name": "stdout",
     "output_type": "stream",
     "text": [
      "5\n",
      "4\n",
      "3\n",
      "2\n",
      "1\n",
      "0\n",
      "None\n"
     ]
    }
   ],
   "source": [
    "def conteo(numero):\n",
    "    if numero < 0:\n",
    "        return\n",
    "    print(numero)\n",
    "    conteo(numero - 1)\n",
    "\n",
    "dato = int(input(\"Introduzca un numero para hacer la cuenta regresiva:\"))\n",
    "print(conteo(dato))"
   ]
  },
  {
   "cell_type": "markdown",
   "id": "b8803078-3696-425f-a0fb-8dab6f1b373d",
   "metadata": {
    "jp-MarkdownHeadingCollapsed": true
   },
   "source": [
    "## ⚒️ 10. Clases y constructores"
   ]
  },
  {
   "cell_type": "markdown",
   "id": "0d2e656a-def0-4ba8-abcc-091db79e09b2",
   "metadata": {},
   "source": [
    "### 🧪 Ejercicio 10.1 – Clase Persona\n",
    "Crea una clase Persona con atributos nombre y edad. Usa un constructor para inicializarlos."
   ]
  },
  {
   "cell_type": "code",
   "execution_count": 183,
   "id": "4b91d145-a1a9-48d0-8db1-539fbaf120f5",
   "metadata": {},
   "outputs": [],
   "source": [
    "class Persoan:\n",
    "    def __init__(self, nombre, edad):\n",
    "        self.nombre = nombre\n",
    "        self.edad = edad"
   ]
  },
  {
   "cell_type": "markdown",
   "id": "bfc79ee8-8aa8-48a7-bd9c-5eafbdf9435a",
   "metadata": {},
   "source": [
    "### 🧪 Ejercicio 10.2 – Método saludar\n",
    "Agrega un método saludar() que imprima \"Hola, soy {nombre} y tengo {edad} años\"."
   ]
  },
  {
   "cell_type": "code",
   "execution_count": 184,
   "id": "8c38f2da-3a10-4294-a0b3-37eb1bca9f82",
   "metadata": {},
   "outputs": [
    {
     "name": "stdin",
     "output_type": "stream",
     "text": [
      "Como te llamas? Juan\n",
      "Cuantos años teines? 4\n"
     ]
    },
    {
     "name": "stdout",
     "output_type": "stream",
     "text": [
      "Hola Juan mucho gusto, no sabia que tuvieras 4 años\n"
     ]
    }
   ],
   "source": [
    "class Persona:\n",
    "    def __init__(self, name, age):\n",
    "        self.name = name\n",
    "        self.age = age\n",
    "\n",
    "    def saludar(self):\n",
    "        return f\"Hola {self.name} mucho gusto, no sabia que tuvieras {self.age} años\"\n",
    "\n",
    "name = input(\"Como te llamas?\")\n",
    "age = input(\"Cuantos años teines?\")\n",
    "persona = Persona(name, age)\n",
    "print(persona.saludar())"
   ]
  },
  {
   "cell_type": "markdown",
   "id": "24805439-4ece-4586-bce1-cf1f2d9c109f",
   "metadata": {},
   "source": [
    "### 🧪 Ejercicio 10.4 – Herencia\n",
    "Crea una clase Estudiante que herede de la clase Persona y agrega un atributo grado."
   ]
  },
  {
   "cell_type": "code",
   "execution_count": null,
   "id": "1e85ba8e-d928-4ff4-8c33-afd7cb83de29",
   "metadata": {},
   "outputs": [],
   "source": []
  },
  {
   "cell_type": "markdown",
   "id": "6122ac7e-0492-456d-8894-95795b787664",
   "metadata": {},
   "source": [
    "### 🧪 Ejercicio 10.5 – Contador de instancias\n",
    "Agrega un atributo de clase que cuente cuántas instancias de la clase Persona se han creado."
   ]
  },
  {
   "cell_type": "code",
   "execution_count": null,
   "id": "aca6ed73-e2a2-4e39-a365-9321f21b9e7c",
   "metadata": {},
   "outputs": [],
   "source": []
  }
 ],
 "metadata": {
  "kernelspec": {
   "display_name": "Python 3 (ipykernel)",
   "language": "python",
   "name": "python3"
  },
  "language_info": {
   "codemirror_mode": {
    "name": "ipython",
    "version": 3
   },
   "file_extension": ".py",
   "mimetype": "text/x-python",
   "name": "python",
   "nbconvert_exporter": "python",
   "pygments_lexer": "ipython3",
   "version": "3.13.5"
  }
 },
 "nbformat": 4,
 "nbformat_minor": 5
}
