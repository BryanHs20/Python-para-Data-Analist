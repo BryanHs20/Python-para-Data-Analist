{
 "cells": [
  {
   "cell_type": "markdown",
   "id": "c942d1de",
   "metadata": {},
   "source": [
    "# Manejo de Datos Basicos"
   ]
  },
  {
   "cell_type": "code",
   "execution_count": 16,
   "id": "cd18745e",
   "metadata": {},
   "outputs": [
    {
     "data": {
      "text/plain": [
       "[2020, 2021, 2021, 2021, 2021, 2021, 2021, 1993, 2021, 2021]"
      ]
     },
     "execution_count": 16,
     "metadata": {},
     "output_type": "execute_result"
    }
   ],
   "source": [
    "# Ignore Recapitulacion\n",
    "\n",
    "import csv\n",
    "import pandas as pd\n",
    "import numpy as np\n",
    "import matplotlib.pyplot as plt\n",
    "from statistics import mean, median, mode, stdev\n",
    "\n",
    "\n",
    "# Abre el archivo de lectura\n",
    "file = open(\"../../Archivos-Analisis/netflix_titles.csv\",encoding='utf-8')\n",
    "\n",
    "csvreader = csv.reader(file)\n",
    "\n",
    "# Obtiene los encabezados del archivo (header)\n",
    "header = []\n",
    "header = next(csvreader)\n",
    "header\n",
    "\n",
    "# Extrae los datos a una lista\n",
    "rows = []\n",
    "\n",
    "for row in csvreader:\n",
    "    rows.append(row)\n",
    "\n",
    "# Generamos el objeto movies con todas las filas de la lista\n",
    "movies = np.array(rows)\n",
    "release_year = movies[:,7]\n",
    "\n",
    "# Transformacion del array en numeros\n",
    "release_year_int = [int(numeric_string) for numeric_string in release_year]\n",
    "release_year_int [0:10]\n",
    "\n"
   ]
  },
  {
   "cell_type": "code",
   "execution_count": 3,
   "id": "9af7693a",
   "metadata": {},
   "outputs": [
    {
     "name": "stdout",
     "output_type": "stream",
     "text": [
      "En promedio, el año en el que se generaron las peliculas del archivo es el  2014\n",
      "Ademas, la desviacion estandar de los datos nos muestra que se tienen  8\n",
      "El primer año que se muestra en los datos es 1925\n",
      "El ultimo año que se muestra en los datos es 2021\n"
     ]
    }
   ],
   "source": [
    "# Calculo de la media y desviacion estandar del arreglo\n",
    "mean_year = mean(release_year_int)\n",
    "stdev_year = stdev(release_year_int)\n",
    "min_year = min(release_year_int)\n",
    "max_year = max(release_year_int)\n",
    "\n",
    "# Primer reporte estadistico de los datos\n",
    "print(\"En promedio, el año en el que se generaron las peliculas del archivo es el \",int(mean_year))\n",
    "print(\"Ademas, la desviacion estandar de los datos nos muestra que se tienen \", int(stdev_year))\n",
    "print(\"El primer año que se muestra en los datos es\", int(min_year))\n",
    "print(\"El ultimo año que se muestra en los datos es\", int(max_year))\n"
   ]
  },
  {
   "cell_type": "code",
   "execution_count": 4,
   "id": "7a50f2ca",
   "metadata": {},
   "outputs": [],
   "source": [
    "# No se si sera tan relevante saber el año promedio, pero si saber como hacerlo"
   ]
  },
  {
   "cell_type": "code",
   "execution_count": 5,
   "id": "dea6e4de",
   "metadata": {},
   "outputs": [
    {
     "data": {
      "text/plain": [
       "array(['90 min', '2 Seasons', '1 Season', '1 Season', '2 Seasons',\n",
       "       '1 Season', '91 min', '125 min', '9 Seasons', '104 min'],\n",
       "      dtype='<U771')"
      ]
     },
     "execution_count": 5,
     "metadata": {},
     "output_type": "execute_result"
    }
   ],
   "source": [
    "# Trabajaremos con el campo de duracion\n",
    "# Asignamos al array duration las duraciones de todas las peliculas\n",
    "duration = movies[0:,9]\n",
    "\n",
    "duration [0:10]"
   ]
  },
  {
   "cell_type": "code",
   "execution_count": 6,
   "id": "46695495",
   "metadata": {},
   "outputs": [
    {
     "data": {
      "text/plain": [
       "array(['90 min', '91 min', '125 min', '104 min', '127 min', '91 min',\n",
       "       '67 min', '94 min', '161 min'], dtype='<U771')"
      ]
     },
     "execution_count": 6,
     "metadata": {},
     "output_type": "execute_result"
    }
   ],
   "source": [
    "# Una definicion inicial, es que vamos a obtener nada mas informacion de peliculas, no de series\n",
    "# Esto quiere decir que SOLAMENTE nos vamos a enfocar en las peliculas que terminen en \"min\"\n",
    "\n",
    "# Obteniene las primeras diez peliculas que vienen en minutos\n",
    "movies[np.char.endswith(movies, \" min\")][:9] # Numpy tiene un modulo, el cual tiene una funcion \"endswith\" para traer los datos que terminen con \"min\""
   ]
  },
  {
   "cell_type": "code",
   "execution_count": 7,
   "id": "f0a9f02e",
   "metadata": {},
   "outputs": [
    {
     "data": {
      "text/plain": [
       "array(['90 min', '91 min', '125 min', ..., '88 min', '88 min', '111 min'],\n",
       "      dtype='<U771')"
      ]
     },
     "execution_count": 7,
     "metadata": {},
     "output_type": "execute_result"
    }
   ],
   "source": [
    "# Generamos el array de las duraciones en minutos\n",
    "duration_min = duration[np.char.endswith(duration, \" min\")]\n",
    "duration_min"
   ]
  },
  {
   "cell_type": "code",
   "execution_count": 8,
   "id": "3084a385",
   "metadata": {},
   "outputs": [],
   "source": [
    "# Una vez tenemos las peliculas en min, se convierte el registro a un numero, ej \"90 min\" a 90\n",
    "# Esto se hace utilizanco la funcion \"strip\" de la libreria numpy (np.char)\n",
    "\n",
    "# Eliminar la terminacion \"min\"\n",
    "duration_min_end = np.char.strip(duration_min, \" min\")\n",
    "# Trasformamos el array a numeros\n",
    "duration_min_int = [int(numeric_string) for numeric_string in duration_min_end]"
   ]
  },
  {
   "cell_type": "code",
   "execution_count": 9,
   "id": "a1659015",
   "metadata": {},
   "outputs": [
    {
     "data": {
      "text/plain": [
       "[90, 91, 125, 104, 127, 91, 67, 94, 161]"
      ]
     },
     "execution_count": 9,
     "metadata": {},
     "output_type": "execute_result"
    }
   ],
   "source": [
    "duration_min_int [0:9]"
   ]
  },
  {
   "cell_type": "code",
   "execution_count": 10,
   "id": "b3396383",
   "metadata": {},
   "outputs": [
    {
     "name": "stdout",
     "output_type": "stream",
     "text": [
      "En promedio, la duracion de las peliculas del conjunto de datos es del 99 minutos\n",
      "Ademas, la desviacion estandar de los datos nos muestra que se tiene 28 minutos\n",
      "La pelicula con menor duracion es de 3 minutos\n",
      "La pelicula con mayor duracion es de 312 minutos\n"
     ]
    }
   ],
   "source": [
    "# Asi se obtiene un numero reporte estadistico, muchos mas interesantes\n",
    "\n",
    "mean_movies = mean(duration_min_int)\n",
    "stdev_movies = stdev(duration_min_int)\n",
    "min_movies = min(duration_min_int)\n",
    "max_movies = max(duration_min_int)\n",
    "\n",
    "print(\"En promedio, la duracion de las peliculas del conjunto de datos es del\",int(mean_movies),\"minutos\")\n",
    "print(\"Ademas, la desviacion estandar de los datos nos muestra que se tiene\", int(stdev_movies),\"minutos\")\n",
    "print(\"La pelicula con menor duracion es de\", int(min_movies),\"minutos\")\n",
    "print(\"La pelicula con mayor duracion es de\", int(max_movies),\"minutos\")"
   ]
  },
  {
   "cell_type": "code",
   "execution_count": 11,
   "id": "8ed66968",
   "metadata": {},
   "outputs": [
    {
     "data": {
      "image/png": "[encoded data removed]",
      "text/plain": [
       "<Figure size 640x480 with 1 Axes>"
      ]
     },
     "metadata": {},
     "output_type": "display_data"
    }
   ],
   "source": [
    "# Nuevo grafico\n",
    "plt.title(\"Histograma de duracion de peliculas\")\n",
    "plt.hist(duration_min_int, bins=50)\n",
    "plt.show()"
   ]
  },
  {
   "cell_type": "code",
   "execution_count": 12,
   "id": "859cc422",
   "metadata": {},
   "outputs": [
    {
     "name": "stdout",
     "output_type": "stream",
     "text": [
      "[False False False ... False False False]\n",
      "[['s3778' 'Movie' 'Silent' 'Limbert Fabian, Brandon Oldenburg' ''\n",
      "  'United States' 'June 4, 2019' '2014' 'TV-Y' '3 min'\n",
      "  'Children & Family Movies, Sci-Fi & Fantasy'\n",
      "  '\"Silent\" is an animated short film created by Academy Award® winning Moonbot Studios. It celebrates how storytellers, inventors, and technology work together to create cinema magic.']]\n"
     ]
    }
   ],
   "source": [
    "# Que peliculas corresponden a la mas corta y a la ams larga?\n",
    "# Tip: buscar por \"3 min\" y \"312 min\" en la base de datos original\n",
    "\n",
    "# Filtro para la pelicula de 3 min\n",
    "filter_arr = (duration == \"3 min\")\n",
    "print(filter_arr)\n",
    "dur_array3min = movies[filter_arr]\n",
    "print(dur_array3min)"
   ]
  },
  {
   "cell_type": "code",
   "execution_count": 13,
   "id": "592b51da",
   "metadata": {},
   "outputs": [
    {
     "name": "stdout",
     "output_type": "stream",
     "text": [
      "[False False False ... False False False]\n",
      "[['s4254' 'Movie' 'Black Mirror: Bandersnatch' ''\n",
      "  'Fionn Whitehead, Will Poulter, Craig Parkinson, Alice Lowe, Asim Chaudhry'\n",
      "  'United States' 'December 28, 2018' '2018' 'TV-MA' '312 min'\n",
      "  'Dramas, International Movies, Sci-Fi & Fantasy'\n",
      "  'In 1984, a young programmer begins to question reality as he adapts a dark fantasy novel into a video game. A mind-bending tale with multiple endings.']]\n"
     ]
    }
   ],
   "source": [
    "# Filtro para la pelicula de 312 min\n",
    "filter_arr = (duration == \"312 min\")\n",
    "print(filter_arr)\n",
    "dur_array312min = movies[filter_arr]\n",
    "print(dur_array312min)"
   ]
  },
  {
   "cell_type": "code",
   "execution_count": 14,
   "id": "44f0d280",
   "metadata": {},
   "outputs": [
    {
     "name": "stdout",
     "output_type": "stream",
     "text": [
      "Silent\n",
      "Black Mirror: Bandersnatch\n"
     ]
    }
   ],
   "source": [
    "# Para ver el nombre solamente de la pelicula mediante el uso de su identificador\n",
    "print(movies[3777][2])\n",
    "print(movies[4253][2])"
   ]
  }
 ],
 "metadata": {
  "kernelspec": {
   "display_name": "base",
   "language": "python",
   "name": "python3"
  },
  "language_info": {
   "codemirror_mode": {
    "name": "ipython",
    "version": 3
   },
   "file_extension": ".py",
   "mimetype": "text/x-python",
   "name": "python",
   "nbconvert_exporter": "python",
   "pygments_lexer": "ipython3",
   "version": "3.13.5"
  }
 },
 "nbformat": 4,
 "nbformat_minor": 5
}
