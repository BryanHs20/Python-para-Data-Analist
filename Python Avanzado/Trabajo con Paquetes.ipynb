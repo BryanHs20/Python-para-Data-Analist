{
 "cells": [
  {
   "cell_type": "markdown",
   "id": "c942d1de",
   "metadata": {},
   "source": [
    "# Manejo de Datos Basicos"
   ]
  },
  {
   "cell_type": "code",
   "execution_count": null,
   "id": "cd18745e",
   "metadata": {},
   "outputs": [
    {
     "data": {
      "text/plain": [
       "[2020, 2021, 2021, 2021, 2021, 2021, 2021, 1993, 2021, 2021]"
      ]
     },
     "execution_count": 5,
     "metadata": {},
     "output_type": "execute_result"
    }
   ],
   "source": [
    "# Ignore Recapitulacion\n",
    "\n",
    "import csv\n",
    "import numpy as np\n",
    "import matplotlib.pyplot as plt\n",
    "from statistics import mean, median, mode, stdev\n",
    "\n",
    "\n",
    "# Abre el archivo de lectura\n",
    "file = open(\"../../Archivos-Analisis/netflix_titles.csv\",encoding='utf-8')\n",
    "\n",
    "csvreader = csv.reader(file)\n",
    "\n",
    "# Obtiene los encabezados del archivo (header)\n",
    "header = []\n",
    "header = next(csvreader)\n",
    "header\n",
    "\n",
    "# Extrae los datos a una lista\n",
    "rows = []\n",
    "\n",
    "for row in csvreader:\n",
    "    rows.append(row)\n",
    "\n",
    "# Generamos el objeto movies con todas las filas de la lista\n",
    "movies = np.array(rows)\n",
    "release_year = movies[:,7]\n",
    "\n",
    "# Transformacion del array en numeros\n",
    "release_year_int = [int(numeric_string) for numeric_string in release_year]\n",
    "release_year_int [0:10]\n",
    "\n"
   ]
  },
  {
   "cell_type": "code",
   "execution_count": 6,
   "id": "9af7693a",
   "metadata": {},
   "outputs": [
    {
     "name": "stdout",
     "output_type": "stream",
     "text": [
      "En promedio, el año en el que se generaron las peliculas del archivo es el  2014\n",
      "Ademas, la desviacion estandar de los datos nos muestra que se tienen  8\n",
      "El primer año que se muestra en los datos es 1925\n",
      "El ultimo año que se muestra en los datos es 2021\n"
     ]
    }
   ],
   "source": [
    "# Calculo de la media y desviacion estandar del arreglo\n",
    "mean_year = mean(release_year_int)\n",
    "stdev_year = stdev(release_year_int)\n",
    "min_year = min(release_year_int)\n",
    "max_year = max(release_year_int)\n",
    "\n",
    "# Primer reporte estadistico de los datos\n",
    "print(\"En promedio, el año en el que se generaron las peliculas del archivo es el \",int(mean_year))\n",
    "print(\"Ademas, la desviacion estandar de los datos nos muestra que se tienen \", int(stdev_year))\n",
    "print(\"El primer año que se muestra en los datos es\", int(min_year))\n",
    "print(\"El ultimo año que se muestra en los datos es\", int(max_year))\n"
   ]
  },
  {
   "cell_type": "code",
   "execution_count": null,
   "id": "7a50f2ca",
   "metadata": {},
   "outputs": [],
   "source": []
  }
 ],
 "metadata": {
  "kernelspec": {
   "display_name": "base",
   "language": "python",
   "name": "python3"
  },
  "language_info": {
   "codemirror_mode": {
    "name": "ipython",
    "version": 3
   },
   "file_extension": ".py",
   "mimetype": "text/x-python",
   "name": "python",
   "nbconvert_exporter": "python",
   "pygments_lexer": "ipython3",
   "version": "3.13.5"
  }
 },
 "nbformat": 4,
 "nbformat_minor": 5
}
