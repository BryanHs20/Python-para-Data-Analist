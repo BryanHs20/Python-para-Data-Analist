{
 "cells": [
  {
   "cell_type": "markdown",
   "id": "1b076e9c",
   "metadata": {},
   "source": [
    "# Importando Funciones de Internet\n",
    "- Para este ejemplo se utilizo la funcion llamada \"IMDbPY\" https://www.geeksforgeeks.org/python/python-imdbpy-searching-a-movie\n",
    "- IMDB es una base de datos digital enirme de informacion de peliculas\n",
    "- La libreria trae informacion de IMDB - una librerias publicas"
   ]
  },
  {
   "cell_type": "markdown",
   "id": "a5bbd3ee",
   "metadata": {},
   "source": [
    "## Instlacion de la libreria en nuestro entorno\n",
    "- En muchas ocasiones tendremos que instalar librerias, y eso se hace utilizando el terminal de VS Code"
   ]
  },
  {
   "cell_type": "code",
   "execution_count": 3,
   "id": "b34c58cf",
   "metadata": {},
   "outputs": [
    {
     "name": "stdout",
     "output_type": "stream",
     "text": [
      "The Matrix\n",
      "The Matrix Reloaded\n",
      "The Matrix Resurrections\n",
      "The Matrix Revolutions\n",
      "Matrix\n",
      "Matrix 5\n",
      "The Matrix Recalibrated\n",
      "Threat Matrix\n",
      "Armitage III: Poly-Matrix\n",
      "A Glitch in the Matrix\n",
      "Matrix: Generation\n",
      "Sex and the Matrix\n",
      "Free Your Mind: The Matrix Now\n",
      "Matrix\n",
      "Enter the Matrix\n",
      "The Matrix Revisited\n",
      "Making 'The Matrix'\n",
      "Armitage III: Dual Matrix\n",
      "The Matrix, the Office Never-Before-Seen Cold Open\n",
      "The Matrix Redeemed\n"
     ]
    }
   ],
   "source": [
    "# Importacion mediante web\n",
    "# pip install IMDbPY\n",
    "\n",
    "# Importacion del modulo\n",
    "import imdb\n",
    "\n",
    "ia = imdb.IMDb()\n",
    "\n",
    "name = \"Matrix\"\n",
    "\n",
    "busqueda = ia.search_movie(name)\n",
    "\n",
    "for i in busqueda:\n",
    "    print(i)"
   ]
  },
  {
   "cell_type": "code",
   "execution_count": null,
   "id": "8f5df27d",
   "metadata": {},
   "outputs": [],
   "source": []
  }
 ],
 "metadata": {
  "kernelspec": {
   "display_name": "base",
   "language": "python",
   "name": "python3"
  },
  "language_info": {
   "codemirror_mode": {
    "name": "ipython",
    "version": 3
   },
   "file_extension": ".py",
   "mimetype": "text/x-python",
   "name": "python",
   "nbconvert_exporter": "python",
   "pygments_lexer": "ipython3",
   "version": "3.13.5"
  }
 },
 "nbformat": 4,
 "nbformat_minor": 5
}
