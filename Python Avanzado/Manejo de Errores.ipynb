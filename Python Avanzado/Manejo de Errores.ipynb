{
 "cells": [
  {
   "cell_type": "markdown",
   "id": "818b72ea",
   "metadata": {},
   "source": [
    "# Errores\n",
    "- Se aprendera como Python señala los errores\n",
    "- Captura de errores con TRY/EXCEPT\n",
    "- Haciedno Debugging de im Script de un NoteBook de Python"
   ]
  },
  {
   "cell_type": "markdown",
   "id": "f8749dfa",
   "metadata": {},
   "source": [
    "# Tipos de Errores en Python\n",
    "- Errores de sintaxis, esctirura, ortografica\n",
    "- Excepciones. Pueden ocurrir en bloques de codigo que estan bien escritas pero que por alguna razon no pueden ejecutarse.\n",
    "- Errores de logica. Los mas dificiles de detectar, ya que el codigo sigue ejecutandose, pero no produce la salida deseada"
   ]
  },
  {
   "cell_type": "code",
   "execution_count": 1,
   "id": "59bd7288",
   "metadata": {},
   "outputs": [
    {
     "ename": "SyntaxError",
     "evalue": "unterminated string literal (detected at line 3) (369156452.py, line 3)",
     "output_type": "error",
     "traceback": [
      "\u001b[1;36m  Cell \u001b[1;32mIn[1], line 3\u001b[1;36m\u001b[0m\n\u001b[1;33m    print (\"hola mundo)\u001b[0m\n\u001b[1;37m           ^\u001b[0m\n\u001b[1;31mSyntaxError\u001b[0m\u001b[1;31m:\u001b[0m unterminated string literal (detected at line 3)\n"
     ]
    }
   ],
   "source": [
    "# Ejemplos de errrores y como python funciona para revisarlos\n",
    "# Error tipo sitaxis\n",
    "print (\"hola mundo)"
   ]
  },
  {
   "cell_type": "code",
   "execution_count": 2,
   "id": "fd6e4d41",
   "metadata": {},
   "outputs": [
    {
     "ename": "TypeError",
     "evalue": "unsupported operand type(s) for +: 'int' and 'str'",
     "output_type": "error",
     "traceback": [
      "\u001b[1;31m---------------------------------------------------------------------------\u001b[0m",
      "\u001b[1;31mTypeError\u001b[0m                                 Traceback (most recent call last)",
      "Cell \u001b[1;32mIn[2], line 2\u001b[0m\n\u001b[0;32m      1\u001b[0m \u001b[38;5;66;03m# Error de tipo de dato\u001b[39;00m\n\u001b[1;32m----> 2\u001b[0m \u001b[38;5;28mprint\u001b[39m(\u001b[38;5;241m5\u001b[39m \u001b[38;5;241m+\u001b[39m \u001b[38;5;124m\"\u001b[39m\u001b[38;5;124m10\u001b[39m\u001b[38;5;124m\"\u001b[39m)\n",
      "\u001b[1;31mTypeError\u001b[0m: unsupported operand type(s) for +: 'int' and 'str'"
     ]
    }
   ],
   "source": [
    "# Error de tipo de dato\n",
    "print(5 + \"10\")"
   ]
  },
  {
   "cell_type": "code",
   "execution_count": 3,
   "id": "2f7b717d",
   "metadata": {},
   "outputs": [
    {
     "ename": "NameError",
     "evalue": "name 'O' is not defined",
     "output_type": "error",
     "traceback": [
      "\u001b[1;31m---------------------------------------------------------------------------\u001b[0m",
      "\u001b[1;31mNameError\u001b[0m                                 Traceback (most recent call last)",
      "Cell \u001b[1;32mIn[3], line 2\u001b[0m\n\u001b[0;32m      1\u001b[0m \u001b[38;5;66;03m# Error de tipo\u001b[39;00m\n\u001b[1;32m----> 2\u001b[0m \u001b[38;5;28mprint\u001b[39m(\u001b[38;5;241m0\u001b[39m \u001b[38;5;241m*\u001b[39m O)\n",
      "\u001b[1;31mNameError\u001b[0m: name 'O' is not defined"
     ]
    }
   ],
   "source": [
    "# Error de tipo\n",
    "print(0 * O)"
   ]
  },
  {
   "cell_type": "code",
   "execution_count": 4,
   "id": "08057b57",
   "metadata": {},
   "outputs": [
    {
     "ename": "ZeroDivisionError",
     "evalue": "division by zero",
     "output_type": "error",
     "traceback": [
      "\u001b[1;31m---------------------------------------------------------------------------\u001b[0m",
      "\u001b[1;31mZeroDivisionError\u001b[0m                         Traceback (most recent call last)",
      "Cell \u001b[1;32mIn[4], line 2\u001b[0m\n\u001b[0;32m      1\u001b[0m \u001b[38;5;66;03m# Error dividido entre cero\u001b[39;00m\n\u001b[1;32m----> 2\u001b[0m \u001b[38;5;28mprint\u001b[39m(\u001b[38;5;241m5\u001b[39m\u001b[38;5;241m/\u001b[39m\u001b[38;5;241m0\u001b[39m)\n",
      "\u001b[1;31mZeroDivisionError\u001b[0m: division by zero"
     ]
    }
   ],
   "source": [
    "# Error dividido entre cero\n",
    "print(5/0)"
   ]
  },
  {
   "cell_type": "code",
   "execution_count": 6,
   "id": "8face328",
   "metadata": {},
   "outputs": [
    {
     "ename": "FileNotFoundError",
     "evalue": "[Errno 2] No such file or directory: 'archivo.txt'",
     "output_type": "error",
     "traceback": [
      "\u001b[1;31m---------------------------------------------------------------------------\u001b[0m",
      "\u001b[1;31mFileNotFoundError\u001b[0m                         Traceback (most recent call last)",
      "Cell \u001b[1;32mIn[6], line 4\u001b[0m\n\u001b[0;32m      1\u001b[0m \u001b[38;5;66;03m# Archivo no encontrado\u001b[39;00m\n\u001b[0;32m      2\u001b[0m arch \u001b[38;5;241m=\u001b[39m \u001b[38;5;124m\"\u001b[39m\u001b[38;5;124marchivo.txt\u001b[39m\u001b[38;5;124m\"\u001b[39m\n\u001b[1;32m----> 4\u001b[0m content \u001b[38;5;241m=\u001b[39m \u001b[38;5;28mopen\u001b[39m(arch)\n",
      "File \u001b[1;32mc:\\Users\\RyanHz\\anaconda3\\Lib\\site-packages\\IPython\\core\\interactiveshell.py:324\u001b[0m, in \u001b[0;36m_modified_open\u001b[1;34m(file, *args, **kwargs)\u001b[0m\n\u001b[0;32m    317\u001b[0m \u001b[38;5;28;01mif\u001b[39;00m file \u001b[38;5;129;01min\u001b[39;00m {\u001b[38;5;241m0\u001b[39m, \u001b[38;5;241m1\u001b[39m, \u001b[38;5;241m2\u001b[39m}:\n\u001b[0;32m    318\u001b[0m     \u001b[38;5;28;01mraise\u001b[39;00m \u001b[38;5;167;01mValueError\u001b[39;00m(\n\u001b[0;32m    319\u001b[0m         \u001b[38;5;124mf\u001b[39m\u001b[38;5;124m\"\u001b[39m\u001b[38;5;124mIPython won\u001b[39m\u001b[38;5;124m'\u001b[39m\u001b[38;5;124mt let you open fd=\u001b[39m\u001b[38;5;132;01m{\u001b[39;00mfile\u001b[38;5;132;01m}\u001b[39;00m\u001b[38;5;124m by default \u001b[39m\u001b[38;5;124m\"\u001b[39m\n\u001b[0;32m    320\u001b[0m         \u001b[38;5;124m\"\u001b[39m\u001b[38;5;124mas it is likely to crash IPython. If you know what you are doing, \u001b[39m\u001b[38;5;124m\"\u001b[39m\n\u001b[0;32m    321\u001b[0m         \u001b[38;5;124m\"\u001b[39m\u001b[38;5;124myou can use builtins\u001b[39m\u001b[38;5;124m'\u001b[39m\u001b[38;5;124m open.\u001b[39m\u001b[38;5;124m\"\u001b[39m\n\u001b[0;32m    322\u001b[0m     )\n\u001b[1;32m--> 324\u001b[0m \u001b[38;5;28;01mreturn\u001b[39;00m io_open(file, \u001b[38;5;241m*\u001b[39margs, \u001b[38;5;241m*\u001b[39m\u001b[38;5;241m*\u001b[39mkwargs)\n",
      "\u001b[1;31mFileNotFoundError\u001b[0m: [Errno 2] No such file or directory: 'archivo.txt'"
     ]
    }
   ],
   "source": [
    "# Archivo no encontrado\n",
    "arch = \"archivo.txt\"\n",
    "\n",
    "content = open(arch)"
   ]
  },
  {
   "cell_type": "code",
   "execution_count": 8,
   "id": "3f1462db",
   "metadata": {},
   "outputs": [
    {
     "ename": "SyntaxError",
     "evalue": "expected ':' (1189032891.py, line 2)",
     "output_type": "error",
     "traceback": [
      "\u001b[1;36m  Cell \u001b[1;32mIn[8], line 2\u001b[1;36m\u001b[0m\n\u001b[1;33m    for i in range(50)\u001b[0m\n\u001b[1;37m                      ^\u001b[0m\n\u001b[1;31mSyntaxError\u001b[0m\u001b[1;31m:\u001b[0m expected ':'\n"
     ]
    }
   ],
   "source": [
    "# Error de sintaxis\n",
    "for i in range(50)\n",
    "    print (i)"
   ]
  },
  {
   "cell_type": "markdown",
   "id": "e85f1b33",
   "metadata": {},
   "source": [
    "# Excepciones\n",
    "- Se utiliza el comando \"raise\""
   ]
  },
  {
   "cell_type": "code",
   "execution_count": 9,
   "id": "be8e7539",
   "metadata": {},
   "outputs": [
    {
     "ename": "Exception",
     "evalue": "x no puede sobrepasar el valor de 10. el valor de x fue: 12",
     "output_type": "error",
     "traceback": [
      "\u001b[1;31m---------------------------------------------------------------------------\u001b[0m",
      "\u001b[1;31mException\u001b[0m                                 Traceback (most recent call last)",
      "Cell \u001b[1;32mIn[9], line 6\u001b[0m\n\u001b[0;32m      4\u001b[0m x\u001b[38;5;241m=\u001b[39m \u001b[38;5;241m12\u001b[39m\n\u001b[0;32m      5\u001b[0m \u001b[38;5;28;01mif\u001b[39;00m x \u001b[38;5;241m>\u001b[39m \u001b[38;5;241m10\u001b[39m:\n\u001b[1;32m----> 6\u001b[0m     \u001b[38;5;28;01mraise\u001b[39;00m \u001b[38;5;167;01mException\u001b[39;00m(\u001b[38;5;124m\"\u001b[39m\u001b[38;5;124mx no puede sobrepasar el valor de 10. el valor de x fue: \u001b[39m\u001b[38;5;132;01m{}\u001b[39;00m\u001b[38;5;124m\"\u001b[39m\u001b[38;5;241m.\u001b[39mformat(x))\n\u001b[0;32m      7\u001b[0m \u001b[38;5;28mprint\u001b[39m(x)\n",
      "\u001b[1;31mException\u001b[0m: x no puede sobrepasar el valor de 10. el valor de x fue: 12"
     ]
    }
   ],
   "source": [
    "# Generando excepciones en el codigo\n",
    "# Si bien son utiles, van a generar que el programa se detenga abruptamente\n",
    "\n",
    "x= 12\n",
    "if x > 10:\n",
    "    raise Exception(\"x no puede sobrepasar el valor de 10. el valor de x fue: {}\".format(x))\n",
    "print(x)"
   ]
  },
  {
   "cell_type": "markdown",
   "id": "e0badd1f",
   "metadata": {},
   "source": [
    "# Manejo de Errores Sintaxis\n",
    "- Si es que se comlie la condicion, se genera la excepcion"
   ]
  },
  {
   "cell_type": "code",
   "execution_count": 1,
   "id": "fec12ffe",
   "metadata": {},
   "outputs": [
    {
     "ename": "AssertionError",
     "evalue": "",
     "output_type": "error",
     "traceback": [
      "\u001b[1;31m---------------------------------------------------------------------------\u001b[0m",
      "\u001b[1;31mAssertionError\u001b[0m                            Traceback (most recent call last)",
      "Cell \u001b[1;32mIn[1], line 7\u001b[0m\n\u001b[0;32m      4\u001b[0m \u001b[38;5;28;01massert\u001b[39;00m x \u001b[38;5;241m==\u001b[39m \u001b[38;5;124m\"\u001b[39m\u001b[38;5;124mHola\u001b[39m\u001b[38;5;124m\"\u001b[39m\n\u001b[0;32m      6\u001b[0m \u001b[38;5;66;03m# Si la condicion es falsa, se genera una excepcion\u001b[39;00m\n\u001b[1;32m----> 7\u001b[0m \u001b[38;5;28;01massert\u001b[39;00m x \u001b[38;5;241m==\u001b[39m \u001b[38;5;124m\"\u001b[39m\u001b[38;5;124mChaos\u001b[39m\u001b[38;5;124m\"\u001b[39m\n",
      "\u001b[1;31mAssertionError\u001b[0m: "
     ]
    }
   ],
   "source": [
    "x = \"Hola\"\n",
    "\n",
    "# No ocurre mada si la condicion se cumple\n",
    "assert x == \"Hola\"\n",
    "\n",
    "# Si la condicion es falsa, se genera una excepcion\n",
    "assert x == \"Chaos\""
   ]
  },
  {
   "cell_type": "code",
   "execution_count": 8,
   "id": "271149bb",
   "metadata": {},
   "outputs": [
    {
     "name": "stdout",
     "output_type": "stream",
     "text": [
      "Plataforma:  win32\n"
     ]
    },
    {
     "ename": "AssertionError",
     "evalue": "Este codigo solo corre en mac",
     "output_type": "error",
     "traceback": [
      "\u001b[1;31m---------------------------------------------------------------------------\u001b[0m",
      "\u001b[1;31mAssertionError\u001b[0m                            Traceback (most recent call last)",
      "Cell \u001b[1;32mIn[8], line 7\u001b[0m\n\u001b[0;32m      5\u001b[0m \u001b[38;5;28;01mimport\u001b[39;00m\u001b[38;5;250m \u001b[39m\u001b[38;5;21;01msys\u001b[39;00m\n\u001b[0;32m      6\u001b[0m \u001b[38;5;28mprint\u001b[39m(\u001b[38;5;124m\"\u001b[39m\u001b[38;5;124mPlataforma: \u001b[39m\u001b[38;5;124m\"\u001b[39m, sys\u001b[38;5;241m.\u001b[39mplatform)\n\u001b[1;32m----> 7\u001b[0m \u001b[38;5;28;01massert\u001b[39;00m(\u001b[38;5;124m\"\u001b[39m\u001b[38;5;124mdarwin\u001b[39m\u001b[38;5;124m\"\u001b[39m \u001b[38;5;129;01min\u001b[39;00m sys\u001b[38;5;241m.\u001b[39mplatform), \u001b[38;5;124m\"\u001b[39m\u001b[38;5;124mEste codigo solo corre en mac\u001b[39m\u001b[38;5;124m\"\u001b[39m\n",
      "\u001b[1;31mAssertionError\u001b[0m: Este codigo solo corre en mac"
     ]
    }
   ],
   "source": [
    "# Tambien se puede evaluar las condiciones (assert) que causan el problema\n",
    "# y luego si es que no se cumplen, entonces se las deja fuera\n",
    "\n",
    "# Importamos la ibreria \"sys\" que validara que tipo de plataforma tenemos\n",
    "import sys\n",
    "print(\"Plataforma: \", sys.platform)\n",
    "assert(\"darwin\" in sys.platform), \"Este codigo solo corre en mac\""
   ]
  },
  {
   "cell_type": "code",
   "execution_count": null,
   "id": "747456a5",
   "metadata": {},
   "outputs": [
    {
     "name": "stdout",
     "output_type": "stream",
     "text": [
      "Plataforma:  win32\n"
     ]
    }
   ],
   "source": [
    "# En este caso mi plataforma es \"win32\" (windows), por lo tanto si lo ejecuto hara un pront simple y termina ahi\n",
    "import sys\n",
    "print(\"Plataforma: \", sys.platform)\n",
    "assert(\"win32\" in sys.platform), \"Este codigo solo corre en windows\""
   ]
  },
  {
   "cell_type": "markdown",
   "id": "6b536615",
   "metadata": {},
   "source": [
    "# Try / Except\n",
    "\n",
    "- Este bloque se usa en Python para capturar excepciones\n",
    "- Python ejecuta todo lo que este en el bloque \"try\" de manera regular\n",
    "- Si es que existe algun error o problema, se ejecuta en cambio el codigo del area \"except\""
   ]
  },
  {
   "cell_type": "code",
   "execution_count": null,
   "id": "b1a74d4d",
   "metadata": {},
   "outputs": [
    {
     "name": "stdout",
     "output_type": "stream",
     "text": [
      "Ambiente de trabajo incorrecto, solo Linux\n"
     ]
    }
   ],
   "source": [
    "# Ej - Ahora se toman acciones en la parte de Except\n",
    "# y si no lo es, simplemente \"pass\" (no hace nada)\n",
    "\n",
    "def linux_interaction():\n",
    "    assert (\"linux\") in sys.platform, \"Solo Linux\"\n",
    "    print(\"Aqui casual\")\n",
    "\n",
    "try:\n",
    "    linux_interaction()\n",
    "except:\n",
    "    print(\"Ambiente de trabajo incorrecto, solo Linux\")"
   ]
  },
  {
   "cell_type": "code",
   "execution_count": 10,
   "id": "c590730b",
   "metadata": {},
   "outputs": [
    {
     "name": "stdout",
     "output_type": "stream",
     "text": [
      "No linux\n"
     ]
    }
   ],
   "source": [
    "def linux_interaction():\n",
    "    assert (\"linux\") in sys.platform, \"Solo Linux\"\n",
    "    print(\"Aqui casual\")\n",
    "\n",
    "try:\n",
    "    linux_interaction()\n",
    "except:\n",
    "    print(\"No linux\")\n",
    "    pass"
   ]
  },
  {
   "cell_type": "code",
   "execution_count": 11,
   "id": "2177f88a",
   "metadata": {},
   "outputs": [
    {
     "name": "stdout",
     "output_type": "stream",
     "text": [
      "Solo Linux\n",
      "La funcion no se pudo ejecutar\n"
     ]
    }
   ],
   "source": [
    "# Se modifica ahora el codigo del except con un assert\n",
    "try:\n",
    "    linux_interaction()\n",
    "except AssertionError as error:\n",
    "    print(error)\n",
    "    print(\"La funcion no se pudo ejecutar\")"
   ]
  },
  {
   "cell_type": "code",
   "execution_count": 12,
   "id": "59225d52",
   "metadata": {},
   "outputs": [
    {
     "name": "stdout",
     "output_type": "stream",
     "text": [
      "El archivo no existe\n"
     ]
    }
   ],
   "source": [
    "# Otro ejemplo muy comun es en la apertura de archivos\n",
    "# Se trata de abrir un archivo que no existe\n",
    "try:\n",
    "    with open(\"index.txt\") as file:\n",
    "        read_data = file.read()\n",
    "except:\n",
    "    print(\"El archivo no existe\")"
   ]
  },
  {
   "cell_type": "code",
   "execution_count": 15,
   "id": "05879b0d",
   "metadata": {},
   "outputs": [
    {
     "name": "stdout",
     "output_type": "stream",
     "text": [
      "0.1\n"
     ]
    }
   ],
   "source": [
    "# Ej con else\n",
    "# Se imprime el reciproco de un numero\n",
    "# Ademas de utilizar la funcion \"input\" para utilizar la barra de comandos para ingresar el numero\n",
    "# Si es par, genera el reciproco, si es impar, genera un mensaje\n",
    "try:\n",
    "    num = int(input(\"Ingrese un numero: \"))\n",
    "    assert num % 2 == 0\n",
    "except:\n",
    "    print(\"El numero ingresado no es par\")\n",
    "else:\n",
    "    reciprocal = 1/num\n",
    "    print(reciprocal)"
   ]
  },
  {
   "cell_type": "code",
   "execution_count": 17,
   "id": "77f1d46f",
   "metadata": {},
   "outputs": [
    {
     "name": "stdout",
     "output_type": "stream",
     "text": [
      "Respuesta:  5\n",
      "No se puede dividir entre cero\n"
     ]
    }
   ],
   "source": [
    "# Ej- Division para cero\n",
    "def division(x, y):\n",
    "    try:\n",
    "        # Seusa la division Floor, solamente Faccional\n",
    "        result = x//y\n",
    "        print(\"Respuesta: \", result)\n",
    "    except ZeroDivisionError:\n",
    "        print(\"No se puede dividir entre cero\")\n",
    "\n",
    "division(10, 2)\n",
    "division(10, 0)"
   ]
  },
  {
   "cell_type": "code",
   "execution_count": 18,
   "id": "8df47066",
   "metadata": {},
   "outputs": [
    {
     "name": "stdout",
     "output_type": "stream",
     "text": [
      "El resultado es:  5\n",
      "No se puede dividir entre cero\n"
     ]
    }
   ],
   "source": [
    "# Modificacion menor del ejemplo anterior\n",
    "def division(x,y):\n",
    "    try:\n",
    "        result = x//y\n",
    "    except ZeroDivisionError:\n",
    "        print(\"No se puede dividir entre cero\")\n",
    "    else:\n",
    "        print(\"El resultado es: \", result)\n",
    "\n",
    "division(10, 2)\n",
    "division(10, 0)"
   ]
  },
  {
   "cell_type": "code",
   "execution_count": 21,
   "id": "ab92fd53",
   "metadata": {},
   "outputs": [
    {
     "name": "stdout",
     "output_type": "stream",
     "text": [
      "No se puede dividir entre cero\n",
      "Hola, Siempre me ejecuto\n"
     ]
    }
   ],
   "source": [
    "# Ej con Finally\n",
    "def division(x,y):\n",
    "    try:\n",
    "        result = x//y\n",
    "    except ZeroDivisionError:\n",
    "        print(\"No se puede dividir entre cero\")\n",
    "    else:\n",
    "        print(\"El resultado es: \", result)\n",
    "    finally:\n",
    "        # Este bloque se ejecuta SIEMPRE, sin importat el estado de la excepciones\n",
    "        print(\"Hola, Siempre me ejecuto\")\n",
    "\n",
    "#division(3, 2)\n",
    "division(3, 0)"
   ]
  },
  {
   "cell_type": "markdown",
   "id": "afa50e10",
   "metadata": {},
   "source": [
    "# Debugging en Python\n",
    "\n",
    "- Se puede hacer debugging de una celda directamente en VSCode, en vez de hacer play (CTRL + ENTER), se hace click en dropdown y se excoge Debug cell\n",
    "- Para entrar a ese modo, se recomienda tener un \"breakpoint\" configurado con anterioridad, para poder revisar el codigo linea por linea\n",
    "- Esto inmediatamente activa el modo de Debug y permite generar operaciones como:\n",
    "\n",
    "1. Watch. Que permite validar el valor de cada variable mientras el codigo se ejecuta. Tambien se puede ver el valor de la variable hacer haver ocer cada una de ellas con el mouse\n",
    "2. Step Over(F10). Navega linea por linea. Si la linea llama a una funcion, la ejecuta tambiuen, linea por linea.\n",
    "3. Step Out(Shift + F11). Navega el codigo, linea por linea. Si se llama a una funcion, omite seguirla\n",
    "4. Restart (Shift + CTR + F5). Reinicia el debug de la celda."
   ]
  },
  {
   "cell_type": "code",
   "execution_count": 22,
   "id": "c5cbcb15",
   "metadata": {},
   "outputs": [
    {
     "name": "stdout",
     "output_type": "stream",
     "text": [
      "Resultado =  20.0\n"
     ]
    }
   ],
   "source": [
    "a=10\n",
    "b=15\n",
    "c=40\n",
    "d = 10 * 20 / 10\n",
    "print(\"Resultado = \", d)"
   ]
  },
  {
   "cell_type": "code",
   "execution_count": 24,
   "id": "7fc00848",
   "metadata": {},
   "outputs": [
    {
     "data": {
      "text/plain": [
       "Text(0, 0.5, 'Seno')"
      ]
     },
     "execution_count": 24,
     "metadata": {},
     "output_type": "execute_result"
    },
    {
     "data": {
      "image/png": "[encoded data removed]",
      "text/plain": [
       "<Figure size 640x480 with 1 Axes>"
      ]
     },
     "metadata": {},
     "output_type": "display_data"
    }
   ],
   "source": [
    "from matplotlib import pyplot as plt\n",
    "import numpy as np\n",
    "import math\n",
    "\n",
    "x = np.arange(0, math.pi * 8, 0.01)\n",
    "y = np.sin(x)\n",
    "\n",
    "fig = plt.figure()\n",
    "ax = fig.add_axes([0,0,1,1])\n",
    "ax.plot(x,y)\n",
    "ax.set_title(\"Grafico Senoidal\")\n",
    "ax.set_xlabel(\"Angulo\")\n",
    "ax.set_ylabel(\"Seno\")"
   ]
  }
 ],
 "metadata": {
  "kernelspec": {
   "display_name": "base",
   "language": "python",
   "name": "python3"
  },
  "language_info": {
   "codemirror_mode": {
    "name": "ipython",
    "version": 3
   },
   "file_extension": ".py",
   "mimetype": "text/x-python",
   "name": "python",
   "nbconvert_exporter": "python",
   "pygments_lexer": "ipython3",
   "version": "3.13.5"
  }
 },
 "nbformat": 4,
 "nbformat_minor": 5
}
