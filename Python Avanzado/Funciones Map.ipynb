{
 "cells": [
  {
   "cell_type": "markdown",
   "id": "e7edc9dc-1eca-4a05-9a3b-3db143cad4be",
   "metadata": {},
   "source": [
    "# Map\n",
    "- La funcion map() retorna un objeto map (un interador) de los resultados aplicados a cada uno de los \n",
    "items de un iterable, enviando como parametro\n",
    "- Retorna una lista de los resultados, luego de aplciar la misma funcion a todos los items de un mismo iterable (list, tuple, etc)\n",
    "- Uso: map(function, iterable, [iterable1, iterable2, ....])"
   ]
  },
  {
   "cell_type": "markdown",
   "id": "a2ce6f2b",
   "metadata": {},
   "source": [
    "Aplicación de Map para transformar datos\n",
    "\n",
    "La función map() es útil para aplicar una función a todos los elementos de un iterable, como listas o tuplas. Esto permite transformar datos de manera eficiente, por ejemplo, convirtiendo una lista de temperaturas en Celsius a Fahrenheit con una sola línea de código."
   ]
  },
  {
   "cell_type": "code",
   "execution_count": 1,
   "id": "db6fdfff-e9c5-45ca-a14c-a37698c5437a",
   "metadata": {},
   "outputs": [
    {
     "name": "stdout",
     "output_type": "stream",
     "text": [
      "[1, 8, 27, 64, 125]\n"
     ]
    }
   ],
   "source": [
    "# Ejemplo - Generando una operacionm a ser aplicada a un listado de numeros\n",
    "# Este es un ejemplo SIN map()\n",
    "# Generando un listado de numeros con exponencial\n",
    "\n",
    "# Declarar las listas a ser usadas\n",
    "org_list = [1,2,3,4,5]\n",
    "fin_list = []\n",
    "\n",
    "# Aplica la operacion a cada uno de los numeros en la lista\n",
    "for num in org_list:\n",
    "    fin_list.append(num**3)\n",
    "\n",
    "# Imprime\n",
    "print(fin_list)"
   ]
  },
  {
   "cell_type": "code",
   "execution_count": 2,
   "id": "79e819c2-6153-4b20-a0d5-e4e206bcf686",
   "metadata": {},
   "outputs": [
    {
     "name": "stdout",
     "output_type": "stream",
     "text": [
      "[1, 8, 27, 64, 125]\n"
     ]
    }
   ],
   "source": [
    "# Usando map()\n",
    "org_list = [1,2,3,4,5]\n",
    "\n",
    "# Define la funcion a ser aplicada a cada numero\n",
    "def cube(num):\n",
    "    return num**3\n",
    "\n",
    "# Aplica funcion map\n",
    "fin_list = list(map(cube, org_list))\n",
    "print(fin_list)"
   ]
  },
  {
   "cell_type": "code",
   "execution_count": 6,
   "id": "d7ca2446-b420-49ec-ae4a-41a369e01051",
   "metadata": {},
   "outputs": [
    {
     "name": "stdout",
     "output_type": "stream",
     "text": [
      "[3, 5, 4]\n"
     ]
    }
   ],
   "source": [
    "# Otro ejemplo\n",
    "# Largo de cada elemento en una vista\n",
    "# Utiliza la funcion \"len\" de Python\n",
    "org_list = [\"Hey\", \"mundo\", \"EBAC\"]\n",
    "fin_list = list(map(len, org_list))\n",
    "print(fin_list)"
   ]
  },
  {
   "cell_type": "code",
   "execution_count": 7,
   "id": "21f2e4cc-8f1e-412f-8b63-be676a5d9af4",
   "metadata": {},
   "outputs": [
    {
     "name": "stdout",
     "output_type": "stream",
     "text": [
      "[1, 4, 27, 256]\n"
     ]
    }
   ],
   "source": [
    "# Usando mas de un iterable (base, power)\n",
    "# Aprovecha la funcion \"pow\" de Python\n",
    "base = [1,2,3,4]\n",
    "power = [1,2,3,4]\n",
    "\n",
    "result = list(map(pow, base, power))\n",
    "print(result)"
   ]
  },
  {
   "cell_type": "code",
   "execution_count": 8,
   "id": "e1a76d5e-a81d-45f2-9432-e9c2c4a4c559",
   "metadata": {},
   "outputs": [
    {
     "name": "stdout",
     "output_type": "stream",
     "text": [
      "[1, 8, 27, 64, 125]\n"
     ]
    }
   ],
   "source": [
    "# map usando lambdas\n",
    "org_list = [1,2,3,4,5]\n",
    "\n",
    "fin_list = list(map(lambda x: x**3, org_list))\n",
    "print(fin_list)"
   ]
  },
  {
   "cell_type": "code",
   "execution_count": 9,
   "id": "6ccee39e-b4a6-4f1c-8bc2-c373b175312e",
   "metadata": {},
   "outputs": [
    {
     "name": "stdout",
     "output_type": "stream",
     "text": [
      "[2, 4, 6, 8]\n"
     ]
    }
   ],
   "source": [
    "# doble de un numero\n",
    "def addition(n):\n",
    "    return n + n\n",
    "\n",
    "# Doplicamos usando map\n",
    "numbers = (1,2,3,4)\n",
    "result = map(addition, numbers)\n",
    "print(list(result))"
   ]
  },
  {
   "cell_type": "code",
   "execution_count": 10,
   "id": "278c9a87-a2a2-4317-b3b3-b852f9dd5391",
   "metadata": {},
   "outputs": [
    {
     "name": "stdout",
     "output_type": "stream",
     "text": [
      "[2, 4, 6, 8]\n"
     ]
    }
   ],
   "source": [
    "numbers = (1,2,3,4)\n",
    "result = map(lambda x: x + x, numbers)\n",
    "print(list(result))"
   ]
  },
  {
   "cell_type": "code",
   "execution_count": 11,
   "id": "3b91d516-8d4c-44b1-912b-91904e68a0a3",
   "metadata": {},
   "outputs": [
    {
     "name": "stdout",
     "output_type": "stream",
     "text": [
      "[6, 9, 9]\n"
     ]
    }
   ],
   "source": [
    "number1 = [1,2,3]\n",
    "number2 = [5,7,6]\n",
    "\n",
    "result = map(lambda x, y: x + y, number1, number2)\n",
    "print(list(result))"
   ]
  },
  {
   "cell_type": "code",
   "execution_count": 12,
   "id": "6822d2e9-91d0-4239-8ecd-0318a86e3185",
   "metadata": {},
   "outputs": [
    {
     "name": "stdout",
     "output_type": "stream",
     "text": [
      "[['s', 'a', 't'], ['b', 'a', 't'], ['c', 'a', 't'], ['m', 'a', 't']]\n"
     ]
    }
   ],
   "source": [
    "# Ejemplo con cadena de caracteres\n",
    "l = [\"sat\", \"bat\", \"cat\", \"mat\"]\n",
    "\n",
    "# Map puede usarse para dividri en caracteres a las palabras enviadas\n",
    "# Obteniendo una lista de listas\n",
    "test = list(map(list, l))\n",
    "print(test)"
   ]
  },
  {
   "cell_type": "code",
   "execution_count": null,
   "id": "fef8efb8-9ba4-4987-93ea-804f330e0fc4",
   "metadata": {},
   "outputs": [],
   "source": []
  }
 ],
 "metadata": {
  "kernelspec": {
   "display_name": "Python 3 (ipykernel)",
   "language": "python",
   "name": "python3"
  },
  "language_info": {
   "codemirror_mode": {
    "name": "ipython",
    "version": 3
   },
   "file_extension": ".py",
   "mimetype": "text/x-python",
   "name": "python",
   "nbconvert_exporter": "python",
   "pygments_lexer": "ipython3",
   "version": "3.13.5"
  }
 },
 "nbformat": 4,
 "nbformat_minor": 5
}
