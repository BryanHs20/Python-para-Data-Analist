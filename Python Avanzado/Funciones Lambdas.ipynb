{
 "cells": [
  {
   "cell_type": "markdown",
   "id": "3e92a457-901a-4995-9f1d-48b75699fc5d",
   "metadata": {},
   "source": [
    "# Lambdas\n",
    "- Son fuinciones avanzadas\n",
    "- Las funciones Lamnbdas din funciones anonimoas(no tienen declaraciom formal)\n",
    "- Pueden tener cualquier numero de argumentos, pero solamente tener una expresion\n",
    "- Son anonimas, no necesitan declracion o statements internos como \"return\", \"pass\", etc\n",
    "- Muy productivas y eficientes\n",
    "- Se pueden invocar inmediatamente\n",
    "- Pueden anidarse"
   ]
  },
  {
   "cell_type": "code",
   "execution_count": 3,
   "id": "442cf644-685d-47ab-a66b-c2dbb57d504b",
   "metadata": {},
   "outputs": [
    {
     "data": {
      "text/plain": [
       "10002"
      ]
     },
     "execution_count": 3,
     "metadata": {},
     "output_type": "execute_result"
    }
   ],
   "source": [
    "# Sin lambda\n",
    "def add_one(x):\n",
    "    return x + 1\n",
    "\n",
    "add_one(10001)"
   ]
  },
  {
   "cell_type": "code",
   "execution_count": 4,
   "id": "1ed54e30-133f-442d-bf29-a0a84d64fa71",
   "metadata": {},
   "outputs": [
    {
     "data": {
      "text/plain": [
       "102"
      ]
     },
     "execution_count": 4,
     "metadata": {},
     "output_type": "execute_result"
    }
   ],
   "source": [
    "# Con lambda\n",
    "add_one = lambda x: x + 1\n",
    "add_one(101)"
   ]
  },
  {
   "cell_type": "code",
   "execution_count": 10,
   "id": "480a8248-6016-4ef6-bd96-0df946556277",
   "metadata": {},
   "outputs": [
    {
     "name": "stdout",
     "output_type": "stream",
     "text": [
      "130\n"
     ]
    }
   ],
   "source": [
    "# Ejemplo 1 - \n",
    "x = lambda a: a + 10\n",
    "print(x(120))"
   ]
  },
  {
   "cell_type": "code",
   "execution_count": 11,
   "id": "0f4489c6-0209-48cd-9fef-1dbe21c77abe",
   "metadata": {},
   "outputs": [
    {
     "name": "stdout",
     "output_type": "stream",
     "text": [
      "600\n"
     ]
    }
   ],
   "source": [
    "# Ejemplo 2 -\n",
    "x = lambda a, b: a * b\n",
    "print(x(10,60))"
   ]
  },
  {
   "cell_type": "code",
   "execution_count": 12,
   "id": "59da16bd-c7e3-481e-98eb-aad859a39b63",
   "metadata": {},
   "outputs": [
    {
     "name": "stdout",
     "output_type": "stream",
     "text": [
      "28\n"
     ]
    }
   ],
   "source": [
    "# Ejemplo 3 - se puede tener cualquier numero de argumentos\n",
    "x = lambda a, b, c : a + b + c\n",
    "print(x(10,15,3))"
   ]
  },
  {
   "cell_type": "code",
   "execution_count": 13,
   "id": "df973ec2-94a6-47c8-b699-bfd34ad2f35a",
   "metadata": {},
   "outputs": [
    {
     "name": "stdout",
     "output_type": "stream",
     "text": [
      "22\n"
     ]
    }
   ],
   "source": [
    "# Sepuede incluir funciones lambda dentro de otras funciones\n",
    "def myfunction(n):\n",
    "    return lambda a: a * n\n",
    "\n",
    "#Genera la funcion para multiplicar por 2 el numero\n",
    "mydoble = myfunction(2)\n",
    "\n",
    "print(mydoble(11))"
   ]
  },
  {
   "cell_type": "code",
   "execution_count": 14,
   "id": "c5fc7af3-78d7-4a95-9692-2da3807ab95c",
   "metadata": {},
   "outputs": [
    {
     "name": "stdout",
     "output_type": "stream",
     "text": [
      "20\n",
      "30\n"
     ]
    }
   ],
   "source": [
    "def myfunction(n):\n",
    "    return lambda a: a * n\n",
    "\n",
    "mydoble = myfunction(2)\n",
    "mytriple = myfunction(3)\n",
    "\n",
    "print(mydoble(10))\n",
    "print(mytriple(10))"
   ]
  },
  {
   "cell_type": "code",
   "execution_count": 17,
   "id": "ccae3e2f-e977-437b-8afb-ea926d214969",
   "metadata": {},
   "outputs": [
    {
     "data": {
      "text/plain": [
       "'Full name: Ebac Curso De Data Analist'"
      ]
     },
     "execution_count": 17,
     "metadata": {},
     "output_type": "execute_result"
    }
   ],
   "source": [
    "# Ejemplo de string\n",
    "full_name = lambda first, last: f\"Full name: {first.title()} {last.title()}\"\n",
    "full_name('EBAC', 'Curso de Data Analist')"
   ]
  },
  {
   "cell_type": "code",
   "execution_count": 18,
   "id": "90abbeee-e596-42f0-bc12-c059a94d1b14",
   "metadata": {},
   "outputs": [
    {
     "data": {
      "text/plain": [
       "50"
      ]
     },
     "execution_count": 18,
     "metadata": {},
     "output_type": "execute_result"
    }
   ],
   "source": [
    "# Ejemplo de una lambda invacada inmeduatamente (IIFE = immediately invoked function execution)\n",
    "(lambda x, y: x * y)(5, 10)"
   ]
  },
  {
   "cell_type": "markdown",
   "id": "a0685871-e7aa-4ae4-8210-cf1aeb050113",
   "metadata": {},
   "source": []
  }
 ],
 "metadata": {
  "kernelspec": {
   "display_name": "Python 3 (ipykernel)",
   "language": "python",
   "name": "python3"
  },
  "language_info": {
   "codemirror_mode": {
    "name": "ipython",
    "version": 3
   },
   "file_extension": ".py",
   "mimetype": "text/x-python",
   "name": "python",
   "nbconvert_exporter": "python",
   "pygments_lexer": "ipython3",
   "version": "3.13.5"
  }
 },
 "nbformat": 4,
 "nbformat_minor": 5
}
