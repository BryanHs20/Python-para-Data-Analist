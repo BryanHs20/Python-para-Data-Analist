{
 "cells": [
  {
   "cell_type": "markdown",
   "id": "0666f573",
   "metadata": {},
   "source": [
    "# Uso de funciones estadisticas\n",
    "- Importacion de funciones seleccionadas desde el modulo \"statistics\"\n",
    "- Uso del comando \"from\""
   ]
  },
  {
   "cell_type": "code",
   "execution_count": 1,
   "id": "95802c15",
   "metadata": {},
   "outputs": [],
   "source": [
    "# Uso de funciones\n",
    "# Partes de Modulos completas\n",
    "# Importa algunos calculos estadisticos basicos desde lña libreria \"statistics\"\n",
    "from statistics import mean, median, mode, stdev"
   ]
  },
  {
   "cell_type": "code",
   "execution_count": 2,
   "id": "17ae8b9e",
   "metadata": {},
   "outputs": [
    {
     "data": {
      "text/plain": [
       "75.4"
      ]
     },
     "execution_count": 2,
     "metadata": {},
     "output_type": "execute_result"
    }
   ],
   "source": [
    "# Ejemplo simple para calcular la media\n",
    "test_score = [40,15,85,92,76,94,99,78,84,91]\n",
    "mean (test_score)"
   ]
  },
  {
   "cell_type": "code",
   "execution_count": 3,
   "id": "74ee214f",
   "metadata": {},
   "outputs": [
    {
     "name": "stdout",
     "output_type": "stream",
     "text": [
      "Media = 75.4\n"
     ]
    }
   ],
   "source": [
    "print(\"Media = {:.3}\".format(mean(test_score)))"
   ]
  },
  {
   "cell_type": "code",
   "execution_count": 14,
   "id": "d8add40f",
   "metadata": {},
   "outputs": [],
   "source": [
    "# Que tal si ahora utilizamos nuestra base de datos y calculanmos, sobre el campo año\n",
    "# la misma media\n",
    "# Importamos el modulo numpy\n",
    "import numpy as np"
   ]
  },
  {
   "cell_type": "code",
   "execution_count": null,
   "id": "631f0959",
   "metadata": {},
   "outputs": [
    {
     "name": "stdout",
     "output_type": "stream",
     "text": [
      "['s8807', 'Movie']\n"
     ]
    }
   ],
   "source": [
    "# Ignore Recapitulacion\n",
    "\n",
    "import csv\n",
    "\n",
    "# Abre el archivo de lectura\n",
    "file = open(\"../../Archivos-Analisis/netflix_titles.csv\",encoding='utf-8')\n",
    "\n",
    "csvreader = csv.reader(file)\n",
    "\n",
    "# Obtiene los encabezados del archivo (header)\n",
    "header = []\n",
    "header = next(csvreader)\n",
    "header\n",
    "\n",
    "# Extrae los datos a una lista\n",
    "rows = []\n",
    "\n",
    "for row in csvreader:\n",
    "    rows.append(row)\n",
    "\n",
    "print(row[:2])"
   ]
  },
  {
   "cell_type": "code",
   "execution_count": 19,
   "id": "07d0a9da",
   "metadata": {},
   "outputs": [],
   "source": [
    "# Generamos el objeto movies con todas las filas de la lista\n",
    "movies = np.array(rows)"
   ]
  },
  {
   "cell_type": "code",
   "execution_count": null,
   "id": "778ae572",
   "metadata": {},
   "outputs": [
    {
     "data": {
      "text/plain": [
       "array(['s1', 'Movie', 'Dick Johnson Is Dead', 'Kirsten Johnson', '',\n",
       "       'United States', 'September 25, 2021', '2020', 'PG-13', '90 min',\n",
       "       'Documentaries',\n",
       "       'As her father nears the end of his life, filmmaker Kirsten Johnson stages his death in inventive and comical ways to help them both face the inevitable.'],\n",
       "      dtype='<U771')"
      ]
     },
     "execution_count": 20,
     "metadata": {},
     "output_type": "execute_result"
    }
   ],
   "source": [
    "# Muestra la primera linea del archivo\n",
    "movies [0]"
   ]
  },
  {
   "cell_type": "code",
   "execution_count": 21,
   "id": "92a138ff",
   "metadata": {},
   "outputs": [
    {
     "data": {
      "text/plain": [
       "array(['2020', '2021', '2021', '2021', '2021', '2021', '2021', '1993',\n",
       "       '2021', '2021', '2021', '2021', '2021', '2021', '2021', '2021',\n",
       "       '2020', '2020', '2021', '2021', '2021', '2018', '1996', '2021',\n",
       "       '1998', '2021', '1997', '2010', '2013', '2013', '2021', '2021',\n",
       "       '2020', '2021', '2020', '2021', '2021', '2018', '2017', '2021',\n",
       "       '2021', '1975', '1978', '1983', '1987', '2021', '2012', '2020',\n",
       "       '2001'], dtype='<U771')"
      ]
     },
     "execution_count": 21,
     "metadata": {},
     "output_type": "execute_result"
    }
   ],
   "source": [
    "# Muestra la columna de año, para las primeras 50 peliculas\n",
    "# Recordar que cuando se utiliza arrays (numoy) los indices empiezan en 0\n",
    "\n",
    "# Se obtiene el campo 8 (año), de las primeras 50 peliculas\n",
    "movies [0:49, 7]"
   ]
  },
  {
   "cell_type": "code",
   "execution_count": 22,
   "id": "53d2fd6d",
   "metadata": {},
   "outputs": [
    {
     "data": {
      "text/plain": [
       "numpy.str_"
      ]
     },
     "execution_count": 22,
     "metadata": {},
     "output_type": "execute_result"
    }
   ],
   "source": [
    "# Convertir la columna de alo en valores ya que es del tipo string\n",
    "type(movies[0,7])"
   ]
  },
  {
   "cell_type": "code",
   "execution_count": 23,
   "id": "8985dffa",
   "metadata": {},
   "outputs": [
    {
     "data": {
      "text/plain": [
       "array(['2020', '2021', '2021', ..., '2009', '2006', '2015'], dtype='<U771')"
      ]
     },
     "execution_count": 23,
     "metadata": {},
     "output_type": "execute_result"
    }
   ],
   "source": [
    "# Vamos a generar un arrayu solamente de los años, para trabajar sobre el\n",
    "release_year = movies[:,7]\n",
    "release_year"
   ]
  },
  {
   "cell_type": "code",
   "execution_count": 24,
   "id": "1ba44c34",
   "metadata": {},
   "outputs": [
    {
     "data": {
      "text/plain": [
       "[2020, 2021, 2021, 2021, 2021, 2021, 2021, 1993, 2021, 2021]"
      ]
     },
     "execution_count": 24,
     "metadata": {},
     "output_type": "execute_result"
    }
   ],
   "source": [
    "# Transformacion del array en numeros\n",
    "release_year_int = [int(numeric_string) for numeric_string in release_year]\n",
    "release_year_int [0:10]"
   ]
  },
  {
   "cell_type": "code",
   "execution_count": 25,
   "id": "fb76f0e8",
   "metadata": {},
   "outputs": [
    {
     "data": {
      "image/png": "[encoded data removed]",
      "text/plain": [
       "<Figure size 640x480 with 1 Axes>"
      ]
     },
     "metadata": {},
     "output_type": "display_data"
    }
   ],
   "source": [
    "# Primer grafico, una distribucion de los años\n",
    "import matplotlib.pyplot as plt\n",
    "plt.hist(release_year_int)\n",
    "plt.show()"
   ]
  },
  {
   "cell_type": "code",
   "execution_count": 26,
   "id": "ac612442",
   "metadata": {},
   "outputs": [
    {
     "data": {
      "image/png": "[encoded data removed]",
      "text/plain": [
       "<Figure size 640x480 with 1 Axes>"
      ]
     },
     "metadata": {},
     "output_type": "display_data"
    }
   ],
   "source": [
    "# Subimos el numero de bins\n",
    "plt.hist(release_year_int, bins=70)\n",
    "plt.show()"
   ]
  },
  {
   "cell_type": "code",
   "execution_count": 28,
   "id": "9904c861",
   "metadata": {},
   "outputs": [
    {
     "data": {
      "image/png": "[encoded data removed]",
      "text/plain": [
       "<Figure size 640x480 with 1 Axes>"
      ]
     },
     "metadata": {},
     "output_type": "display_data"
    }
   ],
   "source": [
    "# Genera un titulo\n",
    "plt.hist(release_year_int, bins=70)\n",
    "plt.title(\"Histograma de numero de Peliculas por Año\")\n",
    "plt.show()"
   ]
  },
  {
   "cell_type": "code",
   "execution_count": null,
   "id": "18811131",
   "metadata": {},
   "outputs": [],
   "source": []
  }
 ],
 "metadata": {
  "kernelspec": {
   "display_name": "base",
   "language": "python",
   "name": "python3"
  },
  "language_info": {
   "codemirror_mode": {
    "name": "ipython",
    "version": 3
   },
   "file_extension": ".py",
   "mimetype": "text/x-python",
   "name": "python",
   "nbconvert_exporter": "python",
   "pygments_lexer": "ipython3",
   "version": "3.13.5"
  }
 },
 "nbformat": 4,
 "nbformat_minor": 5
}
