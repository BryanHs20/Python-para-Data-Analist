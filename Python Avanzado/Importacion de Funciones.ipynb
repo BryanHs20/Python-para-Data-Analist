{
 "cells": [
  {
   "cell_type": "markdown",
   "id": "b9af775b",
   "metadata": {},
   "source": [
    "# Modulos y Paquetes\n",
    "- Instalacion de Modulos y Paquetes\n",
    "- Uso de librerias estadisticas basicas\n",
    "- Primeras graficas: Histograma"
   ]
  },
  {
   "cell_type": "markdown",
   "id": "88726945",
   "metadata": {},
   "source": [
    "# Introduccion\n",
    "- Cualquier archivo Python es un modulo. Contiene muchas funciones Python dentro de su codigo.\n",
    "- Cuando se importa un modulo o un paquete, el objeto que se genera en Python es siempre del tipo modulo\n",
    "- Un paquete es un conjunto de modulos de Python, en forma de una coleccion que sirve para inicializar el codigo.\n",
    "- El paquete es un directorio que tiene colecciones de modulos. El directorio contiene modulos Python (archivos .py) asi como archivos init.py.\n",
    "- Los paquetes pueden tener cualquier numero de niveles.\n",
    "- Esto quiere decir que la diferencia entre modulos y paquetes es nada mas a nivel de sistema operatico\n",
    "- La diferencia principal: los paquetes trabajan en cada libreria, definiendo los codigos como una sola unidad, de cualquier funcion.\n",
    "- Mientras que los modulos son librerias separadas, cada uno, con funciones incluidas. La reusabilidad de los paquetes los hace preferidos versus los modulos"
   ]
  },
  {
   "cell_type": "code",
   "execution_count": 2,
   "id": "6d361ce4",
   "metadata": {},
   "outputs": [
    {
     "data": {
      "text/plain": [
       "256.0"
      ]
     },
     "execution_count": 2,
     "metadata": {},
     "output_type": "execute_result"
    }
   ],
   "source": [
    "# Ejemplo de un modulo\n",
    "import math # Esto es el paquete\n",
    "from math import pow # Esto importa el modulo pow\n",
    "pow(2,8)"
   ]
  },
  {
   "cell_type": "code",
   "execution_count": 3,
   "id": "bb1071d9",
   "metadata": {},
   "outputs": [],
   "source": [
    "# Ejemplo de un paquete\n",
    "import math"
   ]
  },
  {
   "cell_type": "code",
   "execution_count": 4,
   "id": "cb09e9d2",
   "metadata": {},
   "outputs": [
    {
     "data": {
      "text/plain": [
       "datetime.date(2025, 9, 24)"
      ]
     },
     "execution_count": 4,
     "metadata": {},
     "output_type": "execute_result"
    }
   ],
   "source": [
    "# Un ejemplo simple de como NO usar un paquete\n",
    "\n",
    "# Forma incorrecta\n",
    "# import datetime\n",
    "# date.today()\n",
    "\n",
    "# Forma correcta\n",
    "from datetime import date\n",
    "date.today()"
   ]
  },
  {
   "cell_type": "code",
   "execution_count": 5,
   "id": "a0555133",
   "metadata": {},
   "outputs": [
    {
     "name": "stdout",
     "output_type": "stream",
     "text": [
      "Current working directory: c:\\Users\\RyanHz\\Documents\\EBAC\\VS\\Python-para-Data-Analist\\Python Avanzado\n"
     ]
    }
   ],
   "source": [
    "# Importar la funcion clompleta \"csv\" para tratamiento de archivos\n",
    "import csv\n",
    "#Importar la funcion \"os\" para leer el directorio actual\n",
    "import os\n",
    "\n",
    "# Get the current working directory\n",
    "cwd = os.getcwd()\n",
    "\n",
    "print(\"Current working directory: {0}\".format(cwd))"
   ]
  },
  {
   "cell_type": "code",
   "execution_count": 6,
   "id": "3ea7e55d",
   "metadata": {},
   "outputs": [],
   "source": [
    "# Cambiar el dirrectorio\n",
    "os.chdir('C:/Users/RyanHz/Documents/EBAC/VS/Python-para-Data-Analist/Python Avanzado')"
   ]
  },
  {
   "cell_type": "code",
   "execution_count": null,
   "id": "bc45f032",
   "metadata": {},
   "outputs": [],
   "source": [
    "# Abre el archivo de lectura\n",
    "file = open(\"../../Archivos-Analisis/netflix_titles.csv\",encoding='utf-8')\n",
    "\n",
    "csvreader = csv.reader(file)"
   ]
  },
  {
   "cell_type": "code",
   "execution_count": 8,
   "id": "a4a867ba",
   "metadata": {},
   "outputs": [
    {
     "data": {
      "text/plain": [
       "_csv.reader"
      ]
     },
     "execution_count": 8,
     "metadata": {},
     "output_type": "execute_result"
    }
   ],
   "source": [
    "type(csvreader)"
   ]
  },
  {
   "cell_type": "code",
   "execution_count": 9,
   "id": "f28a364e",
   "metadata": {},
   "outputs": [
    {
     "data": {
      "text/plain": [
       "['show_id',\n",
       " 'type',\n",
       " 'title',\n",
       " 'director',\n",
       " 'cast',\n",
       " 'country',\n",
       " 'date_added',\n",
       " 'release_year',\n",
       " 'rating',\n",
       " 'duration',\n",
       " 'listed_in',\n",
       " 'description']"
      ]
     },
     "execution_count": 9,
     "metadata": {},
     "output_type": "execute_result"
    }
   ],
   "source": [
    "# Obtiene los encabezados del archivo (header)\n",
    "header = []\n",
    "header = next(csvreader)\n",
    "header"
   ]
  },
  {
   "cell_type": "code",
   "execution_count": 10,
   "id": "479cc579",
   "metadata": {},
   "outputs": [
    {
     "name": "stdout",
     "output_type": "stream",
     "text": [
      "['s8807', 'Movie']\n"
     ]
    }
   ],
   "source": [
    "# Extrae los datos a una lista\n",
    "rows = []\n",
    "\n",
    "for row in csvreader:\n",
    "    rows.append(row)\n",
    "\n",
    "print(row[:2])"
   ]
  },
  {
   "cell_type": "code",
   "execution_count": 11,
   "id": "e0adb3df",
   "metadata": {},
   "outputs": [
    {
     "data": {
      "text/plain": [
       "[['s1',\n",
       "  'Movie',\n",
       "  'Dick Johnson Is Dead',\n",
       "  'Kirsten Johnson',\n",
       "  '',\n",
       "  'United States',\n",
       "  'September 25, 2021',\n",
       "  '2020',\n",
       "  'PG-13',\n",
       "  '90 min',\n",
       "  'Documentaries',\n",
       "  'As her father nears the end of his life, filmmaker Kirsten Johnson stages his death in inventive and comical ways to help them both face the inevitable.'],\n",
       " ['s2',\n",
       "  'TV Show',\n",
       "  'Blood & Water',\n",
       "  '',\n",
       "  'Ama Qamata, Khosi Ngema, Gail Mabalane, Thabang Molaba, Dillon Windvogel, Natasha Thahane, Arno Greeff, Xolile Tshabalala, Getmore Sithole, Cindy Mahlangu, Ryle De Morny, Greteli Fincham, Sello Maake Ka-Ncube, Odwa Gwanya, Mekaila Mathys, Sandi Schultz, Duane Williams, Shamilla Miller, Patrick Mofokeng',\n",
       "  'South Africa',\n",
       "  'September 24, 2021',\n",
       "  '2021',\n",
       "  'TV-MA',\n",
       "  '2 Seasons',\n",
       "  'International TV Shows, TV Dramas, TV Mysteries',\n",
       "  'After crossing paths at a party, a Cape Town teen sets out to prove whether a private-school swimming star is her sister who was abducted at birth.']]"
      ]
     },
     "execution_count": 11,
     "metadata": {},
     "output_type": "execute_result"
    }
   ],
   "source": [
    "rows[0:2]"
   ]
  },
  {
   "cell_type": "code",
   "execution_count": null,
   "id": "85e6c339",
   "metadata": {},
   "outputs": [],
   "source": []
  }
 ],
 "metadata": {
  "kernelspec": {
   "display_name": "base",
   "language": "python",
   "name": "python3"
  },
  "language_info": {
   "codemirror_mode": {
    "name": "ipython",
    "version": 3
   },
   "file_extension": ".py",
   "mimetype": "text/x-python",
   "name": "python",
   "nbconvert_exporter": "python",
   "pygments_lexer": "ipython3",
   "version": "3.13.5"
  }
 },
 "nbformat": 4,
 "nbformat_minor": 5
}
