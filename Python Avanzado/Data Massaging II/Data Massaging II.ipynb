{
 "cells": [
  {
   "cell_type": "markdown",
   "id": "c56667b2",
   "metadata": {},
   "source": [
    "# Data Massaging II\n",
    "- Uso avanzado de pandas\n",
    "- Primeros analisis\n",
    "- Combinacion de DF\n",
    "- Funciones lambda aplicadas a DF\n",
    "- Manejo de datos avanzado"
   ]
  },
  {
   "cell_type": "markdown",
   "id": "ba6682d9",
   "metadata": {},
   "source": [
    "## Agregado de datos"
   ]
  },
  {
   "cell_type": "code",
   "execution_count": null,
   "id": "94f850a3",
   "metadata": {},
   "outputs": [],
   "source": [
    "import pandas as pd\n",
    "import numpy as np"
   ]
  },
  {
   "cell_type": "code",
   "execution_count": null,
   "id": "320143df",
   "metadata": {},
   "outputs": [],
   "source": [
    "df = pd.read_csv(\"../../../Archivos-Analisis/netflix_titles2.csv\")\n",
    "df"
   ]
  },
  {
   "cell_type": "code",
   "execution_count": 5,
   "id": "d04c3438",
   "metadata": {},
   "outputs": [
    {
     "data": {
      "text/html": [
       "<div>\n",
       "<style scoped>\n",
       "    .dataframe tbody tr th:only-of-type {\n",
       "        vertical-align: middle;\n",
       "    }\n",
       "\n",
       "    .dataframe tbody tr th {\n",
       "        vertical-align: top;\n",
       "    }\n",
       "\n",
       "    .dataframe thead th {\n",
       "        text-align: right;\n",
       "    }\n",
       "</style>\n",
       "<table border=\"1\" class=\"dataframe\">\n",
       "  <thead>\n",
       "    <tr style=\"text-align: right;\">\n",
       "      <th></th>\n",
       "      <th>release_year</th>\n",
       "      <th>duration_num</th>\n",
       "    </tr>\n",
       "  </thead>\n",
       "  <tbody>\n",
       "    <tr>\n",
       "      <th>count</th>\n",
       "      <td>8807.000000</td>\n",
       "      <td>8807.000000</td>\n",
       "    </tr>\n",
       "    <tr>\n",
       "      <th>mean</th>\n",
       "      <td>2014.180198</td>\n",
       "      <td>69.848530</td>\n",
       "    </tr>\n",
       "    <tr>\n",
       "      <th>std</th>\n",
       "      <td>8.819312</td>\n",
       "      <td>50.806431</td>\n",
       "    </tr>\n",
       "    <tr>\n",
       "      <th>min</th>\n",
       "      <td>1925.000000</td>\n",
       "      <td>1.000000</td>\n",
       "    </tr>\n",
       "    <tr>\n",
       "      <th>25%</th>\n",
       "      <td>2013.000000</td>\n",
       "      <td>2.000000</td>\n",
       "    </tr>\n",
       "    <tr>\n",
       "      <th>50%</th>\n",
       "      <td>2017.000000</td>\n",
       "      <td>88.000000</td>\n",
       "    </tr>\n",
       "    <tr>\n",
       "      <th>75%</th>\n",
       "      <td>2019.000000</td>\n",
       "      <td>106.000000</td>\n",
       "    </tr>\n",
       "    <tr>\n",
       "      <th>max</th>\n",
       "      <td>2021.000000</td>\n",
       "      <td>312.000000</td>\n",
       "    </tr>\n",
       "  </tbody>\n",
       "</table>\n",
       "</div>"
      ],
      "text/plain": [
       "       release_year  duration_num\n",
       "count   8807.000000   8807.000000\n",
       "mean    2014.180198     69.848530\n",
       "std        8.819312     50.806431\n",
       "min     1925.000000      1.000000\n",
       "25%     2013.000000      2.000000\n",
       "50%     2017.000000     88.000000\n",
       "75%     2019.000000    106.000000\n",
       "max     2021.000000    312.000000"
      ]
     },
     "execution_count": 5,
     "metadata": {},
     "output_type": "execute_result"
    }
   ],
   "source": [
    "# funciones basicas estadisitcas\n",
    "df.describe()"
   ]
  },
  {
   "cell_type": "code",
   "execution_count": null,
   "id": "0ae8f969",
   "metadata": {},
   "outputs": [],
   "source": [
    "# En caso de que el DF tenga una columna que no nos sirva\n",
    "df.drop(\"Nombre de la columna\", axis=\"columns\", inplace=True)"
   ]
  },
  {
   "cell_type": "code",
   "execution_count": 6,
   "id": "b7d322db",
   "metadata": {},
   "outputs": [
    {
     "name": "stdout",
     "output_type": "stream",
     "text": [
      "Media =  69.84852957874418\n",
      "Min =  1.0\n",
      "Maxima =  312.0\n"
     ]
    }
   ],
   "source": [
    "# Obtencion aislada estadisticas\n",
    "print(\"Media = \", df[\"duration_num\"].mean())\n",
    "print(\"Min = \", df[\"duration_num\"].min())\n",
    "print(\"Maxima = \", df[\"duration_num\"].max())"
   ]
  },
  {
   "cell_type": "code",
   "execution_count": 8,
   "id": "32b19383",
   "metadata": {},
   "outputs": [
    {
     "data": {
      "text/plain": [
       "duration_unit\n",
       "min       6131\n",
       "season    2676\n",
       "dtype: int64"
      ]
     },
     "execution_count": 8,
     "metadata": {},
     "output_type": "execute_result"
    }
   ],
   "source": [
    "# Agrupacion, ademas de contar el numero de valores\n",
    "df.groupby(\"duration_unit\").size()"
   ]
  },
  {
   "cell_type": "code",
   "execution_count": 10,
   "id": "63b00ba3",
   "metadata": {},
   "outputs": [
    {
     "data": {
      "text/plain": [
       "<Axes: xlabel='duration_unit'>"
      ]
     },
     "execution_count": 10,
     "metadata": {},
     "output_type": "execute_result"
    },
    {
     "data": {
      "image/png": "[encoded data removed]",
      "text/plain": [
       "<Figure size 640x480 with 1 Axes>"
      ]
     },
     "metadata": {},
     "output_type": "display_data"
    }
   ],
   "source": [
    "df.groupby(\"duration_unit\").size().plot.bar()"
   ]
  },
  {
   "cell_type": "markdown",
   "id": "1bf2be7b",
   "metadata": {},
   "source": [
    "## Calcular el total en horas tanto de peliculas como series\n",
    "- las peliculas vienen en minutos, por lo que el numero total simplemente se debera de dividir para 60 minutos"
   ]
  },
  {
   "cell_type": "code",
   "execution_count": 11,
   "id": "acda941d",
   "metadata": {},
   "outputs": [
    {
     "name": "stdout",
     "output_type": "stream",
     "text": [
      "Total de minutos por pelicula = 610433.00\n",
      "Total de horas por pelicula = 10173.88\n"
     ]
    }
   ],
   "source": [
    "# Podemos realizar la suma\n",
    "movies_minutes = df.loc[df[\"duration_unit\"] == \"min\", \"duration_num\"].sum()\n",
    "\n",
    "# Muestra las estadisticas con 2 decimales\n",
    "print(f\"Total de minutos por pelicula = {movies_minutes:.2f}\")\n",
    "print(f\"Total de horas por pelicula = {movies_minutes/60:.2f}\")"
   ]
  },
  {
   "cell_type": "markdown",
   "id": "f172c5be",
   "metadata": {},
   "source": [
    "- Las series se tienen que calcular\n",
    "- Con la cantidad de seasons, se asume que season tiene un promedio de 7 episodios y cada episodio dura 30 min\n",
    "- Formula : 1 Season = 7 * 30 = 210min"
   ]
  },
  {
   "cell_type": "code",
   "execution_count": 12,
   "id": "dd71c86d",
   "metadata": {},
   "outputs": [
    {
     "name": "stdout",
     "output_type": "stream",
     "text": [
      "3.5\n"
     ]
    }
   ],
   "source": [
    "# Largo en minutos\n",
    "len_season_min = 7 * 30\n",
    "\n",
    "# Largos de horas de una season\n",
    "len_season_hr = len_season_min / 60\n",
    "\n",
    "print(len_season_hr)"
   ]
  },
  {
   "cell_type": "code",
   "execution_count": 13,
   "id": "8970fca7",
   "metadata": {},
   "outputs": [
    {
     "name": "stdout",
     "output_type": "stream",
     "text": [
      "Total de horas en Seasons =  4723.0\n",
      "Total de horas en series =  16530.5\n"
     ]
    }
   ],
   "source": [
    "# Calculo del total de seasons del dataset\n",
    "total_series = df.loc[df[\"duration_unit\"] == \"season\", \"duration_num\"].sum()\n",
    "print(\"Total de horas en Seasons = \", total_series)\n",
    "\n",
    "# Ahora se multiplica el total de seasons por el largo de cada season\n",
    "total_movies_hr = total_series * len_season_hr\n",
    "\n",
    "print(\"Total de horas en series = \", total_movies_hr)"
   ]
  },
  {
   "cell_type": "code",
   "execution_count": 14,
   "id": "7b78c7c0",
   "metadata": {},
   "outputs": [
    {
     "data": {
      "text/html": [
       "<div>\n",
       "<style scoped>\n",
       "    .dataframe tbody tr th:only-of-type {\n",
       "        vertical-align: middle;\n",
       "    }\n",
       "\n",
       "    .dataframe tbody tr th {\n",
       "        vertical-align: top;\n",
       "    }\n",
       "\n",
       "    .dataframe thead th {\n",
       "        text-align: right;\n",
       "    }\n",
       "</style>\n",
       "<table border=\"1\" class=\"dataframe\">\n",
       "  <thead>\n",
       "    <tr style=\"text-align: right;\">\n",
       "      <th></th>\n",
       "      <th>title</th>\n",
       "      <th>country</th>\n",
       "      <th>release_year</th>\n",
       "      <th>duration_num</th>\n",
       "      <th>rating</th>\n",
       "    </tr>\n",
       "  </thead>\n",
       "  <tbody>\n",
       "    <tr>\n",
       "      <th>0</th>\n",
       "      <td>Dick Johnson Is Dead</td>\n",
       "      <td>United States</td>\n",
       "      <td>2020</td>\n",
       "      <td>90.0</td>\n",
       "      <td>PG-13</td>\n",
       "    </tr>\n",
       "    <tr>\n",
       "      <th>6</th>\n",
       "      <td>My Little Pony: A New Generation</td>\n",
       "      <td>NaN</td>\n",
       "      <td>2021</td>\n",
       "      <td>91.0</td>\n",
       "      <td>PG</td>\n",
       "    </tr>\n",
       "    <tr>\n",
       "      <th>7</th>\n",
       "      <td>Sankofa</td>\n",
       "      <td>United States, Ghana, Burkina Faso, United Kin...</td>\n",
       "      <td>1993</td>\n",
       "      <td>125.0</td>\n",
       "      <td>TV-MA</td>\n",
       "    </tr>\n",
       "    <tr>\n",
       "      <th>9</th>\n",
       "      <td>The Starling</td>\n",
       "      <td>United States</td>\n",
       "      <td>2021</td>\n",
       "      <td>104.0</td>\n",
       "      <td>PG-13</td>\n",
       "    </tr>\n",
       "    <tr>\n",
       "      <th>12</th>\n",
       "      <td>Je Suis Karl</td>\n",
       "      <td>Germany, Czech Republic</td>\n",
       "      <td>2021</td>\n",
       "      <td>127.0</td>\n",
       "      <td>TV-MA</td>\n",
       "    </tr>\n",
       "    <tr>\n",
       "      <th>...</th>\n",
       "      <td>...</td>\n",
       "      <td>...</td>\n",
       "      <td>...</td>\n",
       "      <td>...</td>\n",
       "      <td>...</td>\n",
       "    </tr>\n",
       "    <tr>\n",
       "      <th>8801</th>\n",
       "      <td>Zinzana</td>\n",
       "      <td>United Arab Emirates, Jordan</td>\n",
       "      <td>2015</td>\n",
       "      <td>96.0</td>\n",
       "      <td>TV-MA</td>\n",
       "    </tr>\n",
       "    <tr>\n",
       "      <th>8802</th>\n",
       "      <td>Zodiac</td>\n",
       "      <td>United States</td>\n",
       "      <td>2007</td>\n",
       "      <td>158.0</td>\n",
       "      <td>R</td>\n",
       "    </tr>\n",
       "    <tr>\n",
       "      <th>8804</th>\n",
       "      <td>Zombieland</td>\n",
       "      <td>United States</td>\n",
       "      <td>2009</td>\n",
       "      <td>88.0</td>\n",
       "      <td>R</td>\n",
       "    </tr>\n",
       "    <tr>\n",
       "      <th>8805</th>\n",
       "      <td>Zoom</td>\n",
       "      <td>United States</td>\n",
       "      <td>2006</td>\n",
       "      <td>88.0</td>\n",
       "      <td>PG</td>\n",
       "    </tr>\n",
       "    <tr>\n",
       "      <th>8806</th>\n",
       "      <td>Zubaan</td>\n",
       "      <td>India</td>\n",
       "      <td>2015</td>\n",
       "      <td>111.0</td>\n",
       "      <td>TV-14</td>\n",
       "    </tr>\n",
       "  </tbody>\n",
       "</table>\n",
       "<p>6131 rows × 5 columns</p>\n",
       "</div>"
      ],
      "text/plain": [
       "                                 title  \\\n",
       "0                 Dick Johnson Is Dead   \n",
       "6     My Little Pony: A New Generation   \n",
       "7                              Sankofa   \n",
       "9                         The Starling   \n",
       "12                        Je Suis Karl   \n",
       "...                                ...   \n",
       "8801                           Zinzana   \n",
       "8802                            Zodiac   \n",
       "8804                        Zombieland   \n",
       "8805                              Zoom   \n",
       "8806                            Zubaan   \n",
       "\n",
       "                                                country  release_year  \\\n",
       "0                                         United States          2020   \n",
       "6                                                   NaN          2021   \n",
       "7     United States, Ghana, Burkina Faso, United Kin...          1993   \n",
       "9                                         United States          2021   \n",
       "12                              Germany, Czech Republic          2021   \n",
       "...                                                 ...           ...   \n",
       "8801                       United Arab Emirates, Jordan          2015   \n",
       "8802                                      United States          2007   \n",
       "8804                                      United States          2009   \n",
       "8805                                      United States          2006   \n",
       "8806                                              India          2015   \n",
       "\n",
       "      duration_num rating  \n",
       "0             90.0  PG-13  \n",
       "6             91.0     PG  \n",
       "7            125.0  TV-MA  \n",
       "9            104.0  PG-13  \n",
       "12           127.0  TV-MA  \n",
       "...            ...    ...  \n",
       "8801          96.0  TV-MA  \n",
       "8802         158.0      R  \n",
       "8804          88.0      R  \n",
       "8805          88.0     PG  \n",
       "8806         111.0  TV-14  \n",
       "\n",
       "[6131 rows x 5 columns]"
      ]
     },
     "execution_count": 14,
     "metadata": {},
     "output_type": "execute_result"
    }
   ],
   "source": [
    "# Las pelculas son mas largas segun su rating?\n",
    "df[[\"title\",\"country\",\"release_year\",\"duration_num\",\"rating\"]].loc[(df[\"duration_unit\"] == \"min\")]"
   ]
  },
  {
   "cell_type": "markdown",
   "id": "fa83141b",
   "metadata": {},
   "source": [
    "## Graficacion"
   ]
  },
  {
   "cell_type": "code",
   "execution_count": 22,
   "id": "079a048d",
   "metadata": {},
   "outputs": [
    {
     "data": {
      "image/png": "[encoded data removed]",
      "text/plain": [
       "<Figure size 500x500 with 1 Axes>"
      ]
     },
     "metadata": {},
     "output_type": "display_data"
    }
   ],
   "source": [
    "import matplotlib.pyplot as plt\n",
    "import seaborn as sns\n",
    "\n",
    "df_movies = df[[\"title\",\"country\",\"release_year\",\"duration_num\",\"rating\"]].loc[(df[\"duration_unit\"] == \"min\")]\n",
    "sns.lmplot(x=\"release_year\", y=\"duration_num\", data=df_movies, fit_reg=True, scatter_kws={\"marker\": \"D\", \"s\": 20})\n",
    "\n",
    "plt.title(\"Año de Lanzamiento vs Duracion (movies)\")\n",
    "plt.xlabel(\"Año de Lanzamiento\")\n",
    "plt.ylabel(\" Duration (min)\")\n",
    "plt.show()"
   ]
  },
  {
   "cell_type": "code",
   "execution_count": 25,
   "id": "23726666",
   "metadata": {},
   "outputs": [
    {
     "data": {
      "image/png": "[encoded data removed]",
      "text/plain": [
       "<Figure size 500x500 with 1 Axes>"
      ]
     },
     "metadata": {},
     "output_type": "display_data"
    }
   ],
   "source": [
    "# Que pasaria si es que se toman en cuenta nadas mas las mpeliculas de por lo menos 60 minutos\n",
    "df_movies2 = df[[\"title\",\"country\",\"release_year\",\"duration_num\",\"rating\"]].loc[(df[\"duration_unit\"] == \"min\") & (df[\"duration_num\"] > 60)]\n",
    "sns.lmplot(x=\"release_year\", y=\"duration_num\", data=df_movies2, fit_reg=True, scatter_kws={\"marker\": \"S\", \"s\": 20})\n",
    "\n",
    "plt.title(\"Año de Lanzamiento vs Duracion (movies, length > 60 minutes)\")\n",
    "plt.xlabel(\"Año de Lanzamiento\")\n",
    "plt.ylabel(\" Duration (min)\")\n",
    "plt.show()\n"
   ]
  },
  {
   "cell_type": "code",
   "execution_count": 26,
   "id": "6ca1ad4b",
   "metadata": {},
   "outputs": [
    {
     "data": {
      "image/png": "[encoded data removed]",
      "text/plain": [
       "<Figure size 610.125x500 with 1 Axes>"
      ]
     },
     "metadata": {},
     "output_type": "display_data"
    }
   ],
   "source": [
    "# Respondioendo la pregunta principal\n",
    "df_movies2 = df[[\"title\",\"country\",\"release_year\",\"duration_num\",\"rating\"]].loc[(df[\"duration_unit\"] == \"min\") & (df[\"duration_num\"] > 60)]\n",
    "sns.lmplot(x=\"release_year\", y=\"duration_num\", data=df_movies2, hue=\"rating\",fit_reg=True, scatter_kws={\"marker\": \"S\", \"s\": 20})\n",
    "\n",
    "plt.title(\"Año de Lanzamiento vs Duracion (movies, length > 60 minutes)\")\n",
    "plt.xlabel(\"Año de Lanzamiento\")\n",
    "plt.ylabel(\" Duration (min)\")\n",
    "plt.show()"
   ]
  },
  {
   "cell_type": "markdown",
   "id": "40456af3",
   "metadata": {},
   "source": [
    "## Agrupaciones y sus graficados"
   ]
  },
  {
   "cell_type": "code",
   "execution_count": 27,
   "id": "9e05ab4d",
   "metadata": {},
   "outputs": [
    {
     "data": {
      "text/plain": [
       "type\n",
       "Movie      6131\n",
       "TV Show    2676\n",
       "Name: show_id, dtype: int64"
      ]
     },
     "execution_count": 27,
     "metadata": {},
     "output_type": "execute_result"
    }
   ],
   "source": [
    "df.groupby(\"type\").count()[\"show_id\"]"
   ]
  },
  {
   "cell_type": "code",
   "execution_count": 29,
   "id": "2341ef90",
   "metadata": {},
   "outputs": [
    {
     "data": {
      "text/plain": [
       "country\n",
       "United States     2818\n",
       "India              972\n",
       "United Kingdom     419\n",
       "Japan              245\n",
       "South Korea        199\n",
       "Canada             181\n",
       "Spain              145\n",
       "France             124\n",
       "Mexico             110\n",
       "Egypt              106\n",
       "Name: show_id, dtype: int64"
      ]
     },
     "execution_count": 29,
     "metadata": {},
     "output_type": "execute_result"
    }
   ],
   "source": [
    "# Peliculas por pais\n",
    "df.groupby(\"country\").count()[\"show_id\"].sort_values(ascending=False)[:10]"
   ]
  },
  {
   "cell_type": "code",
   "execution_count": 30,
   "id": "ab4dca65",
   "metadata": {},
   "outputs": [
    {
     "data": {
      "text/plain": [
       "<Axes: xlabel='country'>"
      ]
     },
     "execution_count": 30,
     "metadata": {},
     "output_type": "execute_result"
    },
    {
     "data": {
      "image/png": "[encoded data removed]",
      "text/plain": [
       "<Figure size 640x480 with 1 Axes>"
      ]
     },
     "metadata": {},
     "output_type": "display_data"
    }
   ],
   "source": [
    "df.groupby(\"country\").count()[\"show_id\"].sort_values(ascending=False)[:10].plot.bar()"
   ]
  },
  {
   "cell_type": "code",
   "execution_count": 31,
   "id": "9901e340",
   "metadata": {},
   "outputs": [
    {
     "data": {
      "text/plain": [
       "<Axes: ylabel='show_id'>"
      ]
     },
     "execution_count": 31,
     "metadata": {},
     "output_type": "execute_result"
    },
    {
     "data": {
      "image/png": "[encoded data removed]",
      "text/plain": [
       "<Figure size 640x480 with 1 Axes>"
      ]
     },
     "metadata": {},
     "output_type": "display_data"
    }
   ],
   "source": [
    "df.groupby(\"country\").count()[\"show_id\"].sort_values(ascending=False)[:10].plot.pie()"
   ]
  },
  {
   "cell_type": "code",
   "execution_count": 32,
   "id": "365971c3",
   "metadata": {},
   "outputs": [
    {
     "data": {
      "text/plain": [
       "rating\n",
       "TV-MA    3207\n",
       "TV-14    2160\n",
       "TV-PG     863\n",
       "R         799\n",
       "PG-13     490\n",
       "TV-Y7     334\n",
       "TV-Y      307\n",
       "PG        287\n",
       "TV-G      220\n",
       "NR         80\n",
       "Name: show_id, dtype: int64"
      ]
     },
     "execution_count": 32,
     "metadata": {},
     "output_type": "execute_result"
    }
   ],
   "source": [
    "# Peliculas por rating\n",
    "df.groupby(\"rating\").count()[\"show_id\"].sort_values(ascending=False)[:10]"
   ]
  },
  {
   "cell_type": "code",
   "execution_count": 33,
   "id": "e7c6734c",
   "metadata": {},
   "outputs": [
    {
     "data": {
      "text/plain": [
       "<Axes: ylabel='show_id'>"
      ]
     },
     "execution_count": 33,
     "metadata": {},
     "output_type": "execute_result"
    },
    {
     "data": {
      "image/png": "[encoded data removed]",
      "text/plain": [
       "<Figure size 800x800 with 1 Axes>"
      ]
     },
     "metadata": {},
     "output_type": "display_data"
    }
   ],
   "source": [
    "df.groupby(\"rating\").count()[\"show_id\"].sort_values(ascending=False)[:10].plot.pie(y=\"rating\", figsize=(8,8), legend=True)"
   ]
  },
  {
   "cell_type": "markdown",
   "id": "3712489d",
   "metadata": {},
   "source": [
    "## Combinacion y Manejo de DF"
   ]
  },
  {
   "cell_type": "code",
   "execution_count": 51,
   "id": "abfe5ec5",
   "metadata": {},
   "outputs": [],
   "source": [
    "# Creacion del DF\n",
    "df_clase = [(\"Jorge\", 22, \"MX\"),\n",
    "         (\"Julieta\", 24, \"SP\"),\n",
    "         (\"Josselin\", 23, \"MX\"),\n",
    "         (\"Mariana\", 20, \"COL\"),\n",
    "         (\"Esteban\", 30, \"BR\"),\n",
    "         (\"Mike\", 33, \"MX\"),\n",
    "         (\"Carina\", 23, \"BR\"),\n",
    "         (\"Aldo\", 23, \"EC\"),\n",
    "         (\"Omar\", 32, \"COL\"),\n",
    "         (\"Marta\", 25, \"EC\")\n",
    "         ]\n",
    "\n",
    "df_clase = pd.DataFrame(df_clase, columns=[\"Nombre\", \"Edad\", \"Pais\"],)"
   ]
  },
  {
   "cell_type": "code",
   "execution_count": 52,
   "id": "f35517f5",
   "metadata": {},
   "outputs": [],
   "source": [
    "df_clase2 = [(\"Mauricio\", 25, \"MX\"),\n",
    "          (\"Lisset\", 41, \"PN\"),\n",
    "          (\"Aldo\", 32, \"BR\")]\n",
    "df_clase2 = pd.DataFrame(df_clase2, columns=[\"Nombre\", \"Edad\", \"Pais\"],)\n"
   ]
  },
  {
   "cell_type": "markdown",
   "id": "7d9bee9b",
   "metadata": {},
   "source": [
    "### Añadir un DF a otro"
   ]
  },
  {
   "cell_type": "code",
   "execution_count": 53,
   "id": "85804573",
   "metadata": {},
   "outputs": [],
   "source": [
    "df_union = pd.concat([df_clase, df_clase2], axis=0, ignore_index=True)"
   ]
  },
  {
   "cell_type": "code",
   "execution_count": 54,
   "id": "b9a0b9a1",
   "metadata": {},
   "outputs": [
    {
     "data": {
      "text/html": [
       "<div>\n",
       "<style scoped>\n",
       "    .dataframe tbody tr th:only-of-type {\n",
       "        vertical-align: middle;\n",
       "    }\n",
       "\n",
       "    .dataframe tbody tr th {\n",
       "        vertical-align: top;\n",
       "    }\n",
       "\n",
       "    .dataframe thead th {\n",
       "        text-align: right;\n",
       "    }\n",
       "</style>\n",
       "<table border=\"1\" class=\"dataframe\">\n",
       "  <thead>\n",
       "    <tr style=\"text-align: right;\">\n",
       "      <th></th>\n",
       "      <th>Nombre</th>\n",
       "      <th>Edad</th>\n",
       "      <th>Pais</th>\n",
       "    </tr>\n",
       "  </thead>\n",
       "  <tbody>\n",
       "    <tr>\n",
       "      <th>0</th>\n",
       "      <td>Jorge</td>\n",
       "      <td>22</td>\n",
       "      <td>MX</td>\n",
       "    </tr>\n",
       "    <tr>\n",
       "      <th>1</th>\n",
       "      <td>Julieta</td>\n",
       "      <td>24</td>\n",
       "      <td>SP</td>\n",
       "    </tr>\n",
       "    <tr>\n",
       "      <th>2</th>\n",
       "      <td>Josselin</td>\n",
       "      <td>23</td>\n",
       "      <td>MX</td>\n",
       "    </tr>\n",
       "    <tr>\n",
       "      <th>3</th>\n",
       "      <td>Mariana</td>\n",
       "      <td>20</td>\n",
       "      <td>COL</td>\n",
       "    </tr>\n",
       "    <tr>\n",
       "      <th>4</th>\n",
       "      <td>Esteban</td>\n",
       "      <td>30</td>\n",
       "      <td>BR</td>\n",
       "    </tr>\n",
       "    <tr>\n",
       "      <th>5</th>\n",
       "      <td>Mike</td>\n",
       "      <td>33</td>\n",
       "      <td>MX</td>\n",
       "    </tr>\n",
       "    <tr>\n",
       "      <th>6</th>\n",
       "      <td>Carina</td>\n",
       "      <td>23</td>\n",
       "      <td>BR</td>\n",
       "    </tr>\n",
       "    <tr>\n",
       "      <th>7</th>\n",
       "      <td>Aldo</td>\n",
       "      <td>23</td>\n",
       "      <td>EC</td>\n",
       "    </tr>\n",
       "    <tr>\n",
       "      <th>8</th>\n",
       "      <td>Omar</td>\n",
       "      <td>32</td>\n",
       "      <td>COL</td>\n",
       "    </tr>\n",
       "    <tr>\n",
       "      <th>9</th>\n",
       "      <td>Marta</td>\n",
       "      <td>25</td>\n",
       "      <td>EC</td>\n",
       "    </tr>\n",
       "    <tr>\n",
       "      <th>10</th>\n",
       "      <td>Mauricio</td>\n",
       "      <td>25</td>\n",
       "      <td>MX</td>\n",
       "    </tr>\n",
       "    <tr>\n",
       "      <th>11</th>\n",
       "      <td>Lisset</td>\n",
       "      <td>41</td>\n",
       "      <td>PN</td>\n",
       "    </tr>\n",
       "    <tr>\n",
       "      <th>12</th>\n",
       "      <td>Aldo</td>\n",
       "      <td>32</td>\n",
       "      <td>BR</td>\n",
       "    </tr>\n",
       "  </tbody>\n",
       "</table>\n",
       "</div>"
      ],
      "text/plain": [
       "      Nombre  Edad Pais\n",
       "0      Jorge    22   MX\n",
       "1    Julieta    24   SP\n",
       "2   Josselin    23   MX\n",
       "3    Mariana    20  COL\n",
       "4    Esteban    30   BR\n",
       "5       Mike    33   MX\n",
       "6     Carina    23   BR\n",
       "7       Aldo    23   EC\n",
       "8       Omar    32  COL\n",
       "9      Marta    25   EC\n",
       "10  Mauricio    25   MX\n",
       "11    Lisset    41   PN\n",
       "12      Aldo    32   BR"
      ]
     },
     "execution_count": 54,
     "metadata": {},
     "output_type": "execute_result"
    }
   ],
   "source": [
    "# Corroboramos\n",
    "df_union"
   ]
  },
  {
   "cell_type": "markdown",
   "id": "5221c678",
   "metadata": {},
   "source": [
    "### Reindexacion"
   ]
  },
  {
   "cell_type": "code",
   "execution_count": 90,
   "id": "ee706a4b",
   "metadata": {},
   "outputs": [],
   "source": [
    "# Reinciamos los indices\n",
    "df_union.reset_index(level=None, drop=True, inplace=True)"
   ]
  },
  {
   "cell_type": "code",
   "execution_count": 91,
   "id": "7742b8aa",
   "metadata": {},
   "outputs": [
    {
     "data": {
      "text/html": [
       "<div>\n",
       "<style scoped>\n",
       "    .dataframe tbody tr th:only-of-type {\n",
       "        vertical-align: middle;\n",
       "    }\n",
       "\n",
       "    .dataframe tbody tr th {\n",
       "        vertical-align: top;\n",
       "    }\n",
       "\n",
       "    .dataframe thead th {\n",
       "        text-align: right;\n",
       "    }\n",
       "</style>\n",
       "<table border=\"1\" class=\"dataframe\">\n",
       "  <thead>\n",
       "    <tr style=\"text-align: right;\">\n",
       "      <th></th>\n",
       "      <th>Nombre</th>\n",
       "      <th>Edad</th>\n",
       "      <th>Pais</th>\n",
       "    </tr>\n",
       "  </thead>\n",
       "  <tbody>\n",
       "    <tr>\n",
       "      <th>0</th>\n",
       "      <td>Jorge</td>\n",
       "      <td>22</td>\n",
       "      <td>MX</td>\n",
       "    </tr>\n",
       "    <tr>\n",
       "      <th>1</th>\n",
       "      <td>Julieta</td>\n",
       "      <td>24</td>\n",
       "      <td>SP</td>\n",
       "    </tr>\n",
       "    <tr>\n",
       "      <th>2</th>\n",
       "      <td>Josselin</td>\n",
       "      <td>23</td>\n",
       "      <td>MX</td>\n",
       "    </tr>\n",
       "    <tr>\n",
       "      <th>3</th>\n",
       "      <td>Mariana</td>\n",
       "      <td>20</td>\n",
       "      <td>COL</td>\n",
       "    </tr>\n",
       "    <tr>\n",
       "      <th>4</th>\n",
       "      <td>Esteban</td>\n",
       "      <td>30</td>\n",
       "      <td>BR</td>\n",
       "    </tr>\n",
       "    <tr>\n",
       "      <th>5</th>\n",
       "      <td>Mike</td>\n",
       "      <td>33</td>\n",
       "      <td>MX</td>\n",
       "    </tr>\n",
       "    <tr>\n",
       "      <th>6</th>\n",
       "      <td>Carina</td>\n",
       "      <td>23</td>\n",
       "      <td>BR</td>\n",
       "    </tr>\n",
       "    <tr>\n",
       "      <th>7</th>\n",
       "      <td>Aldo</td>\n",
       "      <td>23</td>\n",
       "      <td>EC</td>\n",
       "    </tr>\n",
       "    <tr>\n",
       "      <th>8</th>\n",
       "      <td>Omar</td>\n",
       "      <td>32</td>\n",
       "      <td>COL</td>\n",
       "    </tr>\n",
       "    <tr>\n",
       "      <th>9</th>\n",
       "      <td>Marta</td>\n",
       "      <td>25</td>\n",
       "      <td>EC</td>\n",
       "    </tr>\n",
       "    <tr>\n",
       "      <th>10</th>\n",
       "      <td>Mauricio</td>\n",
       "      <td>25</td>\n",
       "      <td>MX</td>\n",
       "    </tr>\n",
       "    <tr>\n",
       "      <th>11</th>\n",
       "      <td>Lisset</td>\n",
       "      <td>41</td>\n",
       "      <td>PN</td>\n",
       "    </tr>\n",
       "    <tr>\n",
       "      <th>12</th>\n",
       "      <td>Aldo</td>\n",
       "      <td>32</td>\n",
       "      <td>BR</td>\n",
       "    </tr>\n",
       "  </tbody>\n",
       "</table>\n",
       "</div>"
      ],
      "text/plain": [
       "      Nombre  Edad Pais\n",
       "0      Jorge    22   MX\n",
       "1    Julieta    24   SP\n",
       "2   Josselin    23   MX\n",
       "3    Mariana    20  COL\n",
       "4    Esteban    30   BR\n",
       "5       Mike    33   MX\n",
       "6     Carina    23   BR\n",
       "7       Aldo    23   EC\n",
       "8       Omar    32  COL\n",
       "9      Marta    25   EC\n",
       "10  Mauricio    25   MX\n",
       "11    Lisset    41   PN\n",
       "12      Aldo    32   BR"
      ]
     },
     "execution_count": 91,
     "metadata": {},
     "output_type": "execute_result"
    }
   ],
   "source": [
    "df_union"
   ]
  },
  {
   "cell_type": "markdown",
   "id": "895647a3",
   "metadata": {},
   "source": [
    "### Eliminacion de datos"
   ]
  },
  {
   "cell_type": "code",
   "execution_count": 92,
   "id": "4e855c03",
   "metadata": {},
   "outputs": [],
   "source": [
    "# Copiamos el Df a un nuevo para eliminar datos no importantes\n",
    "df_claseEli = df_union"
   ]
  },
  {
   "cell_type": "code",
   "execution_count": 93,
   "id": "bfd94d45",
   "metadata": {},
   "outputs": [],
   "source": [
    "# Eliminamos el registro num 2 del DF\n",
    "df_claseEli = df_claseEli.drop(2)"
   ]
  },
  {
   "cell_type": "code",
   "execution_count": 95,
   "id": "74675a51",
   "metadata": {},
   "outputs": [
    {
     "data": {
      "text/html": [
       "<div>\n",
       "<style scoped>\n",
       "    .dataframe tbody tr th:only-of-type {\n",
       "        vertical-align: middle;\n",
       "    }\n",
       "\n",
       "    .dataframe tbody tr th {\n",
       "        vertical-align: top;\n",
       "    }\n",
       "\n",
       "    .dataframe thead th {\n",
       "        text-align: right;\n",
       "    }\n",
       "</style>\n",
       "<table border=\"1\" class=\"dataframe\">\n",
       "  <thead>\n",
       "    <tr style=\"text-align: right;\">\n",
       "      <th></th>\n",
       "      <th>Nombre</th>\n",
       "      <th>Edad</th>\n",
       "      <th>Pais</th>\n",
       "    </tr>\n",
       "  </thead>\n",
       "  <tbody>\n",
       "    <tr>\n",
       "      <th>0</th>\n",
       "      <td>Jorge</td>\n",
       "      <td>22</td>\n",
       "      <td>MX</td>\n",
       "    </tr>\n",
       "    <tr>\n",
       "      <th>1</th>\n",
       "      <td>Julieta</td>\n",
       "      <td>24</td>\n",
       "      <td>SP</td>\n",
       "    </tr>\n",
       "    <tr>\n",
       "      <th>3</th>\n",
       "      <td>Mariana</td>\n",
       "      <td>20</td>\n",
       "      <td>COL</td>\n",
       "    </tr>\n",
       "    <tr>\n",
       "      <th>4</th>\n",
       "      <td>Esteban</td>\n",
       "      <td>30</td>\n",
       "      <td>BR</td>\n",
       "    </tr>\n",
       "    <tr>\n",
       "      <th>5</th>\n",
       "      <td>Mike</td>\n",
       "      <td>33</td>\n",
       "      <td>MX</td>\n",
       "    </tr>\n",
       "    <tr>\n",
       "      <th>6</th>\n",
       "      <td>Carina</td>\n",
       "      <td>23</td>\n",
       "      <td>BR</td>\n",
       "    </tr>\n",
       "    <tr>\n",
       "      <th>7</th>\n",
       "      <td>Aldo</td>\n",
       "      <td>23</td>\n",
       "      <td>EC</td>\n",
       "    </tr>\n",
       "    <tr>\n",
       "      <th>8</th>\n",
       "      <td>Omar</td>\n",
       "      <td>32</td>\n",
       "      <td>COL</td>\n",
       "    </tr>\n",
       "    <tr>\n",
       "      <th>9</th>\n",
       "      <td>Marta</td>\n",
       "      <td>25</td>\n",
       "      <td>EC</td>\n",
       "    </tr>\n",
       "    <tr>\n",
       "      <th>10</th>\n",
       "      <td>Mauricio</td>\n",
       "      <td>25</td>\n",
       "      <td>MX</td>\n",
       "    </tr>\n",
       "    <tr>\n",
       "      <th>11</th>\n",
       "      <td>Lisset</td>\n",
       "      <td>41</td>\n",
       "      <td>PN</td>\n",
       "    </tr>\n",
       "    <tr>\n",
       "      <th>12</th>\n",
       "      <td>Aldo</td>\n",
       "      <td>32</td>\n",
       "      <td>BR</td>\n",
       "    </tr>\n",
       "  </tbody>\n",
       "</table>\n",
       "</div>"
      ],
      "text/plain": [
       "      Nombre  Edad Pais\n",
       "0      Jorge    22   MX\n",
       "1    Julieta    24   SP\n",
       "3    Mariana    20  COL\n",
       "4    Esteban    30   BR\n",
       "5       Mike    33   MX\n",
       "6     Carina    23   BR\n",
       "7       Aldo    23   EC\n",
       "8       Omar    32  COL\n",
       "9      Marta    25   EC\n",
       "10  Mauricio    25   MX\n",
       "11    Lisset    41   PN\n",
       "12      Aldo    32   BR"
      ]
     },
     "execution_count": 95,
     "metadata": {},
     "output_type": "execute_result"
    }
   ],
   "source": [
    "df_claseEli"
   ]
  },
  {
   "cell_type": "markdown",
   "id": "5080cc11",
   "metadata": {},
   "source": [
    "#### Drop con condicion"
   ]
  },
  {
   "cell_type": "code",
   "execution_count": 96,
   "id": "4af1012d",
   "metadata": {},
   "outputs": [
    {
     "data": {
      "text/html": [
       "<div>\n",
       "<style scoped>\n",
       "    .dataframe tbody tr th:only-of-type {\n",
       "        vertical-align: middle;\n",
       "    }\n",
       "\n",
       "    .dataframe tbody tr th {\n",
       "        vertical-align: top;\n",
       "    }\n",
       "\n",
       "    .dataframe thead th {\n",
       "        text-align: right;\n",
       "    }\n",
       "</style>\n",
       "<table border=\"1\" class=\"dataframe\">\n",
       "  <thead>\n",
       "    <tr style=\"text-align: right;\">\n",
       "      <th></th>\n",
       "      <th>Nombre</th>\n",
       "      <th>Edad</th>\n",
       "      <th>Pais</th>\n",
       "    </tr>\n",
       "  </thead>\n",
       "  <tbody>\n",
       "    <tr>\n",
       "      <th>0</th>\n",
       "      <td>Jorge</td>\n",
       "      <td>22</td>\n",
       "      <td>MX</td>\n",
       "    </tr>\n",
       "    <tr>\n",
       "      <th>1</th>\n",
       "      <td>Julieta</td>\n",
       "      <td>24</td>\n",
       "      <td>SP</td>\n",
       "    </tr>\n",
       "    <tr>\n",
       "      <th>3</th>\n",
       "      <td>Mariana</td>\n",
       "      <td>20</td>\n",
       "      <td>COL</td>\n",
       "    </tr>\n",
       "    <tr>\n",
       "      <th>6</th>\n",
       "      <td>Carina</td>\n",
       "      <td>23</td>\n",
       "      <td>BR</td>\n",
       "    </tr>\n",
       "    <tr>\n",
       "      <th>7</th>\n",
       "      <td>Aldo</td>\n",
       "      <td>23</td>\n",
       "      <td>EC</td>\n",
       "    </tr>\n",
       "  </tbody>\n",
       "</table>\n",
       "</div>"
      ],
      "text/plain": [
       "    Nombre  Edad Pais\n",
       "0    Jorge    22   MX\n",
       "1  Julieta    24   SP\n",
       "3  Mariana    20  COL\n",
       "6   Carina    23   BR\n",
       "7     Aldo    23   EC"
      ]
     },
     "execution_count": 96,
     "metadata": {},
     "output_type": "execute_result"
    }
   ],
   "source": [
    "# Condicion a realziar\n",
    "df_claseEli[df_claseEli[\"Edad\"] < 25]"
   ]
  },
  {
   "cell_type": "code",
   "execution_count": 97,
   "id": "b3db199e",
   "metadata": {},
   "outputs": [
    {
     "data": {
      "text/html": [
       "<div>\n",
       "<style scoped>\n",
       "    .dataframe tbody tr th:only-of-type {\n",
       "        vertical-align: middle;\n",
       "    }\n",
       "\n",
       "    .dataframe tbody tr th {\n",
       "        vertical-align: top;\n",
       "    }\n",
       "\n",
       "    .dataframe thead th {\n",
       "        text-align: right;\n",
       "    }\n",
       "</style>\n",
       "<table border=\"1\" class=\"dataframe\">\n",
       "  <thead>\n",
       "    <tr style=\"text-align: right;\">\n",
       "      <th></th>\n",
       "      <th>Nombre</th>\n",
       "      <th>Edad</th>\n",
       "      <th>Pais</th>\n",
       "    </tr>\n",
       "  </thead>\n",
       "  <tbody>\n",
       "    <tr>\n",
       "      <th>4</th>\n",
       "      <td>Esteban</td>\n",
       "      <td>30</td>\n",
       "      <td>BR</td>\n",
       "    </tr>\n",
       "    <tr>\n",
       "      <th>5</th>\n",
       "      <td>Mike</td>\n",
       "      <td>33</td>\n",
       "      <td>MX</td>\n",
       "    </tr>\n",
       "    <tr>\n",
       "      <th>8</th>\n",
       "      <td>Omar</td>\n",
       "      <td>32</td>\n",
       "      <td>COL</td>\n",
       "    </tr>\n",
       "    <tr>\n",
       "      <th>9</th>\n",
       "      <td>Marta</td>\n",
       "      <td>25</td>\n",
       "      <td>EC</td>\n",
       "    </tr>\n",
       "    <tr>\n",
       "      <th>10</th>\n",
       "      <td>Mauricio</td>\n",
       "      <td>25</td>\n",
       "      <td>MX</td>\n",
       "    </tr>\n",
       "    <tr>\n",
       "      <th>11</th>\n",
       "      <td>Lisset</td>\n",
       "      <td>41</td>\n",
       "      <td>PN</td>\n",
       "    </tr>\n",
       "    <tr>\n",
       "      <th>12</th>\n",
       "      <td>Aldo</td>\n",
       "      <td>32</td>\n",
       "      <td>BR</td>\n",
       "    </tr>\n",
       "  </tbody>\n",
       "</table>\n",
       "</div>"
      ],
      "text/plain": [
       "      Nombre  Edad Pais\n",
       "4    Esteban    30   BR\n",
       "5       Mike    33   MX\n",
       "8       Omar    32  COL\n",
       "9      Marta    25   EC\n",
       "10  Mauricio    25   MX\n",
       "11    Lisset    41   PN\n",
       "12      Aldo    32   BR"
      ]
     },
     "execution_count": 97,
     "metadata": {},
     "output_type": "execute_result"
    }
   ],
   "source": [
    "# Borraremos las columnas de alumnos que sean menores a \"35 años\"\n",
    "df_claseEli.drop(df_claseEli[df_claseEli[\"Edad\"] < 25].index, inplace=True)\n",
    "df_claseEli"
   ]
  },
  {
   "cell_type": "markdown",
   "id": "95fc1732",
   "metadata": {},
   "source": [
    "### Actualizacion de datos"
   ]
  },
  {
   "cell_type": "code",
   "execution_count": 98,
   "id": "ce96a070",
   "metadata": {},
   "outputs": [],
   "source": [
    "df_claseUpd = df_union"
   ]
  },
  {
   "cell_type": "code",
   "execution_count": 99,
   "id": "8107969b",
   "metadata": {},
   "outputs": [],
   "source": [
    "# Usamos loc para actualziar\n",
    "df_claseUpd.loc[3, \"Nombre\"] = \"Ramon\""
   ]
  },
  {
   "cell_type": "markdown",
   "id": "1bc9455d",
   "metadata": {},
   "source": [
    "#### Actualizado con condiciones"
   ]
  },
  {
   "cell_type": "code",
   "execution_count": null,
   "id": "083dd252",
   "metadata": {},
   "outputs": [
    {
     "data": {
      "text/html": [
       "<div>\n",
       "<style scoped>\n",
       "    .dataframe tbody tr th:only-of-type {\n",
       "        vertical-align: middle;\n",
       "    }\n",
       "\n",
       "    .dataframe tbody tr th {\n",
       "        vertical-align: top;\n",
       "    }\n",
       "\n",
       "    .dataframe thead th {\n",
       "        text-align: right;\n",
       "    }\n",
       "</style>\n",
       "<table border=\"1\" class=\"dataframe\">\n",
       "  <thead>\n",
       "    <tr style=\"text-align: right;\">\n",
       "      <th></th>\n",
       "      <th>Nombre</th>\n",
       "      <th>Edad</th>\n",
       "      <th>Pais</th>\n",
       "    </tr>\n",
       "  </thead>\n",
       "  <tbody>\n",
       "    <tr>\n",
       "      <th>0</th>\n",
       "      <td>Jorge</td>\n",
       "      <td>22</td>\n",
       "      <td>MX</td>\n",
       "    </tr>\n",
       "    <tr>\n",
       "      <th>1</th>\n",
       "      <td>Julieta</td>\n",
       "      <td>24</td>\n",
       "      <td>SP</td>\n",
       "    </tr>\n",
       "    <tr>\n",
       "      <th>2</th>\n",
       "      <td>Josselin</td>\n",
       "      <td>23</td>\n",
       "      <td>MX</td>\n",
       "    </tr>\n",
       "    <tr>\n",
       "      <th>3</th>\n",
       "      <td>Ramon</td>\n",
       "      <td>20</td>\n",
       "      <td>COL</td>\n",
       "    </tr>\n",
       "    <tr>\n",
       "      <th>4</th>\n",
       "      <td>Esteban</td>\n",
       "      <td>30</td>\n",
       "      <td>BR</td>\n",
       "    </tr>\n",
       "    <tr>\n",
       "      <th>5</th>\n",
       "      <td>Mike</td>\n",
       "      <td>33</td>\n",
       "      <td>MX</td>\n",
       "    </tr>\n",
       "    <tr>\n",
       "      <th>6</th>\n",
       "      <td>Carina</td>\n",
       "      <td>23</td>\n",
       "      <td>BR</td>\n",
       "    </tr>\n",
       "    <tr>\n",
       "      <th>7</th>\n",
       "      <td>Aldo</td>\n",
       "      <td>23</td>\n",
       "      <td>EC</td>\n",
       "    </tr>\n",
       "    <tr>\n",
       "      <th>8</th>\n",
       "      <td>Omar</td>\n",
       "      <td>32</td>\n",
       "      <td>COL</td>\n",
       "    </tr>\n",
       "    <tr>\n",
       "      <th>9</th>\n",
       "      <td>Marta</td>\n",
       "      <td>25</td>\n",
       "      <td>EC</td>\n",
       "    </tr>\n",
       "    <tr>\n",
       "      <th>10</th>\n",
       "      <td>Mauricio</td>\n",
       "      <td>25</td>\n",
       "      <td>MX</td>\n",
       "    </tr>\n",
       "    <tr>\n",
       "      <th>11</th>\n",
       "      <td>Lisset</td>\n",
       "      <td>30</td>\n",
       "      <td>PN</td>\n",
       "    </tr>\n",
       "    <tr>\n",
       "      <th>12</th>\n",
       "      <td>Aldo</td>\n",
       "      <td>32</td>\n",
       "      <td>BR</td>\n",
       "    </tr>\n",
       "  </tbody>\n",
       "</table>\n",
       "</div>"
      ],
      "text/plain": [
       "      Nombre  Edad Pais\n",
       "0      Jorge    22   MX\n",
       "1    Julieta    24   SP\n",
       "2   Josselin    23   MX\n",
       "3      Ramon    20  COL\n",
       "4    Esteban    30   BR\n",
       "5       Mike    33   MX\n",
       "6     Carina    23   BR\n",
       "7       Aldo    23   EC\n",
       "8       Omar    32  COL\n",
       "9      Marta    25   EC\n",
       "10  Mauricio    25   MX\n",
       "11    Lisset    30   PN\n",
       "12      Aldo    32   BR"
      ]
     },
     "execution_count": 102,
     "metadata": {},
     "output_type": "execute_result"
    }
   ],
   "source": [
    "df_claseUpd.loc[(df_union[df_union[\"Edad\"] == 41].index), \"Edad\"] = 30 # Se actualizo el registro 11\n",
    "df_claseUpd"
   ]
  },
  {
   "cell_type": "code",
   "execution_count": 104,
   "id": "9e74ba78",
   "metadata": {},
   "outputs": [
    {
     "data": {
      "text/plain": [
       "Index([2, 6, 7], dtype='int64')"
      ]
     },
     "execution_count": 104,
     "metadata": {},
     "output_type": "execute_result"
    }
   ],
   "source": [
    "# Condicion\n",
    "df_claseUpd[df_claseUpd[\"Edad\"] == 23].index"
   ]
  },
  {
   "cell_type": "code",
   "execution_count": 105,
   "id": "79d2071b",
   "metadata": {},
   "outputs": [
    {
     "data": {
      "text/html": [
       "<div>\n",
       "<style scoped>\n",
       "    .dataframe tbody tr th:only-of-type {\n",
       "        vertical-align: middle;\n",
       "    }\n",
       "\n",
       "    .dataframe tbody tr th {\n",
       "        vertical-align: top;\n",
       "    }\n",
       "\n",
       "    .dataframe thead th {\n",
       "        text-align: right;\n",
       "    }\n",
       "</style>\n",
       "<table border=\"1\" class=\"dataframe\">\n",
       "  <thead>\n",
       "    <tr style=\"text-align: right;\">\n",
       "      <th></th>\n",
       "      <th>Nombre</th>\n",
       "      <th>Edad</th>\n",
       "      <th>Pais</th>\n",
       "    </tr>\n",
       "  </thead>\n",
       "  <tbody>\n",
       "    <tr>\n",
       "      <th>0</th>\n",
       "      <td>Jorge</td>\n",
       "      <td>22</td>\n",
       "      <td>MX</td>\n",
       "    </tr>\n",
       "    <tr>\n",
       "      <th>1</th>\n",
       "      <td>Julieta</td>\n",
       "      <td>24</td>\n",
       "      <td>SP</td>\n",
       "    </tr>\n",
       "    <tr>\n",
       "      <th>2</th>\n",
       "      <td>Josselin</td>\n",
       "      <td>25</td>\n",
       "      <td>MX</td>\n",
       "    </tr>\n",
       "    <tr>\n",
       "      <th>3</th>\n",
       "      <td>Ramon</td>\n",
       "      <td>20</td>\n",
       "      <td>COL</td>\n",
       "    </tr>\n",
       "    <tr>\n",
       "      <th>4</th>\n",
       "      <td>Esteban</td>\n",
       "      <td>30</td>\n",
       "      <td>BR</td>\n",
       "    </tr>\n",
       "    <tr>\n",
       "      <th>5</th>\n",
       "      <td>Mike</td>\n",
       "      <td>33</td>\n",
       "      <td>MX</td>\n",
       "    </tr>\n",
       "    <tr>\n",
       "      <th>6</th>\n",
       "      <td>Carina</td>\n",
       "      <td>25</td>\n",
       "      <td>BR</td>\n",
       "    </tr>\n",
       "    <tr>\n",
       "      <th>7</th>\n",
       "      <td>Aldo</td>\n",
       "      <td>25</td>\n",
       "      <td>EC</td>\n",
       "    </tr>\n",
       "    <tr>\n",
       "      <th>8</th>\n",
       "      <td>Omar</td>\n",
       "      <td>32</td>\n",
       "      <td>COL</td>\n",
       "    </tr>\n",
       "    <tr>\n",
       "      <th>9</th>\n",
       "      <td>Marta</td>\n",
       "      <td>25</td>\n",
       "      <td>EC</td>\n",
       "    </tr>\n",
       "    <tr>\n",
       "      <th>10</th>\n",
       "      <td>Mauricio</td>\n",
       "      <td>25</td>\n",
       "      <td>MX</td>\n",
       "    </tr>\n",
       "    <tr>\n",
       "      <th>11</th>\n",
       "      <td>Lisset</td>\n",
       "      <td>30</td>\n",
       "      <td>PN</td>\n",
       "    </tr>\n",
       "    <tr>\n",
       "      <th>12</th>\n",
       "      <td>Aldo</td>\n",
       "      <td>32</td>\n",
       "      <td>BR</td>\n",
       "    </tr>\n",
       "  </tbody>\n",
       "</table>\n",
       "</div>"
      ],
      "text/plain": [
       "      Nombre  Edad Pais\n",
       "0      Jorge    22   MX\n",
       "1    Julieta    24   SP\n",
       "2   Josselin    25   MX\n",
       "3      Ramon    20  COL\n",
       "4    Esteban    30   BR\n",
       "5       Mike    33   MX\n",
       "6     Carina    25   BR\n",
       "7       Aldo    25   EC\n",
       "8       Omar    32  COL\n",
       "9      Marta    25   EC\n",
       "10  Mauricio    25   MX\n",
       "11    Lisset    30   PN\n",
       "12      Aldo    32   BR"
      ]
     },
     "execution_count": 105,
     "metadata": {},
     "output_type": "execute_result"
    }
   ],
   "source": [
    "df_claseUpd.loc[(df_union[df_union[\"Edad\"] == 23].index), \"Edad\"] = 25 # Se modifican los indices 2, 6 y 7\n",
    "df_claseUpd"
   ]
  },
  {
   "cell_type": "markdown",
   "id": "e4364493",
   "metadata": {},
   "source": [
    "### Merger de DF"
   ]
  },
  {
   "cell_type": "code",
   "execution_count": 110,
   "id": "5599e7ca",
   "metadata": {},
   "outputs": [],
   "source": [
    "df_clase3 = [(\"Jorge\", 22, \"MX\"),\n",
    "         (\"Julieta\", 24, \"SP\"),\n",
    "         (\"Josselin\", 23, \"MX\"),\n",
    "         (\"Mariana\", 20, \"COL\"),\n",
    "         (\"Esteban\", 30, \"BR\"),\n",
    "         (\"Mike\", 33, \"MX\"),\n",
    "         (\"Carina\", 23, \"BR\"),\n",
    "         (\"Aldo\", 23, \"EC\"),\n",
    "         (\"Omar\", 32, \"COL\"),\n",
    "         (\"Marta\", 25, \"EC\")\n",
    "         ]\n",
    "\n",
    "df_clase3 = pd.DataFrame(df_clase3, columns=[\"Nombre\", \"Edad\", \"Pais\"],)"
   ]
  },
  {
   "cell_type": "code",
   "execution_count": 112,
   "id": "4bce06f2",
   "metadata": {},
   "outputs": [],
   "source": [
    "df_clase4 = [(\"Jorge\", 122, \"MX\"),\n",
    "         (\"Julieta\", 124, \"SP\"),\n",
    "         (\"Josselin\", 123, \"MX\"),\n",
    "         (\"Mariana\", 120, \"COL\")\n",
    "         ]\n",
    "\n",
    "df_clase4 = pd.DataFrame(df_clase4, columns=[\"Nombre\", \"Edad\", \"Pais\"],)"
   ]
  },
  {
   "cell_type": "code",
   "execution_count": 115,
   "id": "1deeeaf0",
   "metadata": {},
   "outputs": [
    {
     "data": {
      "text/html": [
       "<div>\n",
       "<style scoped>\n",
       "    .dataframe tbody tr th:only-of-type {\n",
       "        vertical-align: middle;\n",
       "    }\n",
       "\n",
       "    .dataframe tbody tr th {\n",
       "        vertical-align: top;\n",
       "    }\n",
       "\n",
       "    .dataframe thead th {\n",
       "        text-align: right;\n",
       "    }\n",
       "</style>\n",
       "<table border=\"1\" class=\"dataframe\">\n",
       "  <thead>\n",
       "    <tr style=\"text-align: right;\">\n",
       "      <th></th>\n",
       "      <th>Nombre</th>\n",
       "      <th>Edad_x</th>\n",
       "      <th>Pais_x</th>\n",
       "      <th>Edad_y</th>\n",
       "      <th>Pais_y</th>\n",
       "    </tr>\n",
       "  </thead>\n",
       "  <tbody>\n",
       "    <tr>\n",
       "      <th>0</th>\n",
       "      <td>Jorge</td>\n",
       "      <td>22</td>\n",
       "      <td>MX</td>\n",
       "      <td>122</td>\n",
       "      <td>MX</td>\n",
       "    </tr>\n",
       "    <tr>\n",
       "      <th>1</th>\n",
       "      <td>Julieta</td>\n",
       "      <td>24</td>\n",
       "      <td>SP</td>\n",
       "      <td>124</td>\n",
       "      <td>SP</td>\n",
       "    </tr>\n",
       "    <tr>\n",
       "      <th>2</th>\n",
       "      <td>Josselin</td>\n",
       "      <td>23</td>\n",
       "      <td>MX</td>\n",
       "      <td>123</td>\n",
       "      <td>MX</td>\n",
       "    </tr>\n",
       "    <tr>\n",
       "      <th>3</th>\n",
       "      <td>Mariana</td>\n",
       "      <td>20</td>\n",
       "      <td>COL</td>\n",
       "      <td>120</td>\n",
       "      <td>COL</td>\n",
       "    </tr>\n",
       "  </tbody>\n",
       "</table>\n",
       "</div>"
      ],
      "text/plain": [
       "     Nombre  Edad_x Pais_x  Edad_y Pais_y\n",
       "0     Jorge      22     MX     122     MX\n",
       "1   Julieta      24     SP     124     SP\n",
       "2  Josselin      23     MX     123     MX\n",
       "3   Mariana      20    COL     120    COL"
      ]
     },
     "execution_count": 115,
     "metadata": {},
     "output_type": "execute_result"
    }
   ],
   "source": [
    "df_clase3.merge(df_clase4, left_on=\"Nombre\", right_on=\"Nombre\")"
   ]
  },
  {
   "cell_type": "code",
   "execution_count": 116,
   "id": "18e891f1",
   "metadata": {},
   "outputs": [
    {
     "data": {
      "text/html": [
       "<div>\n",
       "<style scoped>\n",
       "    .dataframe tbody tr th:only-of-type {\n",
       "        vertical-align: middle;\n",
       "    }\n",
       "\n",
       "    .dataframe tbody tr th {\n",
       "        vertical-align: top;\n",
       "    }\n",
       "\n",
       "    .dataframe thead th {\n",
       "        text-align: right;\n",
       "    }\n",
       "</style>\n",
       "<table border=\"1\" class=\"dataframe\">\n",
       "  <thead>\n",
       "    <tr style=\"text-align: right;\">\n",
       "      <th></th>\n",
       "      <th>Nombre_x</th>\n",
       "      <th>Edad_x</th>\n",
       "      <th>Pais</th>\n",
       "      <th>Nombre_y</th>\n",
       "      <th>Edad_y</th>\n",
       "    </tr>\n",
       "  </thead>\n",
       "  <tbody>\n",
       "    <tr>\n",
       "      <th>0</th>\n",
       "      <td>Jorge</td>\n",
       "      <td>22</td>\n",
       "      <td>MX</td>\n",
       "      <td>Jorge</td>\n",
       "      <td>122</td>\n",
       "    </tr>\n",
       "    <tr>\n",
       "      <th>1</th>\n",
       "      <td>Jorge</td>\n",
       "      <td>22</td>\n",
       "      <td>MX</td>\n",
       "      <td>Josselin</td>\n",
       "      <td>123</td>\n",
       "    </tr>\n",
       "    <tr>\n",
       "      <th>2</th>\n",
       "      <td>Julieta</td>\n",
       "      <td>24</td>\n",
       "      <td>SP</td>\n",
       "      <td>Julieta</td>\n",
       "      <td>124</td>\n",
       "    </tr>\n",
       "    <tr>\n",
       "      <th>3</th>\n",
       "      <td>Josselin</td>\n",
       "      <td>23</td>\n",
       "      <td>MX</td>\n",
       "      <td>Jorge</td>\n",
       "      <td>122</td>\n",
       "    </tr>\n",
       "    <tr>\n",
       "      <th>4</th>\n",
       "      <td>Josselin</td>\n",
       "      <td>23</td>\n",
       "      <td>MX</td>\n",
       "      <td>Josselin</td>\n",
       "      <td>123</td>\n",
       "    </tr>\n",
       "    <tr>\n",
       "      <th>5</th>\n",
       "      <td>Mariana</td>\n",
       "      <td>20</td>\n",
       "      <td>COL</td>\n",
       "      <td>Mariana</td>\n",
       "      <td>120</td>\n",
       "    </tr>\n",
       "    <tr>\n",
       "      <th>6</th>\n",
       "      <td>Mike</td>\n",
       "      <td>33</td>\n",
       "      <td>MX</td>\n",
       "      <td>Jorge</td>\n",
       "      <td>122</td>\n",
       "    </tr>\n",
       "    <tr>\n",
       "      <th>7</th>\n",
       "      <td>Mike</td>\n",
       "      <td>33</td>\n",
       "      <td>MX</td>\n",
       "      <td>Josselin</td>\n",
       "      <td>123</td>\n",
       "    </tr>\n",
       "    <tr>\n",
       "      <th>8</th>\n",
       "      <td>Omar</td>\n",
       "      <td>32</td>\n",
       "      <td>COL</td>\n",
       "      <td>Mariana</td>\n",
       "      <td>120</td>\n",
       "    </tr>\n",
       "  </tbody>\n",
       "</table>\n",
       "</div>"
      ],
      "text/plain": [
       "   Nombre_x  Edad_x Pais  Nombre_y  Edad_y\n",
       "0     Jorge      22   MX     Jorge     122\n",
       "1     Jorge      22   MX  Josselin     123\n",
       "2   Julieta      24   SP   Julieta     124\n",
       "3  Josselin      23   MX     Jorge     122\n",
       "4  Josselin      23   MX  Josselin     123\n",
       "5   Mariana      20  COL   Mariana     120\n",
       "6      Mike      33   MX     Jorge     122\n",
       "7      Mike      33   MX  Josselin     123\n",
       "8      Omar      32  COL   Mariana     120"
      ]
     },
     "execution_count": 116,
     "metadata": {},
     "output_type": "execute_result"
    }
   ],
   "source": [
    "df_clase3.merge(df_clase4, how=\"inner\", on=\"Pais\")\n"
   ]
  },
  {
   "cell_type": "markdown",
   "id": "ae1be495",
   "metadata": {},
   "source": [
    "#### Producto cartesiano (Convinacion de todos)"
   ]
  },
  {
   "cell_type": "code",
   "execution_count": null,
   "id": "a756adbf",
   "metadata": {},
   "outputs": [],
   "source": [
    "df_clase3.merge(df_clase4, how=\"cross\")"
   ]
  },
  {
   "cell_type": "markdown",
   "id": "ad827c83",
   "metadata": {},
   "source": [
    "## Lambda con DF"
   ]
  },
  {
   "cell_type": "code",
   "execution_count": 2,
   "id": "d3eaff87",
   "metadata": {},
   "outputs": [],
   "source": [
    "# Creacion del DF\n",
    "df_class = [(\"Jorge\", 22, \"MX\"),\n",
    "         (\"Julieta\", 24, \"SP\"),\n",
    "         (\"Josselin\", 23, \"MX\"),\n",
    "         (\"Mariana\", 20, \"COL\"),\n",
    "         (\"Esteban\", 30, \"BR\"),\n",
    "         (\"Mike\", 33, \"MX\"),\n",
    "         (\"Carina\", 23, \"BR\"),\n",
    "         (\"Aldo\", 23, \"EC\"),\n",
    "         (\"Omar\", 32, \"COL\"),\n",
    "         (\"Marta\", 25, \"EC\")\n",
    "         ]\n",
    "\n",
    "df_class = pd.DataFrame(df_class, columns=[\"Nombre\", \"Edad\", \"Pais\"],)"
   ]
  },
  {
   "cell_type": "markdown",
   "id": "8c783081",
   "metadata": {},
   "source": [
    "### Ejemplo 1"
   ]
  },
  {
   "cell_type": "code",
   "execution_count": null,
   "id": "a5c3cdde",
   "metadata": {},
   "outputs": [],
   "source": [
    "# Primer ejercicio\n",
    "# Buscar si la edad es par o impar en una nueva columna\n",
    "df_class[\"Par-Impar\"] = df_class[\"Edad\"].apply(lambda x: \"Impar\" if int(x) % 2 else \" Par\")\n",
    "\n",
    "# En este caso, Edad se envia como parametro a la funcion lambda, que busca si edad / 2 es entero o no"
   ]
  },
  {
   "cell_type": "code",
   "execution_count": 4,
   "id": "9af119a3",
   "metadata": {},
   "outputs": [
    {
     "data": {
      "text/html": [
       "<div>\n",
       "<style scoped>\n",
       "    .dataframe tbody tr th:only-of-type {\n",
       "        vertical-align: middle;\n",
       "    }\n",
       "\n",
       "    .dataframe tbody tr th {\n",
       "        vertical-align: top;\n",
       "    }\n",
       "\n",
       "    .dataframe thead th {\n",
       "        text-align: right;\n",
       "    }\n",
       "</style>\n",
       "<table border=\"1\" class=\"dataframe\">\n",
       "  <thead>\n",
       "    <tr style=\"text-align: right;\">\n",
       "      <th></th>\n",
       "      <th>Nombre</th>\n",
       "      <th>Edad</th>\n",
       "      <th>Pais</th>\n",
       "      <th>Par-Impar</th>\n",
       "    </tr>\n",
       "  </thead>\n",
       "  <tbody>\n",
       "    <tr>\n",
       "      <th>0</th>\n",
       "      <td>Jorge</td>\n",
       "      <td>22</td>\n",
       "      <td>MX</td>\n",
       "      <td>Par</td>\n",
       "    </tr>\n",
       "    <tr>\n",
       "      <th>1</th>\n",
       "      <td>Julieta</td>\n",
       "      <td>24</td>\n",
       "      <td>SP</td>\n",
       "      <td>Par</td>\n",
       "    </tr>\n",
       "    <tr>\n",
       "      <th>2</th>\n",
       "      <td>Josselin</td>\n",
       "      <td>23</td>\n",
       "      <td>MX</td>\n",
       "      <td>Impar</td>\n",
       "    </tr>\n",
       "    <tr>\n",
       "      <th>3</th>\n",
       "      <td>Mariana</td>\n",
       "      <td>20</td>\n",
       "      <td>COL</td>\n",
       "      <td>Par</td>\n",
       "    </tr>\n",
       "    <tr>\n",
       "      <th>4</th>\n",
       "      <td>Esteban</td>\n",
       "      <td>30</td>\n",
       "      <td>BR</td>\n",
       "      <td>Par</td>\n",
       "    </tr>\n",
       "    <tr>\n",
       "      <th>5</th>\n",
       "      <td>Mike</td>\n",
       "      <td>33</td>\n",
       "      <td>MX</td>\n",
       "      <td>Impar</td>\n",
       "    </tr>\n",
       "    <tr>\n",
       "      <th>6</th>\n",
       "      <td>Carina</td>\n",
       "      <td>23</td>\n",
       "      <td>BR</td>\n",
       "      <td>Impar</td>\n",
       "    </tr>\n",
       "    <tr>\n",
       "      <th>7</th>\n",
       "      <td>Aldo</td>\n",
       "      <td>23</td>\n",
       "      <td>EC</td>\n",
       "      <td>Impar</td>\n",
       "    </tr>\n",
       "    <tr>\n",
       "      <th>8</th>\n",
       "      <td>Omar</td>\n",
       "      <td>32</td>\n",
       "      <td>COL</td>\n",
       "      <td>Par</td>\n",
       "    </tr>\n",
       "    <tr>\n",
       "      <th>9</th>\n",
       "      <td>Marta</td>\n",
       "      <td>25</td>\n",
       "      <td>EC</td>\n",
       "      <td>Impar</td>\n",
       "    </tr>\n",
       "  </tbody>\n",
       "</table>\n",
       "</div>"
      ],
      "text/plain": [
       "     Nombre  Edad Pais Par-Impar\n",
       "0     Jorge    22   MX       Par\n",
       "1   Julieta    24   SP       Par\n",
       "2  Josselin    23   MX     Impar\n",
       "3   Mariana    20  COL       Par\n",
       "4   Esteban    30   BR       Par\n",
       "5      Mike    33   MX     Impar\n",
       "6    Carina    23   BR     Impar\n",
       "7      Aldo    23   EC     Impar\n",
       "8      Omar    32  COL       Par\n",
       "9     Marta    25   EC     Impar"
      ]
     },
     "execution_count": 4,
     "metadata": {},
     "output_type": "execute_result"
    }
   ],
   "source": [
    "df_class"
   ]
  },
  {
   "cell_type": "code",
   "execution_count": 8,
   "id": "9238159f",
   "metadata": {},
   "outputs": [
    {
     "data": {
      "text/plain": [
       "Par-Impar\n",
       " Par     5\n",
       "Impar    5\n",
       "Name: Nombre, dtype: int64"
      ]
     },
     "execution_count": 8,
     "metadata": {},
     "output_type": "execute_result"
    }
   ],
   "source": [
    "df_class.groupby(\"Par-Impar\").count()[\"Nombre\"]"
   ]
  },
  {
   "cell_type": "code",
   "execution_count": 6,
   "id": "f33cb57b",
   "metadata": {},
   "outputs": [
    {
     "data": {
      "text/plain": [
       "<Axes: xlabel='Par-Impar'>"
      ]
     },
     "execution_count": 6,
     "metadata": {},
     "output_type": "execute_result"
    },
    {
     "data": {
      "image/png": "[encoded data removed]",
      "text/plain": [
       "<Figure size 640x480 with 1 Axes>"
      ]
     },
     "metadata": {},
     "output_type": "display_data"
    }
   ],
   "source": [
    "df_class.groupby(\"Par-Impar\").count()[\"Nombre\"].plot.bar()"
   ]
  },
  {
   "cell_type": "markdown",
   "id": "a676328c",
   "metadata": {},
   "source": [
    "### Ejemplo 2"
   ]
  },
  {
   "cell_type": "code",
   "execution_count": 9,
   "id": "5d3f29ff",
   "metadata": {},
   "outputs": [
    {
     "data": {
      "text/html": [
       "<div>\n",
       "<style scoped>\n",
       "    .dataframe tbody tr th:only-of-type {\n",
       "        vertical-align: middle;\n",
       "    }\n",
       "\n",
       "    .dataframe tbody tr th {\n",
       "        vertical-align: top;\n",
       "    }\n",
       "\n",
       "    .dataframe thead th {\n",
       "        text-align: right;\n",
       "    }\n",
       "</style>\n",
       "<table border=\"1\" class=\"dataframe\">\n",
       "  <thead>\n",
       "    <tr style=\"text-align: right;\">\n",
       "      <th></th>\n",
       "      <th>Nombre</th>\n",
       "      <th>Edad</th>\n",
       "      <th>Pais</th>\n",
       "      <th>Par-Impar</th>\n",
       "      <th>Dcto</th>\n",
       "    </tr>\n",
       "  </thead>\n",
       "  <tbody>\n",
       "    <tr>\n",
       "      <th>0</th>\n",
       "      <td>Jorge</td>\n",
       "      <td>22</td>\n",
       "      <td>MX</td>\n",
       "      <td>Par</td>\n",
       "      <td>0.0</td>\n",
       "    </tr>\n",
       "    <tr>\n",
       "      <th>1</th>\n",
       "      <td>Julieta</td>\n",
       "      <td>24</td>\n",
       "      <td>SP</td>\n",
       "      <td>Par</td>\n",
       "      <td>0.0</td>\n",
       "    </tr>\n",
       "    <tr>\n",
       "      <th>2</th>\n",
       "      <td>Josselin</td>\n",
       "      <td>23</td>\n",
       "      <td>MX</td>\n",
       "      <td>Impar</td>\n",
       "      <td>0.0</td>\n",
       "    </tr>\n",
       "    <tr>\n",
       "      <th>3</th>\n",
       "      <td>Mariana</td>\n",
       "      <td>20</td>\n",
       "      <td>COL</td>\n",
       "      <td>Par</td>\n",
       "      <td>0.0</td>\n",
       "    </tr>\n",
       "    <tr>\n",
       "      <th>4</th>\n",
       "      <td>Esteban</td>\n",
       "      <td>30</td>\n",
       "      <td>BR</td>\n",
       "      <td>Par</td>\n",
       "      <td>0.0</td>\n",
       "    </tr>\n",
       "    <tr>\n",
       "      <th>5</th>\n",
       "      <td>Mike</td>\n",
       "      <td>33</td>\n",
       "      <td>MX</td>\n",
       "      <td>Impar</td>\n",
       "      <td>0.1</td>\n",
       "    </tr>\n",
       "    <tr>\n",
       "      <th>6</th>\n",
       "      <td>Carina</td>\n",
       "      <td>23</td>\n",
       "      <td>BR</td>\n",
       "      <td>Impar</td>\n",
       "      <td>0.0</td>\n",
       "    </tr>\n",
       "    <tr>\n",
       "      <th>7</th>\n",
       "      <td>Aldo</td>\n",
       "      <td>23</td>\n",
       "      <td>EC</td>\n",
       "      <td>Impar</td>\n",
       "      <td>0.0</td>\n",
       "    </tr>\n",
       "    <tr>\n",
       "      <th>8</th>\n",
       "      <td>Omar</td>\n",
       "      <td>32</td>\n",
       "      <td>COL</td>\n",
       "      <td>Par</td>\n",
       "      <td>0.1</td>\n",
       "    </tr>\n",
       "    <tr>\n",
       "      <th>9</th>\n",
       "      <td>Marta</td>\n",
       "      <td>25</td>\n",
       "      <td>EC</td>\n",
       "      <td>Impar</td>\n",
       "      <td>0.0</td>\n",
       "    </tr>\n",
       "  </tbody>\n",
       "</table>\n",
       "</div>"
      ],
      "text/plain": [
       "     Nombre  Edad Pais Par-Impar  Dcto\n",
       "0     Jorge    22   MX       Par   0.0\n",
       "1   Julieta    24   SP       Par   0.0\n",
       "2  Josselin    23   MX     Impar   0.0\n",
       "3   Mariana    20  COL       Par   0.0\n",
       "4   Esteban    30   BR       Par   0.0\n",
       "5      Mike    33   MX     Impar   0.1\n",
       "6    Carina    23   BR     Impar   0.0\n",
       "7      Aldo    23   EC     Impar   0.0\n",
       "8      Omar    32  COL       Par   0.1\n",
       "9     Marta    25   EC     Impar   0.0"
      ]
     },
     "execution_count": 9,
     "metadata": {},
     "output_type": "execute_result"
    }
   ],
   "source": [
    "# Descuento del 10% para mayores de 30 años\n",
    "df_class[\"Dcto\"] = df_class[\"Edad\"].apply(lambda x: 0.1 if x > 30 else 0.0)\n",
    "df_class"
   ]
  },
  {
   "cell_type": "markdown",
   "id": "533f34fb",
   "metadata": {},
   "source": [
    "### Ejemplo 3"
   ]
  },
  {
   "cell_type": "code",
   "execution_count": 17,
   "id": "bddde0cb",
   "metadata": {},
   "outputs": [
    {
     "data": {
      "text/html": [
       "<div>\n",
       "<style scoped>\n",
       "    .dataframe tbody tr th:only-of-type {\n",
       "        vertical-align: middle;\n",
       "    }\n",
       "\n",
       "    .dataframe tbody tr th {\n",
       "        vertical-align: top;\n",
       "    }\n",
       "\n",
       "    .dataframe thead th {\n",
       "        text-align: right;\n",
       "    }\n",
       "</style>\n",
       "<table border=\"1\" class=\"dataframe\">\n",
       "  <thead>\n",
       "    <tr style=\"text-align: right;\">\n",
       "      <th></th>\n",
       "      <th>Nombre</th>\n",
       "      <th>Edad</th>\n",
       "      <th>Pais</th>\n",
       "      <th>Par-Impar</th>\n",
       "      <th>Dcto</th>\n",
       "      <th>ZonaHoraria</th>\n",
       "    </tr>\n",
       "  </thead>\n",
       "  <tbody>\n",
       "    <tr>\n",
       "      <th>0</th>\n",
       "      <td>Jorge</td>\n",
       "      <td>22</td>\n",
       "      <td>MX</td>\n",
       "      <td>Par</td>\n",
       "      <td>0.0</td>\n",
       "      <td>[America/Mexico_City, America/Cancun, America/...</td>\n",
       "    </tr>\n",
       "    <tr>\n",
       "      <th>1</th>\n",
       "      <td>Julieta</td>\n",
       "      <td>24</td>\n",
       "      <td>BR</td>\n",
       "      <td>Par</td>\n",
       "      <td>0.0</td>\n",
       "      <td>[America/Noronha, America/Belem, America/Forta...</td>\n",
       "    </tr>\n",
       "    <tr>\n",
       "      <th>2</th>\n",
       "      <td>Josselin</td>\n",
       "      <td>23</td>\n",
       "      <td>MX</td>\n",
       "      <td>Impar</td>\n",
       "      <td>0.0</td>\n",
       "      <td>[America/Mexico_City, America/Cancun, America/...</td>\n",
       "    </tr>\n",
       "    <tr>\n",
       "      <th>3</th>\n",
       "      <td>Mariana</td>\n",
       "      <td>20</td>\n",
       "      <td>CO</td>\n",
       "      <td>Par</td>\n",
       "      <td>0.0</td>\n",
       "      <td>[America/Bogota]</td>\n",
       "    </tr>\n",
       "    <tr>\n",
       "      <th>4</th>\n",
       "      <td>Esteban</td>\n",
       "      <td>30</td>\n",
       "      <td>BR</td>\n",
       "      <td>Par</td>\n",
       "      <td>0.0</td>\n",
       "      <td>[America/Noronha, America/Belem, America/Forta...</td>\n",
       "    </tr>\n",
       "    <tr>\n",
       "      <th>5</th>\n",
       "      <td>Mike</td>\n",
       "      <td>33</td>\n",
       "      <td>MX</td>\n",
       "      <td>Impar</td>\n",
       "      <td>0.1</td>\n",
       "      <td>[America/Mexico_City, America/Cancun, America/...</td>\n",
       "    </tr>\n",
       "    <tr>\n",
       "      <th>6</th>\n",
       "      <td>Carina</td>\n",
       "      <td>23</td>\n",
       "      <td>BR</td>\n",
       "      <td>Impar</td>\n",
       "      <td>0.0</td>\n",
       "      <td>[America/Noronha, America/Belem, America/Forta...</td>\n",
       "    </tr>\n",
       "    <tr>\n",
       "      <th>7</th>\n",
       "      <td>Aldo</td>\n",
       "      <td>23</td>\n",
       "      <td>EC</td>\n",
       "      <td>Impar</td>\n",
       "      <td>0.0</td>\n",
       "      <td>[America/Guayaquil, Pacific/Galapagos]</td>\n",
       "    </tr>\n",
       "    <tr>\n",
       "      <th>8</th>\n",
       "      <td>Omar</td>\n",
       "      <td>32</td>\n",
       "      <td>CO</td>\n",
       "      <td>Par</td>\n",
       "      <td>0.1</td>\n",
       "      <td>[America/Bogota]</td>\n",
       "    </tr>\n",
       "    <tr>\n",
       "      <th>9</th>\n",
       "      <td>Marta</td>\n",
       "      <td>25</td>\n",
       "      <td>EC</td>\n",
       "      <td>Impar</td>\n",
       "      <td>0.0</td>\n",
       "      <td>[America/Guayaquil, Pacific/Galapagos]</td>\n",
       "    </tr>\n",
       "  </tbody>\n",
       "</table>\n",
       "</div>"
      ],
      "text/plain": [
       "     Nombre  Edad Pais Par-Impar  Dcto  \\\n",
       "0     Jorge    22   MX       Par   0.0   \n",
       "1   Julieta    24   BR       Par   0.0   \n",
       "2  Josselin    23   MX     Impar   0.0   \n",
       "3   Mariana    20   CO       Par   0.0   \n",
       "4   Esteban    30   BR       Par   0.0   \n",
       "5      Mike    33   MX     Impar   0.1   \n",
       "6    Carina    23   BR     Impar   0.0   \n",
       "7      Aldo    23   EC     Impar   0.0   \n",
       "8      Omar    32   CO       Par   0.1   \n",
       "9     Marta    25   EC     Impar   0.0   \n",
       "\n",
       "                                         ZonaHoraria  \n",
       "0  [America/Mexico_City, America/Cancun, America/...  \n",
       "1  [America/Noronha, America/Belem, America/Forta...  \n",
       "2  [America/Mexico_City, America/Cancun, America/...  \n",
       "3                                   [America/Bogota]  \n",
       "4  [America/Noronha, America/Belem, America/Forta...  \n",
       "5  [America/Mexico_City, America/Cancun, America/...  \n",
       "6  [America/Noronha, America/Belem, America/Forta...  \n",
       "7             [America/Guayaquil, Pacific/Galapagos]  \n",
       "8                                   [America/Bogota]  \n",
       "9             [America/Guayaquil, Pacific/Galapagos]  "
      ]
     },
     "execution_count": 17,
     "metadata": {},
     "output_type": "execute_result"
    }
   ],
   "source": [
    "# Zona horaria\n",
    "import pytz\n",
    "\n",
    "df_class[\"ZonaHoraria\"] = df_class[\"Pais\"].apply(lambda x: pytz.country_timezones[x])\n",
    "df_class"
   ]
  },
  {
   "cell_type": "markdown",
   "id": "4452e056",
   "metadata": {},
   "source": [
    "### Ejemplo 4"
   ]
  },
  {
   "cell_type": "code",
   "execution_count": 18,
   "id": "8dcf1495",
   "metadata": {},
   "outputs": [
    {
     "data": {
      "text/html": [
       "<div>\n",
       "<style scoped>\n",
       "    .dataframe tbody tr th:only-of-type {\n",
       "        vertical-align: middle;\n",
       "    }\n",
       "\n",
       "    .dataframe tbody tr th {\n",
       "        vertical-align: top;\n",
       "    }\n",
       "\n",
       "    .dataframe thead th {\n",
       "        text-align: right;\n",
       "    }\n",
       "</style>\n",
       "<table border=\"1\" class=\"dataframe\">\n",
       "  <thead>\n",
       "    <tr style=\"text-align: right;\">\n",
       "      <th></th>\n",
       "      <th>Nombre</th>\n",
       "      <th>Edad</th>\n",
       "      <th>Pais</th>\n",
       "      <th>Par-Impar</th>\n",
       "      <th>Dcto</th>\n",
       "      <th>ZonaHoraria</th>\n",
       "      <th>NombrePais</th>\n",
       "    </tr>\n",
       "  </thead>\n",
       "  <tbody>\n",
       "    <tr>\n",
       "      <th>0</th>\n",
       "      <td>Jorge</td>\n",
       "      <td>22</td>\n",
       "      <td>MX</td>\n",
       "      <td>Par</td>\n",
       "      <td>0.0</td>\n",
       "      <td>[America/Mexico_City, America/Cancun, America/...</td>\n",
       "      <td>Mexico</td>\n",
       "    </tr>\n",
       "    <tr>\n",
       "      <th>1</th>\n",
       "      <td>Julieta</td>\n",
       "      <td>24</td>\n",
       "      <td>BR</td>\n",
       "      <td>Par</td>\n",
       "      <td>0.0</td>\n",
       "      <td>[America/Noronha, America/Belem, America/Forta...</td>\n",
       "      <td>Brazil</td>\n",
       "    </tr>\n",
       "    <tr>\n",
       "      <th>2</th>\n",
       "      <td>Josselin</td>\n",
       "      <td>23</td>\n",
       "      <td>MX</td>\n",
       "      <td>Impar</td>\n",
       "      <td>0.0</td>\n",
       "      <td>[America/Mexico_City, America/Cancun, America/...</td>\n",
       "      <td>Mexico</td>\n",
       "    </tr>\n",
       "    <tr>\n",
       "      <th>3</th>\n",
       "      <td>Mariana</td>\n",
       "      <td>20</td>\n",
       "      <td>CO</td>\n",
       "      <td>Par</td>\n",
       "      <td>0.0</td>\n",
       "      <td>[America/Bogota]</td>\n",
       "      <td>Colombia</td>\n",
       "    </tr>\n",
       "    <tr>\n",
       "      <th>4</th>\n",
       "      <td>Esteban</td>\n",
       "      <td>30</td>\n",
       "      <td>BR</td>\n",
       "      <td>Par</td>\n",
       "      <td>0.0</td>\n",
       "      <td>[America/Noronha, America/Belem, America/Forta...</td>\n",
       "      <td>Brazil</td>\n",
       "    </tr>\n",
       "    <tr>\n",
       "      <th>5</th>\n",
       "      <td>Mike</td>\n",
       "      <td>33</td>\n",
       "      <td>MX</td>\n",
       "      <td>Impar</td>\n",
       "      <td>0.1</td>\n",
       "      <td>[America/Mexico_City, America/Cancun, America/...</td>\n",
       "      <td>Mexico</td>\n",
       "    </tr>\n",
       "    <tr>\n",
       "      <th>6</th>\n",
       "      <td>Carina</td>\n",
       "      <td>23</td>\n",
       "      <td>BR</td>\n",
       "      <td>Impar</td>\n",
       "      <td>0.0</td>\n",
       "      <td>[America/Noronha, America/Belem, America/Forta...</td>\n",
       "      <td>Brazil</td>\n",
       "    </tr>\n",
       "    <tr>\n",
       "      <th>7</th>\n",
       "      <td>Aldo</td>\n",
       "      <td>23</td>\n",
       "      <td>EC</td>\n",
       "      <td>Impar</td>\n",
       "      <td>0.0</td>\n",
       "      <td>[America/Guayaquil, Pacific/Galapagos]</td>\n",
       "      <td>Ecuador</td>\n",
       "    </tr>\n",
       "    <tr>\n",
       "      <th>8</th>\n",
       "      <td>Omar</td>\n",
       "      <td>32</td>\n",
       "      <td>CO</td>\n",
       "      <td>Par</td>\n",
       "      <td>0.1</td>\n",
       "      <td>[America/Bogota]</td>\n",
       "      <td>Colombia</td>\n",
       "    </tr>\n",
       "    <tr>\n",
       "      <th>9</th>\n",
       "      <td>Marta</td>\n",
       "      <td>25</td>\n",
       "      <td>EC</td>\n",
       "      <td>Impar</td>\n",
       "      <td>0.0</td>\n",
       "      <td>[America/Guayaquil, Pacific/Galapagos]</td>\n",
       "      <td>Ecuador</td>\n",
       "    </tr>\n",
       "  </tbody>\n",
       "</table>\n",
       "</div>"
      ],
      "text/plain": [
       "     Nombre  Edad Pais Par-Impar  Dcto  \\\n",
       "0     Jorge    22   MX       Par   0.0   \n",
       "1   Julieta    24   BR       Par   0.0   \n",
       "2  Josselin    23   MX     Impar   0.0   \n",
       "3   Mariana    20   CO       Par   0.0   \n",
       "4   Esteban    30   BR       Par   0.0   \n",
       "5      Mike    33   MX     Impar   0.1   \n",
       "6    Carina    23   BR     Impar   0.0   \n",
       "7      Aldo    23   EC     Impar   0.0   \n",
       "8      Omar    32   CO       Par   0.1   \n",
       "9     Marta    25   EC     Impar   0.0   \n",
       "\n",
       "                                         ZonaHoraria NombrePais  \n",
       "0  [America/Mexico_City, America/Cancun, America/...     Mexico  \n",
       "1  [America/Noronha, America/Belem, America/Forta...     Brazil  \n",
       "2  [America/Mexico_City, America/Cancun, America/...     Mexico  \n",
       "3                                   [America/Bogota]   Colombia  \n",
       "4  [America/Noronha, America/Belem, America/Forta...     Brazil  \n",
       "5  [America/Mexico_City, America/Cancun, America/...     Mexico  \n",
       "6  [America/Noronha, America/Belem, America/Forta...     Brazil  \n",
       "7             [America/Guayaquil, Pacific/Galapagos]    Ecuador  \n",
       "8                                   [America/Bogota]   Colombia  \n",
       "9             [America/Guayaquil, Pacific/Galapagos]    Ecuador  "
      ]
     },
     "execution_count": 18,
     "metadata": {},
     "output_type": "execute_result"
    }
   ],
   "source": [
    "# Obtenemos la capital de cada pais, en el caso de que se tenga que generar comunicados o envios fisicos\n",
    "df_class[\"NombrePais\"] = df_class[\"Pais\"].apply(lambda x: pytz.country_names[x])\n",
    "df_class"
   ]
  },
  {
   "cell_type": "code",
   "execution_count": 20,
   "id": "7844187b",
   "metadata": {},
   "outputs": [
    {
     "data": {
      "text/html": [
       "<div>\n",
       "<style scoped>\n",
       "    .dataframe tbody tr th:only-of-type {\n",
       "        vertical-align: middle;\n",
       "    }\n",
       "\n",
       "    .dataframe tbody tr th {\n",
       "        vertical-align: top;\n",
       "    }\n",
       "\n",
       "    .dataframe thead th {\n",
       "        text-align: right;\n",
       "    }\n",
       "</style>\n",
       "<table border=\"1\" class=\"dataframe\">\n",
       "  <thead>\n",
       "    <tr style=\"text-align: right;\">\n",
       "      <th></th>\n",
       "      <th>Nombre</th>\n",
       "      <th>Edad</th>\n",
       "      <th>Pais</th>\n",
       "      <th>Par-Impar</th>\n",
       "      <th>Dcto</th>\n",
       "      <th>ZonaHoraria</th>\n",
       "      <th>NombrePais</th>\n",
       "      <th>Capital</th>\n",
       "    </tr>\n",
       "  </thead>\n",
       "  <tbody>\n",
       "    <tr>\n",
       "      <th>0</th>\n",
       "      <td>Jorge</td>\n",
       "      <td>22</td>\n",
       "      <td>MX</td>\n",
       "      <td>Par</td>\n",
       "      <td>0.0</td>\n",
       "      <td>[America/Mexico_City, America/Cancun, America/...</td>\n",
       "      <td>Mexico</td>\n",
       "      <td>Mexico City</td>\n",
       "    </tr>\n",
       "    <tr>\n",
       "      <th>1</th>\n",
       "      <td>Julieta</td>\n",
       "      <td>24</td>\n",
       "      <td>BR</td>\n",
       "      <td>Par</td>\n",
       "      <td>0.0</td>\n",
       "      <td>[America/Noronha, America/Belem, America/Forta...</td>\n",
       "      <td>Brazil</td>\n",
       "      <td>Brasília</td>\n",
       "    </tr>\n",
       "    <tr>\n",
       "      <th>2</th>\n",
       "      <td>Josselin</td>\n",
       "      <td>23</td>\n",
       "      <td>MX</td>\n",
       "      <td>Impar</td>\n",
       "      <td>0.0</td>\n",
       "      <td>[America/Mexico_City, America/Cancun, America/...</td>\n",
       "      <td>Mexico</td>\n",
       "      <td>Mexico City</td>\n",
       "    </tr>\n",
       "    <tr>\n",
       "      <th>3</th>\n",
       "      <td>Mariana</td>\n",
       "      <td>20</td>\n",
       "      <td>CO</td>\n",
       "      <td>Par</td>\n",
       "      <td>0.0</td>\n",
       "      <td>[America/Bogota]</td>\n",
       "      <td>Colombia</td>\n",
       "      <td>Bogotá</td>\n",
       "    </tr>\n",
       "    <tr>\n",
       "      <th>4</th>\n",
       "      <td>Esteban</td>\n",
       "      <td>30</td>\n",
       "      <td>BR</td>\n",
       "      <td>Par</td>\n",
       "      <td>0.0</td>\n",
       "      <td>[America/Noronha, America/Belem, America/Forta...</td>\n",
       "      <td>Brazil</td>\n",
       "      <td>Brasília</td>\n",
       "    </tr>\n",
       "    <tr>\n",
       "      <th>5</th>\n",
       "      <td>Mike</td>\n",
       "      <td>33</td>\n",
       "      <td>MX</td>\n",
       "      <td>Impar</td>\n",
       "      <td>0.1</td>\n",
       "      <td>[America/Mexico_City, America/Cancun, America/...</td>\n",
       "      <td>Mexico</td>\n",
       "      <td>Mexico City</td>\n",
       "    </tr>\n",
       "    <tr>\n",
       "      <th>6</th>\n",
       "      <td>Carina</td>\n",
       "      <td>23</td>\n",
       "      <td>BR</td>\n",
       "      <td>Impar</td>\n",
       "      <td>0.0</td>\n",
       "      <td>[America/Noronha, America/Belem, America/Forta...</td>\n",
       "      <td>Brazil</td>\n",
       "      <td>Brasília</td>\n",
       "    </tr>\n",
       "    <tr>\n",
       "      <th>7</th>\n",
       "      <td>Aldo</td>\n",
       "      <td>23</td>\n",
       "      <td>EC</td>\n",
       "      <td>Impar</td>\n",
       "      <td>0.0</td>\n",
       "      <td>[America/Guayaquil, Pacific/Galapagos]</td>\n",
       "      <td>Ecuador</td>\n",
       "      <td>Quito</td>\n",
       "    </tr>\n",
       "    <tr>\n",
       "      <th>8</th>\n",
       "      <td>Omar</td>\n",
       "      <td>32</td>\n",
       "      <td>CO</td>\n",
       "      <td>Par</td>\n",
       "      <td>0.1</td>\n",
       "      <td>[America/Bogota]</td>\n",
       "      <td>Colombia</td>\n",
       "      <td>Bogotá</td>\n",
       "    </tr>\n",
       "    <tr>\n",
       "      <th>9</th>\n",
       "      <td>Marta</td>\n",
       "      <td>25</td>\n",
       "      <td>EC</td>\n",
       "      <td>Impar</td>\n",
       "      <td>0.0</td>\n",
       "      <td>[America/Guayaquil, Pacific/Galapagos]</td>\n",
       "      <td>Ecuador</td>\n",
       "      <td>Quito</td>\n",
       "    </tr>\n",
       "  </tbody>\n",
       "</table>\n",
       "</div>"
      ],
      "text/plain": [
       "     Nombre  Edad Pais Par-Impar  Dcto  \\\n",
       "0     Jorge    22   MX       Par   0.0   \n",
       "1   Julieta    24   BR       Par   0.0   \n",
       "2  Josselin    23   MX     Impar   0.0   \n",
       "3   Mariana    20   CO       Par   0.0   \n",
       "4   Esteban    30   BR       Par   0.0   \n",
       "5      Mike    33   MX     Impar   0.1   \n",
       "6    Carina    23   BR     Impar   0.0   \n",
       "7      Aldo    23   EC     Impar   0.0   \n",
       "8      Omar    32   CO       Par   0.1   \n",
       "9     Marta    25   EC     Impar   0.0   \n",
       "\n",
       "                                         ZonaHoraria NombrePais      Capital  \n",
       "0  [America/Mexico_City, America/Cancun, America/...     Mexico  Mexico City  \n",
       "1  [America/Noronha, America/Belem, America/Forta...     Brazil     Brasília  \n",
       "2  [America/Mexico_City, America/Cancun, America/...     Mexico  Mexico City  \n",
       "3                                   [America/Bogota]   Colombia       Bogotá  \n",
       "4  [America/Noronha, America/Belem, America/Forta...     Brazil     Brasília  \n",
       "5  [America/Mexico_City, America/Cancun, America/...     Mexico  Mexico City  \n",
       "6  [America/Noronha, America/Belem, America/Forta...     Brazil     Brasília  \n",
       "7             [America/Guayaquil, Pacific/Galapagos]    Ecuador        Quito  \n",
       "8                                   [America/Bogota]   Colombia       Bogotá  \n",
       "9             [America/Guayaquil, Pacific/Galapagos]    Ecuador        Quito  "
      ]
     },
     "execution_count": 20,
     "metadata": {},
     "output_type": "execute_result"
    }
   ],
   "source": [
    "# En base a lo anterior, obtendremos la capital del pais mediante la libreria CountryInfo\n",
    "# Instalamos la libreria con: pip install countryinfo\n",
    "from countryinfo import CountryInfo\n",
    "df_class[\"Capital\"] = df_class[\"NombrePais\"].apply(lambda x: CountryInfo(x).capital())\n",
    "df_class"
   ]
  },
  {
   "cell_type": "markdown",
   "id": "c44a208a",
   "metadata": {},
   "source": [
    "### Ejercicio"
   ]
  },
  {
   "cell_type": "code",
   "execution_count": null,
   "id": "12c93f8e",
   "metadata": {},
   "outputs": [
    {
     "data": {
      "text/plain": [
       "Index([1, 4, 6], dtype='int64')"
      ]
     },
     "execution_count": 21,
     "metadata": {},
     "output_type": "execute_result"
    }
   ],
   "source": [
    "# Imaginemos que se abre un curso en portugues, por lo que los alumnos de Braisl tienen que salir del listado actual\n",
    "index_br = df_class[(df_class[\"Pais\"] == \"BR\")].index\n",
    "index_br"
   ]
  },
  {
   "cell_type": "code",
   "execution_count": 22,
   "id": "663a3dba",
   "metadata": {},
   "outputs": [
    {
     "data": {
      "text/html": [
       "<div>\n",
       "<style scoped>\n",
       "    .dataframe tbody tr th:only-of-type {\n",
       "        vertical-align: middle;\n",
       "    }\n",
       "\n",
       "    .dataframe tbody tr th {\n",
       "        vertical-align: top;\n",
       "    }\n",
       "\n",
       "    .dataframe thead th {\n",
       "        text-align: right;\n",
       "    }\n",
       "</style>\n",
       "<table border=\"1\" class=\"dataframe\">\n",
       "  <thead>\n",
       "    <tr style=\"text-align: right;\">\n",
       "      <th></th>\n",
       "      <th>Nombre</th>\n",
       "      <th>Edad</th>\n",
       "      <th>Pais</th>\n",
       "      <th>Par-Impar</th>\n",
       "      <th>Dcto</th>\n",
       "      <th>ZonaHoraria</th>\n",
       "      <th>NombrePais</th>\n",
       "      <th>Capital</th>\n",
       "    </tr>\n",
       "  </thead>\n",
       "  <tbody>\n",
       "    <tr>\n",
       "      <th>0</th>\n",
       "      <td>Jorge</td>\n",
       "      <td>22</td>\n",
       "      <td>MX</td>\n",
       "      <td>Par</td>\n",
       "      <td>0.0</td>\n",
       "      <td>[America/Mexico_City, America/Cancun, America/...</td>\n",
       "      <td>Mexico</td>\n",
       "      <td>Mexico City</td>\n",
       "    </tr>\n",
       "    <tr>\n",
       "      <th>2</th>\n",
       "      <td>Josselin</td>\n",
       "      <td>23</td>\n",
       "      <td>MX</td>\n",
       "      <td>Impar</td>\n",
       "      <td>0.0</td>\n",
       "      <td>[America/Mexico_City, America/Cancun, America/...</td>\n",
       "      <td>Mexico</td>\n",
       "      <td>Mexico City</td>\n",
       "    </tr>\n",
       "    <tr>\n",
       "      <th>3</th>\n",
       "      <td>Mariana</td>\n",
       "      <td>20</td>\n",
       "      <td>CO</td>\n",
       "      <td>Par</td>\n",
       "      <td>0.0</td>\n",
       "      <td>[America/Bogota]</td>\n",
       "      <td>Colombia</td>\n",
       "      <td>Bogotá</td>\n",
       "    </tr>\n",
       "    <tr>\n",
       "      <th>5</th>\n",
       "      <td>Mike</td>\n",
       "      <td>33</td>\n",
       "      <td>MX</td>\n",
       "      <td>Impar</td>\n",
       "      <td>0.1</td>\n",
       "      <td>[America/Mexico_City, America/Cancun, America/...</td>\n",
       "      <td>Mexico</td>\n",
       "      <td>Mexico City</td>\n",
       "    </tr>\n",
       "    <tr>\n",
       "      <th>7</th>\n",
       "      <td>Aldo</td>\n",
       "      <td>23</td>\n",
       "      <td>EC</td>\n",
       "      <td>Impar</td>\n",
       "      <td>0.0</td>\n",
       "      <td>[America/Guayaquil, Pacific/Galapagos]</td>\n",
       "      <td>Ecuador</td>\n",
       "      <td>Quito</td>\n",
       "    </tr>\n",
       "    <tr>\n",
       "      <th>8</th>\n",
       "      <td>Omar</td>\n",
       "      <td>32</td>\n",
       "      <td>CO</td>\n",
       "      <td>Par</td>\n",
       "      <td>0.1</td>\n",
       "      <td>[America/Bogota]</td>\n",
       "      <td>Colombia</td>\n",
       "      <td>Bogotá</td>\n",
       "    </tr>\n",
       "    <tr>\n",
       "      <th>9</th>\n",
       "      <td>Marta</td>\n",
       "      <td>25</td>\n",
       "      <td>EC</td>\n",
       "      <td>Impar</td>\n",
       "      <td>0.0</td>\n",
       "      <td>[America/Guayaquil, Pacific/Galapagos]</td>\n",
       "      <td>Ecuador</td>\n",
       "      <td>Quito</td>\n",
       "    </tr>\n",
       "  </tbody>\n",
       "</table>\n",
       "</div>"
      ],
      "text/plain": [
       "     Nombre  Edad Pais Par-Impar  Dcto  \\\n",
       "0     Jorge    22   MX       Par   0.0   \n",
       "2  Josselin    23   MX     Impar   0.0   \n",
       "3   Mariana    20   CO       Par   0.0   \n",
       "5      Mike    33   MX     Impar   0.1   \n",
       "7      Aldo    23   EC     Impar   0.0   \n",
       "8      Omar    32   CO       Par   0.1   \n",
       "9     Marta    25   EC     Impar   0.0   \n",
       "\n",
       "                                         ZonaHoraria NombrePais      Capital  \n",
       "0  [America/Mexico_City, America/Cancun, America/...     Mexico  Mexico City  \n",
       "2  [America/Mexico_City, America/Cancun, America/...     Mexico  Mexico City  \n",
       "3                                   [America/Bogota]   Colombia       Bogotá  \n",
       "5  [America/Mexico_City, America/Cancun, America/...     Mexico  Mexico City  \n",
       "7             [America/Guayaquil, Pacific/Galapagos]    Ecuador        Quito  \n",
       "8                                   [America/Bogota]   Colombia       Bogotá  \n",
       "9             [America/Guayaquil, Pacific/Galapagos]    Ecuador        Quito  "
      ]
     },
     "execution_count": 22,
     "metadata": {},
     "output_type": "execute_result"
    }
   ],
   "source": [
    "# Eliminamos a los alumnos del listado\n",
    "df_class.drop(index_br, inplace=True)\n",
    "df_class"
   ]
  },
  {
   "cell_type": "code",
   "execution_count": 27,
   "id": "75863910",
   "metadata": {},
   "outputs": [
    {
     "name": "stdout",
     "output_type": "stream",
     "text": [
      "Pais\n",
      "CO    2\n",
      "EC    2\n",
      "MX    3\n",
      "dtype: int64\n"
     ]
    }
   ],
   "source": [
    "#\n",
    "print(df_class.groupby(\"Pais\").size())"
   ]
  },
  {
   "cell_type": "markdown",
   "id": "5e5effac",
   "metadata": {},
   "source": [
    "# Bonus"
   ]
  },
  {
   "cell_type": "code",
   "execution_count": 28,
   "id": "138c513c",
   "metadata": {},
   "outputs": [],
   "source": [
    "import seaborn as sns"
   ]
  },
  {
   "cell_type": "code",
   "execution_count": 29,
   "id": "2bdf82d0",
   "metadata": {},
   "outputs": [
    {
     "data": {
      "text/plain": [
       "<seaborn.axisgrid.PairGrid at 0x21f9f012e40>"
      ]
     },
     "execution_count": 29,
     "metadata": {},
     "output_type": "execute_result"
    },
    {
     "data": {
      "image/png": "[encoded data removed]",
      "text/plain": [
       "<Figure size 500x500 with 6 Axes>"
      ]
     },
     "metadata": {},
     "output_type": "display_data"
    }
   ],
   "source": [
    "# Graficacion tipo pairplot\n",
    "sns.pairplot(df_class)"
   ]
  },
  {
   "cell_type": "code",
   "execution_count": 31,
   "id": "82eba1ad",
   "metadata": {},
   "outputs": [
    {
     "data": {
      "text/plain": [
       "<seaborn.axisgrid.PairGrid at 0x21f9f540410>"
      ]
     },
     "execution_count": 31,
     "metadata": {},
     "output_type": "execute_result"
    },
    {
     "data": {
      "image/png": "[encoded data removed]",
      "text/plain": [
       "<Figure size 500x500 with 6 Axes>"
      ]
     },
     "metadata": {},
     "output_type": "display_data"
    }
   ],
   "source": [
    "# Graficado para el CSV de epliculas\n",
    "\n",
    "# Eliminaciond e los nulos\n",
    "df.dropna(inplace=True)\n",
    "\n",
    "# Eliminacion de duplicados\n",
    "df.drop_duplicates(inplace=True)\n",
    "\n",
    "# Visualizaicon\n",
    "sns.pairplot(df)"
   ]
  },
  {
   "cell_type": "code",
   "execution_count": null,
   "id": "ad39c257",
   "metadata": {},
   "outputs": [],
   "source": []
  }
 ],
 "metadata": {
  "kernelspec": {
   "display_name": "base",
   "language": "python",
   "name": "python3"
  },
  "language_info": {
   "codemirror_mode": {
    "name": "ipython",
    "version": 3
   },
   "file_extension": ".py",
   "mimetype": "text/x-python",
   "name": "python",
   "nbconvert_exporter": "python",
   "pygments_lexer": "ipython3",
   "version": "3.13.5"
  }
 },
 "nbformat": 4,
 "nbformat_minor": 5
}
