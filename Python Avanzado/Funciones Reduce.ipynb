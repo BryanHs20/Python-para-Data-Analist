{
 "cells": [
  {
   "cell_type": "markdown",
   "id": "fb17f502",
   "metadata": {},
   "source": [
    "# Reduce\n",
    "- La funcion reduce implemente una operacion matematica llamada \"folding\" o \"reduccion\"\n",
    "- Esta fucnion es util cuando se quiere aplioar ina misma funcion a un elemento iterable y reducirla a un solo numero\n",
    "- Es popular entre los developers que tienen una orientacion a programar funcionalmente (romper un todo en sus partes)\n",
    "- Incluso esta funcion, junto con map(), iban a ser eliminadas de Python\n",
    "- Esto ocasiono que reduce se tenga que importar desde una libreria \"functools\"\n",
    "- Se usa: reduce (function, iterable, initializer)"
   ]
  },
  {
   "cell_type": "markdown",
   "id": "a3e5584d",
   "metadata": {},
   "source": [
    "Reducción de datos con Reduce\n",
    "\n",
    "La función reduce() es poderosa para realizar operaciones de reducción, como sumar todos los elementos de una lista o encontrar el producto de una serie de números. Esto simplifica el código al evitar bucles explícitos."
   ]
  },
  {
   "cell_type": "code",
   "execution_count": 3,
   "id": "880d09bb",
   "metadata": {},
   "outputs": [
    {
     "name": "stdout",
     "output_type": "stream",
     "text": [
      "5 + 10 = 15\n"
     ]
    },
    {
     "data": {
      "text/plain": [
       "15"
      ]
     },
     "execution_count": 3,
     "metadata": {},
     "output_type": "execute_result"
    }
   ],
   "source": [
    "# Ejemplo de suma simple\n",
    "def mysum(a, b):\n",
    "    result = a + b\n",
    "    print(f\"{a} + {b} = {result}\")\n",
    "    return result\n",
    "\n",
    "mysum(5, 10)"
   ]
  },
  {
   "cell_type": "code",
   "execution_count": 4,
   "id": "1669cbfe",
   "metadata": {},
   "outputs": [
    {
     "name": "stdout",
     "output_type": "stream",
     "text": [
      "0 + 1 = 1\n",
      "1 + 2 = 3\n",
      "3 + 3 = 6\n",
      "6 + 4 = 10\n"
     ]
    },
    {
     "data": {
      "text/plain": [
       "10"
      ]
     },
     "execution_count": 4,
     "metadata": {},
     "output_type": "execute_result"
    }
   ],
   "source": [
    "# Progresion\n",
    "a = mysum(0, 1)\n",
    "b = mysum(a, 2)\n",
    "c = mysum(b, 3)\n",
    "mysum(c, 4)"
   ]
  },
  {
   "cell_type": "code",
   "execution_count": 5,
   "id": "831ca8df",
   "metadata": {},
   "outputs": [
    {
     "name": "stdout",
     "output_type": "stream",
     "text": [
      "0 + 1 = 1\n",
      "1 + 2 = 3\n",
      "3 + 3 = 6\n",
      "6 + 4 = 10\n"
     ]
    },
    {
     "data": {
      "text/plain": [
       "10"
      ]
     },
     "execution_count": 5,
     "metadata": {},
     "output_type": "execute_result"
    }
   ],
   "source": [
    "# El mismo ejemplo con reduce\n",
    "# Antes que nada, se importa la libreria\n",
    "from functools import reduce\n",
    "\n",
    "# Se genera la lista de numeros para ser procesados\n",
    "numbers = [0,1,2,3,4]\n",
    "\n",
    "# Se aplica la funcion de suma sobre el lsitado de nuemros\n",
    "reduce(mysum, numbers)"
   ]
  },
  {
   "cell_type": "code",
   "execution_count": 4,
   "id": "f1a950cd",
   "metadata": {},
   "outputs": [
    {
     "name": "stdout",
     "output_type": "stream",
     "text": [
      "100 + 0 = 100\n",
      "100 + 1 = 101\n",
      "101 + 2 = 103\n",
      "103 + 3 = 106\n",
      "106 + 4 = 110\n"
     ]
    },
    {
     "data": {
      "text/plain": [
       "110"
      ]
     },
     "execution_count": 4,
     "metadata": {},
     "output_type": "execute_result"
    }
   ],
   "source": [
    "# Avanzado - Reduce con un initializer (valor base)\n",
    "# Tercer argument: Initializer\n",
    "from functools import reduce\n",
    "numbers = [0,1,2,3,4]\n",
    "reduce(mysum, numbers, 100)"
   ]
  },
  {
   "cell_type": "code",
   "execution_count": 5,
   "id": "4d5ca99d",
   "metadata": {},
   "outputs": [
    {
     "data": {
      "text/plain": [
       "15"
      ]
     },
     "execution_count": 5,
     "metadata": {},
     "output_type": "execute_result"
    }
   ],
   "source": [
    "# Ejemplo de suma de valores numericos\n",
    "\n",
    "numbers = [1, 2, 3, 4, 5]\n",
    "total = 0\n",
    "\n",
    "for num in numbers:\n",
    "    total += num\n",
    "total"
   ]
  },
  {
   "cell_type": "code",
   "execution_count": 6,
   "id": "e3bf423e",
   "metadata": {},
   "outputs": [
    {
     "data": {
      "text/plain": [
       "3"
      ]
     },
     "execution_count": 6,
     "metadata": {},
     "output_type": "execute_result"
    }
   ],
   "source": [
    "#\n",
    "def my_add(a, b):\n",
    "    return a + b\n",
    "my_add(1,2)"
   ]
  },
  {
   "cell_type": "code",
   "execution_count": 8,
   "id": "b74676d3",
   "metadata": {},
   "outputs": [
    {
     "data": {
      "text/plain": [
       "15"
      ]
     },
     "execution_count": 8,
     "metadata": {},
     "output_type": "execute_result"
    }
   ],
   "source": [
    "# La misma funcion con reduce\n",
    "numbers = [1,2,3,4,5]\n",
    "reduce(my_add, numbers)"
   ]
  },
  {
   "cell_type": "code",
   "execution_count": 11,
   "id": "85fd0eea",
   "metadata": {},
   "outputs": [
    {
     "data": {
      "text/plain": [
       "15"
      ]
     },
     "execution_count": 11,
     "metadata": {},
     "output_type": "execute_result"
    }
   ],
   "source": [
    "# ejemplo de reduce con funcion lanmbda\n",
    "numbers = [1,2,3,4,5]\n",
    "\n",
    "reduce(lambda a, b: a +b, numbers)"
   ]
  },
  {
   "cell_type": "code",
   "execution_count": 13,
   "id": "5c33434e",
   "metadata": {},
   "outputs": [
    {
     "name": "stdout",
     "output_type": "stream",
     "text": [
      "3\n"
     ]
    },
    {
     "data": {
      "text/plain": [
       "10"
      ]
     },
     "execution_count": 13,
     "metadata": {},
     "output_type": "execute_result"
    }
   ],
   "source": [
    "# Con add, reduce\n",
    "from operator import add\n",
    "from functools import reduce\n",
    "\n",
    "print(add(1,2))\n",
    "\n",
    "numbers = [1,2,3,4]\n",
    "reduce(add, numbers)"
   ]
  },
  {
   "cell_type": "code",
   "execution_count": 17,
   "id": "f52d5a7d",
   "metadata": {},
   "outputs": [
    {
     "name": "stdout",
     "output_type": "stream",
     "text": [
      "Minimo = -20\n",
      "Maximo = 109\n"
     ]
    }
   ],
   "source": [
    "# Usando reduce para calcular maximo y minimo\n",
    "# Se aplica las funciones minimo y maximo a todos los items de la lista\n",
    "from functools import reduce\n",
    "\n",
    "# Funcion para calcular el minimo\n",
    "def minimo (a,b):\n",
    "        #print(\"a=\", a, \"b =\", b) # Descomentar para ver el proceso\n",
    "        if (a < b):\n",
    "            return a\n",
    "        return b\n",
    "\n",
    "        #return a if a < b else b # Otra forma de escribir la funcion minimo\n",
    "\n",
    "# Funcion para calcular el maximo\n",
    "def maximo(a,b):\n",
    "        #print(\"a=\", a, \"b =\", b) # Descomentar para ver el proceso\n",
    "        if (a > b):\n",
    "            return a\n",
    "        return b\n",
    "\n",
    "        #return a if a > b else b # Otra forma de escribir la funcion maximo\n",
    "\n",
    "numbers= [4,5,9,-20,15,109,25,-1]\n",
    "\n",
    "mini = reduce(minimo, numbers)\n",
    "maxi = reduce(maximo, numbers)\n",
    "\n",
    "print(f\"Minimo = {mini}\")\n",
    "print(f\"Maximo = {maxi}\")"
   ]
  },
  {
   "cell_type": "markdown",
   "id": "1c4e9249",
   "metadata": {},
   "source": [
    "## Wrap Up\n",
    "- Reduce nos trae un solo numero"
   ]
  },
  {
   "cell_type": "markdown",
   "id": "b7e3c505",
   "metadata": {},
   "source": []
  }
 ],
 "metadata": {
  "kernelspec": {
   "display_name": "base",
   "language": "python",
   "name": "python3"
  },
  "language_info": {
   "codemirror_mode": {
    "name": "ipython",
    "version": 3
   },
   "file_extension": ".py",
   "mimetype": "text/x-python",
   "name": "python",
   "nbconvert_exporter": "python",
   "pygments_lexer": "ipython3",
   "version": "3.13.5"
  }
 },
 "nbformat": 4,
 "nbformat_minor": 5
}
