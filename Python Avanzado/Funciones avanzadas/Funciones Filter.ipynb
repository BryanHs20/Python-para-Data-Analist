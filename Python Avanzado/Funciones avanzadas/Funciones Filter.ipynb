{
 "cells": [
  {
   "cell_type": "markdown",
   "id": "ee888c2e-cad7-4864-8e33-f497172d70cd",
   "metadata": {},
   "source": [
    "# Filter\n",
    "- Esta funcion permite extraer calores de iterables. Para extraer estos valores se debe definir una conficion que los items deben cumplir y generar a su vez una nueva lista de interables\n",
    "- La sintaxis es: filter(function, iterable)\n",
    "- El primer argumento es objeto funcion \"function\" y debe ser llamada sin parentesis\n",
    "- El segundo argumento es un iterable, que puede ser una lista, dupla o un set\n",
    "- Filteting se aplica a cada item del iterable\n",
    "- Filter es una funcion biult-in, lo que quiere decir que no debe importarse desde ninguna libreria\n",
    "- Filter iba a ser eliminada de la version 3 de python pero la comunidad pidio que se quede"
   ]
  },
  {
   "cell_type": "markdown",
   "id": "ca2c061c",
   "metadata": {},
   "source": [
    "Filtrado de datos con Filter\n",
    "\n",
    "Utiliza filter() para extraer elementos de un iterable que cumplen con una condición específica. Esto es útil para limpiar datos, como eliminar valores nulos o filtrar registros que no cumplen con ciertos criterios."
   ]
  },
  {
   "cell_type": "code",
   "execution_count": null,
   "id": "3fbbb7d6-3997-4341-a39e-8bc7d7f0fba9",
   "metadata": {},
   "outputs": [
    {
     "data": {
      "text/plain": [
       "[10, 6, 50]"
      ]
     },
     "execution_count": 1,
     "metadata": {},
     "output_type": "execute_result"
    }
   ],
   "source": [
    "# Ejemplo para ver numeros pares de una lista\n",
    "# Se tiene una lista inicial de numeros a ser procesados\n",
    "# Con cada irem, se valida que si residuo (%) cuando se divide para 2 sea cero (Condicion par / impar)\n",
    "\n",
    "num = [1,3,10,45,6,50]\n",
    "\n",
    "def extract_even(num):\n",
    "    even_num = []\n",
    "\n",
    "    for i in num:\n",
    "        if i % 2 == 0: # Filtering condition\n",
    "            even_num.append(i)\n",
    "    return even_num\n",
    "\n",
    "extract_even(num)"
   ]
  },
  {
   "cell_type": "code",
   "execution_count": 2,
   "id": "12d1e715-88a4-43ce-8cf3-4fe61dc85b07",
   "metadata": {},
   "outputs": [
    {
     "data": {
      "text/plain": [
       "[10, 6, 50]"
      ]
     },
     "execution_count": 2,
     "metadata": {},
     "output_type": "execute_result"
    }
   ],
   "source": [
    "# El mismo ejemplo usando filter()\n",
    "numbers = [1,3,10,45,6,50]\n",
    "\n",
    "def is_even(number):\n",
    "    return number % 2 == 0\n",
    "\n",
    "list(filter(is_even, numbers))"
   ]
  },
  {
   "cell_type": "code",
   "execution_count": 3,
   "id": "c023086c-c5bf-452c-8bb6-14fce189c511",
   "metadata": {},
   "outputs": [
    {
     "data": {
      "text/plain": [
       "[1, 2]"
      ]
     },
     "execution_count": 3,
     "metadata": {},
     "output_type": "execute_result"
    }
   ],
   "source": [
    "# Ejemplo simple, obtener los numeros positivos de una lista\n",
    "# Se hace un loop que valida, uno por uno, los numeros de la lista\n",
    "# y preguntas si sin mayoes a 0\n",
    "# Si lo son, los incluyes en el listado de numeros positivos\n",
    "\n",
    "numbers = [-2,-1,0,1,2]\n",
    "\n",
    "def extract_posi(numbers):\n",
    "    positive_num = []\n",
    "\n",
    "    for num in numbers:\n",
    "        if num > 0:\n",
    "            positive_num.append(num)\n",
    "    return positive_num\n",
    "\n",
    "extract_posi(numbers)"
   ]
  },
  {
   "cell_type": "code",
   "execution_count": 4,
   "id": "defe07dc-a040-4810-ac81-9472cdf6c3e8",
   "metadata": {},
   "outputs": [
    {
     "data": {
      "text/plain": [
       "[1, 2]"
      ]
     },
     "execution_count": 4,
     "metadata": {},
     "output_type": "execute_result"
    }
   ],
   "source": [
    "# misma funcionm aplicada filter() yu simplificada con lambda\n",
    "\n",
    "# Se define la lisra a ser procesada\n",
    "numbers = [-2,-1,0,1,2]\n",
    "\n",
    "# Se define la funcion lambda\n",
    "positive_num = filter(lambda num: num > 0, numbers)\n",
    "positive_num\n",
    "\n",
    "list(positive_num)"
   ]
  },
  {
   "cell_type": "code",
   "execution_count": 6,
   "id": "faa74919-292f-48ba-a705-6e4a819682aa",
   "metadata": {},
   "outputs": [
    {
     "name": "stdout",
     "output_type": "stream",
     "text": [
      "Media =  10.692307692307692  Bajo =  -7.128740076825961  Alto =  28.513355461441343\n",
      "Media = 10.69  Bajo = -7.13  Alto = 28.51\n"
     ]
    }
   ],
   "source": [
    "# Eliminado de outliers de un lsitado de numeros\n",
    "import statistics as st\n",
    "sample = [10,8,10,8,2,7,9,3,34,9,5,9,25]\n",
    "\n",
    "# Calcula la media de la muestra, antes de eliminar los outliers\n",
    "mean = st.mean(sample)\n",
    "\n",
    "# Calula dos desviaciones estandar como el limite bajo y alto para filtrar la lista\n",
    "stdev = st.stdev(sample)\n",
    "low = mean - 2 * stdev\n",
    "high = mean + 2 * stdev\n",
    "\n",
    "print(\"Media = \", mean, \" Bajo = \", low, \" Alto = \", high)\n",
    "\n",
    "# Formato 2 decimales\n",
    "print(\"Media = {:.2f}\".format(mean), \" Bajo = {:.2f}\".format(low), \" Alto = {:.2f}\".format(high))"
   ]
  },
  {
   "cell_type": "code",
   "execution_count": 7,
   "id": "aee2d81e-b882-4a24-a9af-42d3c8ff4b1b",
   "metadata": {},
   "outputs": [
    {
     "data": {
      "text/plain": [
       "[10, 8, 10, 8, 2, 7, 9, 3, 9, 5, 9, 25]"
      ]
     },
     "execution_count": 7,
     "metadata": {},
     "output_type": "execute_result"
    }
   ],
   "source": [
    "# Los valores de la muestra que estan fuera de los valores bajo y alto\n",
    "# no van a ser los mostrados, utilizando una combinacion de filter y una de lambda simple\n",
    "# que condiciona los limites de cada item\n",
    "\n",
    "clean_sample = list(filter(lambda x: low <= x <= high, sample))\n",
    "clean_sample"
   ]
  },
  {
   "cell_type": "code",
   "execution_count": 10,
   "id": "5ad12128-feca-487d-8adf-531c183aeace",
   "metadata": {},
   "outputs": [
    {
     "name": "stdout",
     "output_type": "stream",
     "text": [
      "True\n",
      "False\n"
     ]
    }
   ],
   "source": [
    "# Funcion para buscar palabras palindromes\n",
    "\n",
    "def is_palindrome(word):\n",
    "    reversed_word = \"\".join(reversed(word))\n",
    "    return word.lower() == reversed_word.lower()\n",
    "\n",
    "print(is_palindrome(\"Madam\"))\n",
    "\n",
    "print(is_palindrome(\"EBAC\"))"
   ]
  },
  {
   "cell_type": "code",
   "execution_count": 11,
   "id": "3c9087ab-1774-4f85-9974-7ea2f087dbfc",
   "metadata": {},
   "outputs": [
    {
     "data": {
      "text/plain": [
       "['Ana', 'madam', 'sosos', 'axa']"
      ]
     },
     "execution_count": 11,
     "metadata": {},
     "output_type": "execute_result"
    }
   ],
   "source": [
    "# Ejemplo para encontrar palabras palindrome con filter\n",
    "words = (\"filter\",\"Ana\",\"hello\",\"world\", \"madam\",\"rececar\",\"sosos\",\"axa\")\n",
    "\n",
    "list(filter(is_palindrome, words))"
   ]
  },
  {
   "cell_type": "code",
   "execution_count": 12,
   "id": "78cd6e0c-0061-454f-8a7b-9104e2f79a34",
   "metadata": {},
   "outputs": [],
   "source": [
    "# Usando la funcion filter para excluir numeros de listas\n",
    "\n",
    "def identity(x):\n",
    "    return x"
   ]
  },
  {
   "cell_type": "code",
   "execution_count": 14,
   "id": "cad2a921-d1c7-4574-a142-05b0873268a9",
   "metadata": {},
   "outputs": [
    {
     "data": {
      "text/plain": [
       "[1, 4, 5, 8, 9, 15]"
      ]
     },
     "execution_count": 14,
     "metadata": {},
     "output_type": "execute_result"
    }
   ],
   "source": [
    "obj = [0,1,[],4,5,\"\", None, 8, 9, 15,]\n",
    "\n",
    "list(filter(identity, obj))"
   ]
  },
  {
   "cell_type": "code",
   "execution_count": null,
   "id": "c9ef06a5-2617-409b-b4bd-0e591d8f008f",
   "metadata": {},
   "outputs": [],
   "source": []
  }
 ],
 "metadata": {
  "kernelspec": {
   "display_name": "Python 3 (ipykernel)",
   "language": "python",
   "name": "python3"
  },
  "language_info": {
   "codemirror_mode": {
    "name": "ipython",
    "version": 3
   },
   "file_extension": ".py",
   "mimetype": "text/x-python",
   "name": "python",
   "nbconvert_exporter": "python",
   "pygments_lexer": "ipython3",
   "version": "3.13.5"
  }
 },
 "nbformat": 4,
 "nbformat_minor": 5
}
