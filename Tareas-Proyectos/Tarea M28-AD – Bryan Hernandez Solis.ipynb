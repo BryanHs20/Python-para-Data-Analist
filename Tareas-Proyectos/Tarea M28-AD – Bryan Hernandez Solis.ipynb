{
 "cells": [
  {
   "cell_type": "markdown",
   "id": "3845f413",
   "metadata": {},
   "source": [
    "# Para esta Tarea:\n",
    "Generar un archivo tipo Notebook de Python que contenga el código fuente de varios ejercicios aplicados a tres fuentes de datos:\n",
    "\n",
    "Para cada archivo (CSV, Excel, Json): \n",
    "- leer el archivo y guardarlo en una lista, \n",
    "- obtener las 10 primeras filas, \n",
    "- obtener las 10 últimas filas\n",
    "- seleccionar 2-4 columnas del dataset y generar un archivo nuevo"
   ]
  },
  {
   "cell_type": "markdown",
   "id": "267e66af",
   "metadata": {},
   "source": [
    "## Importacion de librerias"
   ]
  },
  {
   "cell_type": "code",
   "execution_count": 22,
   "id": "d60318ee",
   "metadata": {},
   "outputs": [],
   "source": [
    "# Importacion de librerias\n",
    "import csv\n",
    "import json\n",
    "import openpyxl\n",
    "import numpy as np\n",
    "import pandas as pd"
   ]
  },
  {
   "cell_type": "markdown",
   "id": "169b9aa8",
   "metadata": {},
   "source": [
    "## CSV"
   ]
  },
  {
   "cell_type": "code",
   "execution_count": 23,
   "id": "8eff7cae",
   "metadata": {},
   "outputs": [],
   "source": [
    "# Importacion del coumento CSV\n",
    "\n",
    "csv_file = open(\"../../Archivos-Analisis/files-tarea-m28/fifa_eda.csv\", \"r\", encoding=\"utf-8\")\n",
    "csv_file_reader = csv.reader(csv_file)"
   ]
  },
  {
   "cell_type": "code",
   "execution_count": null,
   "id": "9b62cbe2",
   "metadata": {},
   "outputs": [],
   "source": [
    "# Obtenemos los encabezados\n",
    "header = []\n",
    "header = next(csv_file_reader)\n",
    "header"
   ]
  },
  {
   "cell_type": "code",
   "execution_count": 25,
   "id": "416e4b0f",
   "metadata": {},
   "outputs": [],
   "source": [
    "# Guardado los datos en una lista\n",
    "rows = []\n",
    "\n",
    "for row in csv_file_reader:\n",
    "    rows.append(row)"
   ]
  },
  {
   "cell_type": "code",
   "execution_count": null,
   "id": "f76f3a84",
   "metadata": {},
   "outputs": [],
   "source": [
    "# Obtencion de los primeros 10 datos\n",
    "rows[:10]"
   ]
  },
  {
   "cell_type": "code",
   "execution_count": null,
   "id": "46923753",
   "metadata": {},
   "outputs": [],
   "source": [
    "# Obtencion de los ultimos 10 datos\n",
    "rows[-10:]"
   ]
  },
  {
   "cell_type": "code",
   "execution_count": 34,
   "id": "5369e6af",
   "metadata": {},
   "outputs": [],
   "source": [
    "# Seleccion de 2 a 4 columnas\n",
    "indices = [0,1,2,3] # Mas columnas seleccionadas\n",
    "# indices = [0,1,2,3,4,12,13] # Mas columnas seleccionadas\n",
    "select_columns = [[row[i] for i in indices] for row in rows]"
   ]
  },
  {
   "cell_type": "code",
   "execution_count": 35,
   "id": "d2d366e5",
   "metadata": {},
   "outputs": [],
   "source": [
    "# Guardado del documento\n",
    "with open(\"../../Archivos-Analisis/files-tarea-m28/fifa_eda_filtrado.csv\", \"w\", encoding=\"utf-8\", newline=\"\") as new_file:\n",
    "    writer = csv.writer(new_file)\n",
    "    writer.writerow([header[i] for i in indices])\n",
    "    writer.writerows(select_columns)"
   ]
  },
  {
   "cell_type": "markdown",
   "id": "3cbdfe6e",
   "metadata": {},
   "source": [
    "## Excel"
   ]
  },
  {
   "cell_type": "code",
   "execution_count": 14,
   "id": "2823339b",
   "metadata": {},
   "outputs": [],
   "source": [
    "# Importacion del coumento Excel\n",
    "from pathlib import Path\n",
    "\n",
    "xlsx_file = Path(\"../../Archivos-Analisis/files-tarea-m28/Amazon_top100_bestselling_books_2009to2021.xlsx\")\n",
    "xlsx_file_reader = openpyxl.load_workbook(xlsx_file)"
   ]
  },
  {
   "cell_type": "code",
   "execution_count": 15,
   "id": "6643d23e",
   "metadata": {},
   "outputs": [],
   "source": [
    "\n",
    "# Leemos la hora activa\n",
    "sheet = xlsx_file_reader.active"
   ]
  },
  {
   "cell_type": "code",
   "execution_count": 49,
   "id": "cd21d908",
   "metadata": {},
   "outputs": [],
   "source": [
    "# Guardando los datos en una lista\n",
    "\n",
    "xlsx_list = list(sheet.iter_rows(values_only=True))"
   ]
  },
  {
   "cell_type": "code",
   "execution_count": null,
   "id": "a8ec8913",
   "metadata": {},
   "outputs": [],
   "source": [
    "# Obtencion de los primeros 10 datos\n",
    "for i, row in enumerate(xlsx_list[1:11], start=1):\n",
    "    print(f\"{i}: {row}\")"
   ]
  },
  {
   "cell_type": "code",
   "execution_count": null,
   "id": "3987ce6d",
   "metadata": {},
   "outputs": [],
   "source": [
    "# Obtencion de los ultimos 10 datos\n",
    "for i, row in enumerate(xlsx_list[-10:], start=len(xlsx_list)-9):\n",
    "    print(f\"{i}: {row}\")"
   ]
  },
  {
   "cell_type": "code",
   "execution_count": 69,
   "id": "d406a9a1",
   "metadata": {},
   "outputs": [],
   "source": [
    "# Seleccion de 2 a 4 columnas\n",
    "xlsx_indices = [2,1,3,6]\n",
    "xlsx_fil = [[row[i] for i in xlsx_indices] for row in xlsx_list]"
   ]
  },
  {
   "cell_type": "code",
   "execution_count": 71,
   "id": "c0910dd9",
   "metadata": {},
   "outputs": [],
   "source": [
    "# Guardado del documento\n",
    "\n",
    "\"\"\"Como xlsx es del tipo list, debemos de hacer un ciclo para agregar cada data a un nuevo workbook\"\"\"\n",
    "wb = openpyxl.Workbook()\n",
    "ws = wb.active\n",
    "\n",
    "for i in xlsx_fil:\n",
    "    ws.append(i)\n",
    "\n",
    "wb.save(\"../../Archivos-Analisis/files-tarea-m28/Amazon_top100_bestselling_books_filter.xlsx\")"
   ]
  },
  {
   "cell_type": "markdown",
   "id": "95e09089",
   "metadata": {},
   "source": [
    "## JSON"
   ]
  },
  {
   "cell_type": "code",
   "execution_count": 79,
   "id": "54eeb224",
   "metadata": {},
   "outputs": [],
   "source": [
    "# Importacion del coumento JSON\n",
    "\n",
    "json_file = open(\"../../Archivos-Analisis/files-tarea-m28/GOT Subtitles/season1.json\", \"r\", encoding=\"utf-8\")\n",
    "json_file_reader = json.load(json_file)"
   ]
  },
  {
   "cell_type": "code",
   "execution_count": null,
   "id": "e55f7b6f",
   "metadata": {},
   "outputs": [],
   "source": [
    "# Corrrobora la importacion\n",
    "print(json.dumps(json_file_reader, sort_keys=False, indent=4)) # Orden Normal"
   ]
  },
  {
   "cell_type": "code",
   "execution_count": 93,
   "id": "087a09a9",
   "metadata": {},
   "outputs": [],
   "source": [
    "# Guardado de la informacion en una lista\n",
    "json_rows = []\n",
    "\n",
    "for episode, lines in json_file_reader.items():\n",
    "    for num_line, text in lines.items():\n",
    "        # num_line es un número (string) y text es el diálogo\n",
    "        json_rows.append({\n",
    "            \"episode\": episode,\n",
    "            \"line_number\": num_line,\n",
    "            \"dialogue\": text\n",
    "        })"
   ]
  },
  {
   "cell_type": "code",
   "execution_count": null,
   "id": "f88c85c1",
   "metadata": {},
   "outputs": [],
   "source": [
    "# Obtener los primeros 10 datos\n",
    "for i, row in enumerate(json_rows[1:11], start=1):\n",
    "    print(f\"{i}: {row}\")\n"
   ]
  },
  {
   "cell_type": "code",
   "execution_count": null,
   "id": "443dbc6f",
   "metadata": {},
   "outputs": [],
   "source": [
    "# Obtener los ultimos 10 datos\n",
    "for i, row in enumerate(json_rows[-10:], start=len(json_rows)-9):\n",
    "    print(f\"{i}: {row}\")"
   ]
  },
  {
   "cell_type": "code",
   "execution_count": 98,
   "id": "cd1df5b4",
   "metadata": {},
   "outputs": [],
   "source": [
    "# Guardado del documento\n",
    "\n",
    "with open(\"../../Archivos-Analisis/files-tarea-m28/got_subtitulos_reducido.json\", \"w\", encoding=\"utf-8\") as outfile:\n",
    "    json.dump(rows, outfile, ensure_ascii=False, indent=4)"
   ]
  },
  {
   "cell_type": "markdown",
   "id": "7026229a",
   "metadata": {},
   "source": [
    "# Notas:\n",
    "El uso de pandas facilita mucho mas los procesos que se deben de llevar sin importar el tipo de archivo, ademas que nos porporciona visualizaciones que nos facilitan la obtencion y analicis de las columnas y filas de los documentos"
   ]
  }
 ],
 "metadata": {
  "kernelspec": {
   "display_name": "base",
   "language": "python",
   "name": "python3"
  },
  "language_info": {
   "codemirror_mode": {
    "name": "ipython",
    "version": 3
   },
   "file_extension": ".py",
   "mimetype": "text/x-python",
   "name": "python",
   "nbconvert_exporter": "python",
   "pygments_lexer": "ipython3",
   "version": "3.13.5"
  }
 },
 "nbformat": 4,
 "nbformat_minor": 5
}
