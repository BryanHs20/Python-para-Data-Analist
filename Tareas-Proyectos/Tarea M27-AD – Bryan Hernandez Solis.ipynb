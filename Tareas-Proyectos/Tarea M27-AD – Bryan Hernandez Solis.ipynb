{
 "cells": [
  {
   "cell_type": "markdown",
   "id": "12903243",
   "metadata": {},
   "source": [
    "# Para esta Tarea:\n",
    "Generar un archivo tipo Notebook de Python que contenga el código fuente de varios ejercicios aplicados a los conceptos vistos:\n",
    "\n",
    "- Aplicar los 3 puntos anteriores a un ejemplo donde se busca un archivo “test.txt” que NO existe en el directorio donde se está buscando.  \n",
    "- Generar las excepciones y mensajes de error correspondientes. \n",
    "- Excepciones y las funciones TRY/EXCEPT \n",
    "- Ejemplos con TRY/EXCEPT/ELSE/FINALLY \n",
    "- Debugging de archivos Python. Generar una celda con una operación matemática simple (p.ej. La suma de 4 números y esta suma dividida para cero), y mostrar los diferentes pasos que se siguieron haciendo su debugging"
   ]
  },
  {
   "cell_type": "code",
   "execution_count": null,
   "id": "4265da57",
   "metadata": {},
   "outputs": [
    {
     "ename": "Exception",
     "evalue": "El archivo no se encuentra en el directorio",
     "output_type": "error",
     "traceback": [
      "\u001b[1;31m---------------------------------------------------------------------------\u001b[0m",
      "\u001b[1;31mFileNotFoundError\u001b[0m                         Traceback (most recent call last)",
      "Cell \u001b[1;32mIn[10], line 3\u001b[0m\n\u001b[0;32m      2\u001b[0m \u001b[38;5;28;01mtry\u001b[39;00m:\n\u001b[1;32m----> 3\u001b[0m     \u001b[38;5;28;01mwith\u001b[39;00m \u001b[38;5;28mopen\u001b[39m(\u001b[38;5;124m\"\u001b[39m\u001b[38;5;124mtest.txt\u001b[39m\u001b[38;5;124m\"\u001b[39m) \u001b[38;5;28;01mas\u001b[39;00m file:\n\u001b[0;32m      4\u001b[0m         file\u001b[38;5;241m.\u001b[39mread()\n",
      "File \u001b[1;32mc:\\Users\\RyanHz\\anaconda3\\Lib\\site-packages\\IPython\\core\\interactiveshell.py:324\u001b[0m, in \u001b[0;36m_modified_open\u001b[1;34m(file, *args, **kwargs)\u001b[0m\n\u001b[0;32m    318\u001b[0m     \u001b[38;5;28;01mraise\u001b[39;00m \u001b[38;5;167;01mValueError\u001b[39;00m(\n\u001b[0;32m    319\u001b[0m         \u001b[38;5;124mf\u001b[39m\u001b[38;5;124m\"\u001b[39m\u001b[38;5;124mIPython won\u001b[39m\u001b[38;5;124m'\u001b[39m\u001b[38;5;124mt let you open fd=\u001b[39m\u001b[38;5;132;01m{\u001b[39;00mfile\u001b[38;5;132;01m}\u001b[39;00m\u001b[38;5;124m by default \u001b[39m\u001b[38;5;124m\"\u001b[39m\n\u001b[0;32m    320\u001b[0m         \u001b[38;5;124m\"\u001b[39m\u001b[38;5;124mas it is likely to crash IPython. If you know what you are doing, \u001b[39m\u001b[38;5;124m\"\u001b[39m\n\u001b[0;32m    321\u001b[0m         \u001b[38;5;124m\"\u001b[39m\u001b[38;5;124myou can use builtins\u001b[39m\u001b[38;5;124m'\u001b[39m\u001b[38;5;124m open.\u001b[39m\u001b[38;5;124m\"\u001b[39m\n\u001b[0;32m    322\u001b[0m     )\n\u001b[1;32m--> 324\u001b[0m \u001b[38;5;28;01mreturn\u001b[39;00m io_open(file, \u001b[38;5;241m*\u001b[39margs, \u001b[38;5;241m*\u001b[39m\u001b[38;5;241m*\u001b[39mkwargs)\n",
      "\u001b[1;31mFileNotFoundError\u001b[0m: [Errno 2] No such file or directory: 'test.txt'",
      "\nDuring handling of the above exception, another exception occurred:\n",
      "\u001b[1;31mException\u001b[0m                                 Traceback (most recent call last)",
      "Cell \u001b[1;32mIn[10], line 8\u001b[0m\n\u001b[0;32m      5\u001b[0m     \u001b[38;5;28mprint\u001b[39m(\u001b[38;5;124m\"\u001b[39m\u001b[38;5;124mArchivo leido correctamente\u001b[39m\u001b[38;5;124m\"\u001b[39m)\n\u001b[0;32m      7\u001b[0m \u001b[38;5;28;01mexcept\u001b[39;00m:\n\u001b[1;32m----> 8\u001b[0m     \u001b[38;5;28;01mraise\u001b[39;00m \u001b[38;5;167;01mException\u001b[39;00m(\u001b[38;5;124m\"\u001b[39m\u001b[38;5;124mEl archivo no se encuentra en el directorio\u001b[39m\u001b[38;5;124m\"\u001b[39m)\n",
      "\u001b[1;31mException\u001b[0m: El archivo no se encuentra en el directorio"
     ]
    }
   ],
   "source": [
    "# Excepciones\n",
    "try:\n",
    "    with open(\"test.txt\") as file:\n",
    "        file.read()\n",
    "    print(\"Archivo leido correctamente\")\n",
    "    \n",
    "except:\n",
    "    raise Exception(\"El archivo no se encuentra en el directorio\")"
   ]
  },
  {
   "cell_type": "code",
   "execution_count": 5,
   "id": "4ec27d9d",
   "metadata": {},
   "outputs": [
    {
     "name": "stdout",
     "output_type": "stream",
     "text": [
      "Archivo no encontrado\n"
     ]
    }
   ],
   "source": [
    "# Try, Except\n",
    "try:\n",
    "    with open(\"test.txt\") as file:\n",
    "        file.read()\n",
    "except:\n",
    "    print(\"Archivo no encontrado\")"
   ]
  },
  {
   "cell_type": "code",
   "execution_count": 7,
   "id": "20178847",
   "metadata": {},
   "outputs": [
    {
     "name": "stdout",
     "output_type": "stream",
     "text": [
      "Archivo no encontrado\n",
      "Proceso finalizado\n"
     ]
    }
   ],
   "source": [
    "# Try, Except, Else, Finally\n",
    "try:\n",
    "    with open(\"test.txt\") as file:\n",
    "        file.read()\n",
    "except:\n",
    "    print(\"Archivo no encontrado\")\n",
    "else:\n",
    "    print(\"Archivo leido correctamente\")\n",
    "finally:\n",
    "    print(\"Proceso finalizado\")"
   ]
  },
  {
   "cell_type": "code",
   "execution_count": 6,
   "id": "c224085f",
   "metadata": {},
   "outputs": [
    {
     "name": "stdout",
     "output_type": "stream",
     "text": [
      "26\n"
     ]
    },
    {
     "ename": "ZeroDivisionError",
     "evalue": "division by zero",
     "output_type": "error",
     "traceback": [
      "\u001b[1;31m---------------------------------------------------------------------------\u001b[0m",
      "\u001b[1;31mZeroDivisionError\u001b[0m                         Traceback (most recent call last)",
      "Cell \u001b[1;32mIn[6], line 10\u001b[0m\n\u001b[0;32m      7\u001b[0m resultado_suma \u001b[38;5;241m=\u001b[39m (a \u001b[38;5;241m+\u001b[39m b \u001b[38;5;241m+\u001b[39m d) \u001b[38;5;241m+\u001b[39m c\n\u001b[0;32m      8\u001b[0m \u001b[38;5;28mprint\u001b[39m(resultado_suma)\n\u001b[1;32m---> 10\u001b[0m div_cero \u001b[38;5;241m=\u001b[39m resultado_suma \u001b[38;5;241m/\u001b[39m \u001b[38;5;241m0\u001b[39m\n\u001b[0;32m     11\u001b[0m \u001b[38;5;28mprint\u001b[39m(div_cero)\n",
      "\u001b[1;31mZeroDivisionError\u001b[0m: division by zero"
     ]
    }
   ],
   "source": [
    "# Debugging\n",
    "a = 7\n",
    "b = 5\n",
    "c = 10 \n",
    "d = 4\n",
    "\n",
    "resultado_suma = (a + b + d) + c\n",
    "print(resultado_suma)\n",
    "\n",
    "div_cero = resultado_suma / 0\n",
    "print(div_cero)"
   ]
  },
  {
   "cell_type": "code",
   "execution_count": null,
   "id": "b13e3d07",
   "metadata": {},
   "outputs": [],
   "source": []
  }
 ],
 "metadata": {
  "kernelspec": {
   "display_name": "base",
   "language": "python",
   "name": "python3"
  },
  "language_info": {
   "codemirror_mode": {
    "name": "ipython",
    "version": 3
   },
   "file_extension": ".py",
   "mimetype": "text/x-python",
   "name": "python",
   "nbconvert_exporter": "python",
   "pygments_lexer": "ipython3",
   "version": "3.13.5"
  }
 },
 "nbformat": 4,
 "nbformat_minor": 5
}
