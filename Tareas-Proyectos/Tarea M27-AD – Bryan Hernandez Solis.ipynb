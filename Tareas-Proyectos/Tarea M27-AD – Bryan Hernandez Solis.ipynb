{
 "cells": [
  {
   "cell_type": "markdown",
   "id": "12903243",
   "metadata": {},
   "source": [
    "# Para esta Tarea:\n",
    "Generar un archivo tipo Notebook de Python que contenga el código fuente de varios ejercicios aplicados a los conceptos vistos:\n",
    "\n",
    "- Aplicar los 3 puntos anteriores a un ejemplo donde se busca un archivo “test.txt” que NO existe en el directorio donde se está buscando.  \n",
    "- Generar las excepciones y mensajes de error correspondientes. \n",
    "- Excepciones y las funciones TRY/EXCEPT \n",
    "- Ejemplos con TRY/EXCEPT/ELSE/FINALLY \n",
    "- Debugging de archivos Python. Generar una celda con una operación matemática simple (p.ej. La suma de 4 números y esta suma dividida para cero), y mostrar los diferentes pasos que se siguieron haciendo su debugging"
   ]
  },
  {
   "cell_type": "code",
   "execution_count": 8,
   "id": "4265da57",
   "metadata": {},
   "outputs": [
    {
     "ename": "SyntaxError",
     "evalue": "invalid syntax (2036226790.py, line 6)",
     "output_type": "error",
     "traceback": [
      "\u001b[1;36m  Cell \u001b[1;32mIn[8], line 6\u001b[1;36m\u001b[0m\n\u001b[1;33m    error = raise Exception(\"El archivo no se encuentra en el directorio\")\u001b[0m\n\u001b[1;37m            ^\u001b[0m\n\u001b[1;31mSyntaxError\u001b[0m\u001b[1;31m:\u001b[0m invalid syntax\n"
     ]
    }
   ],
   "source": [
    "# Excepciones\n",
    "try:\n",
    "    with open(\"test.txt\") as file:\n",
    "        file.read()\n",
    "except:\n",
    "    error = raise Exception(\"El archivo no se encuentra en el directorio\")\n",
    "    print(error)"
   ]
  },
  {
   "cell_type": "code",
   "execution_count": 5,
   "id": "4ec27d9d",
   "metadata": {},
   "outputs": [
    {
     "name": "stdout",
     "output_type": "stream",
     "text": [
      "Archivo no encontrado\n"
     ]
    }
   ],
   "source": [
    "# Try, Except\n",
    "try:\n",
    "    with open(\"test.txt\") as file:\n",
    "        file.read()\n",
    "except:\n",
    "    print(\"Archivo no encontrado\")"
   ]
  },
  {
   "cell_type": "code",
   "execution_count": 7,
   "id": "20178847",
   "metadata": {},
   "outputs": [
    {
     "name": "stdout",
     "output_type": "stream",
     "text": [
      "Archivo no encontrado\n",
      "Proceso finalizado\n"
     ]
    }
   ],
   "source": [
    "# Try, Except, Else, Finally\n",
    "try:\n",
    "    with open(\"test.txt\") as file:\n",
    "        file.read()\n",
    "except:\n",
    "    print(\"Archivo no encontrado\")\n",
    "else:\n",
    "    print(\"Archivo leido correctamente\")\n",
    "finally:\n",
    "    print(\"Proceso finalizado\")"
   ]
  },
  {
   "cell_type": "code",
   "execution_count": 4,
   "id": "c224085f",
   "metadata": {},
   "outputs": [],
   "source": [
    "# Debugging"
   ]
  },
  {
   "cell_type": "code",
   "execution_count": null,
   "id": "b13e3d07",
   "metadata": {},
   "outputs": [],
   "source": []
  }
 ],
 "metadata": {
  "kernelspec": {
   "display_name": "base",
   "language": "python",
   "name": "python3"
  },
  "language_info": {
   "codemirror_mode": {
    "name": "ipython",
    "version": 3
   },
   "file_extension": ".py",
   "mimetype": "text/x-python",
   "name": "python",
   "nbconvert_exporter": "python",
   "pygments_lexer": "ipython3",
   "version": "3.13.5"
  }
 },
 "nbformat": 4,
 "nbformat_minor": 5
}
