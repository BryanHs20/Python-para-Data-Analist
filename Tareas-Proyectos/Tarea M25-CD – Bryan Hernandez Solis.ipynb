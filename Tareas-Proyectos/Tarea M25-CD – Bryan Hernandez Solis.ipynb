{
 "cells": [
  {
   "cell_type": "markdown",
   "id": "f9dcc20b",
   "metadata": {},
   "source": [
    "# Generar un archivo tipo Notebook de Python que contenga el código fuente de varios ejercicios aplicados a los conceptos vistos: \n",
    "\n",
    "- Función lambda para obtener la raíz cuadrada de un número.\n",
    "- Función map, para obtener el largo de una cadena de palabras. (Tip! La cadena tiene que ser dividida en palabras antes de empezar. )\n",
    "- Función reduce, que sirva para calcular el producto de una lista \n",
    "- Función filter que sirva para encontrar palabras que contengan mayúsculas o números en un listado \n",
    "\n",
    "Por cada ejercicio es necesario realizar el código en Python sin utilizar la función estudiada, y además generar el código utilizando la función estudiada. Incluir un ejemplo por cada una."
   ]
  },
  {
   "cell_type": "markdown",
   "id": "1326f7e0",
   "metadata": {},
   "source": [
    "# Lambda\n",
    "Función lambda para obtener la raíz cuadrada de un número."
   ]
  },
  {
   "cell_type": "code",
   "execution_count": 14,
   "id": "18c8b181",
   "metadata": {},
   "outputs": [
    {
     "name": "stdout",
     "output_type": "stream",
     "text": [
      "La rais cuadrada de 2 es 1.4142135623730951\n"
     ]
    }
   ],
   "source": [
    "# Con la funcion lambda\n",
    "numero = int(input(\"Coloca un numero para saber su rais cuadrada: \"))\n",
    "\n",
    "rais = lambda x: x ** 0.5\n",
    "\n",
    "print(f\"La rais cuadrada de {numero} es {rais(numero)}\")"
   ]
  },
  {
   "cell_type": "code",
   "execution_count": null,
   "id": "da2d501b",
   "metadata": {},
   "outputs": [
    {
     "name": "stdout",
     "output_type": "stream",
     "text": [
      "La rais cuadra de 2 es 1.4142135623730951\n"
     ]
    }
   ],
   "source": [
    "# Sin la funcion lambda\n",
    "num = int(input(\"Coloca un numero para saber su rais cuadrada: \"))\n",
    "def rais_num(num):\n",
    "    return num ** 0.5\n",
    "\n",
    "print(f\"La rais cuadra de {num} es {rais_num(num)}\")"
   ]
  },
  {
   "cell_type": "markdown",
   "id": "609bf9cd",
   "metadata": {},
   "source": [
    "# Map\n",
    "Función map, para obtener el largo de una cadena de palabras. (Tip! La cadena tiene que ser dividida en palabras antes de empezar. )"
   ]
  },
  {
   "cell_type": "code",
   "execution_count": 22,
   "id": "10b56cf3",
   "metadata": {},
   "outputs": [
    {
     "name": "stdout",
     "output_type": "stream",
     "text": [
      "[4, 4, 5]\n"
     ]
    }
   ],
   "source": [
    "# Con la funcion map\n",
    "# cadena = [\"Hola\", \"mi\", \"nombre\", \"es\", \"Ryan\"]\n",
    "cadena = input(\"Coloca una cadena de textos para saber su longitud (separar con espacios): \").split()\n",
    "\n",
    "palabra = list(map(len, cadena))\n",
    "print(list(palabra))"
   ]
  },
  {
   "cell_type": "code",
   "execution_count": null,
   "id": "93f79bcd",
   "metadata": {},
   "outputs": [
    {
     "name": "stdout",
     "output_type": "stream",
     "text": [
      "[4, 4, 5]\n"
     ]
    }
   ],
   "source": [
    "# Sin la funcion map\n",
    "\n",
    "def long_word(word):\n",
    "    list_word = []\n",
    "\n",
    "    for i in word:\n",
    "        list_word.append(len(i))\n",
    "    return list_word\n",
    "\n",
    "# string = [\"Hola\", \"mi\", \"nombre\", \"es\", \"Ryan\"]\n",
    "string = input(\"Coloca una cadena de textos para saber su longitud (separar con espacios): \").split()\n",
    "print(list(long_word(string)))"
   ]
  },
  {
   "cell_type": "markdown",
   "id": "377fd37b",
   "metadata": {},
   "source": [
    "# Reduce\n",
    "Función reduce, que sirva para calcular el producto de una lista "
   ]
  },
  {
   "cell_type": "code",
   "execution_count": 5,
   "id": "fa8ca7d9",
   "metadata": {},
   "outputs": [
    {
     "name": "stdout",
     "output_type": "stream",
     "text": [
      "15\n"
     ]
    }
   ],
   "source": [
    "# Con la funcion reduce\n",
    "from functools import reduce\n",
    "\n",
    "lista = [1,2,3,4,5]\n",
    "\n",
    "final = reduce(lambda x, y: x + y, lista)\n",
    "print(final)"
   ]
  },
  {
   "cell_type": "code",
   "execution_count": null,
   "id": "c23d13bc",
   "metadata": {},
   "outputs": [
    {
     "name": "stdout",
     "output_type": "stream",
     "text": [
      "21\n"
     ]
    }
   ],
   "source": [
    "# Sin la funcion reduce\n",
    "lista = [1,2,3,4,5,6]\n",
    "\n",
    "def sum_list(num):\n",
    "    total = 0\n",
    "    for i in num:\n",
    "        total += i\n",
    "    return total\n",
    "\n",
    "print(sum_list(lista))"
   ]
  },
  {
   "cell_type": "markdown",
   "id": "66efd07d",
   "metadata": {},
   "source": [
    "# Filter\n",
    "Función filter que sirva para encontrar palabras que contengan mayúsculas o números en un listado "
   ]
  },
  {
   "cell_type": "code",
   "execution_count": 19,
   "id": "23ed0d94",
   "metadata": {},
   "outputs": [
    {
     "name": "stdout",
     "output_type": "stream",
     "text": [
      "['Mundo', 'python3', 'AI2025']\n"
     ]
    }
   ],
   "source": [
    "# Con la funcion filter\n",
    "palabras = [\"hola\", \"Mundo\", \"python3\", \"data\", \"AI2025\", \"visualización\"]\n",
    "\n",
    "def filt(word):\n",
    "    return any(c.isupper() or c.isdigit() for c in word)\n",
    "\n",
    "print(list(filter(filt, palabras)))"
   ]
  },
  {
   "cell_type": "code",
   "execution_count": 20,
   "id": "410e48d9",
   "metadata": {},
   "outputs": [
    {
     "name": "stdout",
     "output_type": "stream",
     "text": [
      "['Mundo', 'python3', 'AI2025']\n"
     ]
    }
   ],
   "source": [
    "# Sin la funcion filter\n",
    "\n",
    "def filtrado(words):\n",
    "    resultado = []\n",
    "\n",
    "    for i in words:\n",
    "        if any(c.isupper() or c.isdigit() for c in i):\n",
    "            resultado.append(i)\n",
    "    return resultado\n",
    "\n",
    "print(filtrado(palabras))"
   ]
  }
 ],
 "metadata": {
  "kernelspec": {
   "display_name": "base",
   "language": "python",
   "name": "python3"
  },
  "language_info": {
   "codemirror_mode": {
    "name": "ipython",
    "version": 3
   },
   "file_extension": ".py",
   "mimetype": "text/x-python",
   "name": "python",
   "nbconvert_exporter": "python",
   "pygments_lexer": "ipython3",
   "version": "3.13.5"
  }
 },
 "nbformat": 4,
 "nbformat_minor": 5
}
