{
 "cells": [
  {
   "cell_type": "markdown",
   "id": "fcc6c9be",
   "metadata": {},
   "source": [
    "# Para esta Tarea:\n",
    "- Generar un archivo tipo Notebook de Python que contenga el código fuente de varios ejercicios aplicados a los conceptos vistos: \n",
    "- Descargar el archivo “Height of Male and Female by Country 2022.csv” desde aqui.\n",
    "- Cambiar directorio a un directorio de su preferencia\n",
    "- Leer el archivo CSV mencionado \n",
    "- Imprimir las primeras 50 líneas\n",
    "- Calcular la media, mínima y máxima altura de hombres y mujeres del data set completo \n",
    "- Obtener la data de alturas de su país de origen "
   ]
  },
  {
   "cell_type": "code",
   "execution_count": 89,
   "id": "de905a31",
   "metadata": {},
   "outputs": [],
   "source": [
    "import csv\n",
    "from statistics import mean, median, mode, stdev\n",
    "import pandas as pd\n",
    "\n",
    "# Leemos el archivo CSV\n",
    "file = open(\"../../Archivos-Analisis/Height of Male and Female by Country 2022.csv\", encoding=\"utf-8\")\n",
    "\n",
    "csvreader = csv.reader(file)"
   ]
  },
  {
   "cell_type": "code",
   "execution_count": 90,
   "id": "3c1f47b3",
   "metadata": {},
   "outputs": [
    {
     "data": {
      "text/html": [
       "<div>\n",
       "<style scoped>\n",
       "    .dataframe tbody tr th:only-of-type {\n",
       "        vertical-align: middle;\n",
       "    }\n",
       "\n",
       "    .dataframe tbody tr th {\n",
       "        vertical-align: top;\n",
       "    }\n",
       "\n",
       "    .dataframe thead th {\n",
       "        text-align: right;\n",
       "    }\n",
       "</style>\n",
       "<table border=\"1\" class=\"dataframe\">\n",
       "  <thead>\n",
       "    <tr style=\"text-align: right;\">\n",
       "      <th></th>\n",
       "      <th>Rank</th>\n",
       "      <th>Country Name</th>\n",
       "      <th>Male Height in Cm</th>\n",
       "      <th>Female Height in Cm</th>\n",
       "      <th>Male Height in Ft</th>\n",
       "      <th>Female Height in Ft</th>\n",
       "    </tr>\n",
       "  </thead>\n",
       "  <tbody>\n",
       "    <tr>\n",
       "      <th>0</th>\n",
       "      <td>1</td>\n",
       "      <td>Netherlands</td>\n",
       "      <td>183.78</td>\n",
       "      <td>170.36</td>\n",
       "      <td>6.03</td>\n",
       "      <td>5.59</td>\n",
       "    </tr>\n",
       "    <tr>\n",
       "      <th>1</th>\n",
       "      <td>2</td>\n",
       "      <td>Montenegro</td>\n",
       "      <td>183.30</td>\n",
       "      <td>169.96</td>\n",
       "      <td>6.01</td>\n",
       "      <td>5.58</td>\n",
       "    </tr>\n",
       "    <tr>\n",
       "      <th>2</th>\n",
       "      <td>3</td>\n",
       "      <td>Estonia</td>\n",
       "      <td>182.79</td>\n",
       "      <td>168.66</td>\n",
       "      <td>6.00</td>\n",
       "      <td>5.53</td>\n",
       "    </tr>\n",
       "    <tr>\n",
       "      <th>3</th>\n",
       "      <td>4</td>\n",
       "      <td>Bosnia and Herzegovina</td>\n",
       "      <td>182.47</td>\n",
       "      <td>167.47</td>\n",
       "      <td>5.99</td>\n",
       "      <td>5.49</td>\n",
       "    </tr>\n",
       "    <tr>\n",
       "      <th>4</th>\n",
       "      <td>5</td>\n",
       "      <td>Iceland</td>\n",
       "      <td>182.10</td>\n",
       "      <td>168.91</td>\n",
       "      <td>5.97</td>\n",
       "      <td>5.54</td>\n",
       "    </tr>\n",
       "    <tr>\n",
       "      <th>...</th>\n",
       "      <td>...</td>\n",
       "      <td>...</td>\n",
       "      <td>...</td>\n",
       "      <td>...</td>\n",
       "      <td>...</td>\n",
       "      <td>...</td>\n",
       "    </tr>\n",
       "    <tr>\n",
       "      <th>194</th>\n",
       "      <td>195</td>\n",
       "      <td>Mozambique</td>\n",
       "      <td>164.30</td>\n",
       "      <td>155.42</td>\n",
       "      <td>5.39</td>\n",
       "      <td>5.10</td>\n",
       "    </tr>\n",
       "    <tr>\n",
       "      <th>195</th>\n",
       "      <td>196</td>\n",
       "      <td>Papua New Guinea</td>\n",
       "      <td>163.10</td>\n",
       "      <td>156.89</td>\n",
       "      <td>5.35</td>\n",
       "      <td>5.15</td>\n",
       "    </tr>\n",
       "    <tr>\n",
       "      <th>196</th>\n",
       "      <td>197</td>\n",
       "      <td>Solomon Islands</td>\n",
       "      <td>163.07</td>\n",
       "      <td>156.79</td>\n",
       "      <td>5.35</td>\n",
       "      <td>5.14</td>\n",
       "    </tr>\n",
       "    <tr>\n",
       "      <th>197</th>\n",
       "      <td>198</td>\n",
       "      <td>Laos</td>\n",
       "      <td>162.78</td>\n",
       "      <td>153.10</td>\n",
       "      <td>5.34</td>\n",
       "      <td>5.02</td>\n",
       "    </tr>\n",
       "    <tr>\n",
       "      <th>198</th>\n",
       "      <td>199</td>\n",
       "      <td>Timor-Leste</td>\n",
       "      <td>160.13</td>\n",
       "      <td>152.71</td>\n",
       "      <td>5.25</td>\n",
       "      <td>5.01</td>\n",
       "    </tr>\n",
       "  </tbody>\n",
       "</table>\n",
       "<p>199 rows × 6 columns</p>\n",
       "</div>"
      ],
      "text/plain": [
       "     Rank            Country Name  Male Height in Cm  Female Height in Cm  \\\n",
       "0       1             Netherlands             183.78               170.36   \n",
       "1       2              Montenegro             183.30               169.96   \n",
       "2       3                 Estonia             182.79               168.66   \n",
       "3       4  Bosnia and Herzegovina             182.47               167.47   \n",
       "4       5                 Iceland             182.10               168.91   \n",
       "..    ...                     ...                ...                  ...   \n",
       "194   195              Mozambique             164.30               155.42   \n",
       "195   196        Papua New Guinea             163.10               156.89   \n",
       "196   197         Solomon Islands             163.07               156.79   \n",
       "197   198                    Laos             162.78               153.10   \n",
       "198   199             Timor-Leste             160.13               152.71   \n",
       "\n",
       "     Male Height in Ft  Female Height in Ft  \n",
       "0                 6.03                 5.59  \n",
       "1                 6.01                 5.58  \n",
       "2                 6.00                 5.53  \n",
       "3                 5.99                 5.49  \n",
       "4                 5.97                 5.54  \n",
       "..                 ...                  ...  \n",
       "194               5.39                 5.10  \n",
       "195               5.35                 5.15  \n",
       "196               5.35                 5.14  \n",
       "197               5.34                 5.02  \n",
       "198               5.25                 5.01  \n",
       "\n",
       "[199 rows x 6 columns]"
      ]
     },
     "execution_count": 90,
     "metadata": {},
     "output_type": "execute_result"
    }
   ],
   "source": [
    "df = pd.read_csv(\"../../Archivos-Analisis/Height of Male and Female by Country 2022.csv\")\n",
    "df"
   ]
  },
  {
   "cell_type": "code",
   "execution_count": 91,
   "id": "f157f260",
   "metadata": {},
   "outputs": [
    {
     "name": "stdout",
     "output_type": "stream",
     "text": [
      "[['Rank', 'Country Name', 'Male Height in Cm', 'Female Height in Cm', 'Male Height in Ft', 'Female Height in Ft'], ['1', 'Netherlands', '183.78', '170.36', '6.03', '5.59'], ['2', 'Montenegro', '183.30', '169.96', '6.01', '5.58'], ['3', 'Estonia', '182.79', '168.66', '6.00', '5.53'], ['4', 'Bosnia and Herzegovina', '182.47', '167.47', '5.99', '5.49'], ['5', 'Iceland', '182.10', '168.91', '5.97', '5.54'], ['6', 'Denmark', '181.89', '169.47', '5.97', '5.56'], ['7', 'Czech Republic', '181.19', '167.96', '5.94', '5.51'], ['8', 'Latvia', '181.17', '168.81', '5.94', '5.54'], ['9', 'Slovakia', '181.02', '167.12', '5.94', '5.48'], ['10', 'Slovenia', '180.98', '167.20', '5.94', '5.49'], ['11', 'Ukraine', '180.98', '166.62', '5.94', '5.47'], ['12', 'Croatia', '180.76', '166.80', '5.93', '5.47'], ['13', 'Serbia', '180.74', '168.29', '5.93', '5.52'], ['14', 'Lithuania', '180.72', '167.63', '5.93', '5.50'], ['15', 'Poland', '180.69', '165.78', '5.93', '5.44'], ['16', 'Finland', '180.57', '166.48', '5.92', '5.46'], ['17', 'Norway', '180.48', '166.45', '5.92', '5.46'], ['18', 'Sweden', '180.46', '166.67', '5.92', '5.47'], ['19', 'Germany', '180.28', '166.18', '5.91', '5.45'], ['20', 'Dominica', '180.15', '166.89', '5.91', '5.48'], ['21', 'Bermuda', '179.72', '166.11', '5.90', '5.45'], ['22', 'Puerto Rico', '179.48', '163.06', '5.89', '5.35'], ['23', 'Greece', '179.26', '165.81', '5.88', '5.44'], ['24', 'Belgium', '179.09', '163.40', '5.88', '5.36'], ['25', 'Ireland', '179.04', '164.50', '5.87', '5.40'], ['26', 'Lebanon', '178.96', '163.67', '5.87', '5.37'], ['27', 'Andorra', '178.84', '165.53', '5.87', '5.43'], ['28', 'Antigua and Barbuda', '178.84', '165.72', '5.87', '5.44'], ['29', 'Australia', '178.77', '164.67', '5.87', '5.40'], ['30', 'Canada', '178.75', '164.73', '5.86', '5.40'], ['31', 'Switzerland', '178.73', '164.33', '5.86', '5.39'], ['32', 'Grenada', '178.70', '165.99', '5.86', '5.45'], ['33', 'Belarus', '178.69', '166.93', '5.86', '5.48'], ['34', 'France', '178.60', '164.49', '5.86', '5.40'], ['35', 'Austria', '178.52', '166.93', '5.86', '5.48'], ['36', 'Luxembourg', '178.46', '165.07', '5.86', '5.42'], ['37', 'Cook Islands', '178.32', '167.31', '5.85', '5.49'], ['38', 'French Polynesia', '178.32', '166.52', '5.85', '5.46'], ['39', 'United Kingdom', '178.21', '163.94', '5.85', '5.38'], ['40', 'Romania', '177.82', '164.73', '5.83', '5.40'], ['41', 'New Zealand', '177.72', '164.66', '5.83', '5.40'], ['42', 'Saint Vincent and the Grenadines', '177.49', '165.30', '5.82', '5.42'], ['43', 'Niue', '177.19', '167.03', '5.81', '5.48'], ['44', 'American Samoa', '177.09', '167.55', '5.81', '5.50'], ['45', 'Barbados', '177.03', '165.66', '5.81', '5.44'], ['46', 'Jamaica', '176.97', '164.32', '5.81', '5.39'], ['47', 'United States', '176.94', '163.31', '5.81', '5.36'], ['48', 'Tunisia', '176.85', '161.69', '5.80', '5.30'], ['49', 'Russia', '176.65', '164.52', '5.80', '5.40']]\n"
     ]
    }
   ],
   "source": [
    "# Extraccion de los datos en una lista\n",
    "data = []\n",
    "\n",
    "for i in csvreader:\n",
    "    data.append(i)\n",
    "\n",
    "# Imprimimos los primeros 50 registros\n",
    "print(data [:50])"
   ]
  },
  {
   "cell_type": "code",
   "execution_count": 97,
   "id": "5174086b",
   "metadata": {},
   "outputs": [],
   "source": [
    "# Convertimos a un array\n",
    "import numpy as np\n",
    "data_arr = np.array(data)"
   ]
  },
  {
   "cell_type": "code",
   "execution_count": 118,
   "id": "146ebe6a",
   "metadata": {},
   "outputs": [],
   "source": [
    "# Asignamos las columnas a variables\n",
    "\n",
    "# Hombres\n",
    "maleHeight = data_arr[:,2]\n",
    "\n",
    "# Mujeres\n",
    "femaleHeight = data_arr[:,3]"
   ]
  },
  {
   "cell_type": "code",
   "execution_count": 119,
   "id": "74b2a8a1",
   "metadata": {},
   "outputs": [
    {
     "name": "stdout",
     "output_type": "stream",
     "text": [
      "Alturas de hombres procesadas: [183.78, 183.3, 182.79, 182.47, 182.1, 181.89, 181.19, 181.17, 181.02, 180.98, 180.98, 180.76, 180.74, 180.72, 180.69, 180.57, 180.48, 180.46, 180.28, 180.15, 179.72, 179.48, 179.26, 179.09, 179.04, 178.96, 178.84, 178.84, 178.77, 178.75, 178.73, 178.7, 178.69, 178.6, 178.52, 178.46, 178.32, 178.32, 178.21, 177.82, 177.72, 177.49, 177.19, 177.09, 177.03, 176.97, 176.94, 176.85, 176.65, 176.59, 176.43, 176.43, 176.39, 176.36, 176.35, 176.18, 176.11, 176.06, 176.03, 175.98, 175.98, 175.9, 175.73, 175.66, 175.62, 175.59, 175.52, 175.5, 175.11, 175.05, 175.04, 175.02, 174.96, 174.84, 174.83, 174.76, 174.69, 174.65, 174.57, 174.51, 174.42, 174.42, 174.4, 174.38, 174.37, 174.37, 174.32, 174.17, 174.08, 174.07, 174.04, 174.0, 173.98, 173.84, 173.81, 173.79, 173.71, 173.67, 173.56, 173.53, 173.53, 173.5, 173.27, 173.16, 173.01, 172.88, 172.76, 172.75, 172.23, 172.15, 172.13, 172.07, 172.06, 171.89, 171.85, 171.84, 171.7, 171.66, 171.64, 171.61, 171.55, 171.3, 171.23, 171.22, 170.94, 170.77, 170.7, 170.69, 170.67, 170.67, 170.67, 170.62, 170.6, 170.52, 170.48, 170.46, 170.37, 170.3, 170.29, 170.26, 170.19, 170.14, 170.09, 169.91, 169.75, 169.63, 169.59, 169.57, 169.57, 169.41, 169.2, 169.01, 168.89, 168.84, 168.74, 168.6, 168.5, 168.46, 168.44, 168.43, 168.36, 168.29, 168.23, 168.18, 168.17, 168.1, 168.07, 167.92, 167.87, 167.72, 167.62, 167.34, 167.33, 167.32, 167.05, 166.98, 166.75, 166.7, 166.5, 166.43, 166.31, 166.26, 166.02, 165.68, 165.54, 165.48, 165.35, 165.26, 165.23, 165.16, 165.08, 164.42, 164.36, 164.36, 164.3, 163.1, 163.07, 162.78, 160.13]\n",
      "Alturas de mujeres procesadas: [170.36, 169.96, 168.66, 167.47, 168.91, 169.47, 167.96, 168.81, 167.12, 167.2, 166.62, 166.8, 168.29, 167.63, 165.78, 166.48, 166.45, 166.67, 166.18, 166.89, 166.11, 163.06, 165.81, 163.4, 164.5, 163.67, 165.53, 165.72, 164.67, 164.73, 164.33, 165.99, 166.93, 164.49, 166.93, 165.07, 167.31, 166.52, 163.94, 164.73, 164.66, 165.3, 167.03, 167.55, 165.66, 164.32, 163.31, 161.69, 164.52, 162.55, 165.52, 160.88, 162.56, 161.8, 161.18, 163.92, 162.03, 166.08, 163.38, 162.22, 163.24, 162.47, 162.41, 163.46, 161.18, 162.96, 163.23, 161.74, 166.08, 161.28, 162.35, 161.99, 160.1, 159.46, 160.62, 161.22, 161.22, 161.21, 160.88, 162.26, 161.81, 163.82, 163.46, 162.95, 162.83, 161.23, 161.56, 164.58, 160.53, 162.23, 160.36, 161.37, 164.28, 161.4, 159.76, 158.75, 162.78, 159.85, 160.13, 160.04, 160.7, 161.3, 160.72, 162.06, 158.94, 159.42, 158.29, 160.55, 160.58, 159.57, 160.41, 160.36, 158.5, 161.33, 157.96, 162.12, 158.44, 160.2, 159.38, 159.42, 158.14, 163.57, 158.78, 159.86, 160.29, 159.82, 158.75, 159.85, 159.89, 156.39, 158.84, 159.52, 157.58, 158.12, 160.05, 159.43, 159.81, 158.86, 157.9, 159.81, 158.19, 159.13, 161.04, 155.62, 160.26, 158.58, 155.18, 159.66, 157.82, 158.92, 157.06, 159.65, 158.43, 157.15, 158.53, 156.3, 156.11, 158.1, 158.4, 158.12, 161.73, 160.48, 158.65, 158.05, 158.72, 155.58, 155.88, 156.72, 154.28, 156.54, 157.32, 155.08, 154.77, 155.25, 155.15, 156.89, 154.39, 154.71, 155.18, 157.34, 154.9, 154.36, 156.72, 156.14, 160.06, 156.54, 154.75, 154.76, 154.14, 153.06, 152.38, 154.76, 152.39, 150.91, 155.42, 156.89, 156.79, 153.1, 152.71]\n"
     ]
    }
   ],
   "source": [
    "# Hombres\n",
    "cleaned_male_height = []\n",
    "for item in maleHeight:\n",
    "    try:\n",
    "        # Reemplaza comas por puntos y convierte a float\n",
    "        cleaned_male_height.append(float(item.replace(',', '.')))\n",
    "    except (ValueError, AttributeError):\n",
    "        # Si no se puede convertir (es texto, está vacío, etc.), lo ignora.\n",
    "        # 'AttributeError' se añade por si 'item' no es un string (ej. ya es un número o None)\n",
    "        print(f\"Valor ignorado en 'maleHeight' por no ser un número válido: '{item}'\")\n",
    "        pass\n",
    "\n",
    "maleHeight = cleaned_male_height\n",
    "\n",
    "\n",
    "# Mujeres\n",
    "cleaned_female_height = []\n",
    "for item in femaleHeight:\n",
    "    try:\n",
    "        # Reemplaza comas por puntos y convierte a float\n",
    "        cleaned_female_height.append(float(item.replace(',', '.')))\n",
    "    except (ValueError, AttributeError):\n",
    "        # Si no se puede convertir, lo ignora.\n",
    "        print(f\"Valor ignorado en 'femaleHeight' por no ser un número válido: '{item}'\")\n",
    "        pass\n",
    "\n",
    "femaleHeight = cleaned_female_height\n",
    "\n",
    "# Corroboramos\n",
    "print(\"Alturas de hombres procesadas:\", maleHeight)\n",
    "print(\"Alturas de mujeres procesadas:\", femaleHeight)\n"
   ]
  },
  {
   "cell_type": "code",
   "execution_count": 120,
   "id": "3b5a6e40",
   "metadata": {},
   "outputs": [],
   "source": [
    "# Transformamos el tipo de array de string a float\n",
    "# Hombres\n",
    "maleHeight = [float(numeric_string) for numeric_string in maleHeight]\n",
    "\n",
    "\n",
    "# Mujeres\n",
    "femaleHeight = [float(numeric_string) for numeric_string in femaleHeight]"
   ]
  },
  {
   "cell_type": "code",
   "execution_count": 121,
   "id": "5a41d885",
   "metadata": {},
   "outputs": [],
   "source": [
    "# Calcular la media, mínima y máxima altura de hombres y mujeres del data set completo\n",
    "\n",
    "# Hombres\n",
    "mean_maleHeight = mean(maleHeight)\n",
    "min_maleHeight = min(maleHeight)\n",
    "max_maleHeight = max(maleHeight)\n",
    "\n",
    "# Mujeres\n",
    "mean_femaleHeight = mean(femaleHeight)\n",
    "min_femaleHeight = min(femaleHeight)\n",
    "max_femaleHeight = max(femaleHeight)"
   ]
  },
  {
   "cell_type": "code",
   "execution_count": 122,
   "id": "c2da47fb",
   "metadata": {},
   "outputs": [
    {
     "name": "stdout",
     "output_type": "stream",
     "text": [
      "La estatura media de los hombres es: 173.09 cm\n",
      "La altura minima de los hombres es: 160.13 cm\n",
      "La altura maxima de los hombres es: 183.78 cm\n"
     ]
    }
   ],
   "source": [
    "print(f\"La estatura media de los hombres es: {mean_maleHeight:.2f} cm\")\n",
    "print(f\"La altura minima de los hombres es: {min_maleHeight:.2f} cm\")\n",
    "print(f\"La altura maxima de los hombres es: {max_maleHeight:.2f} cm\")"
   ]
  },
  {
   "cell_type": "code",
   "execution_count": 123,
   "id": "2056601d",
   "metadata": {},
   "outputs": [
    {
     "name": "stdout",
     "output_type": "stream",
     "text": [
      "La estatura media de las mujeres es: 160.94 cm\n",
      "La altura minima de las muejeres es: 150.91 cm\n",
      "La altura maxima de las mujeres es: 170.36 cm\n"
     ]
    }
   ],
   "source": [
    "print(f\"La estatura media de las mujeres es: {mean_femaleHeight:.2f} cm\")\n",
    "print(f\"La altura minima de las muejeres es: {min_femaleHeight:.2f} cm\")\n",
    "print(f\"La altura maxima de las mujeres es: {max_femaleHeight:.2f} cm\")"
   ]
  },
  {
   "cell_type": "code",
   "execution_count": null,
   "id": "a23f4045",
   "metadata": {},
   "outputs": [
    {
     "name": "stdout",
     "output_type": "stream",
     "text": [
      "    Country Name  Male Height in Cm  Female Height in Cm\n",
      "138       Mexico             170.29                157.9\n"
     ]
    }
   ],
   "source": [
    "# Obtener la altura media de hombres y mujeres de un país en específico\n",
    "country = 'Mexico'\n",
    "\n",
    "# Filtra el DataFrame para obtener la fila correspondiente al país específico\n",
    "country_heigth = df[df[\"Country Name\"] == country][[\"Country Name\", \"Male Height in Cm\", \"Female Height in Cm\"]]\n",
    "\n",
    "print(country_heigth)"
   ]
  },
  {
   "cell_type": "code",
   "execution_count": null,
   "id": "d8cbef6a",
   "metadata": {},
   "outputs": [],
   "source": []
  }
 ],
 "metadata": {
  "kernelspec": {
   "display_name": "base",
   "language": "python",
   "name": "python3"
  },
  "language_info": {
   "codemirror_mode": {
    "name": "ipython",
    "version": 3
   },
   "file_extension": ".py",
   "mimetype": "text/x-python",
   "name": "python",
   "nbconvert_exporter": "python",
   "pygments_lexer": "ipython3",
   "version": "3.13.5"
  }
 },
 "nbformat": 4,
 "nbformat_minor": 5
}
