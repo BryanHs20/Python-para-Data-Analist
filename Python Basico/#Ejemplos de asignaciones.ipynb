{
 "cells": [
  {
   "cell_type": "code",
   "execution_count": 2,
   "id": "d92cff89-1f2d-428d-9a32-72d65adec800",
   "metadata": {},
   "outputs": [
    {
     "name": "stdout",
     "output_type": "stream",
     "text": [
      "2\n"
     ]
    }
   ],
   "source": [
    "#Ejemplos de asignaciones\n",
    "x = 2\n",
    "print(x)"
   ]
  },
  {
   "cell_type": "code",
   "execution_count": 3,
   "id": "59c96078-a6ce-462f-a2cd-5543b94d5c6c",
   "metadata": {},
   "outputs": [
    {
     "name": "stdout",
     "output_type": "stream",
     "text": [
      "5\n"
     ]
    }
   ],
   "source": [
    "x = x + 3\n",
    "print(x)"
   ]
  },
  {
   "cell_type": "code",
   "execution_count": 4,
   "id": "cdd1657b-0601-4bcd-8e7d-6710f4bcd24e",
   "metadata": {},
   "outputs": [
    {
     "name": "stdout",
     "output_type": "stream",
     "text": [
      "25\n"
     ]
    }
   ],
   "source": [
    "y = x ** 2\n",
    "print(y)"
   ]
  },
  {
   "cell_type": "code",
   "execution_count": 5,
   "id": "38d1d8b5-d62b-4567-b2b7-8b85cbd2c338",
   "metadata": {},
   "outputs": [
    {
     "name": "stdout",
     "output_type": "stream",
     "text": [
      "3\n"
     ]
    }
   ],
   "source": [
    "z = 23 % 5\n",
    "print(z)"
   ]
  },
  {
   "cell_type": "code",
   "execution_count": 6,
   "id": "311dd147-da17-4bcf-91d1-874b5aa99eed",
   "metadata": {},
   "outputs": [
    {
     "name": "stdout",
     "output_type": "stream",
     "text": [
      "10.5\n"
     ]
    }
   ],
   "source": [
    "x = 1+ 2 + 3 *5 / 2\n",
    "print(x)"
   ]
  },
  {
   "cell_type": "code",
   "execution_count": 8,
   "id": "79cfa912-ebf7-45bc-8796-8c534ee687f7",
   "metadata": {},
   "outputs": [
    {
     "name": "stdout",
     "output_type": "stream",
     "text": [
      "11.0\n"
     ]
    }
   ],
   "source": [
    "y = 1+2**3/4*5\n",
    "print(y)"
   ]
  },
  {
   "cell_type": "code",
   "execution_count": 9,
   "id": "f6e7de38-c7a9-4f43-a7ed-0f3b214b254e",
   "metadata": {},
   "outputs": [
    {
     "name": "stdout",
     "output_type": "stream",
     "text": [
      "33.75\n"
     ]
    }
   ],
   "source": [
    "w = (1+2)**3/4*5\n",
    "print(w)"
   ]
  },
  {
   "cell_type": "code",
   "execution_count": 10,
   "id": "ce91ed9b-bb96-4b22-8b51-f90ac30e3378",
   "metadata": {},
   "outputs": [],
   "source": [
    "#Tipos de expresiones\n",
    "#Pueden verificarse mediante el comando *type()*\n",
    "#Cadenas (\"Hola\")\n",
    "#Numeros\n",
    "    #Enteros(int) (4,8,-5)\n",
    "    #Flotantes(float) (50.33,-2.87,0.33)\n",
    "#Se pueden hacer conversiones"
   ]
  },
  {
   "cell_type": "code",
   "execution_count": 11,
   "id": "bdc1c1e4-eb8d-4ffa-a4a6-de627876522e",
   "metadata": {},
   "outputs": [
    {
     "data": {
      "text/plain": [
       "float"
      ]
     },
     "execution_count": 11,
     "metadata": {},
     "output_type": "execute_result"
    }
   ],
   "source": [
    "type(w)"
   ]
  },
  {
   "cell_type": "code",
   "execution_count": 13,
   "id": "dcf649d3-993b-4d7b-af45-668452a8555d",
   "metadata": {},
   "outputs": [
    {
     "name": "stdout",
     "output_type": "stream",
     "text": [
      "Hola\n"
     ]
    }
   ],
   "source": [
    "texto = \"Hola\"\n",
    "print(texto)"
   ]
  },
  {
   "cell_type": "code",
   "execution_count": 14,
   "id": "3df5bfe0-1619-4849-9cf8-63857a64b638",
   "metadata": {},
   "outputs": [
    {
     "data": {
      "text/plain": [
       "str"
      ]
     },
     "execution_count": 14,
     "metadata": {},
     "output_type": "execute_result"
    }
   ],
   "source": [
    "type(texto)"
   ]
  },
  {
   "cell_type": "code",
   "execution_count": 15,
   "id": "5d481edc-f955-4e43-87fb-c67b6fce0734",
   "metadata": {},
   "outputs": [],
   "source": [
    "texto2 = \"Hola\" + \"Buenos dias\""
   ]
  },
  {
   "cell_type": "code",
   "execution_count": 16,
   "id": "9e61183b-f2a3-4b0e-915a-943c3061777d",
   "metadata": {},
   "outputs": [
    {
     "name": "stdout",
     "output_type": "stream",
     "text": [
      "HolaBuenos dias\n"
     ]
    }
   ],
   "source": [
    "print(texto2)"
   ]
  },
  {
   "cell_type": "code",
   "execution_count": 17,
   "id": "06208ac1-60dd-46de-806f-49229a83b5ab",
   "metadata": {},
   "outputs": [
    {
     "ename": "TypeError",
     "evalue": "can only concatenate str (not \"int\") to str",
     "output_type": "error",
     "traceback": [
      "\u001b[1;31m---------------------------------------------------------------------------\u001b[0m",
      "\u001b[1;31mTypeError\u001b[0m                                 Traceback (most recent call last)",
      "Cell \u001b[1;32mIn[17], line 1\u001b[0m\n\u001b[1;32m----> 1\u001b[0m texto2 \u001b[38;5;241m=\u001b[39m texto2 \u001b[38;5;241m+\u001b[39m\u001b[38;5;241m1\u001b[39m\n",
      "\u001b[1;31mTypeError\u001b[0m: can only concatenate str (not \"int\") to str"
     ]
    }
   ],
   "source": [
    "texto2 = texto2 +1"
   ]
  },
  {
   "cell_type": "code",
   "execution_count": 19,
   "id": "74e34919-f307-4819-a2fb-c51a883be170",
   "metadata": {},
   "outputs": [
    {
     "data": {
      "text/plain": [
       "float"
      ]
     },
     "execution_count": 19,
     "metadata": {},
     "output_type": "execute_result"
    }
   ],
   "source": [
    "x = 10\n",
    "y = 15\n",
    "z = x/y\n",
    "type(z)"
   ]
  },
  {
   "cell_type": "code",
   "execution_count": 20,
   "id": "0e4b7570-b836-4e2a-88f3-31fdc2f59ddd",
   "metadata": {},
   "outputs": [
    {
     "name": "stdout",
     "output_type": "stream",
     "text": [
      "0.6666666666666666\n"
     ]
    }
   ],
   "source": [
    "print(z)"
   ]
  },
  {
   "cell_type": "code",
   "execution_count": 25,
   "id": "a7c65a8d-41d3-4d6f-bf4a-884ccb139081",
   "metadata": {},
   "outputs": [
    {
     "name": "stdout",
     "output_type": "stream",
     "text": [
      "1\n"
     ]
    }
   ],
   "source": [
    "z = int(z)\n",
    "print(z)"
   ]
  },
  {
   "cell_type": "code",
   "execution_count": 26,
   "id": "9ba6d0f0-7e1b-43db-ab0b-38ef204cc580",
   "metadata": {},
   "outputs": [
    {
     "data": {
      "text/plain": [
       "int"
      ]
     },
     "execution_count": 26,
     "metadata": {},
     "output_type": "execute_result"
    }
   ],
   "source": [
    "type(x)"
   ]
  },
  {
   "cell_type": "code",
   "execution_count": 27,
   "id": "bce36a7b-a08e-4d6a-970b-3b412e6cc514",
   "metadata": {},
   "outputs": [
    {
     "name": "stdout",
     "output_type": "stream",
     "text": [
      "10.0\n"
     ]
    }
   ],
   "source": [
    "x = float(x)\n",
    "print(x)"
   ]
  },
  {
   "cell_type": "code",
   "execution_count": 29,
   "id": "5dd0f8db-6aba-41ad-9c31-0d043eb3b4a1",
   "metadata": {},
   "outputs": [
    {
     "name": "stdin",
     "output_type": "stream",
     "text": [
      "¿Como te llamas? Aldo\n"
     ]
    },
    {
     "name": "stdout",
     "output_type": "stream",
     "text": [
      "Tu nombre es:  Aldo\n"
     ]
    }
   ],
   "source": [
    "nombre = input(\"¿Como te llamas?\")\n",
    "print(\"Tu nombre es: \", nombre)"
   ]
  },
  {
   "cell_type": "code",
   "execution_count": 30,
   "id": "d23c9668-db71-490b-96d3-eae075d156c4",
   "metadata": {},
   "outputs": [
    {
     "name": "stdin",
     "output_type": "stream",
     "text": [
      "Dame tu edad 15\n"
     ]
    },
    {
     "name": "stdout",
     "output_type": "stream",
     "text": [
      "30\n"
     ]
    }
   ],
   "source": [
    "edad = input(\"Dame tu edad\")\n",
    "resultado = int(edad)*2\n",
    "print(resultado)"
   ]
  },
  {
   "cell_type": "code",
   "execution_count": null,
   "id": "0f089098-de72-44d7-997c-e95d933a8ebd",
   "metadata": {},
   "outputs": [],
   "source": []
  }
 ],
 "metadata": {
  "kernelspec": {
   "display_name": "Python 3 (ipykernel)",
   "language": "python",
   "name": "python3"
  },
  "language_info": {
   "codemirror_mode": {
    "name": "ipython",
    "version": 3
   },
   "file_extension": ".py",
   "mimetype": "text/x-python",
   "name": "python",
   "nbconvert_exporter": "python",
   "pygments_lexer": "ipython3",
   "version": "3.13.5"
  }
 },
 "nbformat": 4,
 "nbformat_minor": 5
}
