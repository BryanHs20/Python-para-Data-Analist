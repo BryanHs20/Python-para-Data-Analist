{
 "cells": [
  {
   "cell_type": "code",
   "execution_count": 2,
   "id": "edcdc12f-0798-4305-b680-7ced9dfd45a6",
   "metadata": {},
   "outputs": [
    {
     "data": {
      "text/plain": [
       "{}"
      ]
     },
     "execution_count": 2,
     "metadata": {},
     "output_type": "execute_result"
    }
   ],
   "source": [
    "elementos = dict()\n",
    "elementos"
   ]
  },
  {
   "cell_type": "code",
   "execution_count": 3,
   "id": "2d1f1fbe-5b69-4f10-9692-7c0e141dd03e",
   "metadata": {},
   "outputs": [
    {
     "data": {
      "text/plain": [
       "{'dienro': 10000, 'dulces': 20, 'amigos': 5}"
      ]
     },
     "execution_count": 3,
     "metadata": {},
     "output_type": "execute_result"
    }
   ],
   "source": [
    "elementos['dienro'] = 10000\n",
    "elementos['dulces'] = 20\n",
    "elementos['amigos'] = 5\n",
    "elementos"
   ]
  },
  {
   "cell_type": "code",
   "execution_count": 4,
   "id": "36fa3e80-6648-40e6-8e20-e4264d70bcaa",
   "metadata": {},
   "outputs": [
    {
     "data": {
      "text/plain": [
       "20"
      ]
     },
     "execution_count": 4,
     "metadata": {},
     "output_type": "execute_result"
    }
   ],
   "source": [
    "elementos['dulces']"
   ]
  },
  {
   "cell_type": "code",
   "execution_count": 7,
   "id": "0863132f-a230-4264-a0a1-97c66508a0cf",
   "metadata": {},
   "outputs": [
    {
     "data": {
      "text/plain": [
       "[20]"
      ]
     },
     "execution_count": 7,
     "metadata": {},
     "output_type": "execute_result"
    }
   ],
   "source": [
    "#En listas\n",
    "lista = list()\n",
    "lista.append(20)\n",
    "lista"
   ]
  },
  {
   "cell_type": "code",
   "execution_count": 8,
   "id": "2335c6eb-bb0c-4284-9734-031c475ca5fc",
   "metadata": {},
   "outputs": [
    {
     "data": {
      "text/plain": [
       "{'edad': 45}"
      ]
     },
     "execution_count": 8,
     "metadata": {},
     "output_type": "execute_result"
    }
   ],
   "source": [
    "#En diccionarios\n",
    "diccionario = {}\n",
    "diccionario['edad'] =45\n",
    "diccionario"
   ]
  },
  {
   "cell_type": "code",
   "execution_count": 3,
   "id": "67cb4e6b-881d-4153-9b26-9452cfb1cad5",
   "metadata": {},
   "outputs": [
    {
     "data": {
      "text/plain": [
       "{'Juan': 2, 'Pedro': 1, 'Jose': 1, 'Ramiro': 1}"
      ]
     },
     "execution_count": 3,
     "metadata": {},
     "output_type": "execute_result"
    }
   ],
   "source": [
    "conteo = dict()\n",
    "nombres = ['Juan', 'Pedro', 'Jose', 'Ramiro', 'Juan']\n",
    "#Para cada nombre en la lista de nombres\n",
    "#Checar si el nombre ya existe en el diccionario \"conteo\"\n",
    "#Si el nombre no esta en la lista, inicializar su frecuencia conm 1\n",
    "#En caso contrario(ya esta en la lista), incremenetar su freceuncia en 1\n",
    "\n",
    "#le estoy diciendo a mi variable nombre, que cheque dentro de mi lista/diccionario, las instrucciones que le dare\n",
    "for nombre in nombres:\n",
    "    #si el valor que se esta revisando NO SE ENCUENTRA en mi dict\n",
    "    if nombre not in conteo:\n",
    "        #Inicializa el valor con al frecuencia de 1\n",
    "        conteo[nombre] = 1\n",
    "    #Sino, aumenta la frecuencia en 1\n",
    "    else:\n",
    "        conteo[nombre] = conteo[nombre] +1\n",
    "conteo"
   ]
  },
  {
   "cell_type": "code",
   "execution_count": 10,
   "id": "a5ea0b28-e526-42c3-91ef-e5746f6de10e",
   "metadata": {},
   "outputs": [
    {
     "data": {
      "text/plain": [
       "<_io.TextIOWrapper name='traba.txt' mode='r' encoding='cp1252'>"
      ]
     },
     "execution_count": 10,
     "metadata": {},
     "output_type": "execute_result"
    }
   ],
   "source": [
    "archivo = open(\"traba.txt\")\n",
    "archivo"
   ]
  },
  {
   "cell_type": "code",
   "execution_count": 11,
   "id": "cdb677d3-0cc1-4c9d-97ab-330b9d6d00f4",
   "metadata": {},
   "outputs": [
    {
     "data": {
      "text/plain": [
       "['El',\n",
       " 'amor',\n",
       " 'es',\n",
       " 'una',\n",
       " 'locura',\n",
       " 'que',\n",
       " 'ni',\n",
       " 'el',\n",
       " 'cura',\n",
       " 'lo',\n",
       " 'curta.',\n",
       " 'Porque',\n",
       " 'si',\n",
       " 'el',\n",
       " 'cura',\n",
       " 'lo',\n",
       " 'cura',\n",
       " 'seria',\n",
       " 'una',\n",
       " 'locura',\n",
       " 'del',\n",
       " 'cura.']"
      ]
     },
     "execution_count": 11,
     "metadata": {},
     "output_type": "execute_result"
    }
   ],
   "source": [
    "for texto in archivo:\n",
    "    palabras = texto.split()\n",
    "palabras"
   ]
  },
  {
   "cell_type": "code",
   "execution_count": 12,
   "id": "409accfb-9062-4ac6-b582-17f0d8cc02ad",
   "metadata": {},
   "outputs": [
    {
     "data": {
      "text/plain": [
       "{'El': 1,\n",
       " 'amor': 1,\n",
       " 'es': 1,\n",
       " 'una': 2,\n",
       " 'locura': 2,\n",
       " 'que': 1,\n",
       " 'ni': 1,\n",
       " 'el': 2,\n",
       " 'cura': 3,\n",
       " 'lo': 2,\n",
       " 'curta.': 1,\n",
       " 'Porque': 1,\n",
       " 'si': 1,\n",
       " 'seria': 1,\n",
       " 'del': 1,\n",
       " 'cura.': 1}"
      ]
     },
     "execution_count": 12,
     "metadata": {},
     "output_type": "execute_result"
    }
   ],
   "source": [
    "conteo = dict()\n",
    "for nombre in palabras:\n",
    "    if nombre not in conteo:\n",
    "        conteo[nombre] = 1\n",
    "    else:\n",
    "        conteo[nombre] = conteo[nombre] +1\n",
    "conteo"
   ]
  },
  {
   "cell_type": "code",
   "execution_count": null,
   "id": "b9380109-bc86-4ac0-80d4-ced7f2132390",
   "metadata": {},
   "outputs": [],
   "source": []
  }
 ],
 "metadata": {
  "kernelspec": {
   "display_name": "Python 3 (ipykernel)",
   "language": "python",
   "name": "python3"
  },
  "language_info": {
   "codemirror_mode": {
    "name": "ipython",
    "version": 3
   },
   "file_extension": ".py",
   "mimetype": "text/x-python",
   "name": "python",
   "nbconvert_exporter": "python",
   "pygments_lexer": "ipython3",
   "version": "3.13.5"
  }
 },
 "nbformat": 4,
 "nbformat_minor": 5
}
