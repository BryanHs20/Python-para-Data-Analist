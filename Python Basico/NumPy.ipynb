{
 "cells": [
  {
   "cell_type": "markdown",
   "id": "e71d3d15-d055-4b34-9989-171bef38b8e0",
   "metadata": {},
   "source": [
    "# Numpy"
   ]
  },
  {
   "cell_type": "code",
   "execution_count": 1,
   "id": "022a95d5-5df8-4787-8c40-44984f10a6b6",
   "metadata": {},
   "outputs": [],
   "source": [
    "import numpy as np"
   ]
  },
  {
   "cell_type": "code",
   "execution_count": 3,
   "id": "2906ce06-569d-4129-9ffa-1e7a529bb0e5",
   "metadata": {},
   "outputs": [
    {
     "data": {
      "text/plain": [
       "array([1, 2, 3, 4, 5])"
      ]
     },
     "execution_count": 3,
     "metadata": {},
     "output_type": "execute_result"
    }
   ],
   "source": [
    "\"\"\"  Creacion de arreglo a partir de una lista  \"\"\"\n",
    "lista1 = [1,2,3,4,5]\n",
    "arreglo1 = np.array(lista1)  ## Convertimos la lista en un arreglo\n",
    "arreglo1"
   ]
  },
  {
   "cell_type": "code",
   "execution_count": 4,
   "id": "8d754782-00ef-4db0-a211-3628c921b868",
   "metadata": {},
   "outputs": [
    {
     "data": {
      "text/plain": [
       "numpy.ndarray"
      ]
     },
     "execution_count": 4,
     "metadata": {},
     "output_type": "execute_result"
    }
   ],
   "source": [
    "type(arreglo1)"
   ]
  },
  {
   "cell_type": "code",
   "execution_count": 18,
   "id": "242ef947-8d4f-4521-8fc0-6880107f7ac8",
   "metadata": {},
   "outputs": [
    {
     "data": {
      "text/plain": [
       "array([[1, 2, 3],\n",
       "       [4, 5, 6],\n",
       "       [7, 8, 9]])"
      ]
     },
     "execution_count": 18,
     "metadata": {},
     "output_type": "execute_result"
    }
   ],
   "source": [
    "\"\"\"  Creacion de un arreglo a partir de una lista de listas\"\"\"\n",
    "\"\"\"  Bi-dimencional\"\"\"\n",
    "lista2 = [[1,2,3],\n",
    "            [4,5,6],\n",
    "            [7,8,9]]\n",
    "arreglo2 = np.array(lista2)\n",
    "arreglo2"
   ]
  },
  {
   "cell_type": "code",
   "execution_count": 8,
   "id": "76fc2155-1e73-49e2-9268-6e09fd2c1f79",
   "metadata": {},
   "outputs": [
    {
     "data": {
      "text/plain": [
       "['a', True, 2]"
      ]
     },
     "execution_count": 8,
     "metadata": {},
     "output_type": "execute_result"
    }
   ],
   "source": [
    "\"\"\"  La desventaja de las listas es que pueden contener diversos tipos de datos\"\"\"\n",
    "list1 = [\"a\", True, 2]\n",
    "list1"
   ]
  },
  {
   "cell_type": "code",
   "execution_count": 13,
   "id": "eaae48ca-1bc3-4415-8dbc-658d754f53c0",
   "metadata": {},
   "outputs": [
    {
     "data": {
      "text/plain": [
       "array(['a', 'True', '2'], dtype='<U21')"
      ]
     },
     "execution_count": 13,
     "metadata": {},
     "output_type": "execute_result"
    }
   ],
   "source": [
    "\"\"\"  Por ende los arreglos solo pueden tener un tipo de dato\"\"\"\n",
    "\"\"\"  Convierte los valores a tipo cadena para usar menos memoria en el sitema\"\"\"\n",
    "arreglo = np.array(list1)\n",
    "arreglo"
   ]
  },
  {
   "cell_type": "code",
   "execution_count": 14,
   "id": "8faf696b-4609-4bf7-a3b9-474520ce80b8",
   "metadata": {},
   "outputs": [
    {
     "data": {
      "text/plain": [
       "array([[0., 0., 0., 0.],\n",
       "       [0., 0., 0., 0.],\n",
       "       [0., 0., 0., 0.],\n",
       "       [0., 0., 0., 0.],\n",
       "       [0., 0., 0., 0.]])"
      ]
     },
     "execution_count": 14,
     "metadata": {},
     "output_type": "execute_result"
    }
   ],
   "source": [
    "\"\"\"  Creacion de arreglos con ceros  \"\"\"\n",
    "arreglo3 = np.zeros((5,4))\n",
    "arreglo3"
   ]
  },
  {
   "cell_type": "code",
   "execution_count": 15,
   "id": "614ac483-139c-457b-91fc-e6f32edd8f4f",
   "metadata": {},
   "outputs": [
    {
     "data": {
      "text/plain": [
       "array([[0.99304125, 0.71604599],\n",
       "       [0.77944604, 0.14034415],\n",
       "       [0.11935292, 0.97732735]])"
      ]
     },
     "execution_count": 15,
     "metadata": {},
     "output_type": "execute_result"
    }
   ],
   "source": [
    "\"\"\"  Creacion de arreglo con numeros aleatorios uniformes entre 0 y 1  \"\"\"\n",
    "np.random.random((3,2))"
   ]
  },
  {
   "cell_type": "code",
   "execution_count": 16,
   "id": "440e7573-5671-48e7-87ff-6b8da7446573",
   "metadata": {},
   "outputs": [
    {
     "data": {
      "text/plain": [
       "array([-2, -1,  0,  1,  2,  3,  4,  5,  6])"
      ]
     },
     "execution_count": 16,
     "metadata": {},
     "output_type": "execute_result"
    }
   ],
   "source": [
    "\"\"\"  Creacion de arreglo en un rango  \"\"\"\n",
    "np.arange(-2,7)"
   ]
  },
  {
   "cell_type": "code",
   "execution_count": 17,
   "id": "21468a0a-af00-457f-9995-74e3daea2546",
   "metadata": {},
   "outputs": [
    {
     "data": {
      "text/plain": [
       "array([0, 1, 2, 3, 4])"
      ]
     },
     "execution_count": 17,
     "metadata": {},
     "output_type": "execute_result"
    }
   ],
   "source": [
    "np.arange(5)"
   ]
  },
  {
   "cell_type": "code",
   "execution_count": 19,
   "id": "cf7096cd-19db-4078-a151-ddd33a4da9e6",
   "metadata": {},
   "outputs": [],
   "source": [
    "\"\"\"  Creacion de un arreglo multi-dimencional\"\"\"\n",
    "arreglo1 = np.array([[1,2],\n",
    "                    [5,7]])\n",
    "arreglo2 = np.array([[8,9],\n",
    "                    [5,7]])\n",
    "arreglo3 = np.array([[3,4],\n",
    "                    [5,7]])"
   ]
  },
  {
   "cell_type": "code",
   "execution_count": 20,
   "id": "ccf95218-539c-43c5-aa05-e1890a4a14c0",
   "metadata": {},
   "outputs": [
    {
     "data": {
      "text/plain": [
       "array([[[1, 2],\n",
       "        [5, 7]],\n",
       "\n",
       "       [[8, 9],\n",
       "        [5, 7]],\n",
       "\n",
       "       [[3, 4],\n",
       "        [5, 7]]])"
      ]
     },
     "execution_count": 20,
     "metadata": {},
     "output_type": "execute_result"
    }
   ],
   "source": [
    "arreglo_3D = np.array([arreglo1, arreglo2, arreglo3])\n",
    "arreglo_3D"
   ]
  },
  {
   "cell_type": "code",
   "execution_count": 21,
   "id": "d64afe1a-5c42-4387-a5d7-3227a42f0ab1",
   "metadata": {},
   "outputs": [
    {
     "data": {
      "text/plain": [
       "(3, 2, 2)"
      ]
     },
     "execution_count": 21,
     "metadata": {},
     "output_type": "execute_result"
    }
   ],
   "source": [
    "arreglo_3D.shape"
   ]
  },
  {
   "cell_type": "code",
   "execution_count": 22,
   "id": "fe4f66bc-4b72-42f3-aea0-2713075ae298",
   "metadata": {},
   "outputs": [
    {
     "data": {
      "text/plain": [
       "array([[1, 2, 3],\n",
       "       [4, 5, 6],\n",
       "       [7, 8, 9]])"
      ]
     },
     "execution_count": 22,
     "metadata": {},
     "output_type": "execute_result"
    }
   ],
   "source": [
    "\"\"\"  Conversion de arreglo multi-dimencional a uni-dimencional  \"\"\"\n",
    "list2 = [[1,2,3],\n",
    "        [4,5,6],\n",
    "        [7,8,9]]\n",
    "arreglo2 = np.array(list2)\n",
    "arreglo2"
   ]
  },
  {
   "cell_type": "code",
   "execution_count": 23,
   "id": "4f3e0ea0-af14-4183-82d2-cd85f379e491",
   "metadata": {},
   "outputs": [
    {
     "data": {
      "text/plain": [
       "array([1, 2, 3, 4, 5, 6, 7, 8, 9])"
      ]
     },
     "execution_count": 23,
     "metadata": {},
     "output_type": "execute_result"
    }
   ],
   "source": [
    "arreglo2.flatten()"
   ]
  },
  {
   "cell_type": "code",
   "execution_count": 24,
   "id": "3cbc9270-9f45-4743-be77-4d1196f8c811",
   "metadata": {},
   "outputs": [
    {
     "data": {
      "text/plain": [
       "array([[1, 2, 3],\n",
       "       [4, 5, 6]])"
      ]
     },
     "execution_count": 24,
     "metadata": {},
     "output_type": "execute_result"
    }
   ],
   "source": [
    "\"\"\"  Cambio de dimension de un arreglo  \"\"\"\n",
    "arreglo = np.array([[1,2],\n",
    "                   [3,4],\n",
    "                   [5,6]])\n",
    "arreglo.reshape(2,3)"
   ]
  },
  {
   "cell_type": "code",
   "execution_count": 25,
   "id": "a91b73c7-a12e-495d-a1c9-0c9a0d7e3fd3",
   "metadata": {},
   "outputs": [
    {
     "ename": "ValueError",
     "evalue": "cannot reshape array of size 6 into shape (3,3)",
     "output_type": "error",
     "traceback": [
      "\u001b[1;31m---------------------------------------------------------------------------\u001b[0m",
      "\u001b[1;31mValueError\u001b[0m                                Traceback (most recent call last)",
      "Cell \u001b[1;32mIn[25], line 2\u001b[0m\n\u001b[0;32m      1\u001b[0m \u001b[38;5;124;03m\"\"\"  Ejem de error al momento de cambiar la dimension del arreglo\"\"\"\u001b[39;00m\n\u001b[1;32m----> 2\u001b[0m arreglo\u001b[38;5;241m.\u001b[39mreshape(\u001b[38;5;241m3\u001b[39m,\u001b[38;5;241m3\u001b[39m)\n",
      "\u001b[1;31mValueError\u001b[0m: cannot reshape array of size 6 into shape (3,3)"
     ]
    }
   ],
   "source": [
    "\"\"\"  Ejem de error al momento de cambiar la dimension del arreglo\"\"\"\n",
    "arreglo.reshape(3,3)"
   ]
  },
  {
   "cell_type": "markdown",
   "id": "c5995b66-84a1-43f0-838f-06ec3a389e1c",
   "metadata": {},
   "source": [
    "# Tipos de datos de NumPy\n",
    "int64 |\n",
    "int32 |\n",
    "float64 |\n",
    "float32"
   ]
  },
  {
   "cell_type": "code",
   "execution_count": 26,
   "id": "60dfa519-b1f8-4abf-9cd8-faa41cb60ef4",
   "metadata": {},
   "outputs": [
    {
     "data": {
      "text/plain": [
       "dtype('float64')"
      ]
     },
     "execution_count": 26,
     "metadata": {},
     "output_type": "execute_result"
    }
   ],
   "source": [
    "np.array([1.25,2.43,200.88]).dtype"
   ]
  },
  {
   "cell_type": "code",
   "execution_count": 27,
   "id": "06d2dee0-9216-4d88-950e-3c67c67f0da9",
   "metadata": {},
   "outputs": [
    {
     "data": {
      "text/plain": [
       "dtype('int64')"
      ]
     },
     "execution_count": 27,
     "metadata": {},
     "output_type": "execute_result"
    }
   ],
   "source": [
    "arreglo_int = np.array([[1,2,3], [4,5,6]])\n",
    "arreglo_int.dtype"
   ]
  },
  {
   "cell_type": "code",
   "execution_count": 28,
   "id": "c474ae3a-429e-4a9b-ab03-5fcd14aba548",
   "metadata": {},
   "outputs": [
    {
     "data": {
      "text/plain": [
       "dtype('<U12')"
      ]
     },
     "execution_count": 28,
     "metadata": {},
     "output_type": "execute_result"
    }
   ],
   "source": [
    "arreglo_string = np.array([\"Introduccion\", \"a\", \"la\", \"casa\"])\n",
    "arreglo_string.dtype"
   ]
  },
  {
   "cell_type": "code",
   "execution_count": 30,
   "id": "2da5c83e-2ca6-4d2d-b0ac-32ef5be2a477",
   "metadata": {},
   "outputs": [
    {
     "data": {
      "text/plain": [
       "dtype('float32')"
      ]
     },
     "execution_count": 30,
     "metadata": {},
     "output_type": "execute_result"
    }
   ],
   "source": [
    "\"\"\"  Cambio del largo del parametro  \"\"\"\n",
    "arreglo = np.array([1.25,2.43,200.88], dtype = np.float32)\n",
    "arreglo.dtype"
   ]
  },
  {
   "cell_type": "code",
   "execution_count": 31,
   "id": "cc0f6bbf-77d1-4faa-b1f1-063ec79af3b1",
   "metadata": {},
   "outputs": [
    {
     "data": {
      "text/plain": [
       "dtype('bool')"
      ]
     },
     "execution_count": 31,
     "metadata": {},
     "output_type": "execute_result"
    }
   ],
   "source": [
    "\"\"\"  Cambio de tipo de arreglo  \"\"\"\n",
    "arreglo_boleano = np.array([[True, False]], dtype = np.bool_)\n",
    "arreglo_boleano.dtype"
   ]
  },
  {
   "cell_type": "code",
   "execution_count": 32,
   "id": "5e9c3fee-288f-4d3c-a731-220ed4420d35",
   "metadata": {},
   "outputs": [
    {
     "data": {
      "text/plain": [
       "array([[1, 0]], dtype=int32)"
      ]
     },
     "execution_count": 32,
     "metadata": {},
     "output_type": "execute_result"
    }
   ],
   "source": [
    "arreglo = arreglo_boleano.astype(np.int32)  ## Cambio del tipo de valor\n",
    "arreglo"
   ]
  },
  {
   "cell_type": "code",
   "execution_count": 33,
   "id": "b68d126d-d557-4e08-a16c-ed12d333e5d0",
   "metadata": {},
   "outputs": [
    {
     "data": {
      "text/plain": [
       "dtype('float64')"
      ]
     },
     "execution_count": 33,
     "metadata": {},
     "output_type": "execute_result"
    }
   ],
   "source": [
    "\"\"\"  Homologacion del tipo por jerarquia  \"\"\"\n",
    "np.array([0,50,50.8]).dtype"
   ]
  },
  {
   "cell_type": "code",
   "execution_count": 34,
   "id": "e59014eb-8085-4c12-b79b-dbf58bcda53d",
   "metadata": {},
   "outputs": [
    {
     "data": {
      "text/plain": [
       "dtype('int64')"
      ]
     },
     "execution_count": 34,
     "metadata": {},
     "output_type": "execute_result"
    }
   ],
   "source": [
    "np.array([False, 42]).dtype"
   ]
  },
  {
   "cell_type": "code",
   "execution_count": null,
   "id": "1b065ee7-a105-49e6-936f-d66d772248fe",
   "metadata": {},
   "outputs": [],
   "source": []
  }
 ],
 "metadata": {
  "kernelspec": {
   "display_name": "Python 3 (ipykernel)",
   "language": "python",
   "name": "python3"
  },
  "language_info": {
   "codemirror_mode": {
    "name": "ipython",
    "version": 3
   },
   "file_extension": ".py",
   "mimetype": "text/x-python",
   "name": "python",
   "nbconvert_exporter": "python",
   "pygments_lexer": "ipython3",
   "version": "3.13.5"
  }
 },
 "nbformat": 4,
 "nbformat_minor": 5
}
