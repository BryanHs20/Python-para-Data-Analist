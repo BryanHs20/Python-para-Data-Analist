{
 "cells": [
  {
   "cell_type": "code",
   "execution_count": 1,
   "id": "4585702a-d2e5-44b7-80a1-0924205ebdf1",
   "metadata": {},
   "outputs": [],
   "source": [
    "import pandas as pd\n",
    "\n",
    "# Crear un DataFrame a partir de un diccionario\n",
    "data = {'Producto': ['A', 'B', 'C', 'D'],\n",
    "        'Ventas': [100, 150, 200, 130],\n",
    "        'Descuento': [5, 10, 0, 7]}\n",
    "df = pd.DataFrame(data)"
   ]
  },
  {
   "cell_type": "code",
   "execution_count": 2,
   "id": "e3578674-fbd6-4843-8f08-0985e9596ecd",
   "metadata": {},
   "outputs": [],
   "source": [
    "# Calcular el total de ventas después de aplicar el descuento\n",
    "df['Ventas_Netas'] = df['Ventas'] - df['Descuento']"
   ]
  },
  {
   "cell_type": "code",
   "execution_count": 3,
   "id": "cddf27c5-791a-46e1-969b-d97f64483e9b",
   "metadata": {},
   "outputs": [
    {
     "name": "stdout",
     "output_type": "stream",
     "text": [
      "Producto\n",
      "A     95\n",
      "B    140\n",
      "C    200\n",
      "D    123\n",
      "Name: Ventas_Netas, dtype: int64\n"
     ]
    }
   ],
   "source": [
    "# Agrupar por producto y calcular la suma de ventas netas\n",
    "ventas_agrupadas = df.groupby('Producto')['Ventas_Netas'].sum()\n",
    "\n",
    "print(ventas_agrupadas)"
   ]
  },
  {
   "cell_type": "code",
   "execution_count": null,
   "id": "5b4f1592-88e4-42a9-a209-d6761244dc2c",
   "metadata": {},
   "outputs": [],
   "source": []
  }
 ],
 "metadata": {
  "kernelspec": {
   "display_name": "Python 3 (ipykernel)",
   "language": "python",
   "name": "python3"
  },
  "language_info": {
   "codemirror_mode": {
    "name": "ipython",
    "version": 3
   },
   "file_extension": ".py",
   "mimetype": "text/x-python",
   "name": "python",
   "nbconvert_exporter": "python",
   "pygments_lexer": "ipython3",
   "version": "3.13.5"
  }
 },
 "nbformat": 4,
 "nbformat_minor": 5
}
