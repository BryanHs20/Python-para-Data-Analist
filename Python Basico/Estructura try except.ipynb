{
 "cells": [
  {
   "cell_type": "markdown",
   "id": "e75ea6b3-0624-4976-8402-f666694a8227",
   "metadata": {},
   "source": [
    "# Estructura Try-Except"
   ]
  },
  {
   "cell_type": "code",
   "execution_count": 1,
   "id": "692c0076-ff49-4f0d-86c0-dbea7f7f61ec",
   "metadata": {},
   "outputs": [
    {
     "name": "stdout",
     "output_type": "stream",
     "text": [
      "123\n"
     ]
    }
   ],
   "source": [
    "cadena = \"123\"\n",
    "entero = int(cadena)\n",
    "print(entero)"
   ]
  },
  {
   "cell_type": "code",
   "execution_count": 28,
   "id": "9784c1fe-9bb2-42e7-ba4d-5f6712fdcf33",
   "metadata": {},
   "outputs": [
    {
     "name": "stdin",
     "output_type": "stream",
     "text": [
      "Dame un numero entero positivo:  15\n"
     ]
    },
    {
     "name": "stdout",
     "output_type": "stream",
     "text": [
      "Valor correcto\n"
     ]
    }
   ],
   "source": [
    "cadena2 = input(\"Dame un numero entero positivo: \")\n",
    "try:\n",
    "    entero = int(cadena2)\n",
    "except:\n",
    "    entero = -1\n",
    "if entero > 0:\n",
    "    print(\"Valor correcto\")\n",
    "else:\n",
    "    print(\"Valor incorrecto\")"
   ]
  },
  {
   "cell_type": "markdown",
   "id": "e9c0b7df-b563-46d2-ad61-70cf44d566f5",
   "metadata": {},
   "source": [
    "# Usos avanzados de if"
   ]
  },
  {
   "cell_type": "code",
   "execution_count": 8,
   "id": "92626d06-a80d-4b12-b8b1-32a2187351d5",
   "metadata": {},
   "outputs": [
    {
     "name": "stdout",
     "output_type": "stream",
     "text": [
      "Vamos a la playa\n"
     ]
    }
   ],
   "source": [
    "lluvia = False\n",
    "print(\"Vamos a\", \"la playa\" if not lluvia else \"la biblioteca\")"
   ]
  },
  {
   "cell_type": "code",
   "execution_count": 9,
   "id": "5f1f8ada-6e46-44b5-91ba-b8658aa2d15a",
   "metadata": {},
   "outputs": [
    {
     "name": "stdout",
     "output_type": "stream",
     "text": [
      "Vamos a la biblioteca\n"
     ]
    }
   ],
   "source": [
    "lluvia = True\n",
    "print(\"Vamos a\", \"la playa\" if not lluvia else \"la biblioteca\")"
   ]
  },
  {
   "cell_type": "code",
   "execution_count": 12,
   "id": "f6075cc4-ada1-4838-9c57-bc1880cb1587",
   "metadata": {},
   "outputs": [
    {
     "data": {
      "text/plain": [
       "42"
      ]
     },
     "execution_count": 12,
     "metadata": {},
     "output_type": "execute_result"
    }
   ],
   "source": [
    "x = y = 40\n",
    "z = x + 1 if x > y else y +2\n",
    "z"
   ]
  },
  {
   "cell_type": "code",
   "execution_count": 13,
   "id": "dc63b017-66de-4c51-8802-9feae068e099",
   "metadata": {},
   "outputs": [
    {
     "data": {
      "text/plain": [
       "'mno'"
      ]
     },
     "execution_count": 13,
     "metadata": {},
     "output_type": "execute_result"
    }
   ],
   "source": [
    "x = 3\n",
    "s = (\"abc\" if (x ==1) else \n",
    "     \"def\" if (x==2) else\n",
    "     \"ghj\" if (x==4) else\n",
    "     \"mno\")\n",
    "s"
   ]
  },
  {
   "cell_type": "code",
   "execution_count": 16,
   "id": "8963daaa-b328-4c33-b542-1fc46af0d647",
   "metadata": {},
   "outputs": [
    {
     "data": {
      "text/plain": [
       "'Si'"
      ]
     },
     "execution_count": 16,
     "metadata": {},
     "output_type": "execute_result"
    }
   ],
   "source": [
    "\"Si\" if \"jkf\" in [\"jkf\", \"abc\", \"hgj\"] else \"No\""
   ]
  },
  {
   "cell_type": "code",
   "execution_count": 38,
   "id": "6861ce35-beee-42a0-b5d9-820b43ec8371",
   "metadata": {},
   "outputs": [
    {
     "name": "stdout",
     "output_type": "stream",
     "text": [
      "El pago total es: 475.0\n"
     ]
    }
   ],
   "source": [
    "def calcular_pago(horas, tarifa):\n",
    "    try:\n",
    "        if horas > 40:\n",
    "            pago = 40 * tarifa + (horas - 40) * (tarifa * 1.5)\n",
    "        else:\n",
    "            pago = horas * tarifa\n",
    "        return pago\n",
    "    except TypeError:\n",
    "        return \"Error: Por favor, introduce números válidos para horas y tarifa.\"\n",
    "\n",
    "# Uso de la función\n",
    "horas_trabajadas = 45\n",
    "tarifa_por_hora = 10\n",
    "pago_total = calcular_pago(horas_trabajadas, tarifa_por_hora)\n",
    "print(f\"El pago total es: {pago_total}\")"
   ]
  },
  {
   "cell_type": "code",
   "execution_count": null,
   "id": "0ae6dba9-79d9-4856-a65a-f1942c961fde",
   "metadata": {},
   "outputs": [],
   "source": []
  }
 ],
 "metadata": {
  "kernelspec": {
   "display_name": "Python 3 (ipykernel)",
   "language": "python",
   "name": "python3"
  },
  "language_info": {
   "codemirror_mode": {
    "name": "ipython",
    "version": 3
   },
   "file_extension": ".py",
   "mimetype": "text/x-python",
   "name": "python",
   "nbconvert_exporter": "python",
   "pygments_lexer": "ipython3",
   "version": "3.13.5"
  }
 },
 "nbformat": 4,
 "nbformat_minor": 5
}
