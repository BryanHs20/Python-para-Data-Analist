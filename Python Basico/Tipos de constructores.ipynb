{
 "cells": [
  {
   "cell_type": "markdown",
   "id": "ea3c4490-dc60-4d7d-b8d2-fe9d000fe52f",
   "metadata": {},
   "source": [
    "# Constructor Predeterminado"
   ]
  },
  {
   "cell_type": "code",
   "execution_count": 4,
   "id": "3727b5ff-a88c-467f-a76d-e1b56f01c6ef",
   "metadata": {},
   "outputs": [
    {
     "name": "stdout",
     "output_type": "stream",
     "text": [
      "Sesion experta\n"
     ]
    }
   ],
   "source": [
    "class Expertos:\n",
    "    def __init__(self):\n",
    "        self.texto = \"Sesion experta\"\n",
    "\n",
    "    def imprime_texto(self):\n",
    "        print(self.texto)\n",
    "\n",
    "elemento = Expertos()\n",
    "elemento.imprime_texto()"
   ]
  },
  {
   "cell_type": "markdown",
   "id": "0fcda404-1fc4-42f9-8d64-0ed39d501864",
   "metadata": {},
   "source": [
    "# Constructor Parametrizado"
   ]
  },
  {
   "cell_type": "code",
   "execution_count": 9,
   "id": "f7a13a7e-e05d-4556-9841-35346a30d3c3",
   "metadata": {},
   "outputs": [],
   "source": [
    "class Adicion:\n",
    "    respues = 0\n",
    "\n",
    "    def __init__(self, primero, segundo):\n",
    "        self.primero = primero\n",
    "        self.segundo = segundo\n",
    "\n",
    "    def calcula(self):\n",
    "        self.respuesta = self.primero + self.segundo\n",
    "\n",
    "    def mostrar(self):\n",
    "        print(\"Primer numero = \" + str(self.primero))\n",
    "        print(\"Segundo numero = \" + str(self.segundo))\n",
    "        print(\"Adicion de dos nuemros = \" + str(self.respuesta))"
   ]
  },
  {
   "cell_type": "code",
   "execution_count": 10,
   "id": "0cd4a34d-dd16-4ed2-9a1e-c1b37dc4faa4",
   "metadata": {},
   "outputs": [
    {
     "name": "stdout",
     "output_type": "stream",
     "text": [
      "Primer numero = 1000\n",
      "Segundo numero = 2000\n",
      "Adicion de dos nuemros = 3000\n"
     ]
    }
   ],
   "source": [
    "obj = Adicion(1000, 2000)\n",
    "obj.calcula()\n",
    "obj.mostrar()"
   ]
  },
  {
   "cell_type": "code",
   "execution_count": null,
   "id": "e966d46d-b484-4d60-ad6c-e72b9896dfb7",
   "metadata": {},
   "outputs": [],
   "source": []
  }
 ],
 "metadata": {
  "kernelspec": {
   "display_name": "Python 3 (ipykernel)",
   "language": "python",
   "name": "python3"
  },
  "language_info": {
   "codemirror_mode": {
    "name": "ipython",
    "version": 3
   },
   "file_extension": ".py",
   "mimetype": "text/x-python",
   "name": "python",
   "nbconvert_exporter": "python",
   "pygments_lexer": "ipython3",
   "version": "3.13.5"
  }
 },
 "nbformat": 4,
 "nbformat_minor": 5
}
