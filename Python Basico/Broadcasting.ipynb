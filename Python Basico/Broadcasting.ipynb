{
 "cells": [
  {
   "cell_type": "markdown",
   "id": "4a3b1d08-1cc0-4716-bd53-336d60a22a13",
   "metadata": {},
   "source": [
    "# Broadcasting (Transmicion)"
   ]
  },
  {
   "cell_type": "code",
   "execution_count": 1,
   "id": "3c710df5-a029-4975-99af-5439cb1194c3",
   "metadata": {},
   "outputs": [],
   "source": [
    "import numpy as np\n",
    "\n",
    "arreglo = np.array([[1,2,3],\n",
    "                   [4,5,6]])"
   ]
  },
  {
   "cell_type": "code",
   "execution_count": 2,
   "id": "03b3e262-8367-4359-a294-0b7ae1f650c0",
   "metadata": {},
   "outputs": [
    {
     "data": {
      "text/plain": [
       "array([[ 3,  6,  9],\n",
       "       [12, 15, 18]])"
      ]
     },
     "execution_count": 2,
     "metadata": {},
     "output_type": "execute_result"
    }
   ],
   "source": [
    "\"\"\"  Multiplicaion por un escalar  \"\"\"\n",
    "arreglo_prod = arreglo * 3\n",
    "arreglo_prod"
   ]
  },
  {
   "cell_type": "code",
   "execution_count": 4,
   "id": "075e4a2a-98e8-4475-9f80-0f897e313605",
   "metadata": {},
   "outputs": [
    {
     "data": {
      "text/plain": [
       "array([[ 8, 10, 12],\n",
       "       [14, 16, 18]])"
      ]
     },
     "execution_count": 4,
     "metadata": {},
     "output_type": "execute_result"
    }
   ],
   "source": [
    "\"\"\"  Adicion de arreglos  \"\"\"\n",
    "arreglo1 = np.array([[1,2,3],\n",
    "                   [4,5,6]])\n",
    "arreglo2 = np.array([[7,8,9],\n",
    "                   [10,11,12]])\n",
    "arreglo3 = arreglo1 + arreglo2\n",
    "arreglo3"
   ]
  },
  {
   "cell_type": "code",
   "execution_count": 6,
   "id": "05238904-90fd-43c3-a788-ff0fa24f4068",
   "metadata": {},
   "outputs": [
    {
     "data": {
      "text/plain": [
       "array([[False, False,  True],\n",
       "       [ True,  True,  True]])"
      ]
     },
     "execution_count": 6,
     "metadata": {},
     "output_type": "execute_result"
    }
   ],
   "source": [
    "\"\"\"  Evaluacion de condiciones  \"\"\"\n",
    "arreglo1 = np.array([[1,2,3],\n",
    "                    [4,5,6]])\n",
    "\n",
    "arreglo1 > 2"
   ]
  },
  {
   "cell_type": "code",
   "execution_count": 9,
   "id": "17e69bda-5d16-4240-af1d-7b32870836f2",
   "metadata": {},
   "outputs": [
    {
     "data": {
      "text/plain": [
       "False"
      ]
     },
     "execution_count": 9,
     "metadata": {},
     "output_type": "execute_result"
    }
   ],
   "source": [
    "\"\"\"  Las funciones de python no estan vectorizadas de origen  \"\"\"\n",
    "arreglo = np.array([\"Numpy\", \"manejo\",\"vectorizacion\"])\n",
    "len(arreglo) > 5"
   ]
  },
  {
   "cell_type": "code",
   "execution_count": 10,
   "id": "471171d5-a853-4ff4-b846-9e080427fb2a",
   "metadata": {},
   "outputs": [
    {
     "data": {
      "text/plain": [
       "array([False,  True,  True])"
      ]
     },
     "execution_count": 10,
     "metadata": {},
     "output_type": "execute_result"
    }
   ],
   "source": [
    "\"\"\"  conversion para vectorizar la funcion len  \"\"\"\n",
    "len_vec = np.vectorize(len)\n",
    "len_vec(arreglo) > 5"
   ]
  },
  {
   "cell_type": "markdown",
   "id": "da90b01f-cf67-4175-98b5-b344f8ca4eb9",
   "metadata": {},
   "source": [
    "# Broadcasting en renglones"
   ]
  },
  {
   "cell_type": "code",
   "execution_count": 11,
   "id": "bcf75f45-cc98-4eac-a7e7-548c0f48ffdd",
   "metadata": {},
   "outputs": [
    {
     "data": {
      "text/plain": [
       "array([[0, 1, 2, 3, 4],\n",
       "       [5, 6, 7, 8, 9]])"
      ]
     },
     "execution_count": 11,
     "metadata": {},
     "output_type": "execute_result"
    }
   ],
   "source": [
    "arreglo = np.arange(10).reshape((2,5))\n",
    "arreglo"
   ]
  },
  {
   "cell_type": "code",
   "execution_count": 12,
   "id": "d647ecec-eeb8-4e99-8913-71da1bd794f3",
   "metadata": {},
   "outputs": [
    {
     "data": {
      "text/plain": [
       "array([[ 0,  2,  4,  6,  8],\n",
       "       [ 5,  7,  9, 11, 13]])"
      ]
     },
     "execution_count": 12,
     "metadata": {},
     "output_type": "execute_result"
    }
   ],
   "source": [
    "arreglo + np.array([0,1,2,3,4])"
   ]
  },
  {
   "cell_type": "markdown",
   "id": "d99cb0a8-f65b-4322-a5b2-3e5ec7bf4fc9",
   "metadata": {},
   "source": [
    "# Broadcasting en columnas"
   ]
  },
  {
   "cell_type": "code",
   "execution_count": 14,
   "id": "a0c314e5-72e8-45e8-871d-f27619dee5e2",
   "metadata": {},
   "outputs": [
    {
     "data": {
      "text/plain": [
       "array([[ 0,  1,  2,  3,  4],\n",
       "       [ 6,  7,  8,  9, 10]])"
      ]
     },
     "execution_count": 14,
     "metadata": {},
     "output_type": "execute_result"
    }
   ],
   "source": [
    "arreglo = np.arange(10).reshape((2,5))\n",
    "arreglo + np.array([0,1]).reshape((2,1))  ## Se ajusta el arreglo apra que tena dos renglones y una columna"
   ]
  },
  {
   "cell_type": "code",
   "execution_count": 15,
   "id": "992b9b64-e6e8-44b8-a0dc-9222ad82d640",
   "metadata": {},
   "outputs": [
    {
     "ename": "ValueError",
     "evalue": "operands could not be broadcast together with shapes (2,5) (2,) ",
     "output_type": "error",
     "traceback": [
      "\u001b[1;31m---------------------------------------------------------------------------\u001b[0m",
      "\u001b[1;31mValueError\u001b[0m                                Traceback (most recent call last)",
      "Cell \u001b[1;32mIn[15], line 3\u001b[0m\n\u001b[0;32m      1\u001b[0m \u001b[38;5;124;03m\"\"\"  ejm no factible  \"\"\"\u001b[39;00m\n\u001b[0;32m      2\u001b[0m arreglo \u001b[38;5;241m=\u001b[39m np\u001b[38;5;241m.\u001b[39marange(\u001b[38;5;241m10\u001b[39m)\u001b[38;5;241m.\u001b[39mreshape((\u001b[38;5;241m2\u001b[39m,\u001b[38;5;241m5\u001b[39m))\n\u001b[1;32m----> 3\u001b[0m arreglo \u001b[38;5;241m+\u001b[39m np\u001b[38;5;241m.\u001b[39marray([\u001b[38;5;241m0\u001b[39m,\u001b[38;5;241m1\u001b[39m])\n",
      "\u001b[1;31mValueError\u001b[0m: operands could not be broadcast together with shapes (2,5) (2,) "
     ]
    }
   ],
   "source": [
    "\"\"\"  ejm no factible  \"\"\"\n",
    "arreglo = np.arange(10).reshape((2,5))\n",
    "arreglo + np.array([0,1])"
   ]
  },
  {
   "cell_type": "code",
   "execution_count": 16,
   "id": "c47bedfe-3498-4eed-9fc7-dcae07ba01c5",
   "metadata": {},
   "outputs": [
    {
     "data": {
      "text/plain": [
       "array([[3.3, 3.2, 3.1],\n",
       "       [2.3, 2.2, 2.1],\n",
       "       [1.3, 1.2, 1.1]])"
      ]
     },
     "execution_count": 16,
     "metadata": {},
     "output_type": "execute_result"
    }
   ],
   "source": [
    "\"\"\"  Voltear un arreglo  \"\"\"\n",
    "arreglo = np.array([[1.1,1.2,1.3],\n",
    "                   [2.1,2.2,2.3],\n",
    "                   [3.1,3.2,3.3]])\n",
    "np.flip(arreglo)"
   ]
  },
  {
   "cell_type": "code",
   "execution_count": 17,
   "id": "2aa47889-c493-4705-8fdb-af15a7fb56c8",
   "metadata": {},
   "outputs": [
    {
     "data": {
      "text/plain": [
       "array([[1.1, 2.1, 3.1],\n",
       "       [1.2, 2.2, 3.2],\n",
       "       [1.3, 2.3, 3.3]])"
      ]
     },
     "execution_count": 17,
     "metadata": {},
     "output_type": "execute_result"
    }
   ],
   "source": [
    "\"\"\"  Trasposicion  \"\"\"\n",
    "arreglo = np.array([[1.1,1.2,1.3],\n",
    "                   [2.1,2.2,2.3],\n",
    "                   [3.1,3.2,3.3]])\n",
    "np.transpose(arreglo)"
   ]
  },
  {
   "cell_type": "markdown",
   "id": "a0a178be-af8c-4fc8-a8d6-6a4123bc2fba",
   "metadata": {},
   "source": [
    "# Ejercicio"
   ]
  },
  {
   "cell_type": "code",
   "execution_count": 30,
   "id": "4158e918-382c-4b67-b36e-9066720ef733",
   "metadata": {},
   "outputs": [
    {
     "data": {
      "text/plain": [
       "array([[ 5, 10],\n",
       "       [30, 40]])"
      ]
     },
     "execution_count": 30,
     "metadata": {},
     "output_type": "execute_result"
    }
   ],
   "source": [
    "np.array([[1,2], [3,4]]) * np.array([[5],[10]])"
   ]
  },
  {
   "cell_type": "code",
   "execution_count": 32,
   "id": "3da83b1f-6400-462b-a5d6-ee27198cfccc",
   "metadata": {},
   "outputs": [
    {
     "data": {
      "text/plain": [
       "array([[-4, -8],\n",
       "       [-2, -6]])"
      ]
     },
     "execution_count": 32,
     "metadata": {},
     "output_type": "execute_result"
    }
   ],
   "source": [
    "np.array([[1,2], [3,4]]) - np.array([[5, 10]])"
   ]
  },
  {
   "cell_type": "code",
   "execution_count": null,
   "id": "720208a3-d3f2-4774-8aba-71cee2b7cdd4",
   "metadata": {},
   "outputs": [],
   "source": []
  }
 ],
 "metadata": {
  "kernelspec": {
   "display_name": "Python 3 (ipykernel)",
   "language": "python",
   "name": "python3"
  },
  "language_info": {
   "codemirror_mode": {
    "name": "ipython",
    "version": 3
   },
   "file_extension": ".py",
   "mimetype": "text/x-python",
   "name": "python",
   "nbconvert_exporter": "python",
   "pygments_lexer": "ipython3",
   "version": "3.13.5"
  }
 },
 "nbformat": 4,
 "nbformat_minor": 5
}
