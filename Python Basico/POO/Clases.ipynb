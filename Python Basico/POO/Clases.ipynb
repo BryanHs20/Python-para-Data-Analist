{
 "cells": [
  {
   "cell_type": "markdown",
   "id": "56c290db-08f8-4476-ad8a-0d4b8bb507f8",
   "metadata": {},
   "source": [
    "# Clases en Python"
   ]
  },
  {
   "cell_type": "code",
   "execution_count": 1,
   "id": "89154a9f-d635-4fb5-b1d5-c35e870a8e09",
   "metadata": {},
   "outputs": [],
   "source": [
    "#Creacion de una nueva clase\n",
    "class Mi_clase:\n",
    "    pass"
   ]
  },
  {
   "cell_type": "code",
   "execution_count": 2,
   "id": "a6eeeeba-f769-4acb-b01e-74f4d3600d52",
   "metadata": {},
   "outputs": [
    {
     "name": "stdout",
     "output_type": "stream",
     "text": [
      "5\n",
      "10\n"
     ]
    }
   ],
   "source": [
    "#Creacion de un nuevo objeto\n",
    "objeto = Mi_clase\n",
    "objeto.x = 5\n",
    "objeto.y = 10\n",
    "\n",
    "print(objeto.x)\n",
    "print(objeto.y)"
   ]
  },
  {
   "cell_type": "code",
   "execution_count": 3,
   "id": "ee8042dd-f81d-4fec-8d50-749a4b5d2046",
   "metadata": {},
   "outputs": [],
   "source": [
    "#creacion de una nueva clase con atributos iniciales\n",
    "class Mi_clase:\n",
    "    x = 5\n",
    "    y = 10\n",
    "    "
   ]
  },
  {
   "cell_type": "code",
   "execution_count": 4,
   "id": "cf286d5d-b14a-4ec5-8f8d-023597fd12e2",
   "metadata": {},
   "outputs": [
    {
     "name": "stdout",
     "output_type": "stream",
     "text": [
      "5\n",
      "10\n"
     ]
    }
   ],
   "source": [
    "objeto = Mi_clase()\n",
    "print(objeto.x)\n",
    "print(objeto.y)"
   ]
  },
  {
   "cell_type": "markdown",
   "id": "bb1c0e1f-fa3f-47e7-b577-178de466e95e",
   "metadata": {},
   "source": [
    "## metodo"
   ]
  },
  {
   "cell_type": "code",
   "execution_count": 5,
   "id": "ecccd0ae-9983-42ee-9e67-ce17b6681a36",
   "metadata": {},
   "outputs": [],
   "source": [
    "#Definicion de un metodo para una clase\n",
    "class Aviso:\n",
    "    def saludar(self):\n",
    "        print(\"¡Hola, buen dia!\")"
   ]
  },
  {
   "cell_type": "code",
   "execution_count": 8,
   "id": "40158cc3-f528-4304-960e-960233291710",
   "metadata": {},
   "outputs": [
    {
     "name": "stdout",
     "output_type": "stream",
     "text": [
      "¡Hola, buen dia!\n"
     ]
    }
   ],
   "source": [
    "texto = Aviso()\n",
    "texto.saludar()"
   ]
  },
  {
   "cell_type": "code",
   "execution_count": 9,
   "id": "33f95ea6-56cd-4e93-96e8-d30fff478313",
   "metadata": {},
   "outputs": [],
   "source": [
    "#Definicion de una clase para almacenar los datos de estudinates\n",
    "class Estudiante:\n",
    "    def aprobado(self):\n",
    "        if self.calif >= 65:\n",
    "            return True\n",
    "        else:\n",
    "            return False"
   ]
  },
  {
   "cell_type": "code",
   "execution_count": 11,
   "id": "bf56fcdc-52d9-4cc2-a48d-e1548cc0aefd",
   "metadata": {},
   "outputs": [
    {
     "name": "stdout",
     "output_type": "stream",
     "text": [
      "True\n"
     ]
    }
   ],
   "source": [
    "estudiante1 = Estudiante()\n",
    "estudiante1.nombre = \"Juan\"\n",
    "estudiante1.calif = 80\n",
    "aprobo1 = estudiante1.aprobado()\n",
    "print(aprobo1)"
   ]
  },
  {
   "cell_type": "code",
   "execution_count": 12,
   "id": "1392d814-6051-4969-9a44-5cdc316ed69a",
   "metadata": {},
   "outputs": [
    {
     "name": "stdout",
     "output_type": "stream",
     "text": [
      "False\n"
     ]
    }
   ],
   "source": [
    "estudiante2 = Estudiante()\n",
    "estudiante2.nombre = \"Mariana\"\n",
    "estudiante2.calif = 50\n",
    "aprobo2 = estudiante2.aprobado()\n",
    "print(aprobo2)"
   ]
  },
  {
   "cell_type": "code",
   "execution_count": 13,
   "id": "4015c191-7187-42b8-8f25-b99d9d85c16b",
   "metadata": {},
   "outputs": [],
   "source": [
    "#Manejo de Constructores\n",
    "class Estudiante:\n",
    "    def aprobado(self):\n",
    "        if self.calif >= 65:\n",
    "            return True\n",
    "        else:\n",
    "            return False\n",
    "    #Constructor\n",
    "    def __init__(self, nombre, calif):\n",
    "        self.nombre = nombre\n",
    "        self.calif = calif"
   ]
  },
  {
   "cell_type": "code",
   "execution_count": 19,
   "id": "2242e4ab-d965-4d9d-9ed8-903550dadcc7",
   "metadata": {},
   "outputs": [
    {
     "name": "stdout",
     "output_type": "stream",
     "text": [
      "Juan\n",
      "76\n"
     ]
    }
   ],
   "source": [
    "estudiante1 = Estudiante(\"Juan\", 76)\n",
    "print(estudiante1.nombre)\n",
    "print(estudiante1.calif)"
   ]
  },
  {
   "cell_type": "code",
   "execution_count": 20,
   "id": "8f2683a5-39be-40f3-870d-407068ff15f0",
   "metadata": {},
   "outputs": [
    {
     "name": "stdout",
     "output_type": "stream",
     "text": [
      "Juan\n",
      "76\n"
     ]
    }
   ],
   "source": [
    "estudiante2 = Estudiante(\"Mariana\", 45)\n",
    "print(estudiante1.nombre)\n",
    "print(estudiante1.calif)"
   ]
  },
  {
   "cell_type": "code",
   "execution_count": 21,
   "id": "3644557d-ff13-40a0-9252-4f30dab970c3",
   "metadata": {},
   "outputs": [
    {
     "name": "stdout",
     "output_type": "stream",
     "text": [
      "True\n",
      "False\n"
     ]
    }
   ],
   "source": [
    "aprobo1 = estudiante1.aprobado()\n",
    "aprobo2 = estudiante2.aprobado()\n",
    "print(aprobo1)\n",
    "print(aprobo2)"
   ]
  },
  {
   "cell_type": "markdown",
   "id": "2db6537f-22eb-4ce4-90e6-a17e7e40f98d",
   "metadata": {},
   "source": [
    "# Ejercicio"
   ]
  },
  {
   "cell_type": "code",
   "execution_count": 7,
   "id": "34c5032b-d64f-4e3d-930f-48ab914b81e1",
   "metadata": {},
   "outputs": [],
   "source": [
    "#Suma de dos numeros complejos\n",
    "class Complejo:\n",
    "    #Se crea el objeto\n",
    "    def __init__(self, real, imaginario):\n",
    "        self.real = real\n",
    "        self.imaginario = imaginario\n",
    "\n",
    "    def agregar(self, numero):\n",
    "        real = self.real + numero.real\n",
    "        imaginario = self.imaginario + numero.imaginario\n",
    "        resultado = Complejo(real, imaginario)\n",
    "        return resultado"
   ]
  },
  {
   "cell_type": "code",
   "execution_count": 8,
   "id": "aae439da-e574-4a7b-ab9b-6fe4c559560b",
   "metadata": {},
   "outputs": [
    {
     "name": "stdout",
     "output_type": "stream",
     "text": [
      "Parte real: 5\n",
      "Parte imaginaria: 7\n"
     ]
    }
   ],
   "source": [
    "numero1 = Complejo(2,3)\n",
    "numero2 = Complejo(3,4)\n",
    "\n",
    "suma = numero1.agregar(numero2)\n",
    "print(\"Parte real:\", suma.real)\n",
    "print(\"Parte imaginaria:\", suma.imaginario)"
   ]
  },
  {
   "cell_type": "code",
   "execution_count": 9,
   "id": "4bc69b02-e955-4dd4-9eca-1a548edb09f8",
   "metadata": {},
   "outputs": [
    {
     "ename": "NameError",
     "evalue": "name 'numero1' is not defined",
     "output_type": "error",
     "traceback": [
      "\u001b[1;31m---------------------------------------------------------------------------\u001b[0m",
      "\u001b[1;31mNameError\u001b[0m                                 Traceback (most recent call last)",
      "Cell \u001b[1;32mIn[9], line 2\u001b[0m\n\u001b[0;32m      1\u001b[0m \u001b[38;5;28;01mdel\u001b[39;00m numero1\n\u001b[1;32m----> 2\u001b[0m numero1\n",
      "\u001b[1;31mNameError\u001b[0m: name 'numero1' is not defined"
     ]
    }
   ],
   "source": [
    "del numero1\n",
    "numero1"
   ]
  },
  {
   "cell_type": "code",
   "execution_count": 10,
   "id": "e4661c80-b335-4bf1-a34a-f5e49adb694e",
   "metadata": {},
   "outputs": [
    {
     "name": "stdout",
     "output_type": "stream",
     "text": [
      "Hola mi nombre es: Juan\n"
     ]
    }
   ],
   "source": [
    "# la referencia self puede tomar cualquier otra denominacion\n",
    "class Persona:\n",
    "    def __init__(objeto, nombre, edad):\n",
    "        objeto.nombre = nombre\n",
    "        objeto.edad = edad\n",
    "\n",
    "    def mensaje(objeto):\n",
    "        print(\"Hola mi nombre es: \" + objeto.nombre)\n",
    "\n",
    "persona1 = Persona(\"Juan\", 36)\n",
    "persona1.mensaje()"
   ]
  },
  {
   "cell_type": "markdown",
   "id": "15d761c4-e33b-4693-86f3-1af35949e545",
   "metadata": {},
   "source": [
    "# Ejercicio 2"
   ]
  },
  {
   "cell_type": "code",
   "execution_count": 12,
   "id": "d33144a0-44ca-4af7-a26b-235d4adf9798",
   "metadata": {},
   "outputs": [],
   "source": [
    "class Triangulo:\n",
    "    def __init__(self,a,b,c):\n",
    "        self.a = a\n",
    "        self.b = b\n",
    "        self.c = c\n",
    "\n",
    "    def perim(self):\n",
    "        return self.a +self.b +self.c"
   ]
  },
  {
   "cell_type": "code",
   "execution_count": 14,
   "id": "60d24dea-b1c5-45a6-8367-9a5dadc557f7",
   "metadata": {},
   "outputs": [
    {
     "name": "stdout",
     "output_type": "stream",
     "text": [
      "9\n"
     ]
    }
   ],
   "source": [
    "triangulo1 = Triangulo(2,3,4)\n",
    "perimetro= triangulo1.perim()\n",
    "print(perimetro)"
   ]
  },
  {
   "cell_type": "code",
   "execution_count": null,
   "id": "ad24c13e-0c06-4b7a-bdcc-fe23b5eaefcd",
   "metadata": {},
   "outputs": [],
   "source": []
  }
 ],
 "metadata": {
  "kernelspec": {
   "display_name": "Python 3 (ipykernel)",
   "language": "python",
   "name": "python3"
  },
  "language_info": {
   "codemirror_mode": {
    "name": "ipython",
    "version": 3
   },
   "file_extension": ".py",
   "mimetype": "text/x-python",
   "name": "python",
   "nbconvert_exporter": "python",
   "pygments_lexer": "ipython3",
   "version": "3.13.5"
  }
 },
 "nbformat": 4,
 "nbformat_minor": 5
}
