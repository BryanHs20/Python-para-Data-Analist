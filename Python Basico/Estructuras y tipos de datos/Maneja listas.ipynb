{
 "cells": [
  {
   "cell_type": "code",
   "execution_count": 16,
   "id": "d9488312-2df0-4001-bc39-c16bf8931c0f",
   "metadata": {},
   "outputs": [
    {
     "name": "stdout",
     "output_type": "stream",
     "text": [
      "['Pedro', 'Juan', 'Jose']\n"
     ]
    }
   ],
   "source": [
    "amigos = ['Pedro', 'Juan', 'Jose']\n",
    "\n",
    "print(amigos)"
   ]
  },
  {
   "cell_type": "code",
   "execution_count": 2,
   "id": "fab68a5b-28a3-4901-99ec-c44936832665",
   "metadata": {},
   "outputs": [
    {
     "data": {
      "text/plain": [
       "['rojo', 15, [2, 9]]"
      ]
     },
     "execution_count": 2,
     "metadata": {},
     "output_type": "execute_result"
    }
   ],
   "source": [
    "elementos = ['rojo',15,[2,9]]\n",
    "elementos"
   ]
  },
  {
   "cell_type": "code",
   "execution_count": 3,
   "id": "40ebbc59-e8c0-49a6-9cd9-e830a159802d",
   "metadata": {},
   "outputs": [
    {
     "name": "stdout",
     "output_type": "stream",
     "text": [
      "Juan\n"
     ]
    }
   ],
   "source": [
    "print(amigos[1])"
   ]
  },
  {
   "cell_type": "code",
   "execution_count": 17,
   "id": "bf11d8e7-1175-419a-a6b6-d3a22ccdcfab",
   "metadata": {},
   "outputs": [
    {
     "data": {
      "text/plain": [
       "['Pedro', 'Juan', 'Jesus']"
      ]
     },
     "execution_count": 17,
     "metadata": {},
     "output_type": "execute_result"
    }
   ],
   "source": [
    "amigos_cercanos = amigos\n",
    "amigos_cercanos[2] = 'Jesus'\n",
    "amigos_cercanos"
   ]
  },
  {
   "cell_type": "code",
   "execution_count": 18,
   "id": "77206f6d-e5c7-4d2a-973c-dfb8a0ebe681",
   "metadata": {},
   "outputs": [
    {
     "data": {
      "text/plain": [
       "3"
      ]
     },
     "execution_count": 18,
     "metadata": {},
     "output_type": "execute_result"
    }
   ],
   "source": [
    "longitud = len(amigos)\n",
    "longitud"
   ]
  },
  {
   "cell_type": "code",
   "execution_count": 19,
   "id": "645bee8e-eed7-4c21-b06b-785e41321c4a",
   "metadata": {},
   "outputs": [
    {
     "data": {
      "text/plain": [
       "[1, 2, 3, 4, 5, 6]"
      ]
     },
     "execution_count": 19,
     "metadata": {},
     "output_type": "execute_result"
    }
   ],
   "source": [
    "a = [1,2,3]\n",
    "b = [4,5,6]\n",
    "c = a+b\n",
    "c"
   ]
  },
  {
   "cell_type": "code",
   "execution_count": 20,
   "id": "34a441a9-8780-4f92-9d75-7ad7aa89d6a0",
   "metadata": {},
   "outputs": [
    {
     "data": {
      "text/plain": [
       "[2, 3]"
      ]
     },
     "execution_count": 20,
     "metadata": {},
     "output_type": "execute_result"
    }
   ],
   "source": [
    "c[1:3]"
   ]
  },
  {
   "cell_type": "code",
   "execution_count": 21,
   "id": "47f833c9-a583-4dbf-b4b6-de443af10f18",
   "metadata": {},
   "outputs": [
    {
     "data": {
      "text/plain": [
       "[3, 4, 5, 6]"
      ]
     },
     "execution_count": 21,
     "metadata": {},
     "output_type": "execute_result"
    }
   ],
   "source": [
    "c[2:]"
   ]
  },
  {
   "cell_type": "code",
   "execution_count": 22,
   "id": "003368c0-f927-4593-91c0-9bf8826649ef",
   "metadata": {},
   "outputs": [
    {
     "data": {
      "text/plain": [
       "list"
      ]
     },
     "execution_count": 22,
     "metadata": {},
     "output_type": "execute_result"
    }
   ],
   "source": [
    "type(c)"
   ]
  },
  {
   "cell_type": "code",
   "execution_count": 23,
   "id": "c489c4d8-a222-40db-b59f-2a373d40ac46",
   "metadata": {},
   "outputs": [
    {
     "data": {
      "text/plain": [
       "[]"
      ]
     },
     "execution_count": 23,
     "metadata": {},
     "output_type": "execute_result"
    }
   ],
   "source": [
    "#Listas desde 0\n",
    "listado = list()\n",
    "listado"
   ]
  },
  {
   "cell_type": "code",
   "execution_count": 24,
   "id": "24f6f844-d8f8-49c1-8e53-b94af6dee842",
   "metadata": {},
   "outputs": [
    {
     "data": {
      "text/plain": [
       "['Libro', 100]"
      ]
     },
     "execution_count": 24,
     "metadata": {},
     "output_type": "execute_result"
    }
   ],
   "source": [
    "listado.append('Libro')\n",
    "listado.append(100)\n",
    "listado"
   ]
  },
  {
   "cell_type": "code",
   "execution_count": 25,
   "id": "fc7bcf19-391b-4eac-943b-406e9a40dfa1",
   "metadata": {},
   "outputs": [
    {
     "data": {
      "text/plain": [
       "['Jesus', 'Juan', 'Pedro']"
      ]
     },
     "execution_count": 25,
     "metadata": {},
     "output_type": "execute_result"
    }
   ],
   "source": [
    "#Ordenamiento en las listas\n",
    "amigos.sort()\n",
    "amigos"
   ]
  },
  {
   "cell_type": "code",
   "execution_count": 26,
   "id": "6f0f3cf5-c6ef-4a68-80ac-ae0d8c86e8cc",
   "metadata": {},
   "outputs": [
    {
     "name": "stdout",
     "output_type": "stream",
     "text": [
      "6\n"
     ]
    }
   ],
   "source": [
    "print(max(c))"
   ]
  },
  {
   "cell_type": "code",
   "execution_count": 27,
   "id": "fd575f91-a713-4057-b1ce-1439ccb7868f",
   "metadata": {},
   "outputs": [
    {
     "name": "stdout",
     "output_type": "stream",
     "text": [
      "21\n"
     ]
    }
   ],
   "source": [
    "print(sum(c))"
   ]
  },
  {
   "cell_type": "code",
   "execution_count": 28,
   "id": "7cc47ab6-2a41-423f-bbe1-c089416ffe72",
   "metadata": {},
   "outputs": [
    {
     "data": {
      "text/plain": [
       "['Aldo', 'Claudia', 'Fabian', 'Erick']"
      ]
     },
     "execution_count": 28,
     "metadata": {},
     "output_type": "execute_result"
    }
   ],
   "source": [
    "amigos2 = 'Aldo Claudia Fabian Erick'\n",
    "lista_amigos = amigos2.split()\n",
    "lista_amigos"
   ]
  },
  {
   "cell_type": "code",
   "execution_count": null,
   "id": "9fb0faaf-a3c2-47e1-b7d5-524e23b5e2bc",
   "metadata": {},
   "outputs": [],
   "source": []
  }
 ],
 "metadata": {
  "kernelspec": {
   "display_name": "Python 3 (ipykernel)",
   "language": "python",
   "name": "python3"
  },
  "language_info": {
   "codemirror_mode": {
    "name": "ipython",
    "version": 3
   },
   "file_extension": ".py",
   "mimetype": "text/x-python",
   "name": "python",
   "nbconvert_exporter": "python",
   "pygments_lexer": "ipython3",
   "version": "3.13.5"
  }
 },
 "nbformat": 4,
 "nbformat_minor": 5
}
