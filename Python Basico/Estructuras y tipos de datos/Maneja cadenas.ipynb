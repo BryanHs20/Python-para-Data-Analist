{
 "cells": [
  {
   "cell_type": "code",
   "execution_count": 2,
   "id": "789f80ed-6854-445c-8d3e-6affb7e1c78e",
   "metadata": {},
   "outputs": [
    {
     "name": "stdout",
     "output_type": "stream",
     "text": [
      "Joséras\n"
     ]
    }
   ],
   "source": [
    "#Concatenacion\n",
    "nombre = \"José\"\n",
    "\n",
    "nombre_dos = 'ras'\n",
    "\n",
    "resultado = nombre + nombre_dos\n",
    "\n",
    "print(resultado) # Salida: \"Joséras\""
   ]
  },
  {
   "cell_type": "code",
   "execution_count": 14,
   "id": "5c032303-e1fb-42be-8b1b-5d405f0cddf1",
   "metadata": {},
   "outputs": [
    {
     "name": "stdout",
     "output_type": "stream",
     "text": [
      "J\n",
      "é\n"
     ]
    }
   ],
   "source": [
    "#Extraccion de catacteres\n",
    "nombre = \"José\"\n",
    "\n",
    "print(nombre[0]) # Salida: \"J\"\n",
    "print(nombre[3]) # Salida: \"e\""
   ]
  },
  {
   "cell_type": "code",
   "execution_count": 3,
   "id": "d18dcaf3-ea2d-4b9c-9aea-011a6024e1eb",
   "metadata": {},
   "outputs": [
    {
     "name": "stdout",
     "output_type": "stream",
     "text": [
      "Jos\n",
      "Jos\n",
      "José\n",
      "José\n"
     ]
    }
   ],
   "source": [
    "#Slicing (Subcadenas)\n",
    "nombre = \"José\"\n",
    "\n",
    "print(nombre[0:3]) # Salida: \"Jos\"\n",
    "print(nombre[:3]) # Salida: \"Jos\"\n",
    "print(nombre[0:]) # Salida: \"José\"\n",
    "print(nombre[:]) # Salida: \"José\""
   ]
  },
  {
   "cell_type": "code",
   "execution_count": 6,
   "id": "bd047933-3ec4-42c1-908f-09e2ce191063",
   "metadata": {},
   "outputs": [
    {
     "name": "stdout",
     "output_type": "stream",
     "text": [
      "4\n"
     ]
    }
   ],
   "source": [
    "#Longitud de la cadeba\n",
    "nombre = \"José\"\n",
    "\n",
    "print(len(nombre)) # Salida: 4"
   ]
  },
  {
   "cell_type": "code",
   "execution_count": 6,
   "id": "880b0809-1014-4641-b095-3dc9736344ec",
   "metadata": {},
   "outputs": [
    {
     "name": "stdout",
     "output_type": "stream",
     "text": [
      "josé\n"
     ]
    }
   ],
   "source": [
    "#Consercion de mayusculas y minusculas\n",
    "nombre = \"José\"\n",
    "\n",
    "print(nombre.lower()) # Salida: \"josé\""
   ]
  },
  {
   "cell_type": "code",
   "execution_count": 7,
   "id": "c33c5cc5-f7f8-4181-9092-842e4368a43d",
   "metadata": {},
   "outputs": [
    {
     "name": "stdout",
     "output_type": "stream",
     "text": [
      "JOSÉ\n"
     ]
    }
   ],
   "source": [
    "nombre = \"José\"\n",
    "\n",
    "print(nombre.upper()) # Salida: \"JOSÉ\""
   ]
  },
  {
   "cell_type": "code",
   "execution_count": 8,
   "id": "d4ebd278-5e6b-4299-ae98-5de5b144a0db",
   "metadata": {},
   "outputs": [
    {
     "name": "stdout",
     "output_type": "stream",
     "text": [
      "Hola amiga\n"
     ]
    }
   ],
   "source": [
    "#Reemplazo de subcadenas\n",
    "texto = \"Hola amigo\"\n",
    "\n",
    "texto_modificado = texto.replace(\"amigo\", \"amiga\")\n",
    "\n",
    "print(texto_modificado) # Salida: \"Hola amiga\""
   ]
  },
  {
   "cell_type": "code",
   "execution_count": 9,
   "id": "6565fe68-e364-4d8b-9657-ff49b928ae2f",
   "metadata": {},
   "outputs": [
    {
     "name": "stdout",
     "output_type": "stream",
     "text": [
      "Hola amigo\n"
     ]
    }
   ],
   "source": [
    "#Eliminacion de espacios\n",
    "texto = \" Hola amigo\"\n",
    "\n",
    "print(texto.lstrip()) # Salida: \"Hola amigo\""
   ]
  },
  {
   "cell_type": "code",
   "execution_count": 10,
   "id": "e54d9bb9-1a8e-475d-bb9b-3c332561361c",
   "metadata": {},
   "outputs": [
    {
     "name": "stdout",
     "output_type": "stream",
     "text": [
      "Hola amigo\n"
     ]
    }
   ],
   "source": [
    "texto = \"Hola amigo \"\n",
    "\n",
    "print(texto.rstrip()) # Salida: \"Hola amigo\""
   ]
  },
  {
   "cell_type": "code",
   "execution_count": 11,
   "id": "45020efd-bdc9-42d5-b161-9036efc7ad0c",
   "metadata": {},
   "outputs": [
    {
     "name": "stdout",
     "output_type": "stream",
     "text": [
      "Hola amigo\n"
     ]
    }
   ],
   "source": [
    "texto = \" Hola amigo \"\n",
    "\n",
    "print(texto.strip()) # Salida: \"Hola amigo\""
   ]
  },
  {
   "cell_type": "code",
   "execution_count": 7,
   "id": "d9ec137e-de4b-4cb1-a2e4-66f11776507f",
   "metadata": {},
   "outputs": [
    {
     "data": {
      "text/plain": [
       "['__add__',\n",
       " '__class__',\n",
       " '__contains__',\n",
       " '__delattr__',\n",
       " '__dir__',\n",
       " '__doc__',\n",
       " '__eq__',\n",
       " '__format__',\n",
       " '__ge__',\n",
       " '__getattribute__',\n",
       " '__getitem__',\n",
       " '__getnewargs__',\n",
       " '__getstate__',\n",
       " '__gt__',\n",
       " '__hash__',\n",
       " '__init__',\n",
       " '__init_subclass__',\n",
       " '__iter__',\n",
       " '__le__',\n",
       " '__len__',\n",
       " '__lt__',\n",
       " '__mod__',\n",
       " '__mul__',\n",
       " '__ne__',\n",
       " '__new__',\n",
       " '__reduce__',\n",
       " '__reduce_ex__',\n",
       " '__repr__',\n",
       " '__rmod__',\n",
       " '__rmul__',\n",
       " '__setattr__',\n",
       " '__sizeof__',\n",
       " '__str__',\n",
       " '__subclasshook__',\n",
       " 'capitalize',\n",
       " 'casefold',\n",
       " 'center',\n",
       " 'count',\n",
       " 'encode',\n",
       " 'endswith',\n",
       " 'expandtabs',\n",
       " 'find',\n",
       " 'format',\n",
       " 'format_map',\n",
       " 'index',\n",
       " 'isalnum',\n",
       " 'isalpha',\n",
       " 'isascii',\n",
       " 'isdecimal',\n",
       " 'isdigit',\n",
       " 'isidentifier',\n",
       " 'islower',\n",
       " 'isnumeric',\n",
       " 'isprintable',\n",
       " 'isspace',\n",
       " 'istitle',\n",
       " 'isupper',\n",
       " 'join',\n",
       " 'ljust',\n",
       " 'lower',\n",
       " 'lstrip',\n",
       " 'maketrans',\n",
       " 'partition',\n",
       " 'removeprefix',\n",
       " 'removesuffix',\n",
       " 'replace',\n",
       " 'rfind',\n",
       " 'rindex',\n",
       " 'rjust',\n",
       " 'rpartition',\n",
       " 'rsplit',\n",
       " 'rstrip',\n",
       " 'split',\n",
       " 'splitlines',\n",
       " 'startswith',\n",
       " 'strip',\n",
       " 'swapcase',\n",
       " 'title',\n",
       " 'translate',\n",
       " 'upper',\n",
       " 'zfill']"
      ]
     },
     "execution_count": 7,
     "metadata": {},
     "output_type": "execute_result"
    }
   ],
   "source": [
    "#Listar metodos disponibles\n",
    "nombre = \"José\"\n",
    "dir(nombre)\n",
    "#print(dir(nombre))"
   ]
  },
  {
   "cell_type": "code",
   "execution_count": null,
   "id": "11847996-03bc-4f7c-91b1-8700d1ace1b7",
   "metadata": {},
   "outputs": [],
   "source": []
  }
 ],
 "metadata": {
  "kernelspec": {
   "display_name": "Python 3 (ipykernel)",
   "language": "python",
   "name": "python3"
  },
  "language_info": {
   "codemirror_mode": {
    "name": "ipython",
    "version": 3
   },
   "file_extension": ".py",
   "mimetype": "text/x-python",
   "name": "python",
   "nbconvert_exporter": "python",
   "pygments_lexer": "ipython3",
   "version": "3.13.5"
  }
 },
 "nbformat": 4,
 "nbformat_minor": 5
}
