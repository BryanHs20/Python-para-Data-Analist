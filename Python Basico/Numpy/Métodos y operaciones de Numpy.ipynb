{
 "cells": [
  {
   "cell_type": "markdown",
   "id": "c148d2f3-bb08-43c5-b8bb-a410bea8ec55",
   "metadata": {},
   "source": [
    "# Métodos y operaciones de Numpy"
   ]
  },
  {
   "cell_type": "code",
   "execution_count": 5,
   "id": "becb2fad-6ae5-4af6-a177-a87a4c9b26ef",
   "metadata": {},
   "outputs": [],
   "source": [
    "import numpy as np\n",
    "accidentes = np.array([[0,1,1],\n",
    "                      [1,0,1],\n",
    "                      [1,3,2],\n",
    "                      [2,2,0]])\n",
    "\n",
    "# Mediante el uso de un arreglo NumPy determine "
   ]
  },
  {
   "cell_type": "code",
   "execution_count": 6,
   "id": "3c1e6191-7201-4c59-93a9-231092774178",
   "metadata": {},
   "outputs": [
    {
     "data": {
      "text/plain": [
       "np.int64(14)"
      ]
     },
     "execution_count": 6,
     "metadata": {},
     "output_type": "execute_result"
    }
   ],
   "source": [
    "\"\"\"  a) El numero total de accidentes durtante los 4 años  \"\"\"\n",
    "accidentes.sum()"
   ]
  },
  {
   "cell_type": "code",
   "execution_count": 8,
   "id": "d7e28fb8-8146-4281-98d1-d8eaa82d920a",
   "metadata": {},
   "outputs": [
    {
     "data": {
      "text/plain": [
       "array([4, 6, 4])"
      ]
     },
     "execution_count": 8,
     "metadata": {},
     "output_type": "execute_result"
    }
   ],
   "source": [
    "\"\"\"  b) El numero total de accidentes por area(por columna)  \"\"\"\n",
    "acciden_area = accidentes.sum(axis = 0)\n",
    "acciden_area"
   ]
  },
  {
   "cell_type": "code",
   "execution_count": 12,
   "id": "455a0bf0-dc25-4d69-b0b9-9c5f8cc7161f",
   "metadata": {},
   "outputs": [
    {
     "name": "stdout",
     "output_type": "stream",
     "text": [
      "Los accidentes totales del area 1 son: 4\n",
      "Los accidentes totales del area 2 son: 6\n",
      "Los accidentes totales del area 3 son: 4\n"
     ]
    }
   ],
   "source": [
    "print(\"Los accidentes totales del area 1 son:\",acciden_area[0])\n",
    "print(\"Los accidentes totales del area 2 son:\",acciden_area[1])\n",
    "print(\"Los accidentes totales del area 3 son:\",acciden_area[2])"
   ]
  },
  {
   "cell_type": "code",
   "execution_count": 16,
   "id": "a9586dfd-8090-4ecd-b610-6798b0a2a8a3",
   "metadata": {},
   "outputs": [
    {
     "data": {
      "text/plain": [
       "array([2, 2, 6, 4])"
      ]
     },
     "execution_count": 16,
     "metadata": {},
     "output_type": "execute_result"
    }
   ],
   "source": [
    "\"\"\"  c) El numero total de accidentes por año(renglon)  \"\"\"\n",
    "acciden_año = accidentes.sum(axis=1)\n",
    "acciden_año"
   ]
  },
  {
   "cell_type": "code",
   "execution_count": 17,
   "id": "2ff1f20f-5a7a-474a-8c66-f4cdbc95b349",
   "metadata": {},
   "outputs": [
    {
     "data": {
      "text/plain": [
       "array([[2],\n",
       "       [2],\n",
       "       [6],\n",
       "       [4]])"
      ]
     },
     "execution_count": 17,
     "metadata": {},
     "output_type": "execute_result"
    }
   ],
   "source": [
    "\"\"\"  Conservacion de dimensiones  \"\"\"\n",
    "acciden_año = accidentes.sum(axis=1, keepdims= True)\n",
    "acciden_año"
   ]
  },
  {
   "cell_type": "code",
   "execution_count": 18,
   "id": "ae055e49-ff5b-465d-badf-c507451bdb7a",
   "metadata": {},
   "outputs": [
    {
     "name": "stdout",
     "output_type": "stream",
     "text": [
      "Los accidentes totales del año 1 son: [2]\n",
      "Los accidentes totales del año 2 son: [2]\n",
      "Los accidentes totales del añp 3 son: [6]\n",
      "Los accidentes totales del añp 4 son: [4]\n"
     ]
    }
   ],
   "source": [
    "print(\"Los accidentes totales del año 1 son:\",acciden_año[0])\n",
    "print(\"Los accidentes totales del año 2 son:\",acciden_año[1])\n",
    "print(\"Los accidentes totales del añp 3 son:\",acciden_año[2])\n",
    "print(\"Los accidentes totales del añp 4 son:\",acciden_año[3])"
   ]
  },
  {
   "cell_type": "code",
   "execution_count": 19,
   "id": "0aa6d25e-27b0-4df6-95f3-84498c787f1a",
   "metadata": {},
   "outputs": [
    {
     "name": "stdout",
     "output_type": "stream",
     "text": [
      "Maximo de accidentes: 3\n",
      "Minimo de accidentes: 0\n"
     ]
    }
   ],
   "source": [
    "\"\"\"  d) El numero maximo y minimo de accidentes por area y año  \"\"\"\n",
    "maximo = accidentes.max()\n",
    "minimo = accidentes.min()\n",
    "\n",
    "print(f\"Maximo de accidentes: {maximo}\")\n",
    "print(f\"Minimo de accidentes: {minimo}\")"
   ]
  },
  {
   "cell_type": "code",
   "execution_count": 21,
   "id": "622e5c3d-7232-4073-a3c5-d7e28d86e361",
   "metadata": {},
   "outputs": [
    {
     "name": "stdout",
     "output_type": "stream",
     "text": [
      "El promedio de accidentes es: 1.1666666666666667\n"
     ]
    }
   ],
   "source": [
    "\"\"\"  e) El numero promedio de accidentes por area y año  \"\"\"\n",
    "promedio = accidentes.mean()\n",
    "print(f\"El promedio de accidentes es: {promedio}\")"
   ]
  },
  {
   "cell_type": "markdown",
   "id": "dff19b35-9679-4f7d-8b96-cc39bb49a130",
   "metadata": {},
   "source": [
    "# Operaciones Vectorizadas"
   ]
  },
  {
   "cell_type": "code",
   "execution_count": 23,
   "id": "3d9a1b94-1bb6-47fd-9918-416461d50e71",
   "metadata": {},
   "outputs": [
    {
     "name": "stdout",
     "output_type": "stream",
     "text": [
      "2\n",
      "3\n",
      "1\n"
     ]
    }
   ],
   "source": [
    "\"\"\"  Determine la suma descrita en la imagen de abajo mediante:\n",
    "a) Un ciclo en Python\n",
    "b) Una función vectorizada de NumPy  \"\"\"\n",
    "\n",
    "arreglo = np.array([[1,2,3],\n",
    "                   [4,5,6]])\n",
    "\n",
    "dimensiones = arreglo.shape\n",
    "print(dimensiones[0])  ## Renglones\n",
    "print(dimensiones[1])  ## Columnas\n",
    "print(arreglo[0][0])  ## Primer elemento de la tabla"
   ]
  },
  {
   "cell_type": "code",
   "execution_count": 30,
   "id": "405f8846-4c41-46e0-9263-830ce87703c1",
   "metadata": {},
   "outputs": [
    {
     "name": "stdout",
     "output_type": "stream",
     "text": [
      "[[4. 5. 6.]\n",
      " [7. 8. 9.]]\n",
      "Tiempo total de ejecucion (Segs) 0.00047469139099121094\n"
     ]
    }
   ],
   "source": [
    "\"\"\"  Inciso a  \"\"\"\n",
    "import time\n",
    "inicio = time.time()\n",
    "\n",
    "arreglo_final = np.zeros((2,3))\n",
    "for renglon in range(dimensiones[0]):\n",
    "    for columnas in range(dimensiones[1]):\n",
    "        arreglo_final[renglon][columnas] = arreglo[renglon][columnas] + 3\n",
    "print(arreglo_final)\n",
    "\n",
    "fin = time.time()\n",
    "print(\"Tiempo total de ejecucion (Segs)\", fin - inicio)"
   ]
  },
  {
   "cell_type": "code",
   "execution_count": 31,
   "id": "de81d898-17bd-4262-9e38-39bb4dffd0ee",
   "metadata": {},
   "outputs": [
    {
     "name": "stdout",
     "output_type": "stream",
     "text": [
      "[[4 5 6]\n",
      " [7 8 9]]\n",
      "Tiempo total de ejecucion (Segs) 0.0002532005310058594\n"
     ]
    }
   ],
   "source": [
    "\"\"\"  Inciso b  \"\"\"\n",
    "import time\n",
    "inicio = time.time()\n",
    "\n",
    "arreglo_final = arreglo + 3\n",
    "print(arreglo_final)\n",
    "\n",
    "fin = time.time()\n",
    "print(\"Tiempo total de ejecucion (Segs)\", fin - inicio)\n"
   ]
  },
  {
   "cell_type": "code",
   "execution_count": null,
   "id": "94a3e02d-8ca5-4c93-b0f1-23c8b6b57495",
   "metadata": {},
   "outputs": [],
   "source": []
  }
 ],
 "metadata": {
  "kernelspec": {
   "display_name": "Python 3 (ipykernel)",
   "language": "python",
   "name": "python3"
  },
  "language_info": {
   "codemirror_mode": {
    "name": "ipython",
    "version": 3
   },
   "file_extension": ".py",
   "mimetype": "text/x-python",
   "name": "python",
   "nbconvert_exporter": "python",
   "pygments_lexer": "ipython3",
   "version": "3.13.5"
  }
 },
 "nbformat": 4,
 "nbformat_minor": 5
}
