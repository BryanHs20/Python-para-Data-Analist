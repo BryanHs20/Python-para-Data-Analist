{
 "cells": [
  {
   "cell_type": "code",
   "execution_count": 1,
   "id": "6d62cc14-2f90-4f56-9207-266170d816c4",
   "metadata": {},
   "outputs": [
    {
     "name": "stdout",
     "output_type": "stream",
     "text": [
      "Que tal!\n"
     ]
    }
   ],
   "source": [
    "print('Que tal!')"
   ]
  },
  {
   "cell_type": "code",
   "execution_count": 1,
   "id": "21949b73-efce-49e0-aba0-415a5e5752b7",
   "metadata": {},
   "outputs": [
    {
     "name": "stdout",
     "output_type": "stream",
     "text": [
      "123\n"
     ]
    }
   ],
   "source": [
    "print(123)"
   ]
  },
  {
   "cell_type": "code",
   "execution_count": 4,
   "id": "5a420cd5-4426-4ca3-b188-13e60146a90f",
   "metadata": {},
   "outputs": [],
   "source": [
    "x = 10.5\n",
    "y = 20"
   ]
  },
  {
   "cell_type": "code",
   "execution_count": 5,
   "id": "458135cf-b9c1-4b6e-8b01-ebf1ade3f59b",
   "metadata": {},
   "outputs": [
    {
     "name": "stdout",
     "output_type": "stream",
     "text": [
      "30.5\n"
     ]
    }
   ],
   "source": [
    "print(x+y)"
   ]
  },
  {
   "cell_type": "code",
   "execution_count": 6,
   "id": "682ea121-7733-4ea4-af88-23d2ab6a6993",
   "metadata": {},
   "outputs": [
    {
     "name": "stdout",
     "output_type": "stream",
     "text": [
      "El valor de x es: 10.5\n"
     ]
    }
   ],
   "source": [
    "print(\"El valor de x es:\", x)"
   ]
  },
  {
   "cell_type": "code",
   "execution_count": 7,
   "id": "9d7cf9db-d66d-4a94-9c98-a828701c2186",
   "metadata": {},
   "outputs": [
    {
     "name": "stdout",
     "output_type": "stream",
     "text": [
      "Valor de z: 30.5\n"
     ]
    }
   ],
   "source": [
    "z = x+y\n",
    "print(\"Valor de z:\", z)"
   ]
  },
  {
   "cell_type": "code",
   "execution_count": 8,
   "id": "1dbb0a79-2b74-4ea2-bc1b-ae4e3d7dec64",
   "metadata": {},
   "outputs": [
    {
     "name": "stdout",
     "output_type": "stream",
     "text": [
      "30.5\n"
     ]
    }
   ],
   "source": [
    "long_objeto1 = 10.5\n",
    "long_objeto2 = 20\n",
    "long_objeto3 = long_objeto1 + long_objeto2\n",
    "print(long_objeto3)"
   ]
  },
  {
   "cell_type": "code",
   "execution_count": null,
   "id": "fe6233eb-2f12-4b2f-8958-b1b6282d8413",
   "metadata": {},
   "outputs": [],
   "source": []
  }
 ],
 "metadata": {
  "kernelspec": {
   "display_name": "Python 3 (ipykernel)",
   "language": "python",
   "name": "python3"
  },
  "language_info": {
   "codemirror_mode": {
    "name": "ipython",
    "version": 3
   },
   "file_extension": ".py",
   "mimetype": "text/x-python",
   "name": "python",
   "nbconvert_exporter": "python",
   "pygments_lexer": "ipython3",
   "version": "3.13.5"
  }
 },
 "nbformat": 4,
 "nbformat_minor": 5
}
