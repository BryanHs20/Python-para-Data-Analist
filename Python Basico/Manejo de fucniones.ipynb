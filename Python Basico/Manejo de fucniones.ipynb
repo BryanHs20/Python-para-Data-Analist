{
 "cells": [
  {
   "cell_type": "markdown",
   "id": "6b776402-63cd-447a-b59e-0521e1cbee43",
   "metadata": {},
   "source": [
    "# Manejo de fucniones"
   ]
  },
  {
   "cell_type": "code",
   "execution_count": 1,
   "id": "b7a69c6b-67ae-454d-8dc5-4ae25e3fce38",
   "metadata": {},
   "outputs": [
    {
     "name": "stdout",
     "output_type": "stream",
     "text": [
      "Hola\n"
     ]
    }
   ],
   "source": [
    "def saludo():\n",
    "    print(\"Hola\")\n",
    "\n",
    "saludo()"
   ]
  },
  {
   "cell_type": "code",
   "execution_count": 2,
   "id": "16234dbf-cc43-4e4b-9d62-64f7177cd0d4",
   "metadata": {},
   "outputs": [
    {
     "name": "stdout",
     "output_type": "stream",
     "text": [
      "Hola John\n"
     ]
    }
   ],
   "source": [
    "def saludo_nombre(nombre):\n",
    "    print(\"Hola \" + nombre)\n",
    "\n",
    "saludo_nombre(\"John\")"
   ]
  },
  {
   "cell_type": "code",
   "execution_count": 4,
   "id": "8adc8ddc-146d-4471-9ba6-2873fee69316",
   "metadata": {},
   "outputs": [
    {
     "name": "stdout",
     "output_type": "stream",
     "text": [
      "12.5664\n"
     ]
    }
   ],
   "source": [
    "#Area de un circulo\n",
    "def area_circulo(radio):\n",
    "    area = 3.1416 * radio**2\n",
    "\n",
    "    return area\n",
    "\n",
    "mi_area = area_circulo(2)\n",
    "print(mi_area)"
   ]
  },
  {
   "cell_type": "code",
   "execution_count": 5,
   "id": "56a738a4-cda7-4619-ba29-ce316f74c896",
   "metadata": {},
   "outputs": [
    {
     "data": {
      "text/plain": [
       "8"
      ]
     },
     "execution_count": 5,
     "metadata": {},
     "output_type": "execute_result"
    }
   ],
   "source": [
    "def producto(x1, x2):\n",
    "    return x1 * x2\n",
    "\n",
    "producto(2,4)"
   ]
  },
  {
   "cell_type": "code",
   "execution_count": 7,
   "id": "30d79419-8403-4ba7-bbfc-a766e0639dfb",
   "metadata": {},
   "outputs": [
    {
     "name": "stdout",
     "output_type": "stream",
     "text": [
      "5\n"
     ]
    }
   ],
   "source": [
    "#Funcion con valores pre-determinados\n",
    "def suma(a, b = 3):\n",
    "    return a+b\n",
    "    \n",
    "resultado = suma(2)\n",
    "#resultado = suma(2,4)\n",
    "print(resultado)"
   ]
  },
  {
   "cell_type": "code",
   "execution_count": 11,
   "id": "8df00e8d-822a-4e6a-bcaa-69e95cbcff44",
   "metadata": {},
   "outputs": [
    {
     "name": "stdout",
     "output_type": "stream",
     "text": [
      "20\n"
     ]
    }
   ],
   "source": [
    "def duplica(numero):\n",
    "    x = numero * 2\n",
    "\n",
    "    return x\n",
    "\n",
    "#print(x)\n",
    "print(duplica(10))"
   ]
  },
  {
   "cell_type": "code",
   "execution_count": 13,
   "id": "549505f7-c88d-4519-915f-5c11c7dd42ec",
   "metadata": {},
   "outputs": [
    {
     "name": "stdout",
     "output_type": "stream",
     "text": [
      "Mi mejor amigo es Linus\n"
     ]
    }
   ],
   "source": [
    "# * le da la opcion de recivir mas parametros\n",
    "def mi_funcion(*amigos):\n",
    "    print(\"Mi mejor amigo es \" + amigos[2])\n",
    "\n",
    "mi_funcion(\"Pedro\", \"Jose\", \"Linus\", \"Juan\")"
   ]
  },
  {
   "cell_type": "code",
   "execution_count": 15,
   "id": "28d24f88-43fb-458b-8bbb-e6929531d9af",
   "metadata": {},
   "outputs": [
    {
     "name": "stdout",
     "output_type": "stream",
     "text": [
      "Wl chico mas joven es: Emile\n"
     ]
    }
   ],
   "source": [
    "def chicos(chico1,chico2,chico3):\n",
    "    print(\"Wl chico mas joven es: \" + chico3)\n",
    "\n",
    "chicos(chico3=\"Emile\", chico1=\"Tobias\", chico2=\"Armando\")"
   ]
  },
  {
   "cell_type": "code",
   "execution_count": 18,
   "id": "46da35c5-a7ec-4d29-ba4d-7cea06f2f5fe",
   "metadata": {},
   "outputs": [
    {
     "name": "stdout",
     "output_type": "stream",
     "text": [
      "El apellido es Suarez\n"
     ]
    }
   ],
   "source": [
    "def apellido(**chico): # ** expecie de diccionario pero en funciones\n",
    "    print(\"El apellido es \" + chico[\"apellido\"])\n",
    "\n",
    "apellido(npila = \"Juan\", apellido = \"Suarez\", edad = 15)"
   ]
  },
  {
   "cell_type": "code",
   "execution_count": 20,
   "id": "63758afc-8e3a-4846-9cf3-d1f80ddf28b0",
   "metadata": {},
   "outputs": [
    {
     "name": "stdout",
     "output_type": "stream",
     "text": [
      "Soy de Argentina\n",
      "Soy de Mexico\n"
     ]
    }
   ],
   "source": [
    "def pais(country = \"Mexico\"):\n",
    "    print(\"Soy de \"+ country)\n",
    "\n",
    "pais(\"Argentina\")\n",
    "pais()"
   ]
  },
  {
   "cell_type": "code",
   "execution_count": 22,
   "id": "73532334-133f-46c1-bf49-2a616145da1a",
   "metadata": {},
   "outputs": [],
   "source": [
    "def funcion():\n",
    "    pass\n",
    "\n",
    "funcion()"
   ]
  },
  {
   "cell_type": "code",
   "execution_count": 24,
   "id": "48eec338-e26d-4c35-a337-4fc734385a78",
   "metadata": {},
   "outputs": [
    {
     "name": "stdout",
     "output_type": "stream",
     "text": [
      "manzana\n",
      "fresa\n",
      "sandia\n"
     ]
    }
   ],
   "source": [
    "# Pase de listas en funciones\n",
    "def lista_comida(comida):\n",
    "    for x in comida:\n",
    "        print(x)\n",
    "\n",
    "frutas = [\"manzana\",\"fresa\",\"sandia\"]\n",
    "lista_comida(frutas)"
   ]
  },
  {
   "cell_type": "markdown",
   "id": "02b87757-87ec-4890-b62b-15530fb1006a",
   "metadata": {},
   "source": [
    "# Practica"
   ]
  },
  {
   "cell_type": "code",
   "execution_count": 30,
   "id": "450b9882-a922-4c03-befa-3356c52fa626",
   "metadata": {},
   "outputs": [
    {
     "name": "stdout",
     "output_type": "stream",
     "text": [
      "[1, 2, 3, 4, 5, 6, 7, 8, 9, 10]\n",
      "[2, 4, 6, 8, 10, 12, 14, 16, 18, 20]\n",
      "[3, 6, 9, 12, 15, 18, 21, 24, 27, 30]\n",
      "[4, 8, 12, 16, 20, 24, 28, 32, 36, 40]\n",
      "[5, 10, 15, 20, 25, 30, 35, 40, 45, 50]\n",
      "[6, 12, 18, 24, 30, 36, 42, 48, 54, 60]\n",
      "[7, 14, 21, 28, 35, 42, 49, 56, 63, 70]\n",
      "[8, 16, 24, 32, 40, 48, 56, 64, 72, 80]\n",
      "[9, 18, 27, 36, 45, 54, 63, 72, 81, 90]\n",
      "[10, 20, 30, 40, 50, 60, 70, 80, 90, 100]\n"
     ]
    }
   ],
   "source": [
    "def tabla_del(numero):\n",
    "    resultado = []\n",
    "    for i in range(1, 11):\n",
    "        resultado.append(numero * i)\n",
    "    return resultado\n",
    "\n",
    "for valor in range(1,11):\n",
    "    print(tabla_del(valor))"
   ]
  },
  {
   "cell_type": "code",
   "execution_count": 33,
   "id": "a41d1a7c-70eb-40ee-bcd2-0443cc3f7a84",
   "metadata": {},
   "outputs": [
    {
     "name": "stdout",
     "output_type": "stream",
     "text": [
      "True\n"
     ]
    }
   ],
   "source": [
    "def palindromo(cadena):\n",
    "    izq = 0\n",
    "    derecha = len(cadena) - 1 \n",
    "\n",
    "    while derecha >= izq:\n",
    "        if not (cadena)[izq] == cadena[derecha]:\n",
    "            return False\n",
    "        izq += 1\n",
    "        derecha -= 1\n",
    "    return True\n",
    "\n",
    "print(palindromo(\"rayar\"))"
   ]
  },
  {
   "cell_type": "code",
   "execution_count": 35,
   "id": "d068e1ca-bac9-4657-a33b-7e69d3879dd5",
   "metadata": {},
   "outputs": [
    {
     "name": "stdout",
     "output_type": "stream",
     "text": [
      "True\n"
     ]
    }
   ],
   "source": [
    "#Resuleve el problema de las mayusculas\n",
    "def palindromo(cadena):\n",
    "    izq = 0\n",
    "    derecha = len(cadena) - 1 \n",
    "\n",
    "    while derecha >= izq:\n",
    "        if not (cadena)[izq].lower() == cadena[derecha]:\n",
    "            return False\n",
    "        izq += 1\n",
    "        derecha -= 1\n",
    "    return True\n",
    "\n",
    "print(palindromo(\"Rayar\"))"
   ]
  },
  {
   "cell_type": "code",
   "execution_count": 36,
   "id": "874a9378-1616-4dbc-8a7a-733b3515a29e",
   "metadata": {},
   "outputs": [
    {
     "name": "stdout",
     "output_type": "stream",
     "text": [
      "4\n"
     ]
    }
   ],
   "source": [
    "# funcion tradicional\n",
    "def cuadrado(x):\n",
    "    return x ** 2\n",
    "print(cuadrado(2))"
   ]
  },
  {
   "cell_type": "code",
   "execution_count": 37,
   "id": "b0fb4acd-39ef-4c99-8086-1af5f295c291",
   "metadata": {},
   "outputs": [
    {
     "name": "stdout",
     "output_type": "stream",
     "text": [
      "4\n"
     ]
    }
   ],
   "source": [
    "cuadrado = lambda x: x**2\n",
    "print(cuadrado(2))"
   ]
  },
  {
   "cell_type": "code",
   "execution_count": 38,
   "id": "c747a8d0-d6eb-4747-93ec-e581f67518c7",
   "metadata": {},
   "outputs": [
    {
     "data": {
      "text/plain": [
       "5"
      ]
     },
     "execution_count": 38,
     "metadata": {},
     "output_type": "execute_result"
    }
   ],
   "source": [
    "suma = lambda x, y: x + y\n",
    "suma(2,3)"
   ]
  },
  {
   "cell_type": "code",
   "execution_count": 39,
   "id": "c0ead22a-096b-49d2-b103-250cb833659f",
   "metadata": {},
   "outputs": [
    {
     "data": {
      "text/plain": [
       "5"
      ]
     },
     "execution_count": 39,
     "metadata": {},
     "output_type": "execute_result"
    }
   ],
   "source": [
    "(lambda x, y: x + y)(2,3)"
   ]
  },
  {
   "cell_type": "code",
   "execution_count": 41,
   "id": "d0934fa5-37e5-4b0f-afb4-aab5ef6ed138",
   "metadata": {},
   "outputs": [
    {
     "name": "stdout",
     "output_type": "stream",
     "text": [
      "El doble del numero 15 es  30\n"
     ]
    }
   ],
   "source": [
    "def calcula(n):\n",
    "    return lambda x: x * n\n",
    "\n",
    "resultado = calcula(2)\n",
    "print(\"El doble del numero 15 es \", resultado(15))"
   ]
  },
  {
   "cell_type": "code",
   "execution_count": 45,
   "id": "6e411bf1-bf29-43f6-8c3e-0b6a7a3583ef",
   "metadata": {},
   "outputs": [
    {
     "name": "stdout",
     "output_type": "stream",
     "text": [
      "True\n",
      "False\n"
     ]
    }
   ],
   "source": [
    "inicia_con = lambda texto, x: True if x.startswith(texto) else False\n",
    "print(inicia_con(\"P\", \"Python\"))\n",
    "print(inicia_con(\"R\", \"Python\"))"
   ]
  },
  {
   "cell_type": "code",
   "execution_count": null,
   "id": "7d206454-4abd-45e1-90be-76077d9e2552",
   "metadata": {},
   "outputs": [],
   "source": []
  }
 ],
 "metadata": {
  "kernelspec": {
   "display_name": "Python 3 (ipykernel)",
   "language": "python",
   "name": "python3"
  },
  "language_info": {
   "codemirror_mode": {
    "name": "ipython",
    "version": 3
   },
   "file_extension": ".py",
   "mimetype": "text/x-python",
   "name": "python",
   "nbconvert_exporter": "python",
   "pygments_lexer": "ipython3",
   "version": "3.13.5"
  }
 },
 "nbformat": 4,
 "nbformat_minor": 5
}
