{
 "cells": [
  {
   "cell_type": "markdown",
   "id": "3f5f960f-769c-413d-a279-22f2697dd141",
   "metadata": {},
   "source": [
    "# Herencias"
   ]
  },
  {
   "cell_type": "markdown",
   "id": "bc107942-d676-4ba2-967f-f41eeacbfe46",
   "metadata": {},
   "source": [
    "# Herencia simple\n"
   ]
  },
  {
   "cell_type": "code",
   "execution_count": 5,
   "id": "fd01bf8d-96ac-4ac7-b984-9b4355115611",
   "metadata": {},
   "outputs": [
    {
     "name": "stdout",
     "output_type": "stream",
     "text": [
      "Soy Manuel Gomez tengo 26 años y estudio derecho\n"
     ]
    }
   ],
   "source": [
    "class Estudiante(object):  #Clase padre\n",
    "    def __init__(self, edad, nombre):  \n",
    "        self.edad = edad\n",
    "        self.nombre = nombre\n",
    "\n",
    "class Derecho(Estudiante): #Clase hija\n",
    "    def presentarse(self):\n",
    "        print(f\"Soy {self.nombre} tengo {self.edad} años y estudio derecho\")\n",
    "\n",
    "estudiante1 = Derecho(26, \"Manuel Gomez\")\n",
    "estudiante1.presentarse()"
   ]
  },
  {
   "cell_type": "markdown",
   "id": "1fcd1682-39af-4681-bdb0-ca175e33847d",
   "metadata": {},
   "source": [
    "# Herencia multiple"
   ]
  },
  {
   "cell_type": "code",
   "execution_count": 6,
   "id": "d8edb71a-46bc-42d1-b6b7-7705d58911c2",
   "metadata": {},
   "outputs": [
    {
     "name": "stdout",
     "output_type": "stream",
     "text": [
      "Soy Mauricio Contreraz tengo 26 años y estudio derecho\n",
      "Estudio en el Instituto de Leyes\n"
     ]
    }
   ],
   "source": [
    "class Estudiante(object):  #Clase padre\n",
    "    def __init__(self, edad, nombre):  \n",
    "        self.edad = edad\n",
    "        self.nombre = nombre\n",
    "\n",
    "class Instituto(object):  #Clase padre2\n",
    "    def presentar_instituto(self):\n",
    "        print(\"Estudio en el Instituto de Leyes\")\n",
    "\n",
    "class Derecho(Estudiante, Instituto):  # Clase Hija\n",
    "    def presentarse(self):\n",
    "        print(f\"Soy {self.nombre} tengo {self.edad} años y estudio derecho\")\n",
    "\n",
    "estudiante2 = Derecho(26, \"Mauricio Contreraz\")\n",
    "estudiante2.presentarse()\n",
    "estudiante2.presentar_instituto()"
   ]
  },
  {
   "cell_type": "markdown",
   "id": "2dc48e8c-9a21-469b-a40b-7e79fa802d85",
   "metadata": {},
   "source": [
    "# Ejercicio"
   ]
  },
  {
   "cell_type": "code",
   "execution_count": 14,
   "id": "dfb09b06-f642-4439-8563-f341a9681119",
   "metadata": {},
   "outputs": [],
   "source": [
    "class Figura(object):\n",
    "    def area(self):\n",
    "        pass\n",
    "\n",
    "class Circulo(Figura):\n",
    "    \"\"\"Objeto tipo circulo\"\"\"\n",
    "    def __init__(self, radio=0):\n",
    "        self.radio = radio\n",
    "\n",
    "    def area(self):\n",
    "        return 3.1416 * (self.radio ** 2)\n",
    "        \n",
    "class Triangulo(Figura):\n",
    "    \"\"\"Objeto tipo triangulo\"\"\"\n",
    "    def __init__(self, base=0, altura=0):\n",
    "        self.base = base\n",
    "        self.altura = altura\n",
    "\n",
    "    def area(self):\n",
    "        return self.base * self.altura / 2"
   ]
  },
  {
   "cell_type": "code",
   "execution_count": 11,
   "id": "fbda4933-04c7-4831-ad01-33c941d35d03",
   "metadata": {},
   "outputs": [
    {
     "data": {
      "text/plain": [
       "50.2656"
      ]
     },
     "execution_count": 11,
     "metadata": {},
     "output_type": "execute_result"
    }
   ],
   "source": [
    "c = Circulo(4)\n",
    "c.area()"
   ]
  },
  {
   "cell_type": "code",
   "execution_count": 13,
   "id": "174720a5-fb8d-45d1-9f23-2d80c1d3b9ec",
   "metadata": {},
   "outputs": [
    {
     "data": {
      "text/plain": [
       "7.5"
      ]
     },
     "execution_count": 13,
     "metadata": {},
     "output_type": "execute_result"
    }
   ],
   "source": [
    "t = Triangulo(3,5)\n",
    "t.area()"
   ]
  },
  {
   "cell_type": "code",
   "execution_count": null,
   "id": "3e8e2595-8a0c-4da2-a5bb-cf48f0c6e9d9",
   "metadata": {},
   "outputs": [],
   "source": []
  }
 ],
 "metadata": {
  "kernelspec": {
   "display_name": "Python 3 (ipykernel)",
   "language": "python",
   "name": "python3"
  },
  "language_info": {
   "codemirror_mode": {
    "name": "ipython",
    "version": 3
   },
   "file_extension": ".py",
   "mimetype": "text/x-python",
   "name": "python",
   "nbconvert_exporter": "python",
   "pygments_lexer": "ipython3",
   "version": "3.13.5"
  }
 },
 "nbformat": 4,
 "nbformat_minor": 5
}
