{
 "cells": [
  {
   "cell_type": "code",
   "execution_count": 3,
   "id": "1eb5fb87-4f55-4a3f-a575-46d264e2d5ac",
   "metadata": {},
   "outputs": [
    {
     "name": "stdin",
     "output_type": "stream",
     "text": [
      "Coloca el valor de n:  4\n"
     ]
    },
    {
     "name": "stdout",
     "output_type": "stream",
     "text": [
      "La suma es:  10\n"
     ]
    }
   ],
   "source": [
    "n = int(input(\"Coloca el valor de n: \"))\n",
    "suma = 0\n",
    "i = 1\n",
    "\n",
    "while i <= n:\n",
    "    suma += i\n",
    "    i += 1\n",
    "\n",
    "print(\"La suma es: \", suma)"
   ]
  },
  {
   "cell_type": "code",
   "execution_count": 5,
   "id": "8a812bf7-101f-4eb5-b936-0637e08ed298",
   "metadata": {},
   "outputs": [
    {
     "name": "stdout",
     "output_type": "stream",
     "text": [
      "c\n",
      "b\n",
      "a\n"
     ]
    },
    {
     "data": {
      "text/plain": [
       "[]"
      ]
     },
     "execution_count": 5,
     "metadata": {},
     "output_type": "execute_result"
    }
   ],
   "source": [
    "lista = [\"a\", \"b\", \"c\"]\n",
    "while lista:\n",
    "    print(lista.pop(-1))\n",
    "lista"
   ]
  },
  {
   "cell_type": "code",
   "execution_count": 6,
   "id": "d6a253f3-3269-47e5-9c92-3c2a40e7312d",
   "metadata": {},
   "outputs": [
    {
     "name": "stdout",
     "output_type": "stream",
     "text": [
      "4\n",
      "3\n",
      "2\n",
      "1\n",
      "0\n"
     ]
    }
   ],
   "source": [
    "n =5\n",
    "while n > 0: n -= 1; print(n)"
   ]
  },
  {
   "cell_type": "code",
   "execution_count": 10,
   "id": "21a1193f-d33f-401f-9119-0d81ac596595",
   "metadata": {},
   "outputs": [
    {
     "name": "stdout",
     "output_type": "stream",
     "text": [
      "El numero de volores pares:  4\n",
      "El numero de volores impares:  5\n"
     ]
    }
   ],
   "source": [
    "numeros = (1,2,3,4,5,6,7,8,9)\n",
    "valores = len(numeros)\n",
    "\n",
    "impar = 0\n",
    "par = 0\n",
    "\n",
    "contador = 1\n",
    "\n",
    "while contador <= valores:\n",
    "    if numeros[contador - 1] % 2 == 0:\n",
    "        par += 1\n",
    "    else:\n",
    "        impar += 1\n",
    "    contador += 1\n",
    "print(\"El numero de volores pares: \", par)\n",
    "print(\"El numero de volores impares: \", impar)"
   ]
  },
  {
   "cell_type": "code",
   "execution_count": 18,
   "id": "a2ceeb73-eab2-493c-a153-9b6263ca57dc",
   "metadata": {},
   "outputs": [
    {
     "name": "stdout",
     "output_type": "stream",
     "text": [
      "Impar\n",
      "Par\n",
      "Impar\n",
      "Par\n",
      "Impar\n",
      "Par\n",
      "Impar\n",
      "Par\n",
      "Impar\n",
      "9\n"
     ]
    }
   ],
   "source": [
    "numeros = (1,2,3,4,5,6,7,8,9)\n",
    "valores = len(numeros)\n",
    "\n",
    "contador = 1\n",
    "n = 0\n",
    "\n",
    "while contador <= valores:\n",
    "    if numeros[contador - 1] % 2 ==0:\n",
    "        n += 1\n",
    "        print(\"Par\")\n",
    "    else:\n",
    "        n += 1\n",
    "        print(\"Impar\")\n",
    "        \n",
    "    contador += 1\n",
    "print(n)"
   ]
  },
  {
   "cell_type": "code",
   "execution_count": 19,
   "id": "a0422243-45de-4ae0-a778-5702bd86c620",
   "metadata": {},
   "outputs": [
    {
     "name": "stdout",
     "output_type": "stream",
     "text": [
      "1\n",
      "1\n",
      "2\n",
      "3\n",
      "5\n",
      "8\n",
      "13\n",
      "21\n",
      "34\n"
     ]
    }
   ],
   "source": [
    "x, y = 0, 1\n",
    "print(y)\n",
    "\n",
    "while x + y < 50:\n",
    "    x = x + y\n",
    "    print(x)\n",
    "    y = x + y\n",
    "    print(y)\n"
   ]
  },
  {
   "cell_type": "code",
   "execution_count": 2,
   "id": "c73b691a-c28d-4aab-97d4-208756d4ce10",
   "metadata": {},
   "outputs": [
    {
     "name": "stdout",
     "output_type": "stream",
     "text": [
      "0\n",
      "1\n",
      "1\n",
      "2\n",
      "3\n",
      "5\n",
      "8\n",
      "13\n",
      "21\n",
      "34\n"
     ]
    }
   ],
   "source": [
    "x, y = 0,1\n",
    "print(x)\n",
    "\n",
    "while y < 50:\n",
    "    print(y)\n",
    "    x, y = y, x + y "
   ]
  },
  {
   "cell_type": "code",
   "execution_count": null,
   "id": "2f7a0fac-83ce-4770-9587-0b68699d834b",
   "metadata": {},
   "outputs": [],
   "source": []
  }
 ],
 "metadata": {
  "kernelspec": {
   "display_name": "Python 3 (ipykernel)",
   "language": "python",
   "name": "python3"
  },
  "language_info": {
   "codemirror_mode": {
    "name": "ipython",
    "version": 3
   },
   "file_extension": ".py",
   "mimetype": "text/x-python",
   "name": "python",
   "nbconvert_exporter": "python",
   "pygments_lexer": "ipython3",
   "version": "3.13.5"
  }
 },
 "nbformat": 4,
 "nbformat_minor": 5
}
