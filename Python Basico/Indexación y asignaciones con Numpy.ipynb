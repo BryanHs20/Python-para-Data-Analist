{
 "cells": [
  {
   "cell_type": "markdown",
   "id": "e9c45050-d372-4f28-84ee-3788418a67f7",
   "metadata": {},
   "source": [
    "# Indexacion"
   ]
  },
  {
   "cell_type": "code",
   "execution_count": 1,
   "id": "cf11549a-237e-4c52-a132-6cd93d38de35",
   "metadata": {},
   "outputs": [],
   "source": [
    "import numpy as np"
   ]
  },
  {
   "cell_type": "code",
   "execution_count": 2,
   "id": "da429dc4-69c4-4170-a07d-a3f8b2f4c65b",
   "metadata": {},
   "outputs": [
    {
     "data": {
      "text/plain": [
       "array([0, 1, 2, 3, 4, 5, 6, 7, 8, 9])"
      ]
     },
     "execution_count": 2,
     "metadata": {},
     "output_type": "execute_result"
    }
   ],
   "source": [
    "\"\"\"  Indexacion de un solo elemento  \"\"\"\n",
    "x = np.arange(10)\n",
    "x"
   ]
  },
  {
   "cell_type": "code",
   "execution_count": 3,
   "id": "f63933dc-04d4-4ab0-a892-7071fcd16852",
   "metadata": {},
   "outputs": [
    {
     "data": {
      "text/plain": [
       "np.int64(2)"
      ]
     },
     "execution_count": 3,
     "metadata": {},
     "output_type": "execute_result"
    }
   ],
   "source": [
    "## Extraccion de elementos en forma ascendente\n",
    "x[2]"
   ]
  },
  {
   "cell_type": "code",
   "execution_count": 4,
   "id": "fa5f3ef6-6276-42c1-b8c3-bdaa4eab0176",
   "metadata": {},
   "outputs": [
    {
     "data": {
      "text/plain": [
       "np.int64(8)"
      ]
     },
     "execution_count": 4,
     "metadata": {},
     "output_type": "execute_result"
    }
   ],
   "source": [
    "## Extraccion de elementos en forma descentende\n",
    "x[-2]"
   ]
  },
  {
   "cell_type": "code",
   "execution_count": 5,
   "id": "db00635a-5002-40dc-ab87-19d63f11f8c2",
   "metadata": {},
   "outputs": [
    {
     "data": {
      "text/plain": [
       "array([[0, 1, 2, 3, 4],\n",
       "       [5, 6, 7, 8, 9]])"
      ]
     },
     "execution_count": 5,
     "metadata": {},
     "output_type": "execute_result"
    }
   ],
   "source": [
    "x.shape = (2,5) # Conversion del arreglo a formato bidimencional\n",
    "x"
   ]
  },
  {
   "cell_type": "code",
   "execution_count": 6,
   "id": "cc1388f5-47f9-484e-bf35-cadf4dc7ee1c",
   "metadata": {},
   "outputs": [
    {
     "data": {
      "text/plain": [
       "np.int64(8)"
      ]
     },
     "execution_count": 6,
     "metadata": {},
     "output_type": "execute_result"
    }
   ],
   "source": [
    "x[1,3] # Extraccion del elemento con indice 1 en renglon e indice 3 en columna"
   ]
  },
  {
   "cell_type": "code",
   "execution_count": 7,
   "id": "aa6f3acf-1063-409b-84ba-c7f0bd68f985",
   "metadata": {},
   "outputs": [
    {
     "data": {
      "text/plain": [
       "np.int64(8)"
      ]
     },
     "execution_count": 7,
     "metadata": {},
     "output_type": "execute_result"
    }
   ],
   "source": [
    "x[1][3] # Alternativa de extraccion"
   ]
  },
  {
   "cell_type": "code",
   "execution_count": 9,
   "id": "4c480383-2fbe-4afb-ab23-7e4b5cd10789",
   "metadata": {},
   "outputs": [
    {
     "data": {
      "text/plain": [
       "np.int64(9)"
      ]
     },
     "execution_count": 9,
     "metadata": {},
     "output_type": "execute_result"
    }
   ],
   "source": [
    "x[1][-1]"
   ]
  },
  {
   "cell_type": "code",
   "execution_count": 10,
   "id": "ebe17eb9-b9d8-4245-9ded-c6402feb12ce",
   "metadata": {},
   "outputs": [
    {
     "data": {
      "text/plain": [
       "array([0, 1, 2, 3, 4])"
      ]
     },
     "execution_count": 10,
     "metadata": {},
     "output_type": "execute_result"
    }
   ],
   "source": [
    "x[0]"
   ]
  },
  {
   "cell_type": "code",
   "execution_count": 11,
   "id": "523f2b7c-f600-4b01-95f0-a75ca022cc1b",
   "metadata": {},
   "outputs": [
    {
     "data": {
      "text/plain": [
       "array([1, 3, 5])"
      ]
     },
     "execution_count": 11,
     "metadata": {},
     "output_type": "execute_result"
    }
   ],
   "source": [
    "\"\"\"  Cortes en arreglos  \"\"\"\n",
    "x= np.array([0,1,2,3,4,5,6,7,8,9])\n",
    "x[1:7:2] # Formato: 'start:stop:step'"
   ]
  },
  {
   "cell_type": "code",
   "execution_count": 12,
   "id": "d0383a17-410e-4df4-9ddc-5d43b025eb7c",
   "metadata": {},
   "outputs": [
    {
     "data": {
      "text/plain": [
       "array([8, 9])"
      ]
     },
     "execution_count": 12,
     "metadata": {},
     "output_type": "execute_result"
    }
   ],
   "source": [
    "x[-2:10] # Cortes dek arreglo de adelante hacia atras"
   ]
  },
  {
   "cell_type": "code",
   "execution_count": 13,
   "id": "b6c2b20e-b25b-4cd0-aa42-5da35aa1a3ea",
   "metadata": {},
   "outputs": [
    {
     "data": {
      "text/plain": [
       "array([7, 6, 5, 4])"
      ]
     },
     "execution_count": 13,
     "metadata": {},
     "output_type": "execute_result"
    }
   ],
   "source": [
    "x[-3:3:-1] # Corte del arreglo de adelante hacia atas, iniciando tres posiciones del final y retrocediendo hasta tener como limite el numero 3"
   ]
  },
  {
   "cell_type": "code",
   "execution_count": 15,
   "id": "ec5bf340-37f5-4072-ab7c-98e80b37cf9f",
   "metadata": {},
   "outputs": [
    {
     "data": {
      "text/plain": [
       "array([10,  9,  8,  7,  6,  5,  4,  3,  2])"
      ]
     },
     "execution_count": 15,
     "metadata": {},
     "output_type": "execute_result"
    }
   ],
   "source": [
    "\"\"\"  Definicion de un nuevo arreglo  \"\"\"\n",
    "x = np.arange(10,1,-1) # Forma descendente\n",
    "x"
   ]
  },
  {
   "cell_type": "code",
   "execution_count": 16,
   "id": "3f258370-e585-4c48-b436-c7adcf9b7f57",
   "metadata": {},
   "outputs": [
    {
     "data": {
      "text/plain": [
       "array([7, 7, 9, 2])"
      ]
     },
     "execution_count": 16,
     "metadata": {},
     "output_type": "execute_result"
    }
   ],
   "source": [
    "\"\"\"  Extraccion de eletementos especificos del arreglo  \"\"\"\n",
    "x[np.array([3,3,1,8])] # Extraccion de elementos con indices 3,3,1,8"
   ]
  },
  {
   "cell_type": "code",
   "execution_count": 17,
   "id": "651377cd-fcaa-43ab-b5a8-634f092441e4",
   "metadata": {},
   "outputs": [
    {
     "data": {
      "text/plain": [
       "array([7, 7, 4, 2])"
      ]
     },
     "execution_count": 17,
     "metadata": {},
     "output_type": "execute_result"
    }
   ],
   "source": [
    "x[np.array([3,3,-3,8])] # Extraccion de elementos con indices 3,3,4,8"
   ]
  },
  {
   "cell_type": "code",
   "execution_count": 18,
   "id": "54cc0722-d8a5-4919-9646-b6cbb0aa4a30",
   "metadata": {},
   "outputs": [
    {
     "data": {
      "text/plain": [
       "array([[ 0,  1,  2,  3,  4,  5,  6],\n",
       "       [ 7,  8,  9, 10, 11, 12, 13],\n",
       "       [14, 15, 16, 17, 18, 19, 20],\n",
       "       [21, 22, 23, 24, 25, 26, 27],\n",
       "       [28, 29, 30, 31, 32, 33, 34]])"
      ]
     },
     "execution_count": 18,
     "metadata": {},
     "output_type": "execute_result"
    }
   ],
   "source": [
    "\"\"\"  Extraccion basada en pares  \"\"\"\n",
    "y = np.arange(35).reshape(5,7)\n",
    "y"
   ]
  },
  {
   "cell_type": "code",
   "execution_count": 19,
   "id": "b7bddf2b-7be4-4c41-9a77-49adc8466823",
   "metadata": {},
   "outputs": [
    {
     "data": {
      "text/plain": [
       "array([ 0, 15, 30])"
      ]
     },
     "execution_count": 19,
     "metadata": {},
     "output_type": "execute_result"
    }
   ],
   "source": [
    "y[np.array([0,2,4]), np.array([0,1,2])] # Extraccion de coordenadas (0,0) (2,1) (4,2)"
   ]
  },
  {
   "cell_type": "markdown",
   "id": "2d9ebaa9-0f0c-4b92-afe5-45a767bb63b8",
   "metadata": {},
   "source": [
    "# Union de arreglos"
   ]
  },
  {
   "cell_type": "code",
   "execution_count": 21,
   "id": "5ebff723-3618-410d-98ca-a787d359e6bf",
   "metadata": {},
   "outputs": [
    {
     "data": {
      "text/plain": [
       "array([1, 2, 3, 4, 5, 6])"
      ]
     },
     "execution_count": 21,
     "metadata": {},
     "output_type": "execute_result"
    }
   ],
   "source": [
    "\"\"\"  Concatenacion de vectores  \"\"\"\n",
    "arr = np.concatenate(([1,2,3], [4,5,6]))\n",
    "arr"
   ]
  },
  {
   "cell_type": "code",
   "execution_count": 22,
   "id": "bb98df44-f5b4-4fbc-a124-93a28e1ceaa4",
   "metadata": {},
   "outputs": [
    {
     "data": {
      "text/plain": [
       "array([[1, 2, 3],\n",
       "       [4, 5, 6]])"
      ]
     },
     "execution_count": 22,
     "metadata": {},
     "output_type": "execute_result"
    }
   ],
   "source": [
    "\"\"\"  Apilado vertical de vectores  \"\"\"\n",
    "np.stack(([1,2,3],[4,5,6]))"
   ]
  },
  {
   "cell_type": "code",
   "execution_count": 28,
   "id": "0c7d0d12-b2f4-407f-937d-78690b36f58b",
   "metadata": {},
   "outputs": [
    {
     "data": {
      "text/plain": [
       "array([[1, 2, 3],\n",
       "       [4, 5, 6],\n",
       "       [1, 1, 1],\n",
       "       [2, 2, 2]])"
      ]
     },
     "execution_count": 28,
     "metadata": {},
     "output_type": "execute_result"
    }
   ],
   "source": [
    "\"\"\"  Concatenacion de matrices  \"\"\"\n",
    "mat_1 = np.array([[1,2,3],[4,5,6]])\n",
    "mat_2 = np.array([[1,1,1],[2,2,2]])\n",
    "np.concatenate((mat_1,mat_2), axis = 0) # Stackea"
   ]
  },
  {
   "cell_type": "code",
   "execution_count": 29,
   "id": "b02b920a-a772-4a6f-b2ef-1a1eab5e1403",
   "metadata": {},
   "outputs": [
    {
     "data": {
      "text/plain": [
       "array([[1, 2, 3, 1, 1, 1],\n",
       "       [4, 5, 6, 2, 2, 2]])"
      ]
     },
     "execution_count": 29,
     "metadata": {},
     "output_type": "execute_result"
    }
   ],
   "source": [
    "np.concatenate((mat_1,mat_2), axis = 1) # Concatena verticalmente"
   ]
  },
  {
   "cell_type": "code",
   "execution_count": 27,
   "id": "663ac3e3-0d79-4f47-8708-19476c3bbfad",
   "metadata": {},
   "outputs": [
    {
     "data": {
      "text/plain": [
       "array([1, 2, 3, 4, 5, 6, 1, 1, 1, 2, 2, 2])"
      ]
     },
     "execution_count": 27,
     "metadata": {},
     "output_type": "execute_result"
    }
   ],
   "source": [
    "np.concatenate((mat_1,mat_2), axis = None) # Concatena en una"
   ]
  },
  {
   "cell_type": "code",
   "execution_count": null,
   "id": "6bfbc23e-3fcb-4c3c-a32a-a28ebbb1bd4f",
   "metadata": {},
   "outputs": [],
   "source": []
  }
 ],
 "metadata": {
  "kernelspec": {
   "display_name": "Python 3 (ipykernel)",
   "language": "python",
   "name": "python3"
  },
  "language_info": {
   "codemirror_mode": {
    "name": "ipython",
    "version": 3
   },
   "file_extension": ".py",
   "mimetype": "text/x-python",
   "name": "python",
   "nbconvert_exporter": "python",
   "pygments_lexer": "ipython3",
   "version": "3.13.5"
  }
 },
 "nbformat": 4,
 "nbformat_minor": 5
}
