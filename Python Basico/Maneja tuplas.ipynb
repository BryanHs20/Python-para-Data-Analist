{
 "cells": [
  {
   "cell_type": "code",
   "execution_count": 2,
   "id": "0e59568f-8c26-4ba5-bf3b-276613dd5a5a",
   "metadata": {},
   "outputs": [
    {
     "data": {
      "text/plain": [
       "('Alvaro', 'alberto', 'Manuel')"
      ]
     },
     "execution_count": 2,
     "metadata": {},
     "output_type": "execute_result"
    }
   ],
   "source": [
    "x = ('Alvaro', 'alberto', 'Manuel')\n",
    "x"
   ]
  },
  {
   "cell_type": "code",
   "execution_count": 3,
   "id": "53329e9a-c803-4833-96ad-c605af03eada",
   "metadata": {},
   "outputs": [
    {
     "name": "stdout",
     "output_type": "stream",
     "text": [
      "Manuel\n"
     ]
    }
   ],
   "source": [
    "print(x[2])"
   ]
  },
  {
   "cell_type": "code",
   "execution_count": 4,
   "id": "52849e45-72c5-405d-98bc-df39f94985fd",
   "metadata": {},
   "outputs": [
    {
     "name": "stdout",
     "output_type": "stream",
     "text": [
      "8\n"
     ]
    }
   ],
   "source": [
    "y = (1,4,6,8)\n",
    "print(max(y))"
   ]
  },
  {
   "cell_type": "code",
   "execution_count": 5,
   "id": "01364501-733c-430d-94cf-366c9d4dcb1f",
   "metadata": {},
   "outputs": [
    {
     "ename": "TypeError",
     "evalue": "'tuple' object does not support item assignment",
     "output_type": "error",
     "traceback": [
      "\u001b[1;31m---------------------------------------------------------------------------\u001b[0m",
      "\u001b[1;31mTypeError\u001b[0m                                 Traceback (most recent call last)",
      "Cell \u001b[1;32mIn[5], line 1\u001b[0m\n\u001b[1;32m----> 1\u001b[0m y[\u001b[38;5;241m1\u001b[39m] \u001b[38;5;241m=\u001b[39m \u001b[38;5;241m15\u001b[39m\n",
      "\u001b[1;31mTypeError\u001b[0m: 'tuple' object does not support item assignment"
     ]
    }
   ],
   "source": [
    "y[1] = 15"
   ]
  },
  {
   "cell_type": "code",
   "execution_count": 6,
   "id": "a3f767c9-e1a3-41a3-8c88-f736478ab59c",
   "metadata": {},
   "outputs": [
    {
     "name": "stdout",
     "output_type": "stream",
     "text": [
      "4\n"
     ]
    }
   ],
   "source": [
    "(x,y) = (4,'Juaquin')\n",
    "print(x)"
   ]
  },
  {
   "cell_type": "code",
   "execution_count": 7,
   "id": "e9e3ea7a-eff1-4928-bdb0-384a97bdd99a",
   "metadata": {},
   "outputs": [
    {
     "name": "stdout",
     "output_type": "stream",
     "text": [
      "Juaquin\n"
     ]
    }
   ],
   "source": [
    "print(y)"
   ]
  },
  {
   "cell_type": "code",
   "execution_count": 8,
   "id": "7f51e377-2465-4a50-a1bf-358adb7fa6b3",
   "metadata": {},
   "outputs": [
    {
     "data": {
      "text/plain": [
       "{'Alberto': 25, 'Fernando': 24}"
      ]
     },
     "execution_count": 8,
     "metadata": {},
     "output_type": "execute_result"
    }
   ],
   "source": [
    "#Diccionarios a Tuplas\n",
    "diccionario = dict()\n",
    "diccionario['Alberto'] = 25\n",
    "diccionario['Fernando'] = 24\n",
    "diccionario"
   ]
  },
  {
   "cell_type": "code",
   "execution_count": 9,
   "id": "27ef3a58-2b68-4692-a58f-8dbac99869eb",
   "metadata": {},
   "outputs": [
    {
     "data": {
      "text/plain": [
       "dict_items([('Alberto', 25), ('Fernando', 24)])"
      ]
     },
     "execution_count": 9,
     "metadata": {},
     "output_type": "execute_result"
    }
   ],
   "source": [
    "tuplas = diccionario.items()\n",
    "tuplas"
   ]
  },
  {
   "cell_type": "code",
   "execution_count": 14,
   "id": "f7aeac39-4559-455d-a572-c9d96a8b0431",
   "metadata": {},
   "outputs": [
    {
     "data": {
      "text/plain": [
       "[('a', 12), ('b', 15), ('d', 10), ('g', 25), ('u', 74)]"
      ]
     },
     "execution_count": 14,
     "metadata": {},
     "output_type": "execute_result"
    }
   ],
   "source": [
    "#Ordenamiento\n",
    "d = {'d': 10, 'b' :15, 'g':25, 'a':12, 'u':74}\n",
    "tuplas = sorted(d.items())\n",
    "tuplas"
   ]
  },
  {
   "cell_type": "code",
   "execution_count": null,
   "id": "02f5d6a3-9982-4ff4-9885-a72a5c400037",
   "metadata": {},
   "outputs": [],
   "source": []
  }
 ],
 "metadata": {
  "kernelspec": {
   "display_name": "Python 3 (ipykernel)",
   "language": "python",
   "name": "python3"
  },
  "language_info": {
   "codemirror_mode": {
    "name": "ipython",
    "version": 3
   },
   "file_extension": ".py",
   "mimetype": "text/x-python",
   "name": "python",
   "nbconvert_exporter": "python",
   "pygments_lexer": "ipython3",
   "version": "3.13.5"
  }
 },
 "nbformat": 4,
 "nbformat_minor": 5
}
