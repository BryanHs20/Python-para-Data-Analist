{
 "cells": [
  {
   "cell_type": "code",
   "execution_count": 1,
   "id": "dda30447-e17a-4081-b298-60e5d78afc9d",
   "metadata": {},
   "outputs": [],
   "source": [
    "a = -5\n",
    "b = 4"
   ]
  },
  {
   "cell_type": "code",
   "execution_count": 2,
   "id": "66b06008-4165-44dc-9409-a30595a3f729",
   "metadata": {},
   "outputs": [
    {
     "data": {
      "text/plain": [
       "True"
      ]
     },
     "execution_count": 2,
     "metadata": {},
     "output_type": "execute_result"
    }
   ],
   "source": [
    "#¿el valor de a es menor a 0?\n",
    "a < 0"
   ]
  },
  {
   "cell_type": "code",
   "execution_count": 3,
   "id": "6dd0f4ea-b1c4-4e3f-a0c5-65b73327c048",
   "metadata": {},
   "outputs": [
    {
     "data": {
      "text/plain": [
       "False"
      ]
     },
     "execution_count": 3,
     "metadata": {},
     "output_type": "execute_result"
    }
   ],
   "source": [
    "#¿el valor de a es mayor o igual a 0?\n",
    "a >= 0"
   ]
  },
  {
   "cell_type": "code",
   "execution_count": 4,
   "id": "ac53f513-5bb1-43f0-8198-13ec11bb2fa0",
   "metadata": {},
   "outputs": [
    {
     "data": {
      "text/plain": [
       "True"
      ]
     },
     "execution_count": 4,
     "metadata": {},
     "output_type": "execute_result"
    }
   ],
   "source": [
    "#¿El valor es igual a -5?\n",
    "a == -5"
   ]
  },
  {
   "cell_type": "code",
   "execution_count": 6,
   "id": "6feee081-19fc-4d43-bcf8-da5b7fc57532",
   "metadata": {},
   "outputs": [
    {
     "data": {
      "text/plain": [
       "False"
      ]
     },
     "execution_count": 6,
     "metadata": {},
     "output_type": "execute_result"
    }
   ],
   "source": [
    "#Es el valor de a disitnto a -5?\n",
    "a != -5 "
   ]
  },
  {
   "cell_type": "markdown",
   "id": "a7114c63-5e10-4ce2-b1c0-4a67dc2f8b0a",
   "metadata": {},
   "source": [
    "# Manejo de conjunciones (AND)"
   ]
  },
  {
   "cell_type": "code",
   "execution_count": 7,
   "id": "83d75432-fbbd-4331-9f10-cc5e98129f70",
   "metadata": {},
   "outputs": [],
   "source": [
    "a = -5\n",
    "b = 4"
   ]
  },
  {
   "cell_type": "code",
   "execution_count": 8,
   "id": "a222230a-7dd6-4222-8a85-89fb756c1e75",
   "metadata": {},
   "outputs": [
    {
     "data": {
      "text/plain": [
       "True"
      ]
     },
     "execution_count": 8,
     "metadata": {},
     "output_type": "execute_result"
    }
   ],
   "source": [
    "a < 0 and b > 0 #verdadera Y verdadera"
   ]
  },
  {
   "cell_type": "code",
   "execution_count": 9,
   "id": "57b1a2d3-e94c-471c-98ac-172e3c60afb2",
   "metadata": {},
   "outputs": [
    {
     "data": {
      "text/plain": [
       "False"
      ]
     },
     "execution_count": 9,
     "metadata": {},
     "output_type": "execute_result"
    }
   ],
   "source": [
    "a > 0 and b > 0 #falso Y verdadera"
   ]
  },
  {
   "cell_type": "code",
   "execution_count": 11,
   "id": "53d8a0cc-8278-4d7c-987b-fe8791fbfcde",
   "metadata": {},
   "outputs": [
    {
     "data": {
      "text/plain": [
       "False"
      ]
     },
     "execution_count": 11,
     "metadata": {},
     "output_type": "execute_result"
    }
   ],
   "source": [
    "a < 0 and b < 0 #verdadera Y falso"
   ]
  },
  {
   "cell_type": "code",
   "execution_count": 12,
   "id": "c36d1838-5700-4a95-9b1f-f16d86d4493b",
   "metadata": {},
   "outputs": [
    {
     "data": {
      "text/plain": [
       "False"
      ]
     },
     "execution_count": 12,
     "metadata": {},
     "output_type": "execute_result"
    }
   ],
   "source": [
    "a > 0 and b < 0 #falso Y falso"
   ]
  },
  {
   "cell_type": "markdown",
   "id": "75a8f2e1-5bb3-4419-bbaf-e9e158c858d5",
   "metadata": {},
   "source": [
    "# Manejo de Disyunciones (OR)"
   ]
  },
  {
   "cell_type": "code",
   "execution_count": 13,
   "id": "8f58482f-5a00-4219-a802-1208593cf63b",
   "metadata": {},
   "outputs": [],
   "source": [
    "a = -5\n",
    "b = 4"
   ]
  },
  {
   "cell_type": "code",
   "execution_count": 14,
   "id": "db61be02-17b0-464e-9121-574c7d45edc3",
   "metadata": {},
   "outputs": [
    {
     "data": {
      "text/plain": [
       "True"
      ]
     },
     "execution_count": 14,
     "metadata": {},
     "output_type": "execute_result"
    }
   ],
   "source": [
    "a < 0 or b > 0 #verdadera Y verdadera"
   ]
  },
  {
   "cell_type": "code",
   "execution_count": 16,
   "id": "0e3292d4-e814-407d-9a40-a82a43afa34f",
   "metadata": {},
   "outputs": [
    {
     "data": {
      "text/plain": [
       "True"
      ]
     },
     "execution_count": 16,
     "metadata": {},
     "output_type": "execute_result"
    }
   ],
   "source": [
    "a > 0 or b > 0 #falso Y verdadera"
   ]
  },
  {
   "cell_type": "code",
   "execution_count": 17,
   "id": "ba9e9997-2a8b-4359-9ace-1ba73abb9d69",
   "metadata": {},
   "outputs": [
    {
     "data": {
      "text/plain": [
       "True"
      ]
     },
     "execution_count": 17,
     "metadata": {},
     "output_type": "execute_result"
    }
   ],
   "source": [
    "a < 0 or b < 0 #verdadera Y falso"
   ]
  },
  {
   "cell_type": "code",
   "execution_count": 18,
   "id": "e0ca74d2-d77a-4b64-b5b5-b5c541fc8b5a",
   "metadata": {},
   "outputs": [
    {
     "data": {
      "text/plain": [
       "False"
      ]
     },
     "execution_count": 18,
     "metadata": {},
     "output_type": "execute_result"
    }
   ],
   "source": [
    "a > 0 or b < 0 #falso y falso"
   ]
  },
  {
   "cell_type": "markdown",
   "id": "017c2197-b539-4b06-aaf9-233e8a6e6a82",
   "metadata": {},
   "source": [
    "# Manejo de operador NOT"
   ]
  },
  {
   "cell_type": "code",
   "execution_count": 19,
   "id": "78ee356d-a6ce-4662-bdd7-463814f29776",
   "metadata": {},
   "outputs": [],
   "source": [
    "a = -5\n",
    "b = 4"
   ]
  },
  {
   "cell_type": "code",
   "execution_count": 20,
   "id": "3c6ee6fd-f758-4704-aa20-9fef5c130ecc",
   "metadata": {},
   "outputs": [
    {
     "data": {
      "text/plain": [
       "True"
      ]
     },
     "execution_count": 20,
     "metadata": {},
     "output_type": "execute_result"
    }
   ],
   "source": [
    "not a > 0"
   ]
  },
  {
   "cell_type": "markdown",
   "id": "9f8cc382-96ab-4130-93b9-e3b4bd17efcc",
   "metadata": {},
   "source": [
    "# Manejo de operador de disyuncion opuesta NOR (NOT OR)"
   ]
  },
  {
   "cell_type": "code",
   "execution_count": 21,
   "id": "2e119972-f466-46f3-ae50-56b29bb9375b",
   "metadata": {},
   "outputs": [
    {
     "data": {
      "text/plain": [
       "False"
      ]
     },
     "execution_count": 21,
     "metadata": {},
     "output_type": "execute_result"
    }
   ],
   "source": [
    "not (a < 0 or b > 0)"
   ]
  },
  {
   "cell_type": "code",
   "execution_count": 22,
   "id": "b4b59338-b3d5-46fb-97ad-c86385b473b0",
   "metadata": {},
   "outputs": [
    {
     "data": {
      "text/plain": [
       "True"
      ]
     },
     "execution_count": 22,
     "metadata": {},
     "output_type": "execute_result"
    }
   ],
   "source": [
    "not (a > 0 or b < 0)"
   ]
  },
  {
   "cell_type": "markdown",
   "id": "2c8d3752-bdc5-4491-a3f7-7d63d844bc5e",
   "metadata": {},
   "source": [
    "# Casos especiales"
   ]
  },
  {
   "cell_type": "code",
   "execution_count": 23,
   "id": "84440c75-fc19-4532-95d9-cff66061bfa9",
   "metadata": {},
   "outputs": [],
   "source": [
    "a = -5\n",
    "b = 4"
   ]
  },
  {
   "cell_type": "code",
   "execution_count": 24,
   "id": "e3f253b5-a7dd-48bf-b1a4-d4cc9962e995",
   "metadata": {},
   "outputs": [
    {
     "data": {
      "text/plain": [
       "False"
      ]
     },
     "execution_count": 24,
     "metadata": {},
     "output_type": "execute_result"
    }
   ],
   "source": [
    "a += 5 #Equivalente a: a = a + 5\n",
    "a < 0"
   ]
  },
  {
   "cell_type": "code",
   "execution_count": 26,
   "id": "4392e7db-7ce9-4b2d-a94c-d39e9c1822c4",
   "metadata": {},
   "outputs": [
    {
     "data": {
      "text/plain": [
       "1"
      ]
     },
     "execution_count": 26,
     "metadata": {},
     "output_type": "execute_result"
    }
   ],
   "source": [
    "b %= 3 #Equivalente a: b = b % 3\n",
    "b"
   ]
  },
  {
   "cell_type": "code",
   "execution_count": 28,
   "id": "451a0bcd-6749-4f17-beeb-3259e79d39f4",
   "metadata": {},
   "outputs": [
    {
     "data": {
      "text/plain": [
       "2"
      ]
     },
     "execution_count": 28,
     "metadata": {},
     "output_type": "execute_result"
    }
   ],
   "source": [
    "c = 5\n",
    "c //= 2 #Equivale a: tomare la parte entera de la visiion de 5 / 2\n",
    "c"
   ]
  },
  {
   "cell_type": "code",
   "execution_count": 29,
   "id": "4ad36d68-f0e3-406c-819d-fe4c90a3f4f0",
   "metadata": {},
   "outputs": [
    {
     "data": {
      "text/plain": [
       "False"
      ]
     },
     "execution_count": 29,
     "metadata": {},
     "output_type": "execute_result"
    }
   ],
   "source": [
    "a = 4\n",
    "b = 5\n",
    "a is b"
   ]
  },
  {
   "cell_type": "code",
   "execution_count": 30,
   "id": "baf08a1f-f7e6-4bb4-b43c-60d24ca4d76d",
   "metadata": {},
   "outputs": [
    {
     "data": {
      "text/plain": [
       "True"
      ]
     },
     "execution_count": 30,
     "metadata": {},
     "output_type": "execute_result"
    }
   ],
   "source": [
    "a is not b"
   ]
  },
  {
   "cell_type": "code",
   "execution_count": 31,
   "id": "6d3bc287-4bc6-4c9e-a3f1-86780d0df801",
   "metadata": {},
   "outputs": [],
   "source": [
    "texto1 = 'Hola'\n",
    "texto2 = 'hola'\n",
    "texto3 = 'Hola'"
   ]
  },
  {
   "cell_type": "code",
   "execution_count": 35,
   "id": "2c0538f7-211b-42d5-a5bd-c5992fd07f7f",
   "metadata": {},
   "outputs": [
    {
     "data": {
      "text/plain": [
       "True"
      ]
     },
     "execution_count": 35,
     "metadata": {},
     "output_type": "execute_result"
    }
   ],
   "source": [
    "texto1 is texto3 #Python distingue entre matusculas y minusculas"
   ]
  },
  {
   "cell_type": "code",
   "execution_count": 34,
   "id": "0816912d-f9d0-478a-ab62-cf56a2075ba7",
   "metadata": {},
   "outputs": [
    {
     "data": {
      "text/plain": [
       "False"
      ]
     },
     "execution_count": 34,
     "metadata": {},
     "output_type": "execute_result"
    }
   ],
   "source": [
    "texto1 is texto2 #Python distingue entre matusculas y minusculas"
   ]
  },
  {
   "cell_type": "code",
   "execution_count": 36,
   "id": "17ad74ab-c6c0-4f65-b0a3-c29aedf9fd4d",
   "metadata": {},
   "outputs": [],
   "source": [
    "a = [1,2,3,4,5]"
   ]
  },
  {
   "cell_type": "code",
   "execution_count": 37,
   "id": "d2db1ea7-e302-4058-8464-e95a90c1deaa",
   "metadata": {},
   "outputs": [
    {
     "data": {
      "text/plain": [
       "True"
      ]
     },
     "execution_count": 37,
     "metadata": {},
     "output_type": "execute_result"
    }
   ],
   "source": [
    "3 in a #Equivale a: Checa si 3 esta en la lista"
   ]
  },
  {
   "cell_type": "code",
   "execution_count": 38,
   "id": "84d1a957-fd7e-49bb-bd2e-45aa25d5363f",
   "metadata": {},
   "outputs": [
    {
     "data": {
      "text/plain": [
       "False"
      ]
     },
     "execution_count": 38,
     "metadata": {},
     "output_type": "execute_result"
    }
   ],
   "source": [
    "7 in a #Equivale a: Checa si 7 esta en la lista\n"
   ]
  },
  {
   "cell_type": "code",
   "execution_count": 39,
   "id": "e30bad33-6a19-4507-8a1b-d242aeb77bc9",
   "metadata": {},
   "outputs": [],
   "source": [
    "texto = 'Hola Mundo'"
   ]
  },
  {
   "cell_type": "code",
   "execution_count": 40,
   "id": "f45fc5c2-5ba9-454a-b1a8-a400be3f29a7",
   "metadata": {},
   "outputs": [
    {
     "data": {
      "text/plain": [
       "True"
      ]
     },
     "execution_count": 40,
     "metadata": {},
     "output_type": "execute_result"
    }
   ],
   "source": [
    "'Hola' in texto"
   ]
  },
  {
   "cell_type": "code",
   "execution_count": 42,
   "id": "cac5775e-f603-4db3-8dd1-26f2d0e6bbea",
   "metadata": {},
   "outputs": [
    {
     "data": {
      "text/plain": [
       "False"
      ]
     },
     "execution_count": 42,
     "metadata": {},
     "output_type": "execute_result"
    }
   ],
   "source": [
    "'hola' in texto"
   ]
  },
  {
   "cell_type": "markdown",
   "id": "6a6e5b0c-e189-4dba-9696-f87d4a719217",
   "metadata": {},
   "source": [
    "# Ejemplo practico"
   ]
  },
  {
   "cell_type": "code",
   "execution_count": 43,
   "id": "96a18969-378a-443f-b8a3-f8e23f0e2605",
   "metadata": {},
   "outputs": [
    {
     "name": "stdout",
     "output_type": "stream",
     "text": [
      "[False False  True]\n",
      "[ True False  True]\n"
     ]
    }
   ],
   "source": [
    "import numpy as np\n",
    "\n",
    "a = np.array([True, False, True])\n",
    "\n",
    "b = np.array([False, False, True])\n",
    "\n",
    "# Uso de & y | para operaciones lógicas en arrays booleanos\n",
    "\n",
    "result_and = a & b # Resultado: array([False, False, True])\n",
    "\n",
    "result_or = a | b # Resultado: array([ True, False, True])\n",
    "\n",
    "print(result_and)\n",
    "\n",
    "print(result_or)"
   ]
  },
  {
   "cell_type": "code",
   "execution_count": null,
   "id": "58cb28dd-fddc-4264-af81-979e4c31f747",
   "metadata": {},
   "outputs": [],
   "source": []
  }
 ],
 "metadata": {
  "kernelspec": {
   "display_name": "Python 3 (ipykernel)",
   "language": "python",
   "name": "python3"
  },
  "language_info": {
   "codemirror_mode": {
    "name": "ipython",
    "version": 3
   },
   "file_extension": ".py",
   "mimetype": "text/x-python",
   "name": "python",
   "nbconvert_exporter": "python",
   "pygments_lexer": "ipython3",
   "version": "3.13.5"
  }
 },
 "nbformat": 4,
 "nbformat_minor": 5
}
