{
 "cells": [
  {
   "cell_type": "code",
   "execution_count": 2,
   "id": "81570aaa-a478-4d30-9435-52374f66a06d",
   "metadata": {},
   "outputs": [
    {
     "name": "stdout",
     "output_type": "stream",
     "text": [
      "B es mayor que A\n"
     ]
    }
   ],
   "source": [
    "a = 33\n",
    "b = 200\n",
    "if b > a:\n",
    "    print('B es mayor que A')"
   ]
  },
  {
   "cell_type": "code",
   "execution_count": 3,
   "id": "8dcc4aff-8ed6-41f2-8b79-f82a1c22fa8f",
   "metadata": {},
   "outputs": [
    {
     "name": "stdout",
     "output_type": "stream",
     "text": [
      "1\n",
      "2\n",
      "3\n"
     ]
    }
   ],
   "source": [
    "if 'f' in 'food':\n",
    "    print('1')\n",
    "    print('2')\n",
    "    print('3')"
   ]
  },
  {
   "cell_type": "code",
   "execution_count": 4,
   "id": "f247b88b-e325-4129-a404-fce2b4e4f686",
   "metadata": {},
   "outputs": [
    {
     "name": "stdout",
     "output_type": "stream",
     "text": [
      "1\n",
      "2\n",
      "3\n"
     ]
    }
   ],
   "source": [
    "if 'f' in 'food': print('1'); print('2'); print('3') #Alternativa a ejecucion en varios reglones"
   ]
  },
  {
   "cell_type": "code",
   "execution_count": 5,
   "id": "135cb8f3-58a0-4dc2-a38d-fcc63ffb07b1",
   "metadata": {},
   "outputs": [
    {
     "name": "stdout",
     "output_type": "stream",
     "text": [
      "i es mayor que 11\n"
     ]
    }
   ],
   "source": [
    "i = 15\n",
    "if i > 11: print('i es mayor que 11')"
   ]
  },
  {
   "cell_type": "code",
   "execution_count": 6,
   "id": "974f7d37-187e-4492-86ec-f944ad1cdc96",
   "metadata": {},
   "outputs": [
    {
     "name": "stdout",
     "output_type": "stream",
     "text": [
      "Ambas condiciones son verdaderas\n"
     ]
    }
   ],
   "source": [
    "a = 200\n",
    "b = 33\n",
    "c = 500\n",
    "if a > b and c > a:\n",
    "    print('Ambas condiciones son verdaderas')"
   ]
  },
  {
   "cell_type": "code",
   "execution_count": 7,
   "id": "8c07d0d1-49e9-4aad-aa8a-3543168ad8fb",
   "metadata": {},
   "outputs": [
    {
     "name": "stdout",
     "output_type": "stream",
     "text": [
      "Al menos una de las condiciones es verdadera\n"
     ]
    }
   ],
   "source": [
    "a = 200\n",
    "b = 33\n",
    "c = 500\n",
    "if a > b or c > a:\n",
    "    print('Al menos una de las condiciones es verdadera')"
   ]
  },
  {
   "cell_type": "code",
   "execution_count": 11,
   "id": "93ae7783-aaed-4c51-879c-3243e4f2a289",
   "metadata": {},
   "outputs": [
    {
     "name": "stdout",
     "output_type": "stream",
     "text": [
      "Pequeño\n",
      "Fin\n"
     ]
    }
   ],
   "source": [
    "x = 5\n",
    "if x < 10:\n",
    "    print(\"Pequeño\")\n",
    "if x > 20:\n",
    "    print(\"Grande\")\n",
    "print('Fin')"
   ]
  },
  {
   "cell_type": "code",
   "execution_count": 12,
   "id": "baf23254-2d2a-4d88-bebd-fe6ad964244e",
   "metadata": {},
   "outputs": [],
   "source": [
    "x = 5"
   ]
  },
  {
   "cell_type": "code",
   "execution_count": 14,
   "id": "6c5d937d-4666-4a94-a137-a317782de159",
   "metadata": {},
   "outputs": [
    {
     "name": "stdout",
     "output_type": "stream",
     "text": [
      "Es igual a 5\n",
      "Mayor a 4\n",
      "Mayor o igual a 5\n",
      "Menor a 6\n",
      "Menor o igual a 5\n",
      "Diferente a 6\n"
     ]
    }
   ],
   "source": [
    "if x == 5:\n",
    "    print('Es igual a 5')\n",
    "if x > 4:\n",
    "    print('Mayor a 4')\n",
    "if x >= 5:\n",
    "    print('Mayor o igual a 5')\n",
    "if x < 6:\n",
    "    print('Menor a 6')\n",
    "if x <= 5:\n",
    "    print('Menor o igual a 5')\n",
    "if x != 6:\n",
    "    print('Diferente a 6')"
   ]
  },
  {
   "cell_type": "code",
   "execution_count": 15,
   "id": "3092a235-b6f5-4962-a15c-fd608f713a8a",
   "metadata": {},
   "outputs": [
    {
     "name": "stdin",
     "output_type": "stream",
     "text": [
      "Dame un numero:  16\n"
     ]
    },
    {
     "name": "stdout",
     "output_type": "stream",
     "text": [
      "Mayor a uno\n",
      "Menor a 100\n",
      "Proceso terminado\n"
     ]
    }
   ],
   "source": [
    "x = input(\"Dame un numero: \")\n",
    "if float(x) > 1:\n",
    "    print(\"Mayor a uno\")\n",
    "    if float(x) < 100:\n",
    "        print(\"Menor a 100\")\n",
    "print(\"Proceso terminado\")"
   ]
  },
  {
   "cell_type": "markdown",
   "id": "605dcfc4-083b-4253-a4bc-877a6410a3ca",
   "metadata": {},
   "source": [
    "# IF ELSE"
   ]
  },
  {
   "cell_type": "code",
   "execution_count": 6,
   "id": "db44745a-d040-4875-a6e3-936ff5f27389",
   "metadata": {},
   "outputs": [
    {
     "name": "stdout",
     "output_type": "stream",
     "text": [
      "Mas grande\n",
      "Fin\n"
     ]
    }
   ],
   "source": [
    "x = 5\n",
    "if x > 2:\n",
    "    print(\"Mas grande\")\n",
    "else:\n",
    "    print(\"Mas pequeño\")\n",
    "print(\"Fin\")"
   ]
  },
  {
   "cell_type": "code",
   "execution_count": 9,
   "id": "7675f329-4e4c-43e8-b81a-27e5204cc5e7",
   "metadata": {},
   "outputs": [
    {
     "name": "stdin",
     "output_type": "stream",
     "text": [
      "Dame un numero:  30\n"
     ]
    },
    {
     "name": "stdout",
     "output_type": "stream",
     "text": [
      "x es igual a  30.0\n",
      "Grande\n",
      "\n",
      "Fin\n"
     ]
    }
   ],
   "source": [
    "x = float(input(\"Dame un numero: \"))\n",
    "if x < 2:\n",
    "    print(\"x es igual a \", x)\n",
    "    print(\"Pequeño\")\n",
    "elif x < 10:\n",
    "    print(\"x es igual a \", x)\n",
    "    print(\"Mediano\")\n",
    "else:\n",
    "    print(\"x es igual a \", x)\n",
    "    print(\"Grande\")\n",
    "print(\"\\nFin\")"
   ]
  },
  {
   "cell_type": "code",
   "execution_count": 10,
   "id": "5e49bc72-92a2-419f-b12e-28a61dd43f72",
   "metadata": {},
   "outputs": [
    {
     "name": "stdin",
     "output_type": "stream",
     "text": [
      "Dame un numero:  15\n"
     ]
    },
    {
     "name": "stdout",
     "output_type": "stream",
     "text": [
      "x es igual a  15.0\n",
      "Grande\n",
      "\n",
      "Fin\n"
     ]
    }
   ],
   "source": [
    "x = float(input(\"Dame un numero: \"))\n",
    "print(\"x es igual a \", x)\n",
    "if x < 2:\n",
    "    print(\"Pequeño\")\n",
    "elif x < 10:\n",
    "    print(\"Mediano\")\n",
    "else:\n",
    "    print(\"Grande\")\n",
    "print(\"\\nFin\")"
   ]
  },
  {
   "cell_type": "code",
   "execution_count": 11,
   "id": "d99c32a3-79bc-45aa-9c39-d1fe65129dc4",
   "metadata": {},
   "outputs": [
    {
     "name": "stdin",
     "output_type": "stream",
     "text": [
      "Dame un numero:  20\n"
     ]
    },
    {
     "name": "stdout",
     "output_type": "stream",
     "text": [
      "x es igual a  20.0\n",
      "Gigante\n",
      "\n",
      "Fin\n"
     ]
    }
   ],
   "source": [
    "x = float(input(\"Dame un numero: \"))\n",
    "print(\"x es igual a \", x)\n",
    "if x < 2:\n",
    "    print(\"Pequeño\")\n",
    "elif x < 10:\n",
    "    print(\"Mediano\")\n",
    "elif x < 20:\n",
    "    print(\"Grande\")\n",
    "else:\n",
    "    print(\"Gigante\")\n",
    "print(\"\\nFin\")"
   ]
  },
  {
   "cell_type": "code",
   "execution_count": 12,
   "id": "6f0e50a4-ed17-4e22-bd76-91dc0e4b5ae7",
   "metadata": {},
   "outputs": [
    {
     "name": "stdout",
     "output_type": "stream",
     "text": [
      "B\n"
     ]
    }
   ],
   "source": [
    "a = 3\n",
    "b = 5\n",
    "print(\"A\") if a > b else print (\"B\")"
   ]
  },
  {
   "cell_type": "code",
   "execution_count": 13,
   "id": "cbe110e6-6aad-4995-b37c-0171ab4ad244",
   "metadata": {},
   "outputs": [
    {
     "name": "stdout",
     "output_type": "stream",
     "text": [
      "B\n"
     ]
    }
   ],
   "source": [
    "a = 3\n",
    "b = 5\n",
    "print(\"A\") if a > b else print(\"=\") if a == b else print(\"B\")"
   ]
  },
  {
   "cell_type": "code",
   "execution_count": 14,
   "id": "355aab72-218b-4c27-af09-2d1abef99ac7",
   "metadata": {},
   "outputs": [],
   "source": [
    "a = 33\n",
    "b =200\n",
    "if b > a:\n",
    "    pass"
   ]
  },
  {
   "cell_type": "code",
   "execution_count": null,
   "id": "daf9f0b6-c87c-4289-aef6-d3f548687ae8",
   "metadata": {},
   "outputs": [],
   "source": []
  }
 ],
 "metadata": {
  "kernelspec": {
   "display_name": "Python 3 (ipykernel)",
   "language": "python",
   "name": "python3"
  },
  "language_info": {
   "codemirror_mode": {
    "name": "ipython",
    "version": 3
   },
   "file_extension": ".py",
   "mimetype": "text/x-python",
   "name": "python",
   "nbconvert_exporter": "python",
   "pygments_lexer": "ipython3",
   "version": "3.13.5"
  }
 },
 "nbformat": 4,
 "nbformat_minor": 5
}
